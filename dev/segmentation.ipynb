{
 "cells": [
  {
   "cell_type": "markdown",
   "source": [
    "## summary"
   ],
   "metadata": {
    "collapsed": false
   }
  },
  {
   "cell_type": "code",
   "execution_count": null,
   "outputs": [],
   "source": [
    "import importlib.util\n",
    "import os\n",
    "import pickle\n",
    "import sys\n",
    "import time\n",
    "from pathlib import Path\n",
    "\n",
    "import pandas as pd\n",
    "import torch.nn as nn\n",
    "from torch.optim import AdamW\n",
    "from tqdm.auto import tqdm\n",
    "\n",
    "from torch.utils.data import DataLoader, Dataset\n",
    "import cv2\n",
    "import torch\n"
   ],
   "metadata": {
    "collapsed": false
   }
  },
  {
   "cell_type": "markdown",
   "source": [
    "## Configs\n",
    "### Env detection"
   ],
   "metadata": {
    "collapsed": false
   }
  },
  {
   "cell_type": "code",
   "execution_count": null,
   "outputs": [],
   "source": [
    "import socket\n",
    "\n",
    "HOST = socket.gethostname()\n",
    "\n",
    "# noinspection PyUnresolvedReferences\n",
    "is_kaggle = _dh == [\"/kaggle/working\"]\n",
    "is_train = True\n",
    "is_test = False\n",
    "is_to_submit = False\n",
    "\n",
    "exp_id = \"Unet++_2.5d_Unimodel\"\n"
   ],
   "metadata": {
    "collapsed": false
   }
  },
  {
   "cell_type": "markdown",
   "source": [
    "### Auto settings"
   ],
   "metadata": {
    "collapsed": false
   }
  },
  {
   "cell_type": "code",
   "execution_count": null,
   "outputs": [],
   "source": [
    "date_time = time.strftime(\"%Y%m%d_%H%M%S\")\n",
    "run_id = exp_id + \"_\" + date_time\n",
    "device = torch.device(\"cuda\" if torch.cuda.is_available()\n",
    "                      else \"mps\" if torch.backends.mps.is_available()\n",
    "                      else \"cpu\")\n",
    "\n",
    "if is_test:\n",
    "    is_train = False\n",
    "    is_to_submit = False\n",
    "    exp_id = exp_id + \"_test\"\n",
    "    run_id = exp_id + \"_\" + date_time\n",
    "\n",
    "exp_id, HOST, is_kaggle"
   ],
   "metadata": {
    "collapsed": false
   }
  },
  {
   "cell_type": "code",
   "execution_count": null,
   "outputs": [],
   "source": [
    "if not is_kaggle:\n",
    "    ROOT_DIR = Path(\"../\").absolute()\n",
    "    DATA_DIR = ROOT_DIR / \"data\" / \"raw\"\n",
    "    OUTPUT_DIR = ROOT_DIR / \"saved\"\n",
    "    CP_DIR = OUTPUT_DIR / \"checkpoints\"\n",
    "    LOG_DIR = ROOT_DIR / \"saved\" / \"logs\"\n",
    "    CACHE_DIR = ROOT_DIR / \"saved\" / \"cache\"\n",
    "    EXTERNAL_MODELS_DIR = ROOT_DIR / \"model\"\n",
    "else:\n",
    "    ROOT_DIR = Path(\"/kaggle\")\n",
    "    DATA_DIR = ROOT_DIR / \"input\" / \"vesuvius-challenge-ink-detection\"\n",
    "    OUTPUT_DIR = ROOT_DIR / \"working\"\n",
    "    CP_DIR = OUTPUT_DIR / \"ink-model\"\n",
    "    LOG_DIR = OUTPUT_DIR / \"saved\" / \"logs\"\n",
    "    CACHE_DIR = OUTPUT_DIR / \"saved\" / \"cache\"\n",
    "    EXTERNAL_MODELS_DIR = ROOT_DIR / \"input\"\n",
    "\n",
    "print(f\"ROOT_DIR: {ROOT_DIR}\")\n",
    "\n",
    "for p in [ROOT_DIR, DATA_DIR, OUTPUT_DIR, CP_DIR, LOG_DIR, CACHE_DIR]:\n",
    "    if os.path.exists(p) is False:\n",
    "        os.makedirs(p)\n"
   ],
   "metadata": {
    "collapsed": false
   }
  },
  {
   "cell_type": "markdown",
   "source": [
    "### set Logger"
   ],
   "metadata": {
    "collapsed": false
   }
  },
  {
   "cell_type": "code",
   "execution_count": null,
   "outputs": [],
   "source": [
    "\n",
    "def init_logger(log_file):\n",
    "    from logging import getLogger, INFO, FileHandler, Formatter, StreamHandler\n",
    "\n",
    "    logger = getLogger(__name__)\n",
    "    logger.setLevel(INFO)\n",
    "    handler1 = StreamHandler()\n",
    "    handler1.setFormatter(Formatter(\"%(message)s\"))\n",
    "    handler2 = FileHandler(filename=log_file)\n",
    "    handler2.setFormatter(Formatter(\"%(message)s\"))\n",
    "\n",
    "    # remove existing handlers\n",
    "    if logger.hasHandlers():\n",
    "        logger.handlers.clear()\n",
    "\n",
    "    logger.addHandler(handler1)\n",
    "    logger.addHandler(handler2)\n",
    "    return logger\n",
    "\n"
   ],
   "metadata": {
    "collapsed": false
   }
  },
  {
   "cell_type": "markdown",
   "source": [
    "### External models"
   ],
   "metadata": {
    "collapsed": false
   }
  },
  {
   "cell_type": "code",
   "execution_count": null,
   "outputs": [],
   "source": [
    "if not is_to_submit:\n",
    "    # https://github.com/Cadene/pretrained-models.pytorch/issues/222\n",
    "    import ssl\n",
    "    ssl._create_default_https_context = ssl._create_unverified_context\n",
    "if is_kaggle:\n",
    "    sys.path.append(str(EXTERNAL_MODELS_DIR /\"segmentation-models-pytorch\" / \"segmentation_models.pytorch-master\"))\n",
    "    sys.path.append(str(EXTERNAL_MODELS_DIR /\"pretrainedmodels\" / \"pretrainedmodels-0.7.4\"))\n",
    "    sys.path.append(str(EXTERNAL_MODELS_DIR /\"efficientnet-pytorch\"/ \"EfficientNet-PyTorch-master\"))\n",
    "\n",
    "    # noinspection PyUnresolvedReferences\n",
    "    import segmentation_models_pytorch as smp\n",
    "\n",
    "else:\n",
    "    if importlib.util.find_spec(\"segmentation_models_pytorch\") is None:\n",
    "        !conda install -y segmentation-models-pytorch\n",
    "    import segmentation_models_pytorch as smp\n",
    "    # %%conda install -y -c conda-forge segmentation-models-pytorch"
   ],
   "metadata": {
    "collapsed": false
   }
  },
  {
   "cell_type": "markdown",
   "source": [
    "## configs"
   ],
   "metadata": {
    "collapsed": false
   }
  },
  {
   "cell_type": "code",
   "execution_count": null,
   "outputs": [],
   "source": [
    "class Config:\n",
    "    comp_name = \"vesuvius\"\n",
    "    # ============== path =============\n",
    "    comp_dataset_path = DATA_DIR  # dataset path\n",
    "    cache_dir = CACHE_DIR  # cache directory\n",
    "    data_dir = DATA_DIR  # data directory\n",
    "    LOG_DIR = LOG_DIR  # log directory\n",
    "    Note_book = exp_id  # notebook name\n",
    "    model_dir = CP_DIR  # model directory\n",
    "    exp_name = exp_id  # experiment name\n",
    "    run_id = run_id  # run id\n",
    "    HOST = HOST  # host name\n",
    "\n",
    "    # ============== pred target =============\n",
    "    target_size = 1  # prediction target size\n",
    "\n",
    "    # ============== model cfg =============\n",
    "    model_name = \"Unet++\"  # model name\n",
    "    backbone = \"se_resnext50_32x4d\"  # model backbone\n",
    "    in_channels = 6  # number of input channels\n",
    "    resume = True  # resume training\n",
    "\n",
    "    # ============== training cfg =============\n",
    "    size = 224  # image size\n",
    "    tile_size = 224  # tile size\n",
    "    stride = 56  # tile stride\n",
    "\n",
    "    batch_size = 16  # batch size\n",
    "    use_amp = True  # use automatic mixed precision\n",
    "\n",
    "    scheduler = \"GradualWarmupSchedulerV2\"  # learning rate scheduler\n",
    "    epochs = 20  # number of training epochs\n",
    "    PATIENCE = min(epochs // 2, 8)  # early stopping patience\n",
    "    warmup_factor = 10  # warmup factor\n",
    "    lr = 1e-5 / 10  # initial learning rate\n",
    "\n",
    "    # ============== fold =============\n",
    "    valid_id = 2  # validation fold id\n",
    "\n",
    "    objective_cv = \"binary\"  # objective type\n",
    "    metric_direction = \"maximize\"  # metric direction\n",
    "\n",
    "    # ============== fixed =============\n",
    "    pretrained = True  # use pre-trained weights\n",
    "    inf_weight = \"best\"  # inference weight\n",
    "\n",
    "    min_lr = 1e-6  # minimum learning rate\n",
    "    weight_decay = 1e-6  # weight decay\n",
    "    max_grad_norm = 1000  # maximum gradient norm\n",
    "\n",
    "    print_freq = 50  # print frequency\n",
    "    num_workers = 2  # number of workers\n",
    "    seed = 3407  # random seed\n",
    "\n",
    "    def __getitem__(self, item):\n",
    "        return getattr(self, item)\n",
    "\n",
    "\n",
    "_Config = Config()\n"
   ],
   "metadata": {
    "collapsed": false
   }
  },
  {
   "cell_type": "code",
   "execution_count": null,
   "outputs": [],
   "source": [
    "import albumentations as albu\n",
    "from albumentations.pytorch import ToTensorV2\n",
    "\n",
    "CONFIG = {}\n",
    "for k in dir(_Config):\n",
    "    if not k.startswith(\"__\"):\n",
    "        CONFIG[k] = getattr(_Config, k)\n",
    "\n",
    "for k in CONFIG.keys():\n",
    "    if k not in CONFIG.keys():\n",
    "        print(f\"{k} is not in CONFIG\")\n",
    "    elif CONFIG[k] != CONFIG[k]:\n",
    "        print(f\"CONFIG {k} = {CONFIG[k]};is not equal to tmp {k} = {CONFIG[k]}\")\n",
    "    else:\n",
    "        continue\n",
    "\n",
    "for k in CONFIG.keys():\n",
    "    if k not in CONFIG.keys():\n",
    "        print(f\"{k} is not in Config\")\n",
    "    else:\n",
    "        continue\n",
    "\n",
    "cfg= CONFIG"
   ],
   "metadata": {
    "collapsed": false
   }
  },
  {
   "cell_type": "code",
   "execution_count": null,
   "outputs": [],
   "source": [
    "\n",
    "# ============== augmentation =============\n",
    "def get_aug_list(size, in_channels, type='train'):\n",
    "    \"\"\"\n",
    "    type: train, valid\n",
    "    return: list of albumentations\n",
    "\n",
    "    in case of any further modification,\n",
    "    one should use albu.Compose by themselves\n",
    "    \"\"\"\n",
    "    train_aug_list = [\n",
    "        # A.RandomResizedCrop(\n",
    "        #     size, size, scale=(0.85, 1.0)),\n",
    "        albu.Resize(size, size),\n",
    "        albu.HorizontalFlip(p=0.5),\n",
    "        albu.VerticalFlip(p=0.5),\n",
    "        albu.RandomBrightnessContrast(p=0.75),\n",
    "        albu.ShiftScaleRotate(p=0.75),\n",
    "        albu.OneOf([\n",
    "            albu.GaussNoise(var_limit=(10.0, 50.0)),\n",
    "            albu.GaussianBlur(),\n",
    "            albu.MotionBlur(),\n",
    "        ], p=0.4),\n",
    "        albu.GridDistortion(num_steps=5, distort_limit=0.3, p=0.5),\n",
    "        albu.CoarseDropout(max_holes=1, max_width=int(size * 0.3), max_height=int(size * 0.3),\n",
    "                           mask_fill_value=0, p=0.5),\n",
    "        # A.Cutout(max_h_size=int(size * 0.6),\n",
    "        #          max_w_size=int(size * 0.6), num_holes=1, p=1.0),\n",
    "        albu.Normalize(\n",
    "            mean=[0] * in_channels,\n",
    "            std=[1] * in_channels\n",
    "        ),\n",
    "        ToTensorV2(transpose_mask=True),\n",
    "    ]\n",
    "\n",
    "    valid_aug_list = [\n",
    "        albu.Resize(size, size),\n",
    "        albu.Normalize(\n",
    "            mean=[0] * in_channels,\n",
    "            std=[1] * in_channels\n",
    "        ),\n",
    "        ToTensorV2(transpose_mask=True),\n",
    "    ]\n",
    "\n",
    "    if type == 'train':\n",
    "        return train_aug_list\n",
    "    else:\n",
    "        return valid_aug_list"
   ],
   "metadata": {
    "collapsed": false
   }
  },
  {
   "cell_type": "markdown",
   "source": [
    "### wandb for trainning"
   ],
   "metadata": {
    "collapsed": false
   }
  },
  {
   "cell_type": "code",
   "execution_count": null,
   "outputs": [],
   "source": [
    "%%capture\n",
    "# disable output of this cell\n",
    "if is_train and not is_to_submit:\n",
    "    import wandb\n",
    "    import wandb\n",
    "\n",
    "    wandb.init(project=cfg['comp_name'], name=cfg['run_id'],\n",
    "               config=CONFIG, dir=LOG_DIR)\n",
    "\n",
    "    wandb.config['train_aug_list'] = albu.Compose(\n",
    "        get_aug_list(cfg['size'], cfg['in_channels'], type='train')).to_dict()\n",
    "    wandb.config['valid_aug_list'] = albu.Compose(\n",
    "        get_aug_list(cfg['size'], cfg['in_channels'], type='valid')).to_dict()"
   ],
   "metadata": {
    "collapsed": false
   }
  }
 ],
 "metadata": {
  "kernelspec": {
   "display_name": "Python 3",
   "language": "python",
   "name": "python3"
  },
  "language_info": {
   "codemirror_mode": {
    "name": "ipython",
    "version": 2
   },
   "file_extension": ".py",
   "mimetype": "text/x-python",
   "name": "python",
   "nbconvert_exporter": "python",
   "pygments_lexer": "ipython2",
   "version": "2.7.6"
  }
 },
 "nbformat": 4,
 "nbformat_minor": 0
}
