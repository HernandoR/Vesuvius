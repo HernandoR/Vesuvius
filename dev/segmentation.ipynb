{
 "cells": [
  {
   "cell_type": "markdown",
   "source": [
    "## summary"
   ],
   "metadata": {
    "collapsed": false
   }
  },
  {
   "cell_type": "code",
   "execution_count": 1,
   "outputs": [],
   "source": [
    "import gc\n",
    "import importlib.util\n",
    "import math\n",
    "import os\n",
    "import shutil\n",
    "import sys\n",
    "import time\n",
    "from pathlib import Path\n",
    "\n",
    "import albumentations as albu\n",
    "import cv2\n",
    "import numpy as np\n",
    "import pandas as pd\n",
    "import torch\n",
    "import torch.nn as nn\n",
    "from albumentations.pytorch import ToTensorV2\n",
    "from torch.optim import lr_scheduler as LRS, AdamW\n",
    "from torch.utils.data import DataLoader, Dataset\n",
    "from tqdm.auto import tqdm\n"
   ],
   "metadata": {
    "collapsed": false,
    "ExecuteTime": {
     "start_time": "2023-04-27T22:55:06.465204Z",
     "end_time": "2023-04-27T22:55:06.466205Z"
    }
   }
  },
  {
   "cell_type": "markdown",
   "source": [
    "## Configs\n",
    "### Env detection"
   ],
   "metadata": {
    "collapsed": false
   }
  },
  {
   "cell_type": "code",
   "execution_count": 2,
   "outputs": [],
   "source": [
    "import socket\n",
    "\n",
    "HOST = socket.gethostname()\n",
    "\n",
    "# noinspection PyUnresolvedReferences\n",
    "is_kaggle = _dh == [\"/kaggle/working\"]\n",
    "\n",
    "is_test = False\n",
    "\n",
    "is_train = True\n",
    "\n",
    "is_to_submit = False\n",
    "Model_Proto = \"Unet++\"\n",
    "exp_id = f\"{Model_Proto}_2.5d_Unimodel\"\n"
   ],
   "metadata": {
    "collapsed": false,
    "ExecuteTime": {
     "start_time": "2023-04-27T22:55:06.479683Z",
     "end_time": "2023-04-27T22:55:06.479683Z"
    }
   }
  },
  {
   "cell_type": "markdown",
   "source": [
    "### Auto settings"
   ],
   "metadata": {
    "collapsed": false
   }
  },
  {
   "cell_type": "code",
   "execution_count": 3,
   "outputs": [
    {
     "data": {
      "text/plain": "('Unet++_2.5d_Unimodel', 'Vincit', False)"
     },
     "execution_count": 3,
     "metadata": {},
     "output_type": "execute_result"
    }
   ],
   "source": [
    "date_time = time.strftime(\"%Y%m%d_%H%M%S\")\n",
    "run_id = exp_id + \"_\" + date_time\n",
    "device = torch.device(\"cuda\" if torch.cuda.is_available()\n",
    "                      else \"mps\" if torch.backends.mps.is_available()\n",
    "else \"cpu\")\n",
    "\n",
    "if is_test:\n",
    "    is_train = False\n",
    "    is_to_submit = False\n",
    "    exp_id = exp_id + \"_test\"\n",
    "    run_id = exp_id + \"_\" + date_time\n",
    "\n",
    "USE_WANDB = False\n",
    "\n",
    "exp_id, HOST, is_kaggle"
   ],
   "metadata": {
    "collapsed": false,
    "ExecuteTime": {
     "start_time": "2023-04-27T22:55:06.536934Z",
     "end_time": "2023-04-27T22:55:06.536934Z"
    }
   }
  },
  {
   "cell_type": "code",
   "execution_count": 4,
   "outputs": [
    {
     "name": "stdout",
     "output_type": "stream",
     "text": [
      "ROOT_DIR: D:\\Codes\\python\\kaggle\\Vesuvius\\dev\\..\n"
     ]
    }
   ],
   "source": [
    "if not is_kaggle:\n",
    "    ROOT_DIR = Path(\"../\").absolute()\n",
    "    DATA_DIR = ROOT_DIR / \"data\" / \"raw\"\n",
    "    OUTPUT_DIR = ROOT_DIR / \"saved\"\n",
    "    CP_DIR = OUTPUT_DIR / \"checkpoints\"\n",
    "    LOG_DIR = ROOT_DIR / \"saved\" / \"logs\"\n",
    "    CACHE_DIR = ROOT_DIR / \"saved\" / \"cache\"\n",
    "    EXTERNAL_MODELS_DIR = ROOT_DIR / \"model\"\n",
    "else:\n",
    "    ROOT_DIR = Path(\"/kaggle\")\n",
    "    DATA_DIR = ROOT_DIR / \"input\" / \"vesuvius-challenge-ink-detection\"\n",
    "    OUTPUT_DIR = ROOT_DIR / \"working\"\n",
    "    CP_DIR = OUTPUT_DIR / \"ink-model\"\n",
    "    LOG_DIR = OUTPUT_DIR / \"saved\" / \"logs\"\n",
    "    CACHE_DIR = OUTPUT_DIR / \"saved\" / \"cache\"\n",
    "    EXTERNAL_MODELS_DIR = ROOT_DIR / \"input\"\n",
    "\n",
    "print(f\"ROOT_DIR: {ROOT_DIR}\")\n",
    "\n",
    "for p in [ROOT_DIR, DATA_DIR, OUTPUT_DIR, CP_DIR, LOG_DIR, CACHE_DIR]:\n",
    "    if os.path.exists(p) is False:\n",
    "        os.makedirs(p)\n"
   ],
   "metadata": {
    "collapsed": false,
    "ExecuteTime": {
     "start_time": "2023-04-27T22:55:06.543899Z",
     "end_time": "2023-04-27T22:55:06.543899Z"
    }
   }
  },
  {
   "cell_type": "markdown",
   "source": [
    "### set Logger"
   ],
   "metadata": {
    "collapsed": false
   }
  },
  {
   "cell_type": "code",
   "execution_count": 5,
   "outputs": [],
   "source": [
    "\n",
    "def init_logger(log_file):\n",
    "    from logging import getLogger, INFO, FileHandler, Formatter, StreamHandler\n",
    "\n",
    "    logger = getLogger(__name__)\n",
    "    logger.setLevel(INFO)\n",
    "    handler1 = StreamHandler()\n",
    "    handler1.setFormatter(Formatter(\"%(message)s\"))\n",
    "    handler2 = FileHandler(filename=log_file)\n",
    "    handler2.setFormatter(Formatter(\"%(message)s\"))\n",
    "\n",
    "    # remove existing handlers\n",
    "    if logger.hasHandlers():\n",
    "        logger.handlers.clear()\n",
    "\n",
    "    logger.addHandler(handler1)\n",
    "    logger.addHandler(handler2)\n",
    "    return logger\n",
    "\n"
   ],
   "metadata": {
    "collapsed": false,
    "ExecuteTime": {
     "start_time": "2023-04-27T22:55:06.636027Z",
     "end_time": "2023-04-27T22:55:06.636027Z"
    }
   }
  },
  {
   "cell_type": "code",
   "execution_count": 6,
   "outputs": [],
   "source": [
    "Logger = init_logger(log_file=str(LOG_DIR / run_id) + '.log')\n"
   ],
   "metadata": {
    "collapsed": false,
    "ExecuteTime": {
     "start_time": "2023-04-27T22:55:06.655028Z",
     "end_time": "2023-04-27T22:55:06.655028Z"
    }
   }
  },
  {
   "cell_type": "markdown",
   "source": [
    "### External models"
   ],
   "metadata": {
    "collapsed": false
   }
  },
  {
   "cell_type": "code",
   "execution_count": 7,
   "outputs": [],
   "source": [
    "if not is_to_submit:\n",
    "    # https://github.com/Cadene/pretrained-models.pytorch/issues/222\n",
    "    import ssl\n",
    "\n",
    "    ssl._create_default_https_context = ssl._create_unverified_context\n",
    "if is_kaggle:\n",
    "    sys.path.append(str(EXTERNAL_MODELS_DIR / \"segmentation-models-pytorch\" / \"segmentation_models.pytorch-master\"))\n",
    "    sys.path.append(str(EXTERNAL_MODELS_DIR / \"pretrainedmodels\" / \"pretrainedmodels-0.7.4\"))\n",
    "    sys.path.append(str(EXTERNAL_MODELS_DIR / \"efficientnet-pytorch\" / \"EfficientNet-PyTorch-master\"))\n",
    "\n",
    "    # noinspection PyUnresolvedReferences\n",
    "    import segmentation_models_pytorch as smp\n",
    "\n",
    "else:\n",
    "    if importlib.util.find_spec(\"segmentation_models_pytorch\") is None:\n",
    "        !conda install -y segmentation-models-pytorch\n",
    "    import segmentation_models_pytorch as smp\n",
    "    # %%conda install -y -c conda-forge segmentation-models-pytorch"
   ],
   "metadata": {
    "collapsed": false,
    "ExecuteTime": {
     "start_time": "2023-04-27T22:55:07.672801Z",
     "end_time": "2023-04-27T22:55:07.672801Z"
    }
   }
  },
  {
   "cell_type": "markdown",
   "source": [
    "## configs"
   ],
   "metadata": {
    "collapsed": false
   }
  },
  {
   "cell_type": "code",
   "execution_count": 8,
   "outputs": [],
   "source": [
    "class Config:\n",
    "    comp_name = \"vesuvius\"\n",
    "    # ============== path =============\n",
    "    comp_dataset_path = DATA_DIR  # dataset path\n",
    "    cache_dir = CACHE_DIR  # cache directory\n",
    "    data_dir = DATA_DIR  # data directory\n",
    "    LOG_DIR = LOG_DIR  # log directory\n",
    "    Note_book = exp_id  # notebook name\n",
    "    model_dir = CP_DIR  # model directory\n",
    "    exp_name = exp_id  # experiment name\n",
    "    run_id = run_id  # run id\n",
    "    HOST = HOST  # host name\n",
    "\n",
    "    # ============== pred target =============\n",
    "    target_size = 1  # prediction target size\n",
    "\n",
    "    # ============== model cfg =============\n",
    "    model_name = f\"{Model_Proto}\"  # model name\n",
    "    backbone = \"se_resnext50_32x4d\"  # model backbone\n",
    "    in_channels = 16  # number of input channels\n",
    "    resume = True  # resume training\n",
    "\n",
    "    # ============== training cfg =============\n",
    "    size = 224  # image size\n",
    "    tile_size = 224  # tile size\n",
    "    stride = 56  # tile stride\n",
    "\n",
    "    batch_size = 16  # batch size\n",
    "    use_amp = True  # use automatic mixed precision\n",
    "\n",
    "    scheduler = \"GradualWarmupSchedulerV2\"  # learning rate scheduler\n",
    "    epochs = 500  # number of training epochs\n",
    "    PATIENCE = min(epochs // 2, 16)  # early stopping patience\n",
    "    warmup_factor = 10  # warmup factor\n",
    "    lr = 1e-5 / 10  # initial learning rate\n",
    "\n",
    "    # ============== fold =============\n",
    "    valid_id = 2  # validation fold id\n",
    "\n",
    "    objective_cv = \"binary\"  # objective type\n",
    "    metric_direction = \"maximize\"  # metric direction\n",
    "\n",
    "    # ============== fixed =============\n",
    "    pretrained = True  # use pre-trained weights\n",
    "    inf_weight = \"best\"  # inference weight\n",
    "\n",
    "    min_lr = 1e-6  # minimum learning rate\n",
    "    weight_decay = 1e-6  # weight decay\n",
    "    max_grad_norm = 1000  # maximum gradient norm\n",
    "\n",
    "    print_freq = 50  # print frequency\n",
    "    num_workers = 2  # number of workers\n",
    "    seed = 3407  # random seed\n",
    "\n",
    "    def __getitem__(self, item):\n",
    "        return getattr(self, item)\n",
    "\n",
    "\n",
    "_Config = Config()\n"
   ],
   "metadata": {
    "collapsed": false,
    "ExecuteTime": {
     "start_time": "2023-04-27T22:55:07.688314Z",
     "end_time": "2023-04-27T22:55:07.688314Z"
    }
   }
  },
  {
   "cell_type": "code",
   "execution_count": 9,
   "outputs": [],
   "source": [
    "\n",
    "\n",
    "CONFIG = {}\n",
    "for k in dir(_Config):\n",
    "    if not k.startswith(\"__\"):\n",
    "        CONFIG[k] = getattr(_Config, k)\n",
    "\n",
    "## check\n",
    "for k in CONFIG.keys():\n",
    "    if k not in CONFIG.keys():\n",
    "        print(f\"{k} is not in CONFIG\")\n",
    "    elif CONFIG[k] != CONFIG[k]:\n",
    "        print(f\"CONFIG {k} = {CONFIG[k]};is not equal to tmp {k} = {CONFIG[k]}\")\n",
    "    else:\n",
    "        continue\n",
    "\n",
    "for k in CONFIG.keys():\n",
    "    if k not in CONFIG.keys():\n",
    "        print(f\"{k} is not in Config\")\n",
    "    else:\n",
    "        continue\n",
    "\n",
    "cfg = CONFIG"
   ],
   "metadata": {
    "collapsed": false,
    "ExecuteTime": {
     "start_time": "2023-04-27T22:55:07.744314Z",
     "end_time": "2023-04-27T22:55:07.744314Z"
    }
   }
  },
  {
   "cell_type": "code",
   "execution_count": 10,
   "outputs": [],
   "source": [
    "\n",
    "# ============== augmentation =============\n",
    "def get_aug_list(size, in_channels, type='train'):\n",
    "    \"\"\"\n",
    "    type: train, valid\n",
    "    return: list of albumentations\n",
    "\n",
    "    in case of any further modification,\n",
    "    one should use albu.Compose by themselves\n",
    "    \"\"\"\n",
    "    train_aug_list = [\n",
    "        # A.RandomResizedCrop(\n",
    "        #     size, size, scale=(0.85, 1.0)),\n",
    "        albu.Resize(size, size),\n",
    "        albu.HorizontalFlip(p=0.5),\n",
    "        albu.VerticalFlip(p=0.5),\n",
    "        albu.RandomBrightnessContrast(p=0.75),\n",
    "        albu.ShiftScaleRotate(p=0.75),\n",
    "        albu.OneOf([\n",
    "            albu.GaussNoise(var_limit=(10.0, 50.0)),\n",
    "            albu.GaussianBlur(),\n",
    "            albu.MotionBlur(),\n",
    "        ], p=0.4),\n",
    "        albu.GridDistortion(num_steps=5, distort_limit=0.3, p=0.5),\n",
    "        albu.CoarseDropout(max_holes=1, max_width=int(size * 0.3), max_height=int(size * 0.3),\n",
    "                           mask_fill_value=0, p=0.5),\n",
    "        # A.Cutout(max_h_size=int(size * 0.6),\n",
    "        #          max_w_size=int(size * 0.6), num_holes=1, p=1.0),\n",
    "        albu.Normalize(\n",
    "            mean=[0] * in_channels,\n",
    "            std=[1] * in_channels\n",
    "        ),\n",
    "        ToTensorV2(transpose_mask=True),\n",
    "    ]\n",
    "\n",
    "    valid_aug_list = [\n",
    "        albu.Resize(size, size),\n",
    "        albu.Normalize(\n",
    "            mean=[0] * in_channels,\n",
    "            std=[1] * in_channels\n",
    "        ),\n",
    "        ToTensorV2(transpose_mask=True),\n",
    "    ]\n",
    "\n",
    "    if type == 'train':\n",
    "        return train_aug_list\n",
    "    else:\n",
    "        return valid_aug_list"
   ],
   "metadata": {
    "collapsed": false,
    "ExecuteTime": {
     "start_time": "2023-04-27T22:55:07.744314Z",
     "end_time": "2023-04-27T22:55:07.744314Z"
    }
   }
  },
  {
   "cell_type": "markdown",
   "source": [
    "## Helper functions"
   ],
   "metadata": {
    "collapsed": false
   }
  },
  {
   "cell_type": "code",
   "execution_count": 11,
   "outputs": [],
   "source": [
    "# ref.: https://www.kaggle.com/stainsby/fast-tested-rle\n",
    "def rle(img):\n",
    "    '''\n",
    "    img: numpy array, 1 - mask, 0 - background\n",
    "    Returns run length as string formated\n",
    "    '''\n",
    "    pixels = img.flatten()\n",
    "    # pixels = (pixels >= thr).astype(int)\n",
    "\n",
    "    pixels = np.concatenate([[0], pixels, [0]])\n",
    "    runs = np.where(pixels[1:] != pixels[:-1])[0] + 1\n",
    "    runs[1::2] -= runs[::2]\n",
    "    return ' '.join(str(x) for x in runs)\n",
    "\n",
    "# def np_rle(img):\n",
    "#     flat_img = np.where(img.flatten() , 1, 0).astype(np.uint8)\n",
    "#     starts = np.array((flat_img[:-1] == 0) & (flat_img[1:] == 1))\n",
    "#     ends = np.array((flat_img[:-1] == 1) & (flat_img[1:] == 0))\n",
    "#     starts_ix = np.where(starts)[0] + 2\n",
    "#     ends_ix = np.where(ends)[0] + 2\n",
    "#     lengths = ends_ix - starts_ix\n",
    "#     predicted_arr = np.stack([starts_ix, lengths]).T.flatten()\n",
    "#     rle_str=np.array2string(predicted_arr.reshape(-1), separator=' ')\n",
    "#     return rle_str[1:-1]"
   ],
   "metadata": {
    "collapsed": false,
    "ExecuteTime": {
     "start_time": "2023-04-27T22:55:07.745313Z",
     "end_time": "2023-04-27T22:55:07.745313Z"
    }
   }
  },
  {
   "cell_type": "markdown",
   "source": [
    "## Model"
   ],
   "metadata": {
    "collapsed": false
   }
  },
  {
   "cell_type": "code",
   "execution_count": 12,
   "outputs": [],
   "source": [
    "class CustomModel(nn.Module):\n",
    "    def __init__(self, cfg, weight=None):\n",
    "        super().__init__()\n",
    "        self.cfg = cfg\n",
    "        self.th = None\n",
    "        # if cfg[\"model_name\"] == \"Unet++\":\n",
    "        #     model_Conductor=getattr(smp, \"UnetPlusPlus\")\n",
    "        # else:\n",
    "        #     model_Conductor=getattr(smp, cfg[\"model_name\"])\n",
    "        # self.encoder = model_Conductor(\n",
    "        self.encoder = smp.UnetPlusPlus(\n",
    "            encoder_name=cfg['backbone'],\n",
    "            encoder_weights=weight,\n",
    "            in_channels=cfg['in_channels'],\n",
    "            classes=cfg['target_size'],\n",
    "            activation=None,\n",
    "\n",
    "        )\n",
    "\n",
    "    def forward(self, image):\n",
    "        output = self.encoder(image)\n",
    "        # output = output.squeeze(-1)\n",
    "        return output\n",
    "\n",
    "\n",
    "def get_saved_model_path(cfg, fold=1):\n",
    "    return str(cfg['model_dir'] / f'{cfg[\"model_name\"]}_{cfg[\"in_channels\"]}_best.pth')\n",
    "\n",
    "\n",
    "def build_model(cfg, weight=\"imagenet\"):\n",
    "    Logger.info(f\"model_name: {cfg['model_name']}\")\n",
    "    Logger.info(f\"backbone: {cfg['backbone']}\")\n",
    "    if cfg['resume']:\n",
    "        model_path = get_saved_model_path(cfg)\n",
    "        if os.path.exists(model_path):\n",
    "            Logger.info(f'load model from: {model_path}')\n",
    "            _model = CustomModel(cfg, weight=None)\n",
    "            loaded_model = torch.load(model_path)\n",
    "            # print(loaded_model)\n",
    "            _model.load_state_dict(loaded_model['model'])\n",
    "            # best_loss = loaded_model['best_loss']\n",
    "            # best_loss = None if loaded_model['best_loss'] is None else loaded_model['best_loss']\n",
    "            best_loss = loaded_model['best_loss']\n",
    "            th = loaded_model['th'] if 'th' in loaded_model else 0.5\n",
    "            _model.th = th\n",
    "            return _model, best_loss\n",
    "        Logger.info(f'trained model not found')\n",
    "\n",
    "    if is_kaggle:\n",
    "        weight = None\n",
    "    _model = CustomModel(cfg, weight)\n",
    "    return _model, None"
   ],
   "metadata": {
    "collapsed": false,
    "ExecuteTime": {
     "start_time": "2023-04-27T22:55:07.752312Z",
     "end_time": "2023-04-27T22:55:07.752312Z"
    }
   }
  },
  {
   "cell_type": "markdown",
   "source": [
    "## DataSet"
   ],
   "metadata": {
    "collapsed": false
   }
  },
  {
   "cell_type": "code",
   "execution_count": 13,
   "outputs": [],
   "source": [
    "\n",
    "\n",
    "\n",
    "def get_transforms(mode, cfg):\n",
    "    return albu.Compose(get_aug_list(cfg['size'], cfg['in_channels'], type=mode))\n",
    "\n",
    "\n",
    "if not is_kaggle:\n",
    "    from DataSets import CustomDataset,ImgLoader\n",
    "else:\n",
    "    import itertools\n",
    "    from cachetools import FIFOCache, cached\n",
    "\n",
    "\n",
    "    class ImgLoader:\n",
    "\n",
    "        def __init__(self, cache_dir: Path = None, data_dir: Path = None):\n",
    "            self.cache_dir = cache_dir\n",
    "            self.data_dir = data_dir\n",
    "\n",
    "        def load_from_path(self, file_path: str = None, channel=6, tile_size=224):\n",
    "            ori_img = ImgLoader.load_from_path_static(self.cache_dir, self.data_dir, file_path, channel=channel)\n",
    "            # pad_h = (tile_size - ori_img.shape[1] % tile_size) % tile_size\n",
    "            # img = np.pad(ori_img, ((0, 0), (0, pad_h), (0, pad_w)), mode='constant')\n",
    "            # pad_w = (tile_size - ori_img.shape[2] % tile_size) % tile_size\n",
    "\n",
    "            return ori_img\n",
    "\n",
    "        @staticmethod\n",
    "        @cached(cache=FIFOCache(maxsize=10))\n",
    "        def load_from_path_static(cache_dir: Path = None, data_dir: Path = None, file_path: str = None, channel=6):\n",
    "            assert isinstance(file_path, (str, Path)), f\"file path {file_path} is not a string or Path\"\n",
    "            if isinstance(file_path, Path):\n",
    "                file_path = str(file_path)\n",
    "\n",
    "            assert not file_path.endswith('npy'), f\"file path {file_path} is a npy file\"\n",
    "            assert os.path.exists(data_dir / file_path), f\"file path {file_path} does not exist\"\n",
    "\n",
    "            path__npy_ = cache_dir / f\"{file_path}.npy\"\n",
    "\n",
    "            if os.path.exists(path__npy_):\n",
    "                img_l = np.load(str(path__npy_), allow_pickle=True)\n",
    "                assert img_l is not None, f\"Cached file {path__npy_} is None\"\n",
    "                return img_l\n",
    "\n",
    "            if not os.path.exists(path__npy_.parent):\n",
    "                os.makedirs(path__npy_.parent)\n",
    "\n",
    "            if os.path.isfile(data_dir / file_path):\n",
    "                img_l = cv2.imread(str(data_dir / file_path), 0)\n",
    "                assert img_l is not None, f\"Image file {data_dir / file_path} is None\"\n",
    "                np.save(str(path__npy_), img_l)\n",
    "                return img_l\n",
    "\n",
    "            if os.path.isdir(data_dir / file_path):\n",
    "                path__npy_ = cache_dir / f\"{file_path}_{channel}.npy\"\n",
    "                if os.path.exists(path__npy_):\n",
    "                    img_l = np.load(str(path__npy_), allow_pickle=True)\n",
    "                    assert img_l is not None, f\"Cached file {path__npy_} is None\"\n",
    "                    return img_l\n",
    "\n",
    "                img_l = []\n",
    "                files = os.listdir(data_dir / file_path)\n",
    "                mid = len(files) // 2\n",
    "                start = mid - channel // 2\n",
    "                end = mid + channel // 2\n",
    "                assert start >= 0, f\"start {start} is less than 0\"\n",
    "                assert end <= len(files), f\"end {end} is greater than {len(files)}\"\n",
    "\n",
    "                files = files[start:end]\n",
    "                for file in files:\n",
    "                    img_l.append(ImgLoader.load_from_path_static(cache_dir, data_dir, f\"{file_path}/{file}\"))\n",
    "\n",
    "                img_l = np.stack(img_l, axis=2)\n",
    "                np.save(str(path__npy_), img_l)\n",
    "                return img_l\n",
    "\n",
    "\n",
    "    class CustomDataset(Dataset):\n",
    "        \"\"\"\"\n",
    "        Custom Dataset for loading images, masks, and labels\n",
    "        params:\n",
    "            image_sets: list of image paths\n",
    "            masks: list of mask paths\n",
    "            labels: list of label paths\n",
    "            transform: albumentations transform\n",
    "            mode: train, valid, or test\n",
    "        \"\"\"\n",
    "\n",
    "        def __init__(self, image_sets, cfg, masks=None, labels=None, transform=None, mode=\"train\"):\n",
    "            self.image_sets = image_sets\n",
    "            self.cfg = cfg\n",
    "            self.masks = masks\n",
    "            self.labels = labels\n",
    "            self.transform = transform\n",
    "            self.type = mode\n",
    "            self.imgLoader = None\n",
    "            self.patch_pos = []\n",
    "            self.preprocess()\n",
    "\n",
    "        def preprocess(self):\n",
    "            if self.imgLoader is None:\n",
    "                self.imgLoader = ImgLoader(\n",
    "                    cache_dir=self.cfg['cache_dir'],\n",
    "                    data_dir=self.cfg['data_dir'])\n",
    "\n",
    "            for mask in self.masks:\n",
    "                # mask may be path like or numpy array\n",
    "                # if isinstance(mask, (str, Path)):\n",
    "                mask = self.imgLoader.load_from_path(mask)\n",
    "\n",
    "                x1_num = math.ceil((mask.shape[1] - self.cfg['tile_size']) / self.cfg['stride']) + 1\n",
    "                y1_num = math.ceil((mask.shape[0] - self.cfg['tile_size']) / self.cfg['stride']) + 1\n",
    "                posit = []\n",
    "                for x, y in itertools.product(range(x1_num), range(y1_num)):\n",
    "                    x, y = x * self.cfg['stride'], y * self.cfg['stride']\n",
    "                    if mask[y:y + self.cfg['tile_size'], x:x + self.cfg['tile_size']].sum() > 0:\n",
    "                        posit.append((x, y))\n",
    "                self.patch_pos.append(posit)\n",
    "\n",
    "            self.patch_pos = np.array(self.patch_pos)\n",
    "\n",
    "        def get_gt(self, img_idx):\n",
    "            return self.imgLoader.load_from_path(self.labels[img_idx])\n",
    "\n",
    "        def get_mask(self, img_idx):\n",
    "            return self.imgLoader.load_from_path(self.masks[img_idx])\n",
    "\n",
    "        def __len__(self):\n",
    "            return sum([len(posit) for posit in self.patch_pos])\n",
    "\n",
    "        def __getitem__(self, idx):\n",
    "            # x1, y1, x2, y2 = self.xyxys[idx]\n",
    "            img_id = 0\n",
    "            patch_id = idx\n",
    "            for i, posit_list in enumerate(self.patch_pos):\n",
    "                if patch_id < len(posit_list):\n",
    "                    img_id = i\n",
    "                    break\n",
    "                else:\n",
    "                    patch_id -= len(posit_list)\n",
    "\n",
    "            # x1_num, y1_num = self.patch_pos[img_id]\n",
    "            # x1 = (patch_id % x1_num) * self.cfg['stride']\n",
    "            # y1 = (patch_id // x1_num) * self.cfg['stride']\n",
    "            x1, y1 = self.patch_pos[img_id][patch_id]\n",
    "            x2 = x1 + self.cfg['tile_size']\n",
    "            y2 = y1 + self.cfg['tile_size']\n",
    "\n",
    "            img = self.imgLoader.load_from_path(self.image_sets[img_id], channel=self.cfg['in_channels'])\n",
    "            mask = self.imgLoader.load_from_path(self.masks[img_id])\n",
    "\n",
    "            img = img[y1:y2, x1:x2]\n",
    "            mask = mask[y1:y2, x1:x2]\n",
    "\n",
    "            if img.shape[0] != self.cfg['tile_size'] or img.shape[1] != self.cfg['tile_size']:\n",
    "                pad_h = self.cfg['tile_size'] - img.shape[0]\n",
    "                pad_w = self.cfg['tile_size'] - img.shape[1]\n",
    "                img = np.pad(img, ((0, pad_h), (0, pad_w), (0, 0)), mode=\"constant\", constant_values=0)\n",
    "                mask = np.pad(mask, ((0, pad_h), (0, pad_w)), mode=\"constant\", constant_values=0)\n",
    "\n",
    "            if self.type in [\"train\", \"valid\"]:\n",
    "                label = self.imgLoader.load_from_path(self.labels[img_id])\n",
    "                label = label[y1:y2, x1:x2]\n",
    "                if label.shape[0] != self.cfg['tile_size'] or label.shape[1] != self.cfg['tile_size']:\n",
    "                    pad_h = self.cfg['tile_size'] - label.shape[0]\n",
    "                    pad_w = self.cfg['tile_size'] - label.shape[1]\n",
    "                    label = np.pad(label, ((0, pad_h), (0, pad_w)), mode=\"constant\", constant_values=0)\n",
    "\n",
    "                data = self.transform(image=img, mask=mask, label=label)\n",
    "                label = data[\"label\"].astype(np.float32)\n",
    "            else:\n",
    "                label = -1\n",
    "                data = self.transform(image=img, mask=mask)\n",
    "\n",
    "            image = data[\"image\"]\n",
    "            mask = data[\"mask\"]\n",
    "\n",
    "            return image, mask, label, (x1, y1, x2, y2)"
   ],
   "metadata": {
    "collapsed": false,
    "ExecuteTime": {
     "start_time": "2023-04-27T22:55:07.829824Z",
     "end_time": "2023-04-27T22:55:07.829824Z"
    }
   }
  },
  {
   "cell_type": "code",
   "execution_count": 14,
   "outputs": [],
   "source": [
    "def make_dataset(img_set_ids, mode='train', dataset_mode='train'):\n",
    "    imgs = []\n",
    "    masks = []\n",
    "    labels = []\n",
    "    for set_id in img_set_ids:\n",
    "        imgs.append(f\"{mode}/{set_id}/surface_volume\")\n",
    "        masks.append(f\"{mode}/{set_id}/mask.png\")\n",
    "        labels.append(f\"{mode}/{set_id}/inklabels.png\")\n",
    "\n",
    "    dataset = CustomDataset(\n",
    "        image_sets=imgs,\n",
    "        cfg=cfg,\n",
    "        masks=masks,\n",
    "        labels=labels,\n",
    "        mode=dataset_mode,\n",
    "        transform=get_transforms(mode=dataset_mode, cfg=cfg))\n",
    "\n",
    "    loader = DataLoader(\n",
    "        dataset,\n",
    "        batch_size=cfg['batch_size'],\n",
    "        shuffle=False,\n",
    "        num_workers=cfg['num_workers'],\n",
    "        pin_memory=True,\n",
    "        drop_last=False)\n",
    "\n",
    "    return loader"
   ],
   "metadata": {
    "collapsed": false,
    "ExecuteTime": {
     "start_time": "2023-04-27T22:55:07.835825Z",
     "end_time": "2023-04-27T22:55:07.835825Z"
    }
   }
  },
  {
   "cell_type": "markdown",
   "source": [
    "## Scheduler"
   ],
   "metadata": {
    "collapsed": false
   }
  },
  {
   "cell_type": "code",
   "execution_count": 15,
   "outputs": [],
   "source": [
    "\n",
    "def get_scheduler(cfg, optimizer):\n",
    "    scheduler_cosine = LRS.CosineAnnealingLR(\n",
    "        optimizer, cfg[\"epochs\"], eta_min=1e-7)\n",
    "    # scheduler = GradualWarmupSchedulerV2(\n",
    "    #     optimizer, multiplier=10, total_epoch=1, after_scheduler=scheduler_cosine)\n",
    "\n",
    "    return scheduler_cosine\n",
    "\n",
    "\n",
    "def scheduler_step(scheduler, avg_val_loss, epoch):\n",
    "    # scheduler.step(epoch)\n",
    "    scheduler.step()"
   ],
   "metadata": {
    "collapsed": false,
    "ExecuteTime": {
     "start_time": "2023-04-27T22:55:07.836825Z",
     "end_time": "2023-04-27T22:55:07.836825Z"
    }
   }
  },
  {
   "cell_type": "markdown",
   "source": [
    "## Assessments"
   ],
   "metadata": {
    "collapsed": false
   }
  },
  {
   "cell_type": "code",
   "execution_count": 16,
   "outputs": [],
   "source": [
    "\n",
    "def fbeta_numpy(targets, preds, beta=0.5, smooth=1e-6):\n",
    "    \"\"\"\n",
    "    https://www.kaggle.com/competitions/vesuvius-challenge-ink-detection/discussion/397288\n",
    "    \"\"\"\n",
    "    assert all(np.unique(targets) == [0, 1]), f'mask.unique():{np.unique(targets)} != [0, 1]'\n",
    "    # assert all(np.unique(preds) == [0, 1]), f'mask_pred.unique():{np.unique(preds)} != [0, 1]'\n",
    "    y_true_count = targets.sum()\n",
    "    ctp = preds[targets == 1].sum()\n",
    "    cfp = preds[targets == 0].sum()\n",
    "    beta_squared = beta * beta\n",
    "\n",
    "    c_precision = ctp / (ctp + cfp + smooth)\n",
    "    c_recall = ctp / (y_true_count + smooth)\n",
    "    dice = (1 + beta_squared) * (c_precision * c_recall) / (beta_squared * c_precision + c_recall + smooth)\n",
    "\n",
    "    return dice\n",
    "\n",
    "\n",
    "def calc_fbeta(label_gt, label_pred):\n",
    "    assert label_gt.shape == label_pred.shape, f'mask.shape:{label_gt.shape} != mask_pred.shape:{label_pred.shape}'\n",
    "    label_gt = label_gt.astype(int).flatten()\n",
    "    label_pred = label_pred.flatten()\n",
    "\n",
    "    best_th = 0\n",
    "    best_dice = 0\n",
    "    # for th in np.array(range(10, 50 + 1, 5)) / 100:\n",
    "    for th in np.linspace(10, 91, 9) / 100:\n",
    "        # dice = fbeta_score(mask, (mask_pred >= th).astype(int), beta=0.5)\n",
    "        # print(label_pred.max())\n",
    "        dice = fbeta_numpy(label_gt, (label_pred >= th).astype(int), beta=0.5)\n",
    "        # Logger.info(f'th: {th}, fbeta: {dice}')\n",
    "\n",
    "        if dice > best_dice:\n",
    "            best_dice = dice\n",
    "            best_th = th\n",
    "\n",
    "    # th=0.5\n",
    "    # dice = fbeta_numpy(label_gt, (label_pred >= th).astype(int), beta=0.5)\n",
    "    #\n",
    "    # best_th = th\n",
    "    # best_dice = dice\n",
    "\n",
    "    # CTP,CFP, CTN, CFN\n",
    "    ctp = label_pred[label_gt == 1].sum()\n",
    "    cfp = label_pred[label_gt == 0].sum()\n",
    "    ctn = (1 - label_pred)[label_gt == 0].sum()\n",
    "    cfn = (1 - label_pred)[label_gt == 1].sum()\n",
    "    # logger as matrix\n",
    "    #Confused matrix\n",
    "    recall = ctp / (ctp + cfn)\n",
    "    precision = ctp / (ctp + cfp)\n",
    "    accuracy = (ctp + ctn) / (ctp + ctn + cfp + cfn)\n",
    "\n",
    "    con_mx = pd.DataFrame([[ctp, cfp], [cfn, ctn]], columns=['P', 'N'], index=['P', 'N'])\n",
    "\n",
    "    rates = pd.DataFrame([recall, precision, accuracy], index=['recall', 'precision', 'accuracy'], columns=[\"value\"])\n",
    "    Logger.info(f'Confusion matrix: \\n'\n",
    "                f'{con_mx} \\n'\n",
    "                f'Rates: \\n'\n",
    "                f'{rates}')\n",
    "\n",
    "    Logger.info(f'best_th: {best_th}, fbeta: {best_dice}')\n",
    "    return best_dice, best_th\n",
    "\n",
    "\n",
    "def calc_cv(mask_gt, mask_pred):\n",
    "    best_dice, best_th = calc_fbeta(mask_gt, mask_pred)\n",
    "\n",
    "    return best_dice, best_th"
   ],
   "metadata": {
    "collapsed": false,
    "ExecuteTime": {
     "start_time": "2023-04-27T22:55:07.836825Z",
     "end_time": "2023-04-27T22:55:07.836825Z"
    }
   }
  },
  {
   "cell_type": "markdown",
   "source": [
    "## LOSS"
   ],
   "metadata": {
    "collapsed": false
   }
  },
  {
   "cell_type": "code",
   "execution_count": 17,
   "outputs": [],
   "source": [
    "DiceLoss = smp.losses.DiceLoss(mode='binary')\n",
    "BCELoss = smp.losses.SoftBCEWithLogitsLoss()\n",
    "\n",
    "alpha = 0.5\n",
    "beta = 1 - alpha\n",
    "TverskyLoss = smp.losses.TverskyLoss(\n",
    "    mode='binary', log_loss=False, alpha=alpha, beta=beta)\n",
    "\n",
    "\n",
    "def criterion(y_pred, y_true):\n",
    "    assert y_pred.shape == y_true.shape, f'y_pred.shape:{y_pred.shape} != y_true.shape:{y_true.shape}'\n",
    "    # return 0.5 * BCELoss(y_pred, y_true) + 0.5 * DiceLoss(y_pred, y_true)\n",
    "    return BCELoss(y_pred, y_true)\n",
    "    # return 0.5 * BCELoss(y_pred, y_true) + 0.5 * TverskyLoss(y_pred, y_true)"
   ],
   "metadata": {
    "collapsed": false,
    "ExecuteTime": {
     "start_time": "2023-04-27T22:55:07.847825Z",
     "end_time": "2023-04-27T22:55:07.847825Z"
    }
   }
  },
  {
   "cell_type": "code",
   "execution_count": 18,
   "outputs": [],
   "source": [
    "class AverageMeter(object):\n",
    "    \"\"\"Computes and stores the average and current value\"\"\"\n",
    "\n",
    "    # if imported wandb, use wandb.log\n",
    "    #\n",
    "\n",
    "    def __init__(self, mode=\"train\"):\n",
    "        self.val = None\n",
    "        self.avg = None\n",
    "        self.sum = None\n",
    "        self.count = None\n",
    "        self.mode = mode\n",
    "\n",
    "        self.reset()\n",
    "        # self.use_wandb = (importlib.util.find_spec('wandb') is not None)\n",
    "\n",
    "    def reset(self):\n",
    "        self.val = 0\n",
    "        self.avg = 0\n",
    "        self.sum = 0\n",
    "        self.count = 0\n",
    "\n",
    "    def update(self, val, n=1):\n",
    "        self.val = val\n",
    "        self.sum += val * n\n",
    "        self.count += n\n",
    "        self.avg = self.sum / self.count"
   ],
   "metadata": {
    "collapsed": false,
    "ExecuteTime": {
     "start_time": "2023-04-27T22:55:07.922518Z",
     "end_time": "2023-04-27T22:55:07.922518Z"
    }
   }
  },
  {
   "cell_type": "markdown",
   "source": [
    "## Train and valid"
   ],
   "metadata": {
    "collapsed": false
   }
  },
  {
   "cell_type": "code",
   "execution_count": 19,
   "outputs": [],
   "source": [
    "\n",
    "from torch.cuda.amp import GradScaler, autocast\n",
    "\n",
    "\n",
    "def train_fn(train_loader, model, criterion, optimizer, device):\n",
    "    model.train()\n",
    "\n",
    "    scaler = GradScaler(enabled=CONFIG[\"use_amp\"])\n",
    "    losses = AverageMeter()\n",
    "\n",
    "    with tqdm(enumerate(train_loader), total=len(train_loader)) as pbar:\n",
    "        for step, data in pbar:\n",
    "            images, masks, labels, positions = data\n",
    "\n",
    "            images = images.to(device)\n",
    "            labels = labels.to(device)\n",
    "            batch_size = labels.size(0)\n",
    "\n",
    "            with autocast(CONFIG[\"use_amp\"]):\n",
    "                y_preds = model(images).squeeze()\n",
    "                labels = labels.squeeze()\n",
    "\n",
    "                loss = criterion(y_preds, labels)\n",
    "                assert loss >0 , f'input should be 0-1, but got: labels: {labels.min()}-{labels.max()}, y_preds: {y_preds.min()}-{y_preds.max()}'\n",
    "\n",
    "            losses.update(loss.item(), batch_size)\n",
    "            scaler.scale(loss).backward()\n",
    "\n",
    "            grad_norm = torch.nn.utils.clip_grad_norm_(\n",
    "                model.parameters(), CONFIG[\"max_grad_norm\"])\n",
    "\n",
    "            scaler.step(optimizer)\n",
    "            scaler.update()\n",
    "            optimizer.zero_grad()\n",
    "\n",
    "    return losses.avg\n",
    "\n",
    "\n",
    "def valid_fn(valid_loader, model, criterion, device, valid_mask_gt):\n",
    "    label_pred = np.zeros(valid_mask_gt.shape)\n",
    "    label_count = np.zeros(valid_mask_gt.shape)\n",
    "\n",
    "    model.eval()\n",
    "    losses = AverageMeter(mode='valid')\n",
    "\n",
    "    with tqdm(enumerate(valid_loader), total=len(valid_loader)) as pbar:\n",
    "        for step, (images, masks, labels, positions) in pbar:\n",
    "\n",
    "            images = images.to(device)\n",
    "            labels = labels.to(device)\n",
    "            batch_size = labels.size(0)\n",
    "\n",
    "            with torch.no_grad():\n",
    "                y_preds = model(images).squeeze()\n",
    "                labels = labels.squeeze()\n",
    "                loss = criterion(y_preds, labels)\n",
    "                assert loss >0 , f'input should be 0-1, but got: labels: {labels.min()}-{labels.max()}, y_preds: {y_preds.min()}-{y_preds.max()}'\n",
    "            losses.update(loss.item(), batch_size)\n",
    "\n",
    "            # make whole mask\n",
    "            y_preds = torch.sigmoid(y_preds).to('cpu').numpy()\n",
    "            # start_idx = step*CONFIG[\"valid_batch_size\"]             # end_idx = start_idx + batch_size\n",
    "            # print(positions)\n",
    "            for i, (x1, y1, x2, y2) in enumerate(zip(*positions)):\n",
    "                label_pred[y1:y2, x1:x2] += y_preds[i]\n",
    "                label_count[y1:y2, x1:x2] += np.ones((y2 - y1, x2 - x1))\n",
    "\n",
    "    Logger.info(f'mask_count_min: {label_count.min()}')\n",
    "    label_pred /= label_count + 1e-8\n",
    "    return losses.avg, label_pred"
   ],
   "metadata": {
    "collapsed": false,
    "ExecuteTime": {
     "start_time": "2023-04-27T22:55:07.922518Z",
     "end_time": "2023-04-27T22:55:07.922518Z"
    }
   }
  },
  {
   "cell_type": "code",
   "execution_count": 20,
   "outputs": [],
   "source": [
    "import itertools\n",
    "# TODO : modify test_fn\n",
    "# seems it more like to use loader than single image\n",
    "# consider tiled and stack?\n",
    "def test_fn(test_img, model, device, mask_gt, tile_size=224):\n",
    "    assert test_img.shape[1:3] == mask_gt.shape[0:2]\n",
    "    model.eval()\n",
    "    label_pred = np.zeros(mask_gt.shape)\n",
    "    label_count = np.zeros(mask_gt.shape)\n",
    "\n",
    "    ori_x, ori_y = mask_gt.shape\n",
    "    if mask_gt.max() > 1:\n",
    "        mask_gt = mask_gt / 255\n",
    "\n",
    "    pad0 = (tile_size - ori_x % tile_size) % tile_size\n",
    "    pad1 = (tile_size - ori_y % tile_size) % tile_size\n",
    "    tiled_img = np.pad(test_img, [[0, 0], [0, pad0], [0, pad1]], constant_values=0)\n",
    "    tiled_mask = np.pad(mask_gt, [[0, pad0], [0, pad1]], constant_values=0)\n",
    "\n",
    "\n",
    "    tiled_img=torch.from_numpy(tiled_img).float()\n",
    "    tiled_mask=torch.from_numpy(tiled_mask).float()\n",
    "\n",
    "    nx = (ori_x + pad0) // tile_size\n",
    "    ny = (ori_y + pad1) // tile_size\n",
    "\n",
    "    for x, y in itertools.product(range(nx), range(ny)):\n",
    "        x1 = int(x * tile_size)\n",
    "        x2 = int(x * tile_size + tile_size)\n",
    "        y1 = int(y * tile_size)\n",
    "        y2 = int(y * tile_size + tile_size)\n",
    "\n",
    "        img = tiled_img[:, x1:x2, y1:y2]\n",
    "\n",
    "        img = img.to(device)\n",
    "        with torch.no_grad():\n",
    "            y_preds = model(img).squeeze()\n",
    "\n",
    "        label_pred[x1:x2, y1:y2] += y_preds>model.th\n",
    "        label_count[x1:x2, y1:y2] += np.ones((tile_size, tile_size))\n",
    "\n",
    "    label_pred /= label_count + 1e-8\n",
    "    label_pred *= mask_gt\n",
    "\n",
    "    return label_pred[:ori_x, :ori_y]"
   ],
   "metadata": {
    "collapsed": false,
    "ExecuteTime": {
     "start_time": "2023-04-27T22:55:07.923513Z",
     "end_time": "2023-04-27T22:55:07.923513Z"
    }
   }
  },
  {
   "cell_type": "markdown",
   "source": [
    "## EarlyStopping"
   ],
   "metadata": {
    "collapsed": false
   }
  },
  {
   "cell_type": "code",
   "execution_count": 21,
   "outputs": [],
   "source": [
    "# TODO : modify EarlyStopping\n",
    "# add detection of val_loss\n",
    "class EarlyStopping:\n",
    "    def __init__(self, patience=7, verbose=False, delta=0):\n",
    "        self.patience = patience\n",
    "        self.verbose = verbose\n",
    "        self.counter = 0\n",
    "        self.best_score = None\n",
    "        self.early_stop = False\n",
    "        self.val_loss_min = None\n",
    "        self.delta = delta\n",
    "\n",
    "    def __call__(self, score,val_loss, model):\n",
    "\n",
    "        if self.best_score is None:\n",
    "            self.best_score = score\n",
    "            self.save_checkpoint(score,val_loss, model)\n",
    "            return\n",
    "\n",
    "        if score > self.best_score + self.delta:\n",
    "            self.save_checkpoint(score,val_loss, model)\n",
    "            self.counter = 0\n",
    "            return\n",
    "        else:\n",
    "            self.counter += 1\n",
    "            Logger.info(f\"EarlyStopping counter: {self.counter} out of {self.patience}\")\n",
    "            if self.counter >= self.patience:\n",
    "                self.early_stop = True\n",
    "\n",
    "    def save_checkpoint(self, score ,val_loss, model):\n",
    "        \"\"\"Saves model when validation loss decrease.\"\"\"\n",
    "\n",
    "        if self.verbose:\n",
    "            # Logger.info(\n",
    "            #     f\"Validation loss decreased ({self.val_loss_min:.6f} --> {score:.6f}).  Saving model ...\"\n",
    "            # )\n",
    "             Logger.info(\n",
    "                f\"Validation score increased ({self.best_score:.6f} --> {score:.6f}).  Saving model ...\")\n",
    "        save_path = get_saved_model_path(cfg)\n",
    "        if os.path.exists(save_path):\n",
    "            shutil.move(save_path, save_path.replace('.pt', '-bkp.pt'))\n",
    "        self.val_loss_min = val_loss\n",
    "        self.best_score = score\n",
    "        torch.save(\n",
    "            {\"model\": model.state_dict(),\n",
    "             \"best_score\": score,\n",
    "             \"best_loss\": val_loss,\n",
    "             \"th\": model.th\n",
    "             }\n",
    "            , save_path)\n"
   ],
   "metadata": {
    "collapsed": false,
    "ExecuteTime": {
     "start_time": "2023-04-27T22:55:07.923513Z",
     "end_time": "2023-04-27T22:55:07.923513Z"
    }
   }
  },
  {
   "cell_type": "markdown",
   "source": [
    "## Preparation\n",
    "### prepare dataset"
   ],
   "metadata": {
    "collapsed": false
   }
  },
  {
   "cell_type": "code",
   "execution_count": 22,
   "outputs": [],
   "source": [
    "def create_foldset():\n",
    "    foldset = []\n",
    "    foldset.append({\n",
    "        'train': [1, 2],\n",
    "        'valid': [3]\n",
    "    })\n",
    "    foldset.append({\n",
    "        'train': [1, 3],\n",
    "        'valid': [2]\n",
    "    })\n",
    "    foldset.append({\n",
    "        'train': [2, 3],\n",
    "        'valid': [1]\n",
    "    })\n",
    "    return foldset\n",
    "\n",
    "\n",
    "def get_best_score(metric_direction):\n",
    "    if metric_direction == 'minimize':\n",
    "        return np.inf\n",
    "    elif metric_direction == 'maximize':\n",
    "        return -1\n",
    "    else:\n",
    "        return 0\n",
    "\n",
    "\n",
    "def should_update_best_score(metric_direction, score, best_score):\n",
    "    if metric_direction == 'minimize':\n",
    "        return score < best_score\n",
    "    elif metric_direction == 'maximize':\n",
    "        return score > best_score\n",
    "\n",
    "\n",
    "def preprocess_valid_mask_gt(valid_mask_gt, tile_size):\n",
    "    if valid_mask_gt.max() > 1:\n",
    "        Logger.info(f'valid_mask_gt.shape: {valid_mask_gt.shape} \\n'\n",
    "                    f'valid_mask_gt.max: {valid_mask_gt.max()} \\n')\n",
    "        valid_mask_gt = valid_mask_gt / 255\n",
    "\n",
    "    pad0 = (tile_size - valid_mask_gt.shape[0] % tile_size)\n",
    "    pad1 = (tile_size - valid_mask_gt.shape[1] % tile_size)\n",
    "    valid_mask_gt = np.pad(valid_mask_gt, [(0, pad0), (0, pad1)], constant_values=0)\n",
    "\n",
    "    return valid_mask_gt"
   ],
   "metadata": {
    "collapsed": false,
    "ExecuteTime": {
     "start_time": "2023-04-27T22:55:07.933472Z",
     "end_time": "2023-04-27T22:55:07.933472Z"
    }
   }
  },
  {
   "cell_type": "markdown",
   "source": [
    "### wandb for trainning"
   ],
   "metadata": {
    "collapsed": false
   }
  },
  {
   "cell_type": "code",
   "execution_count": 23,
   "outputs": [
    {
     "name": "stderr",
     "output_type": "stream",
     "text": [
      "wandb imported\n",
      "resuming if possible\n",
      "\u001B[34m\u001B[1mwandb\u001B[0m: Currently logged in as: \u001B[33mhernando\u001B[0m (\u001B[33mlzhen-ntu\u001B[0m). Use \u001B[1m`wandb login --relogin`\u001B[0m to force relogin\n"
     ]
    },
    {
     "data": {
      "text/plain": "VBox(children=(Label(value='Waiting for wandb.init()...\\r'), FloatProgress(value=0.01693333333435779, max=1.0)…",
      "application/vnd.jupyter.widget-view+json": {
       "version_major": 2,
       "version_minor": 0,
       "model_id": "d6f32c02171f4c6793e27c77f6d1619d"
      }
     },
     "metadata": {},
     "output_type": "display_data"
    },
    {
     "data": {
      "text/plain": "<IPython.core.display.HTML object>",
      "text/html": "wandb version 0.15.0 is available!  To upgrade, please run:\n $ pip install wandb --upgrade"
     },
     "metadata": {},
     "output_type": "display_data"
    },
    {
     "data": {
      "text/plain": "<IPython.core.display.HTML object>",
      "text/html": "Tracking run with wandb version 0.14.0"
     },
     "metadata": {},
     "output_type": "display_data"
    },
    {
     "data": {
      "text/plain": "<IPython.core.display.HTML object>",
      "text/html": "Run data is saved locally in <code>D:\\Codes\\python\\kaggle\\Vesuvius\\dev\\..\\saved\\logs\\wandb\\run-20230427_225510-yty3ycwi</code>"
     },
     "metadata": {},
     "output_type": "display_data"
    },
    {
     "data": {
      "text/plain": "<IPython.core.display.HTML object>",
      "text/html": "Syncing run <strong><a href='https://wandb.ai/lzhen-ntu/vesuvius/runs/yty3ycwi' target=\"_blank\">Unet++_2.5d_Unimodel_20230427_225506</a></strong> to <a href='https://wandb.ai/lzhen-ntu/vesuvius' target=\"_blank\">Weights & Biases</a> (<a href='https://wandb.me/run' target=\"_blank\">docs</a>)<br/>"
     },
     "metadata": {},
     "output_type": "display_data"
    },
    {
     "data": {
      "text/plain": "<IPython.core.display.HTML object>",
      "text/html": " View project at <a href='https://wandb.ai/lzhen-ntu/vesuvius' target=\"_blank\">https://wandb.ai/lzhen-ntu/vesuvius</a>"
     },
     "metadata": {},
     "output_type": "display_data"
    },
    {
     "data": {
      "text/plain": "<IPython.core.display.HTML object>",
      "text/html": " View run at <a href='https://wandb.ai/lzhen-ntu/vesuvius/runs/yty3ycwi' target=\"_blank\">https://wandb.ai/lzhen-ntu/vesuvius/runs/yty3ycwi</a>"
     },
     "metadata": {},
     "output_type": "display_data"
    }
   ],
   "source": [
    "\n",
    "\n",
    "import importlib\n",
    "\n",
    "if is_train and not is_to_submit:\n",
    "    if importlib.util.find_spec(\"wandb\") is None:\n",
    "        pass\n",
    "    else:\n",
    "        import wandb\n",
    "        Logger.info('wandb imported')\n",
    "        if cfg[\"resume\"] and os.path.exists(get_saved_model_path(cfg)):\n",
    "            Logger.info('resuming if possible')\n",
    "            wandb.init(project=cfg['comp_name'], name=cfg['run_id'],\n",
    "                       config=CONFIG, dir=LOG_DIR, resume=True,notes='resumed')\n",
    "        else:\n",
    "            Logger.info('New_start')\n",
    "            wandb.init(project=cfg['comp_name'], name=cfg['run_id'],\n",
    "                       config=CONFIG, dir=LOG_DIR)\n",
    "\n",
    "        wandb.config['train_aug_list'] = albu.Compose(\n",
    "            get_aug_list(cfg['size'], cfg['in_channels'], type='train')).to_dict()\n",
    "        wandb.config['valid_aug_list'] = albu.Compose(\n",
    "            get_aug_list(cfg['size'], cfg['in_channels'], type='valid')).to_dict()\n",
    "        USE_WANDB = True\n"
   ],
   "metadata": {
    "collapsed": false,
    "ExecuteTime": {
     "start_time": "2023-04-27T22:55:15.275795Z",
     "end_time": "2023-04-27T22:55:15.276794Z"
    }
   }
  },
  {
   "cell_type": "markdown",
   "source": [
    "## Main"
   ],
   "metadata": {
    "collapsed": false
   }
  },
  {
   "cell_type": "code",
   "execution_count": 24,
   "outputs": [
    {
     "name": "stderr",
     "output_type": "stream",
     "text": [
      "{'HOST': 'Vincit', 'LOG_DIR': WindowsPath('D:/Codes/python/kaggle/Vesuvius/dev/../saved/logs'), 'Note_book': 'Unet++_2.5d_Unimodel', 'PATIENCE': 16, 'backbone': 'se_resnext50_32x4d', 'batch_size': 16, 'cache_dir': WindowsPath('D:/Codes/python/kaggle/Vesuvius/dev/../saved/cache'), 'comp_dataset_path': WindowsPath('D:/Codes/python/kaggle/Vesuvius/dev/../data/raw'), 'comp_name': 'vesuvius', 'data_dir': WindowsPath('D:/Codes/python/kaggle/Vesuvius/dev/../data/raw'), 'epochs': 500, 'exp_name': 'Unet++_2.5d_Unimodel', 'in_channels': 16, 'inf_weight': 'best', 'lr': 1.0000000000000002e-06, 'max_grad_norm': 1000, 'metric_direction': 'maximize', 'min_lr': 1e-06, 'model_dir': WindowsPath('D:/Codes/python/kaggle/Vesuvius/dev/../saved/checkpoints'), 'model_name': 'Unet++', 'num_workers': 2, 'objective_cv': 'binary', 'pretrained': True, 'print_freq': 50, 'resume': True, 'run_id': 'Unet++_2.5d_Unimodel_20230427_225506', 'scheduler': 'GradualWarmupSchedulerV2', 'seed': 3407, 'size': 224, 'stride': 56, 'target_size': 1, 'tile_size': 224, 'use_amp': True, 'valid_id': 2, 'warmup_factor': 10, 'weight_decay': 1e-06}\n",
      "model_name: Unet++\n",
      "backbone: se_resnext50_32x4d\n",
      "load model from: D:\\Codes\\python\\kaggle\\Vesuvius\\dev\\..\\saved\\checkpoints\\Unet++_16_best.pth\n",
      "valid_mask_gt.shape: (7606, 5249) \n",
      "valid_mask_gt.max: 255 \n",
      "\n"
     ]
    },
    {
     "data": {
      "text/plain": "  0%|          | 0/2711 [00:00<?, ?it/s]",
      "application/vnd.jupyter.widget-view+json": {
       "version_major": 2,
       "version_minor": 0,
       "model_id": "8a6e0ff8a19346dab3f2160d7291ef0a"
      }
     },
     "metadata": {},
     "output_type": "display_data"
    },
    {
     "data": {
      "text/plain": "  0%|          | 0/550 [00:00<?, ?it/s]",
      "application/vnd.jupyter.widget-view+json": {
       "version_major": 2,
       "version_minor": 0,
       "model_id": "94ceb907ec174e63ab6346a54ec08abf"
      }
     },
     "metadata": {},
     "output_type": "display_data"
    },
    {
     "name": "stderr",
     "output_type": "stream",
     "text": [
      "mask_count_min: 0.0\n",
      "best_loss: 0.3513\n",
      "Confusion matrix: \n",
      "              P             N\n",
      "P  5.720958e+05  4.066106e+06\n",
      "N  2.600387e+06  3.370503e+07 \n",
      "Rates: \n",
      "              value\n",
      "recall     0.180331\n",
      "precision  0.123344\n",
      "accuracy   0.837179\n",
      "best_th: 0.20125, fbeta: 0.25871033971302865\n",
      "Validation score increased (0.258710 --> 0.258710).  Saving model ...\n",
      "Epoch 1 - avg_train_loss: 0.4344  avg_val_loss: 0.3513  time: 790s\n",
      "Epoch 1 - avgScore: 0.2587\n",
      "valid_mask_gt.shape: (14830, 9506) \n",
      "valid_mask_gt.max: 255 \n",
      "\n"
     ]
    },
    {
     "data": {
      "text/plain": "  0%|          | 0/1199 [00:00<?, ?it/s]",
      "application/vnd.jupyter.widget-view+json": {
       "version_major": 2,
       "version_minor": 0,
       "model_id": "767a7b46531c4e00bb65ca925d7bd881"
      }
     },
     "metadata": {},
     "output_type": "display_data"
    },
    {
     "data": {
      "text/plain": "  0%|          | 0/2062 [00:00<?, ?it/s]",
      "application/vnd.jupyter.widget-view+json": {
       "version_major": 2,
       "version_minor": 0,
       "model_id": "8a009208f76244bbb32119a5d8374756"
      }
     },
     "metadata": {},
     "output_type": "display_data"
    },
    {
     "name": "stderr",
     "output_type": "stream",
     "text": [
      "mask_count_min: 0.0\n",
      "Confusion matrix: \n",
      "              P             N\n",
      "P  3.241684e+06  1.416772e+07\n",
      "N  1.367153e+07  1.134761e+08 \n",
      "Rates: \n",
      "              value\n",
      "recall     0.191666\n",
      "precision  0.186203\n",
      "accuracy   0.807417\n",
      "best_th: 0.20125, fbeta: 0.3439721983515641\n",
      "Validation score increased (0.258710 --> 0.343972).  Saving model ...\n",
      "Epoch 1 - avg_train_loss: 0.3898  avg_val_loss: 0.4232  time: 568s\n",
      "Epoch 1 - avgScore: 0.3440\n",
      "valid_mask_gt.shape: (8181, 6330) \n",
      "valid_mask_gt.max: 255 \n",
      "\n"
     ]
    },
    {
     "data": {
      "text/plain": "  0%|          | 0/2611 [00:00<?, ?it/s]",
      "application/vnd.jupyter.widget-view+json": {
       "version_major": 2,
       "version_minor": 0,
       "model_id": "22295da8b3244aa6af16bcf4b3dbe5ad"
      }
     },
     "metadata": {},
     "output_type": "display_data"
    },
    {
     "data": {
      "text/plain": "  0%|          | 0/650 [00:00<?, ?it/s]",
      "application/vnd.jupyter.widget-view+json": {
       "version_major": 2,
       "version_minor": 0,
       "model_id": "8cbe0062707642f08d46ee6edfe37b20"
      }
     },
     "metadata": {},
     "output_type": "display_data"
    },
    {
     "name": "stderr",
     "output_type": "stream",
     "text": [
      "mask_count_min: 0.0\n",
      "Confusion matrix: \n",
      "              P             N\n",
      "P  1.214469e+06  5.141637e+06\n",
      "N  4.124895e+06  4.335785e+07 \n",
      "Rates: \n",
      "              value\n",
      "recall     0.227456\n",
      "precision  0.191071\n",
      "accuracy   0.827884\n",
      "best_th: 0.20125, fbeta: 0.33149890090262024\n",
      "Validation score increased (0.258710 --> 0.331499).  Saving model ...\n",
      "Epoch 1 - avg_train_loss: 0.4156  avg_val_loss: 0.4178  time: 599s\n",
      "Epoch 1 - avgScore: 0.3315\n",
      "valid_mask_gt.shape: (7606, 5249) \n",
      "valid_mask_gt.max: 255 \n",
      "\n"
     ]
    },
    {
     "data": {
      "text/plain": "  0%|          | 0/2711 [00:00<?, ?it/s]",
      "application/vnd.jupyter.widget-view+json": {
       "version_major": 2,
       "version_minor": 0,
       "model_id": "d15d5b2a02e04df8a56e29e10b65259e"
      }
     },
     "metadata": {},
     "output_type": "display_data"
    },
    {
     "data": {
      "text/plain": "  0%|          | 0/550 [00:00<?, ?it/s]",
      "application/vnd.jupyter.widget-view+json": {
       "version_major": 2,
       "version_minor": 0,
       "model_id": "a245c342278c47aaa16e37a194424c65"
      }
     },
     "metadata": {},
     "output_type": "display_data"
    },
    {
     "name": "stderr",
     "output_type": "stream",
     "text": [
      "mask_count_min: 0.0\n",
      "best_loss: 0.3479\n",
      "Confusion matrix: \n",
      "              P             N\n",
      "P  5.059970e+05  3.641733e+06\n",
      "N  2.666486e+06  3.412940e+07 \n",
      "Rates: \n",
      "              value\n",
      "recall     0.159496\n",
      "precision  0.121994\n",
      "accuracy   0.845929\n",
      "best_th: 0.20125, fbeta: 0.14852140931844215\n",
      "EarlyStopping counter: 1 out of 16\n",
      "Epoch 2 - avg_train_loss: 0.4334  avg_val_loss: 0.3479  time: 607s\n",
      "Epoch 2 - avgScore: 0.1485\n",
      "valid_mask_gt.shape: (14830, 9506) \n",
      "valid_mask_gt.max: 255 \n",
      "\n"
     ]
    },
    {
     "data": {
      "text/plain": "  0%|          | 0/1199 [00:00<?, ?it/s]",
      "application/vnd.jupyter.widget-view+json": {
       "version_major": 2,
       "version_minor": 0,
       "model_id": "9ebc43da76dc4ac6a69758d18a1728d2"
      }
     },
     "metadata": {},
     "output_type": "display_data"
    },
    {
     "data": {
      "text/plain": "  0%|          | 0/2062 [00:00<?, ?it/s]",
      "application/vnd.jupyter.widget-view+json": {
       "version_major": 2,
       "version_minor": 0,
       "model_id": "14a3f9633273466584f53fe8ba16cc8b"
      }
     },
     "metadata": {},
     "output_type": "display_data"
    },
    {
     "name": "stderr",
     "output_type": "stream",
     "text": [
      "mask_count_min: 0.0\n",
      "Confusion matrix: \n",
      "              P             N\n",
      "P  2.872846e+06  1.264984e+07\n",
      "N  1.404037e+07  1.149940e+08 \n",
      "Rates: \n",
      "              value\n",
      "recall     0.169858\n",
      "precision  0.185074\n",
      "accuracy   0.815366\n",
      "best_th: 0.20125, fbeta: 0.3362207128283321\n",
      "Validation score increased (0.258710 --> 0.336221).  Saving model ...\n",
      "Epoch 2 - avg_train_loss: 0.3877  avg_val_loss: 0.4252  time: 499s\n",
      "Epoch 2 - avgScore: 0.3362\n",
      "valid_mask_gt.shape: (8181, 6330) \n",
      "valid_mask_gt.max: 255 \n",
      "\n"
     ]
    },
    {
     "data": {
      "text/plain": "  0%|          | 0/2611 [00:00<?, ?it/s]",
      "application/vnd.jupyter.widget-view+json": {
       "version_major": 2,
       "version_minor": 0,
       "model_id": "024d7cf9c9d6440da434c0042d618255"
      }
     },
     "metadata": {},
     "output_type": "display_data"
    },
    {
     "data": {
      "text/plain": "  0%|          | 0/650 [00:00<?, ?it/s]",
      "application/vnd.jupyter.widget-view+json": {
       "version_major": 2,
       "version_minor": 0,
       "model_id": "5ae8da18d2ef4b3081965f46c706b7f7"
      }
     },
     "metadata": {},
     "output_type": "display_data"
    },
    {
     "name": "stderr",
     "output_type": "stream",
     "text": [
      "mask_count_min: 0.0\n",
      "Confusion matrix: \n",
      "              P             N\n",
      "P  1.120972e+06  4.704538e+06\n",
      "N  4.218392e+06  4.379495e+07 \n",
      "Rates: \n",
      "              value\n",
      "recall     0.209945\n",
      "precision  0.192425\n",
      "accuracy   0.834266\n",
      "best_th: 0.20125, fbeta: 0.3650620587514095\n",
      "Validation score increased (0.258710 --> 0.365062).  Saving model ...\n",
      "Epoch 2 - avg_train_loss: 0.4144  avg_val_loss: 0.4153  time: 597s\n",
      "Epoch 2 - avgScore: 0.3651\n",
      "valid_mask_gt.shape: (7606, 5249) \n",
      "valid_mask_gt.max: 255 \n",
      "\n"
     ]
    },
    {
     "data": {
      "text/plain": "  0%|          | 0/2711 [00:00<?, ?it/s]",
      "application/vnd.jupyter.widget-view+json": {
       "version_major": 2,
       "version_minor": 0,
       "model_id": "fbfdbcbb1a744762b569977627bd0f6b"
      }
     },
     "metadata": {},
     "output_type": "display_data"
    },
    {
     "data": {
      "text/plain": "  0%|          | 0/550 [00:00<?, ?it/s]",
      "application/vnd.jupyter.widget-view+json": {
       "version_major": 2,
       "version_minor": 0,
       "model_id": "f3c32f8f4f6341b484dc6d0609052e66"
      }
     },
     "metadata": {},
     "output_type": "display_data"
    },
    {
     "name": "stderr",
     "output_type": "stream",
     "text": [
      "mask_count_min: 0.0\n",
      "best_loss: 0.3451\n",
      "Confusion matrix: \n",
      "              P             N\n",
      "P  4.696639e+05  3.352272e+06\n",
      "N  2.702819e+06  3.441886e+07 \n",
      "Rates: \n",
      "              value\n",
      "recall     0.148043\n",
      "precision  0.122886\n",
      "accuracy   0.852111\n",
      "best_th: 0.1, fbeta: 0.15059970811816473\n",
      "EarlyStopping counter: 1 out of 16\n",
      "Epoch 3 - avg_train_loss: 0.4327  avg_val_loss: 0.3451  time: 601s\n",
      "Epoch 3 - avgScore: 0.1506\n",
      "valid_mask_gt.shape: (14830, 9506) \n",
      "valid_mask_gt.max: 255 \n",
      "\n"
     ]
    },
    {
     "data": {
      "text/plain": "  0%|          | 0/1199 [00:00<?, ?it/s]",
      "application/vnd.jupyter.widget-view+json": {
       "version_major": 2,
       "version_minor": 0,
       "model_id": "77f3e1b045a946fa859d1ec29d6a1a9b"
      }
     },
     "metadata": {},
     "output_type": "display_data"
    },
    {
     "data": {
      "text/plain": "  0%|          | 0/2062 [00:00<?, ?it/s]",
      "application/vnd.jupyter.widget-view+json": {
       "version_major": 2,
       "version_minor": 0,
       "model_id": "adf5b9f0a7a04fc0bbeb3331e5549d93"
      }
     },
     "metadata": {},
     "output_type": "display_data"
    },
    {
     "name": "stderr",
     "output_type": "stream",
     "text": [
      "mask_count_min: 0.0\n",
      "Confusion matrix: \n",
      "              P             N\n",
      "P  2.801255e+06  1.202637e+07\n",
      "N  1.411196e+07  1.156175e+08 \n",
      "Rates: \n",
      "              value\n",
      "recall     0.165625\n",
      "precision  0.188921\n",
      "accuracy   0.819183\n",
      "best_th: 0.20125, fbeta: 0.3393531991355113\n",
      "Validation score increased (0.258710 --> 0.339353).  Saving model ...\n",
      "Epoch 3 - avg_train_loss: 0.3858  avg_val_loss: 0.4241  time: 493s\n",
      "Epoch 3 - avgScore: 0.3394\n",
      "valid_mask_gt.shape: (8181, 6330) \n",
      "valid_mask_gt.max: 255 \n",
      "\n"
     ]
    },
    {
     "data": {
      "text/plain": "  0%|          | 0/2611 [00:00<?, ?it/s]",
      "application/vnd.jupyter.widget-view+json": {
       "version_major": 2,
       "version_minor": 0,
       "model_id": "488399df74004a2ea0b475db6ac3120b"
      }
     },
     "metadata": {},
     "output_type": "display_data"
    },
    {
     "data": {
      "text/plain": "  0%|          | 0/650 [00:00<?, ?it/s]",
      "application/vnd.jupyter.widget-view+json": {
       "version_major": 2,
       "version_minor": 0,
       "model_id": "c7d1109c8ac1424182617db7bc4087b3"
      }
     },
     "metadata": {},
     "output_type": "display_data"
    },
    {
     "name": "stderr",
     "output_type": "stream",
     "text": [
      "mask_count_min: 0.0\n",
      "Confusion matrix: \n",
      "              P             N\n",
      "P  1.060950e+06  4.362358e+06\n",
      "N  4.278414e+06  4.413713e+07 \n",
      "Rates: \n",
      "              value\n",
      "recall     0.198703\n",
      "precision  0.195628\n",
      "accuracy   0.839507\n",
      "best_th: 0.20125, fbeta: 0.38754770639950065\n",
      "Validation score increased (0.258710 --> 0.387548).  Saving model ...\n",
      "Epoch 3 - avg_train_loss: 0.4128  avg_val_loss: 0.4128  time: 594s\n",
      "Epoch 3 - avgScore: 0.3875\n",
      "valid_mask_gt.shape: (7606, 5249) \n",
      "valid_mask_gt.max: 255 \n",
      "\n"
     ]
    },
    {
     "data": {
      "text/plain": "  0%|          | 0/2711 [00:00<?, ?it/s]",
      "application/vnd.jupyter.widget-view+json": {
       "version_major": 2,
       "version_minor": 0,
       "model_id": "4c2f33e5b2394d35bfbcf4ba32213494"
      }
     },
     "metadata": {},
     "output_type": "display_data"
    },
    {
     "data": {
      "text/plain": "  0%|          | 0/550 [00:00<?, ?it/s]",
      "application/vnd.jupyter.widget-view+json": {
       "version_major": 2,
       "version_minor": 0,
       "model_id": "7143453a85104546bddaced2c40c2597"
      }
     },
     "metadata": {},
     "output_type": "display_data"
    },
    {
     "name": "stderr",
     "output_type": "stream",
     "text": [
      "mask_count_min: 0.0\n",
      "best_loss: 0.3451\n",
      "Confusion matrix: \n",
      "              P             N\n",
      "P  4.287822e+05  3.084707e+06\n",
      "N  2.743701e+06  3.468643e+07 \n",
      "Rates: \n",
      "              value\n",
      "recall     0.135157\n",
      "precision  0.122039\n",
      "accuracy   0.857648\n",
      "best_th: 0.1, fbeta: 0.15774298691039412\n",
      "EarlyStopping counter: 1 out of 16\n",
      "Epoch 4 - avg_train_loss: 0.4318  avg_val_loss: 0.3451  time: 601s\n",
      "Epoch 4 - avgScore: 0.1577\n",
      "valid_mask_gt.shape: (14830, 9506) \n",
      "valid_mask_gt.max: 255 \n",
      "\n"
     ]
    },
    {
     "data": {
      "text/plain": "  0%|          | 0/1199 [00:00<?, ?it/s]",
      "application/vnd.jupyter.widget-view+json": {
       "version_major": 2,
       "version_minor": 0,
       "model_id": "33725c4c893647ccaa36c646357696d2"
      }
     },
     "metadata": {},
     "output_type": "display_data"
    },
    {
     "data": {
      "text/plain": "  0%|          | 0/2062 [00:00<?, ?it/s]",
      "application/vnd.jupyter.widget-view+json": {
       "version_major": 2,
       "version_minor": 0,
       "model_id": "57f3b6b1175f4b5cade92c72865975a7"
      }
     },
     "metadata": {},
     "output_type": "display_data"
    },
    {
     "name": "stderr",
     "output_type": "stream",
     "text": [
      "mask_count_min: 0.0\n",
      "Confusion matrix: \n",
      "              P             N\n",
      "P  2.667800e+06  1.124689e+07\n",
      "N  1.424542e+07  1.163969e+08 \n",
      "Rates: \n",
      "              value\n",
      "recall     0.157735\n",
      "precision  0.191725\n",
      "accuracy   0.823652\n",
      "best_th: 0.20125, fbeta: 0.33318585069216977\n",
      "Validation score increased (0.258710 --> 0.333186).  Saving model ...\n",
      "Epoch 4 - avg_train_loss: 0.3844  avg_val_loss: 0.4246  time: 493s\n",
      "Epoch 4 - avgScore: 0.3332\n",
      "valid_mask_gt.shape: (8181, 6330) \n",
      "valid_mask_gt.max: 255 \n",
      "\n"
     ]
    },
    {
     "data": {
      "text/plain": "  0%|          | 0/2611 [00:00<?, ?it/s]",
      "application/vnd.jupyter.widget-view+json": {
       "version_major": 2,
       "version_minor": 0,
       "model_id": "7370c86ad008483d862510f4842d89a8"
      }
     },
     "metadata": {},
     "output_type": "display_data"
    },
    {
     "data": {
      "text/plain": "  0%|          | 0/650 [00:00<?, ?it/s]",
      "application/vnd.jupyter.widget-view+json": {
       "version_major": 2,
       "version_minor": 0,
       "model_id": "cde8fd971cb1462db2e256f42c0529e1"
      }
     },
     "metadata": {},
     "output_type": "display_data"
    },
    {
     "name": "stderr",
     "output_type": "stream",
     "text": [
      "mask_count_min: 0.0\n",
      "Confusion matrix: \n",
      "              P             N\n",
      "P  1.045529e+06  4.200863e+06\n",
      "N  4.293835e+06  4.429862e+07 \n",
      "Rates: \n",
      "              value\n",
      "recall     0.195815\n",
      "precision  0.199285\n",
      "accuracy   0.842220\n",
      "best_th: 0.20125, fbeta: 0.4025284453670462\n",
      "Validation score increased (0.258710 --> 0.402528).  Saving model ...\n",
      "Epoch 4 - avg_train_loss: 0.4120  avg_val_loss: 0.4105  time: 595s\n",
      "Epoch 4 - avgScore: 0.4025\n",
      "valid_mask_gt.shape: (7606, 5249) \n",
      "valid_mask_gt.max: 255 \n",
      "\n"
     ]
    },
    {
     "data": {
      "text/plain": "  0%|          | 0/2711 [00:00<?, ?it/s]",
      "application/vnd.jupyter.widget-view+json": {
       "version_major": 2,
       "version_minor": 0,
       "model_id": "4c901abebbda4c6399110c6745e02aaa"
      }
     },
     "metadata": {},
     "output_type": "display_data"
    },
    {
     "data": {
      "text/plain": "  0%|          | 0/550 [00:00<?, ?it/s]",
      "application/vnd.jupyter.widget-view+json": {
       "version_major": 2,
       "version_minor": 0,
       "model_id": "5952d5e76599489887f8c83c9e42dbe7"
      }
     },
     "metadata": {},
     "output_type": "display_data"
    },
    {
     "name": "stderr",
     "output_type": "stream",
     "text": [
      "mask_count_min: 0.0\n",
      "best_loss: 0.3440\n",
      "Confusion matrix: \n",
      "              P             N\n",
      "P  4.009971e+05  2.847909e+06\n",
      "N  2.771486e+06  3.492322e+07 \n",
      "Rates: \n",
      "              value\n",
      "recall     0.126399\n",
      "precision  0.123425\n",
      "accuracy   0.862753\n",
      "best_th: 0.1, fbeta: 0.17575897689182382\n",
      "EarlyStopping counter: 1 out of 16\n",
      "Epoch 5 - avg_train_loss: 0.4308  avg_val_loss: 0.3440  time: 601s\n",
      "Epoch 5 - avgScore: 0.1758\n",
      "valid_mask_gt.shape: (14830, 9506) \n",
      "valid_mask_gt.max: 255 \n",
      "\n"
     ]
    },
    {
     "data": {
      "text/plain": "  0%|          | 0/1199 [00:00<?, ?it/s]",
      "application/vnd.jupyter.widget-view+json": {
       "version_major": 2,
       "version_minor": 0,
       "model_id": "4b4e1cb20db44b3da71dfee9a6351b58"
      }
     },
     "metadata": {},
     "output_type": "display_data"
    },
    {
     "data": {
      "text/plain": "  0%|          | 0/2062 [00:00<?, ?it/s]",
      "application/vnd.jupyter.widget-view+json": {
       "version_major": 2,
       "version_minor": 0,
       "model_id": "6215bdd3a43e4b0c9b613f612ecafcb3"
      }
     },
     "metadata": {},
     "output_type": "display_data"
    },
    {
     "name": "stderr",
     "output_type": "stream",
     "text": [
      "mask_count_min: 0.0\n",
      "Confusion matrix: \n",
      "              P             N\n",
      "P  2.334951e+06  9.990127e+06\n",
      "N  1.457827e+07  1.176537e+08 \n",
      "Rates: \n",
      "              value\n",
      "recall     0.138055\n",
      "precision  0.189447\n",
      "accuracy   0.830044\n",
      "best_th: 0.1, fbeta: 0.25285688855884\n",
      "EarlyStopping counter: 2 out of 16\n",
      "Epoch 5 - avg_train_loss: 0.3813  avg_val_loss: 0.4313  time: 494s\n",
      "Epoch 5 - avgScore: 0.2529\n",
      "valid_mask_gt.shape: (8181, 6330) \n",
      "valid_mask_gt.max: 255 \n",
      "\n"
     ]
    },
    {
     "data": {
      "text/plain": "  0%|          | 0/2611 [00:00<?, ?it/s]",
      "application/vnd.jupyter.widget-view+json": {
       "version_major": 2,
       "version_minor": 0,
       "model_id": "65a3589963714249a0d087a892f92b1a"
      }
     },
     "metadata": {},
     "output_type": "display_data"
    },
    {
     "data": {
      "text/plain": "  0%|          | 0/650 [00:00<?, ?it/s]",
      "application/vnd.jupyter.widget-view+json": {
       "version_major": 2,
       "version_minor": 0,
       "model_id": "45b2dbfeec2948688bb26a92bfe47d5d"
      }
     },
     "metadata": {},
     "output_type": "display_data"
    },
    {
     "name": "stderr",
     "output_type": "stream",
     "text": [
      "mask_count_min: 0.0\n",
      "Confusion matrix: \n",
      "              P             N\n",
      "P  9.517924e+05  3.812947e+06\n",
      "N  4.387572e+06  4.468654e+07 \n",
      "Rates: \n",
      "              value\n",
      "recall     0.178260\n",
      "precision  0.199757\n",
      "accuracy   0.847684\n",
      "best_th: 0.20125, fbeta: 0.3975606354102892\n",
      "Validation score increased (0.258710 --> 0.397561).  Saving model ...\n",
      "Epoch 5 - avg_train_loss: 0.4102  avg_val_loss: 0.4130  time: 594s\n",
      "Epoch 5 - avgScore: 0.3976\n",
      "valid_mask_gt.shape: (7606, 5249) \n",
      "valid_mask_gt.max: 255 \n",
      "\n"
     ]
    },
    {
     "data": {
      "text/plain": "  0%|          | 0/2711 [00:00<?, ?it/s]",
      "application/vnd.jupyter.widget-view+json": {
       "version_major": 2,
       "version_minor": 0,
       "model_id": "a4c3f6021b3a4ac8b05e8490364303af"
      }
     },
     "metadata": {},
     "output_type": "display_data"
    },
    {
     "data": {
      "text/plain": "  0%|          | 0/550 [00:00<?, ?it/s]",
      "application/vnd.jupyter.widget-view+json": {
       "version_major": 2,
       "version_minor": 0,
       "model_id": "f67a43cfd80e4c32b1921cb558247b65"
      }
     },
     "metadata": {},
     "output_type": "display_data"
    },
    {
     "name": "stderr",
     "output_type": "stream",
     "text": [
      "mask_count_min: 0.0\n",
      "Confusion matrix: \n",
      "              P             N\n",
      "P  3.773088e+05  2.681671e+06\n",
      "N  2.795174e+06  3.508946e+07 \n",
      "Rates: \n",
      "              value\n",
      "recall     0.118932\n",
      "precision  0.123345\n",
      "accuracy   0.866234\n",
      "best_th: 0.1, fbeta: 0.1896704910127539\n",
      "EarlyStopping counter: 1 out of 16\n",
      "Epoch 6 - avg_train_loss: 0.4288  avg_val_loss: 0.3448  time: 599s\n",
      "Epoch 6 - avgScore: 0.1897\n",
      "valid_mask_gt.shape: (14830, 9506) \n",
      "valid_mask_gt.max: 255 \n",
      "\n"
     ]
    },
    {
     "data": {
      "text/plain": "  0%|          | 0/1199 [00:00<?, ?it/s]",
      "application/vnd.jupyter.widget-view+json": {
       "version_major": 2,
       "version_minor": 0,
       "model_id": "273aa43baa55457bba1e9c52917eb372"
      }
     },
     "metadata": {},
     "output_type": "display_data"
    },
    {
     "data": {
      "text/plain": "  0%|          | 0/2062 [00:00<?, ?it/s]",
      "application/vnd.jupyter.widget-view+json": {
       "version_major": 2,
       "version_minor": 0,
       "model_id": "bf34e115d4654d1d8a13924b9a676b35"
      }
     },
     "metadata": {},
     "output_type": "display_data"
    },
    {
     "name": "stderr",
     "output_type": "stream",
     "text": [
      "mask_count_min: 0.0\n",
      "Confusion matrix: \n",
      "              P             N\n",
      "P  2.280685e+06  9.638425e+06\n",
      "N  1.463253e+07  1.180054e+08 \n",
      "Rates: \n",
      "              value\n",
      "recall     0.134846\n",
      "precision  0.191347\n",
      "accuracy   0.832101\n",
      "best_th: 0.1, fbeta: 0.2673278368028\n",
      "Validation score increased (0.258710 --> 0.267328).  Saving model ...\n",
      "Epoch 6 - avg_train_loss: 0.3808  avg_val_loss: 0.4323  time: 491s\n",
      "Epoch 6 - avgScore: 0.2673\n",
      "valid_mask_gt.shape: (8181, 6330) \n",
      "valid_mask_gt.max: 255 \n",
      "\n"
     ]
    },
    {
     "data": {
      "text/plain": "  0%|          | 0/2611 [00:00<?, ?it/s]",
      "application/vnd.jupyter.widget-view+json": {
       "version_major": 2,
       "version_minor": 0,
       "model_id": "46a28874be8c4e688c93dc4958e0d50c"
      }
     },
     "metadata": {},
     "output_type": "display_data"
    },
    {
     "data": {
      "text/plain": "  0%|          | 0/650 [00:00<?, ?it/s]",
      "application/vnd.jupyter.widget-view+json": {
       "version_major": 2,
       "version_minor": 0,
       "model_id": "1ff242df98d74a91b58c7fda7a9131ce"
      }
     },
     "metadata": {},
     "output_type": "display_data"
    },
    {
     "name": "stderr",
     "output_type": "stream",
     "text": [
      "mask_count_min: 0.0\n",
      "Confusion matrix: \n",
      "              P             N\n",
      "P  9.589370e+05  3.743383e+06\n",
      "N  4.380427e+06  4.475610e+07 \n",
      "Rates: \n",
      "              value\n",
      "recall     0.179598\n",
      "precision  0.203928\n",
      "accuracy   0.849109\n",
      "best_th: 0.20125, fbeta: 0.41224438433228444\n",
      "Validation score increased (0.258710 --> 0.412244).  Saving model ...\n",
      "Epoch 6 - avg_train_loss: 0.4092  avg_val_loss: 0.4107  time: 594s\n",
      "Epoch 6 - avgScore: 0.4122\n",
      "valid_mask_gt.shape: (7606, 5249) \n",
      "valid_mask_gt.max: 255 \n",
      "\n"
     ]
    },
    {
     "data": {
      "text/plain": "  0%|          | 0/2711 [00:00<?, ?it/s]",
      "application/vnd.jupyter.widget-view+json": {
       "version_major": 2,
       "version_minor": 0,
       "model_id": "83f590ddf723455599a9164ee2643c5e"
      }
     },
     "metadata": {},
     "output_type": "display_data"
    },
    {
     "data": {
      "text/plain": "  0%|          | 0/550 [00:00<?, ?it/s]",
      "application/vnd.jupyter.widget-view+json": {
       "version_major": 2,
       "version_minor": 0,
       "model_id": "949a82550ca841a488a3512e3630f812"
      }
     },
     "metadata": {},
     "output_type": "display_data"
    },
    {
     "name": "stderr",
     "output_type": "stream",
     "text": [
      "mask_count_min: 0.0\n",
      "Confusion matrix: \n",
      "              P             N\n",
      "P  3.547752e+05  2.498062e+06\n",
      "N  2.817708e+06  3.527307e+07 \n",
      "Rates: \n",
      "              value\n",
      "recall     0.111829\n",
      "precision  0.124359\n",
      "accuracy   0.870169\n",
      "best_th: 0.1, fbeta: 0.22436896247553914\n",
      "EarlyStopping counter: 1 out of 16\n",
      "Epoch 7 - avg_train_loss: 0.4269  avg_val_loss: 0.3450  time: 600s\n",
      "Epoch 7 - avgScore: 0.2244\n",
      "valid_mask_gt.shape: (14830, 9506) \n",
      "valid_mask_gt.max: 255 \n",
      "\n"
     ]
    },
    {
     "data": {
      "text/plain": "  0%|          | 0/1199 [00:00<?, ?it/s]",
      "application/vnd.jupyter.widget-view+json": {
       "version_major": 2,
       "version_minor": 0,
       "model_id": "cd50f87cb9284040a90b3185714e9b67"
      }
     },
     "metadata": {},
     "output_type": "display_data"
    },
    {
     "data": {
      "text/plain": "  0%|          | 0/2062 [00:00<?, ?it/s]",
      "application/vnd.jupyter.widget-view+json": {
       "version_major": 2,
       "version_minor": 0,
       "model_id": "6294b32d09464c7cb1ab4f17503823bd"
      }
     },
     "metadata": {},
     "output_type": "display_data"
    },
    {
     "name": "stderr",
     "output_type": "stream",
     "text": [
      "mask_count_min: 0.0\n",
      "Confusion matrix: \n",
      "              P             N\n",
      "P  2.270849e+06  9.363234e+06\n",
      "N  1.464237e+07  1.182806e+08 \n",
      "Rates: \n",
      "              value\n",
      "recall     0.134265\n",
      "precision  0.195189\n",
      "accuracy   0.833937\n",
      "best_th: 0.1, fbeta: 0.280810227929255\n",
      "Validation score increased (0.258710 --> 0.280810).  Saving model ...\n",
      "Epoch 7 - avg_train_loss: 0.3772  avg_val_loss: 0.4313  time: 494s\n",
      "Epoch 7 - avgScore: 0.2808\n",
      "valid_mask_gt.shape: (8181, 6330) \n",
      "valid_mask_gt.max: 255 \n",
      "\n"
     ]
    },
    {
     "data": {
      "text/plain": "  0%|          | 0/2611 [00:00<?, ?it/s]",
      "application/vnd.jupyter.widget-view+json": {
       "version_major": 2,
       "version_minor": 0,
       "model_id": "6bff81bd9e6d4d00942fb3552e4ef5a4"
      }
     },
     "metadata": {},
     "output_type": "display_data"
    },
    {
     "data": {
      "text/plain": "  0%|          | 0/650 [00:00<?, ?it/s]",
      "application/vnd.jupyter.widget-view+json": {
       "version_major": 2,
       "version_minor": 0,
       "model_id": "ebf3ea624a6b4bdea2a83fb155e1981a"
      }
     },
     "metadata": {},
     "output_type": "display_data"
    },
    {
     "name": "stderr",
     "output_type": "stream",
     "text": [
      "mask_count_min: 0.0\n",
      "Confusion matrix: \n",
      "              P             N\n",
      "P  9.068510e+05  3.452772e+06\n",
      "N  4.432513e+06  4.504671e+07 \n",
      "Rates: \n",
      "              value\n",
      "recall     0.169843\n",
      "precision  0.208011\n",
      "accuracy   0.853539\n",
      "best_th: 0.20125, fbeta: 0.41946516149904833\n",
      "Validation score increased (0.258710 --> 0.419465).  Saving model ...\n",
      "Epoch 7 - avg_train_loss: 0.4066  avg_val_loss: 0.4113  time: 595s\n",
      "Epoch 7 - avgScore: 0.4195\n",
      "valid_mask_gt.shape: (7606, 5249) \n",
      "valid_mask_gt.max: 255 \n",
      "\n"
     ]
    },
    {
     "data": {
      "text/plain": "  0%|          | 0/2711 [00:00<?, ?it/s]",
      "application/vnd.jupyter.widget-view+json": {
       "version_major": 2,
       "version_minor": 0,
       "model_id": "9a474d202a4b459896424c60a1a38f3e"
      }
     },
     "metadata": {},
     "output_type": "display_data"
    },
    {
     "data": {
      "text/plain": "  0%|          | 0/550 [00:00<?, ?it/s]",
      "application/vnd.jupyter.widget-view+json": {
       "version_major": 2,
       "version_minor": 0,
       "model_id": "1ccffba7a0fa465db3082db8af860b97"
      }
     },
     "metadata": {},
     "output_type": "display_data"
    },
    {
     "name": "stderr",
     "output_type": "stream",
     "text": [
      "mask_count_min: 0.0\n",
      "best_loss: 0.3438\n",
      "Confusion matrix: \n",
      "              P             N\n",
      "P  3.499535e+05  2.399506e+06\n",
      "N  2.822530e+06  3.537163e+07 \n",
      "Rates: \n",
      "              value\n",
      "recall     0.110309\n",
      "precision  0.127281\n",
      "accuracy   0.872458\n",
      "best_th: 0.1, fbeta: 0.24585698363854014\n",
      "EarlyStopping counter: 1 out of 16\n",
      "Epoch 8 - avg_train_loss: 0.4247  avg_val_loss: 0.3438  time: 601s\n",
      "Epoch 8 - avgScore: 0.2459\n",
      "valid_mask_gt.shape: (14830, 9506) \n",
      "valid_mask_gt.max: 255 \n",
      "\n"
     ]
    },
    {
     "data": {
      "text/plain": "  0%|          | 0/1199 [00:00<?, ?it/s]",
      "application/vnd.jupyter.widget-view+json": {
       "version_major": 2,
       "version_minor": 0,
       "model_id": "7dfff87df18b490295106f691465d237"
      }
     },
     "metadata": {},
     "output_type": "display_data"
    },
    {
     "data": {
      "text/plain": "  0%|          | 0/2062 [00:00<?, ?it/s]",
      "application/vnd.jupyter.widget-view+json": {
       "version_major": 2,
       "version_minor": 0,
       "model_id": "cd65397697d343daa18ca045bc524427"
      }
     },
     "metadata": {},
     "output_type": "display_data"
    },
    {
     "name": "stderr",
     "output_type": "stream",
     "text": [
      "mask_count_min: 0.0\n",
      "Confusion matrix: \n",
      "              P             N\n",
      "P  2.176068e+06  8.633916e+06\n",
      "N  1.473715e+07  1.190099e+08 \n",
      "Rates: \n",
      "              value\n",
      "recall     0.128661\n",
      "precision  0.201302\n",
      "accuracy   0.838326\n",
      "best_th: 0.1, fbeta: 0.3223139379591785\n",
      "Validation score increased (0.258710 --> 0.322314).  Saving model ...\n",
      "Epoch 8 - avg_train_loss: 0.3761  avg_val_loss: 0.4345  time: 494s\n",
      "Epoch 8 - avgScore: 0.3223\n",
      "valid_mask_gt.shape: (8181, 6330) \n",
      "valid_mask_gt.max: 255 \n",
      "\n"
     ]
    },
    {
     "data": {
      "text/plain": "  0%|          | 0/2611 [00:00<?, ?it/s]",
      "application/vnd.jupyter.widget-view+json": {
       "version_major": 2,
       "version_minor": 0,
       "model_id": "c4b783062e13400b9ff38d3ccafe84cb"
      }
     },
     "metadata": {},
     "output_type": "display_data"
    },
    {
     "data": {
      "text/plain": "  0%|          | 0/650 [00:00<?, ?it/s]",
      "application/vnd.jupyter.widget-view+json": {
       "version_major": 2,
       "version_minor": 0,
       "model_id": "c0d983b798e4406f9dca01b153f5125d"
      }
     },
     "metadata": {},
     "output_type": "display_data"
    },
    {
     "name": "stderr",
     "output_type": "stream",
     "text": [
      "mask_count_min: 0.0\n",
      "Confusion matrix: \n",
      "              P             N\n",
      "P  1.063934e+06  3.713133e+06\n",
      "N  4.275430e+06  4.478635e+07 \n",
      "Rates: \n",
      "              value\n",
      "recall     0.199262\n",
      "precision  0.222717\n",
      "accuracy   0.851621\n",
      "best_th: 0.20125, fbeta: 0.429774325384927\n",
      "Validation score increased (0.258710 --> 0.429774).  Saving model ...\n",
      "Epoch 8 - avg_train_loss: 0.4039  avg_val_loss: 0.4008  time: 596s\n",
      "Epoch 8 - avgScore: 0.4298\n",
      "valid_mask_gt.shape: (7606, 5249) \n",
      "valid_mask_gt.max: 255 \n",
      "\n"
     ]
    },
    {
     "data": {
      "text/plain": "  0%|          | 0/2711 [00:00<?, ?it/s]",
      "application/vnd.jupyter.widget-view+json": {
       "version_major": 2,
       "version_minor": 0,
       "model_id": "f378daebc1974492b258f7bbd15aa992"
      }
     },
     "metadata": {},
     "output_type": "display_data"
    },
    {
     "data": {
      "text/plain": "  0%|          | 0/550 [00:00<?, ?it/s]",
      "application/vnd.jupyter.widget-view+json": {
       "version_major": 2,
       "version_minor": 0,
       "model_id": "76a214b255ce4d4698026aab372f78a7"
      }
     },
     "metadata": {},
     "output_type": "display_data"
    },
    {
     "name": "stderr",
     "output_type": "stream",
     "text": [
      "mask_count_min: 0.0\n",
      "Confusion matrix: \n",
      "              P             N\n",
      "P  3.337265e+05  2.228852e+06\n",
      "N  2.838757e+06  3.554228e+07 \n",
      "Rates: \n",
      "              value\n",
      "recall     0.105194\n",
      "precision  0.130231\n",
      "accuracy   0.876230\n",
      "best_th: 0.1, fbeta: 0.27991944584251954\n",
      "Validation score increased (0.258710 --> 0.279919).  Saving model ...\n",
      "Epoch 9 - avg_train_loss: 0.4237  avg_val_loss: 0.3442  time: 603s\n",
      "Epoch 9 - avgScore: 0.2799\n",
      "valid_mask_gt.shape: (14830, 9506) \n",
      "valid_mask_gt.max: 255 \n",
      "\n"
     ]
    },
    {
     "data": {
      "text/plain": "  0%|          | 0/1199 [00:00<?, ?it/s]",
      "application/vnd.jupyter.widget-view+json": {
       "version_major": 2,
       "version_minor": 0,
       "model_id": "9a65ebe08c2a44eeadbeebddad836489"
      }
     },
     "metadata": {},
     "output_type": "display_data"
    },
    {
     "data": {
      "text/plain": "  0%|          | 0/2062 [00:00<?, ?it/s]",
      "application/vnd.jupyter.widget-view+json": {
       "version_major": 2,
       "version_minor": 0,
       "model_id": "25da48f932434d07a1c5e6dbf05ac4f8"
      }
     },
     "metadata": {},
     "output_type": "display_data"
    },
    {
     "name": "stderr",
     "output_type": "stream",
     "text": [
      "mask_count_min: 0.0\n",
      "Confusion matrix: \n",
      "              P             N\n",
      "P  2.141235e+06  8.232083e+06\n",
      "N  1.477198e+07  1.194118e+08 \n",
      "Rates: \n",
      "              value\n",
      "recall     0.126601\n",
      "precision  0.206418\n",
      "accuracy   0.840865\n",
      "best_th: 0.1, fbeta: 0.3436177943346268\n",
      "Validation score increased (0.258710 --> 0.343618).  Saving model ...\n",
      "Epoch 9 - avg_train_loss: 0.3729  avg_val_loss: 0.4351  time: 493s\n",
      "Epoch 9 - avgScore: 0.3436\n",
      "valid_mask_gt.shape: (8181, 6330) \n",
      "valid_mask_gt.max: 255 \n",
      "\n"
     ]
    },
    {
     "data": {
      "text/plain": "  0%|          | 0/2611 [00:00<?, ?it/s]",
      "application/vnd.jupyter.widget-view+json": {
       "version_major": 2,
       "version_minor": 0,
       "model_id": "65b7535011364fffa5e5c7fc4af09004"
      }
     },
     "metadata": {},
     "output_type": "display_data"
    },
    {
     "data": {
      "text/plain": "  0%|          | 0/650 [00:00<?, ?it/s]",
      "application/vnd.jupyter.widget-view+json": {
       "version_major": 2,
       "version_minor": 0,
       "model_id": "f55f9b86fd384cb9a29171cc6a2121bd"
      }
     },
     "metadata": {},
     "output_type": "display_data"
    },
    {
     "name": "stderr",
     "output_type": "stream",
     "text": [
      "mask_count_min: 0.0\n",
      "Confusion matrix: \n",
      "              P             N\n",
      "P  8.936788e+05  3.112334e+06\n",
      "N  4.445685e+06  4.538715e+07 \n",
      "Rates: \n",
      "              value\n",
      "recall     0.167376\n",
      "precision  0.223084\n",
      "accuracy   0.859618\n",
      "best_th: 0.20125, fbeta: 0.44003282328401266\n",
      "Validation score increased (0.258710 --> 0.440033).  Saving model ...\n",
      "Epoch 9 - avg_train_loss: 0.4018  avg_val_loss: 0.4093  time: 598s\n",
      "Epoch 9 - avgScore: 0.4400\n",
      "valid_mask_gt.shape: (7606, 5249) \n",
      "valid_mask_gt.max: 255 \n",
      "\n"
     ]
    },
    {
     "data": {
      "text/plain": "  0%|          | 0/2711 [00:00<?, ?it/s]",
      "application/vnd.jupyter.widget-view+json": {
       "version_major": 2,
       "version_minor": 0,
       "model_id": "70bfa3d4485d43198c30a33c65078e9b"
      }
     },
     "metadata": {},
     "output_type": "display_data"
    },
    {
     "data": {
      "text/plain": "  0%|          | 0/550 [00:00<?, ?it/s]",
      "application/vnd.jupyter.widget-view+json": {
       "version_major": 2,
       "version_minor": 0,
       "model_id": "43a82a10367540e9a985c269cc13882d"
      }
     },
     "metadata": {},
     "output_type": "display_data"
    },
    {
     "name": "stderr",
     "output_type": "stream",
     "text": [
      "mask_count_min: 0.0\n",
      "Confusion matrix: \n",
      "              P             N\n",
      "P  3.144483e+05  2.085666e+06\n",
      "N  2.858035e+06  3.568547e+07 \n",
      "Rates: \n",
      "              value\n",
      "recall     0.099117\n",
      "precision  0.131014\n",
      "accuracy   0.879256\n",
      "best_th: 0.1, fbeta: 0.31678957865832885\n",
      "Validation score increased (0.258710 --> 0.316790).  Saving model ...\n",
      "Epoch 10 - avg_train_loss: 0.4198  avg_val_loss: 0.3456  time: 603s\n",
      "Epoch 10 - avgScore: 0.3168\n",
      "valid_mask_gt.shape: (14830, 9506) \n",
      "valid_mask_gt.max: 255 \n",
      "\n"
     ]
    },
    {
     "data": {
      "text/plain": "  0%|          | 0/1199 [00:00<?, ?it/s]",
      "application/vnd.jupyter.widget-view+json": {
       "version_major": 2,
       "version_minor": 0,
       "model_id": "fd1c9fe17194469aaff2ad9ab69dd63d"
      }
     },
     "metadata": {},
     "output_type": "display_data"
    },
    {
     "data": {
      "text/plain": "  0%|          | 0/2062 [00:00<?, ?it/s]",
      "application/vnd.jupyter.widget-view+json": {
       "version_major": 2,
       "version_minor": 0,
       "model_id": "79b0717d3d574d009a62bc783f7f6eaf"
      }
     },
     "metadata": {},
     "output_type": "display_data"
    },
    {
     "name": "stderr",
     "output_type": "stream",
     "text": [
      "mask_count_min: 0.0\n",
      "Confusion matrix: \n",
      "              P             N\n",
      "P  2.170264e+06  8.085357e+06\n",
      "N  1.474295e+07  1.195585e+08 \n",
      "Rates: \n",
      "              value\n",
      "recall     0.128318\n",
      "precision  0.211617\n",
      "accuracy   0.842081\n",
      "best_th: 0.1, fbeta: 0.35030907164629627\n",
      "Validation score increased (0.258710 --> 0.350309).  Saving model ...\n",
      "Epoch 10 - avg_train_loss: 0.3707  avg_val_loss: 0.4338  time: 494s\n",
      "Epoch 10 - avgScore: 0.3503\n",
      "valid_mask_gt.shape: (8181, 6330) \n",
      "valid_mask_gt.max: 255 \n",
      "\n"
     ]
    },
    {
     "data": {
      "text/plain": "  0%|          | 0/2611 [00:00<?, ?it/s]",
      "application/vnd.jupyter.widget-view+json": {
       "version_major": 2,
       "version_minor": 0,
       "model_id": "5f57fb1d5899465fb680f45a2767748b"
      }
     },
     "metadata": {},
     "output_type": "display_data"
    },
    {
     "data": {
      "text/plain": "  0%|          | 0/650 [00:00<?, ?it/s]",
      "application/vnd.jupyter.widget-view+json": {
       "version_major": 2,
       "version_minor": 0,
       "model_id": "9b9dcda192674eeb8b2debd8e9a13e79"
      }
     },
     "metadata": {},
     "output_type": "display_data"
    },
    {
     "name": "stderr",
     "output_type": "stream",
     "text": [
      "mask_count_min: 0.0\n",
      "Confusion matrix: \n",
      "              P             N\n",
      "P  9.741023e+05  3.285344e+06\n",
      "N  4.365262e+06  4.521414e+07 \n",
      "Rates: \n",
      "              value\n",
      "recall     0.182438\n",
      "precision  0.228692\n",
      "accuracy   0.857898\n",
      "best_th: 0.20125, fbeta: 0.4393859273366317\n",
      "Validation score increased (0.258710 --> 0.439386).  Saving model ...\n",
      "Epoch 10 - avg_train_loss: 0.3984  avg_val_loss: 0.4031  time: 596s\n",
      "Epoch 10 - avgScore: 0.4394\n",
      "valid_mask_gt.shape: (7606, 5249) \n",
      "valid_mask_gt.max: 255 \n",
      "\n"
     ]
    },
    {
     "data": {
      "text/plain": "  0%|          | 0/2711 [00:00<?, ?it/s]",
      "application/vnd.jupyter.widget-view+json": {
       "version_major": 2,
       "version_minor": 0,
       "model_id": "596fb6e124d24a8c9c560b786b2c0a90"
      }
     },
     "metadata": {},
     "output_type": "display_data"
    },
    {
     "data": {
      "text/plain": "  0%|          | 0/550 [00:00<?, ?it/s]",
      "application/vnd.jupyter.widget-view+json": {
       "version_major": 2,
       "version_minor": 0,
       "model_id": "c6ff47d0f47642139618e3e06c6cdcf4"
      }
     },
     "metadata": {},
     "output_type": "display_data"
    },
    {
     "name": "stderr",
     "output_type": "stream",
     "text": [
      "mask_count_min: 0.0\n",
      "best_loss: 0.3373\n",
      "Confusion matrix: \n",
      "              P             N\n",
      "P  3.609368e+05  2.141381e+06\n",
      "N  2.811546e+06  3.562975e+07 \n",
      "Rates: \n",
      "              value\n",
      "recall     0.113771\n",
      "precision  0.144241\n",
      "accuracy   0.879031\n",
      "best_th: 0.1, fbeta: 0.3074768832477965\n",
      "Validation score increased (0.258710 --> 0.307477).  Saving model ...\n",
      "Epoch 11 - avg_train_loss: 0.4188  avg_val_loss: 0.3373  time: 605s\n",
      "Epoch 11 - avgScore: 0.3075\n",
      "valid_mask_gt.shape: (14830, 9506) \n",
      "valid_mask_gt.max: 255 \n",
      "\n"
     ]
    },
    {
     "data": {
      "text/plain": "  0%|          | 0/1199 [00:00<?, ?it/s]",
      "application/vnd.jupyter.widget-view+json": {
       "version_major": 2,
       "version_minor": 0,
       "model_id": "749a4b0ce66343e19c015db044fe526c"
      }
     },
     "metadata": {},
     "output_type": "display_data"
    },
    {
     "data": {
      "text/plain": "  0%|          | 0/2062 [00:00<?, ?it/s]",
      "application/vnd.jupyter.widget-view+json": {
       "version_major": 2,
       "version_minor": 0,
       "model_id": "7fb32a5765ce4ac1b52dc689048a06cd"
      }
     },
     "metadata": {},
     "output_type": "display_data"
    },
    {
     "name": "stderr",
     "output_type": "stream",
     "text": [
      "mask_count_min: 0.0\n",
      "Confusion matrix: \n",
      "              P             N\n",
      "P  2.168238e+06  7.694317e+06\n",
      "N  1.474498e+07  1.199495e+08 \n",
      "Rates: \n",
      "              value\n",
      "recall     0.128198\n",
      "precision  0.219845\n",
      "accuracy   0.844772\n",
      "best_th: 0.1, fbeta: 0.3671760401835546\n",
      "Validation score increased (0.258710 --> 0.367176).  Saving model ...\n",
      "Epoch 11 - avg_train_loss: 0.3690  avg_val_loss: 0.4344  time: 494s\n",
      "Epoch 11 - avgScore: 0.3672\n",
      "valid_mask_gt.shape: (8181, 6330) \n",
      "valid_mask_gt.max: 255 \n",
      "\n"
     ]
    },
    {
     "data": {
      "text/plain": "  0%|          | 0/2611 [00:00<?, ?it/s]",
      "application/vnd.jupyter.widget-view+json": {
       "version_major": 2,
       "version_minor": 0,
       "model_id": "3059fa96856f457eba387002b186b8a9"
      }
     },
     "metadata": {},
     "output_type": "display_data"
    },
    {
     "data": {
      "text/plain": "  0%|          | 0/650 [00:00<?, ?it/s]",
      "application/vnd.jupyter.widget-view+json": {
       "version_major": 2,
       "version_minor": 0,
       "model_id": "777e99e5c785453892fac4124875201f"
      }
     },
     "metadata": {},
     "output_type": "display_data"
    },
    {
     "name": "stderr",
     "output_type": "stream",
     "text": [
      "mask_count_min: 0.0\n",
      "Confusion matrix: \n",
      "              P             N\n",
      "P  9.693213e+05  3.167581e+06\n",
      "N  4.370043e+06  4.533190e+07 \n",
      "Rates: \n",
      "              value\n",
      "recall     0.181542\n",
      "precision  0.234311\n",
      "accuracy   0.859997\n",
      "best_th: 0.20125, fbeta: 0.4490414492555718\n",
      "Validation score increased (0.258710 --> 0.449041).  Saving model ...\n",
      "Epoch 11 - avg_train_loss: 0.3975  avg_val_loss: 0.4017  time: 599s\n",
      "Epoch 11 - avgScore: 0.4490\n",
      "valid_mask_gt.shape: (7606, 5249) \n",
      "valid_mask_gt.max: 255 \n",
      "\n"
     ]
    },
    {
     "data": {
      "text/plain": "  0%|          | 0/2711 [00:00<?, ?it/s]",
      "application/vnd.jupyter.widget-view+json": {
       "version_major": 2,
       "version_minor": 0,
       "model_id": "fa9a37480218414bad8b57a5ac901f23"
      }
     },
     "metadata": {},
     "output_type": "display_data"
    },
    {
     "data": {
      "text/plain": "  0%|          | 0/550 [00:00<?, ?it/s]",
      "application/vnd.jupyter.widget-view+json": {
       "version_major": 2,
       "version_minor": 0,
       "model_id": "e2effab2fcca401b87cf5128e6259d29"
      }
     },
     "metadata": {},
     "output_type": "display_data"
    },
    {
     "name": "stderr",
     "output_type": "stream",
     "text": [
      "mask_count_min: 0.0\n",
      "Confusion matrix: \n",
      "              P             N\n",
      "P  2.961136e+05  1.876553e+06\n",
      "N  2.876369e+06  3.589458e+07 \n",
      "Rates: \n",
      "              value\n",
      "recall     0.093338\n",
      "precision  0.136290\n",
      "accuracy   0.883915\n",
      "best_th: 0.1, fbeta: 0.35091340472686566\n",
      "Validation score increased (0.258710 --> 0.350913).  Saving model ...\n",
      "Epoch 12 - avg_train_loss: 0.4157  avg_val_loss: 0.3471  time: 606s\n",
      "Epoch 12 - avgScore: 0.3509\n",
      "valid_mask_gt.shape: (14830, 9506) \n",
      "valid_mask_gt.max: 255 \n",
      "\n"
     ]
    },
    {
     "data": {
      "text/plain": "  0%|          | 0/1199 [00:00<?, ?it/s]",
      "application/vnd.jupyter.widget-view+json": {
       "version_major": 2,
       "version_minor": 0,
       "model_id": "f0093ee28b8645569771c3b213b47e11"
      }
     },
     "metadata": {},
     "output_type": "display_data"
    },
    {
     "data": {
      "text/plain": "  0%|          | 0/2062 [00:00<?, ?it/s]",
      "application/vnd.jupyter.widget-view+json": {
       "version_major": 2,
       "version_minor": 0,
       "model_id": "aefea7308b734bcaae2019d7ede4d62e"
      }
     },
     "metadata": {},
     "output_type": "display_data"
    },
    {
     "name": "stderr",
     "output_type": "stream",
     "text": [
      "mask_count_min: 0.0\n",
      "Confusion matrix: \n",
      "              P             N\n",
      "P  1.965809e+06  7.082240e+06\n",
      "N  1.494741e+07  1.205616e+08 \n",
      "Rates: \n",
      "              value\n",
      "recall     0.116229\n",
      "precision  0.217263\n",
      "accuracy   0.847606\n",
      "best_th: 0.1, fbeta: 0.3933918802044049\n",
      "Validation score increased (0.258710 --> 0.393392).  Saving model ...\n",
      "Epoch 12 - avg_train_loss: 0.3663  avg_val_loss: 0.4411  time: 498s\n",
      "Epoch 12 - avgScore: 0.3934\n",
      "valid_mask_gt.shape: (8181, 6330) \n",
      "valid_mask_gt.max: 255 \n",
      "\n"
     ]
    },
    {
     "data": {
      "text/plain": "  0%|          | 0/2611 [00:00<?, ?it/s]",
      "application/vnd.jupyter.widget-view+json": {
       "version_major": 2,
       "version_minor": 0,
       "model_id": "1ef1fbe748804407a36244f2ad95c842"
      }
     },
     "metadata": {},
     "output_type": "display_data"
    },
    {
     "data": {
      "text/plain": "  0%|          | 0/650 [00:00<?, ?it/s]",
      "application/vnd.jupyter.widget-view+json": {
       "version_major": 2,
       "version_minor": 0,
       "model_id": "da0cfda1fd47473081f04bfef8d50a5f"
      }
     },
     "metadata": {},
     "output_type": "display_data"
    },
    {
     "name": "stderr",
     "output_type": "stream",
     "text": [
      "mask_count_min: 0.0\n",
      "Confusion matrix: \n",
      "              P             N\n",
      "P  8.995429e+05  2.913083e+06\n",
      "N  4.439821e+06  4.558640e+07 \n",
      "Rates: \n",
      "              value\n",
      "recall     0.168474\n",
      "precision  0.235938\n",
      "accuracy   0.863428\n",
      "best_th: 0.20125, fbeta: 0.454355981490003\n",
      "Validation score increased (0.258710 --> 0.454356).  Saving model ...\n",
      "Epoch 12 - avg_train_loss: 0.3957  avg_val_loss: 0.4055  time: 600s\n",
      "Epoch 12 - avgScore: 0.4544\n",
      "valid_mask_gt.shape: (7606, 5249) \n",
      "valid_mask_gt.max: 255 \n",
      "\n"
     ]
    },
    {
     "data": {
      "text/plain": "  0%|          | 0/2711 [00:00<?, ?it/s]",
      "application/vnd.jupyter.widget-view+json": {
       "version_major": 2,
       "version_minor": 0,
       "model_id": "51779cab1624410c9304d8125021fcdf"
      }
     },
     "metadata": {},
     "output_type": "display_data"
    },
    {
     "data": {
      "text/plain": "  0%|          | 0/550 [00:00<?, ?it/s]",
      "application/vnd.jupyter.widget-view+json": {
       "version_major": 2,
       "version_minor": 0,
       "model_id": "f8ad0b073a974b4798c576044702782d"
      }
     },
     "metadata": {},
     "output_type": "display_data"
    },
    {
     "name": "stderr",
     "output_type": "stream",
     "text": [
      "mask_count_min: 0.0\n",
      "Confusion matrix: \n",
      "              P             N\n",
      "P  2.475780e+05  1.658175e+06\n",
      "N  2.924905e+06  3.611296e+07 \n",
      "Rates: \n",
      "              value\n",
      "recall     0.078039\n",
      "precision  0.129911\n",
      "accuracy   0.888064\n",
      "best_th: 0.1, fbeta: 0.269293155228797\n",
      "Validation score increased (0.258710 --> 0.269293).  Saving model ...\n",
      "Epoch 13 - avg_train_loss: 0.4135  avg_val_loss: 0.3583  time: 606s\n",
      "Epoch 13 - avgScore: 0.2693\n",
      "valid_mask_gt.shape: (14830, 9506) \n",
      "valid_mask_gt.max: 255 \n",
      "\n"
     ]
    },
    {
     "data": {
      "text/plain": "  0%|          | 0/1199 [00:00<?, ?it/s]",
      "application/vnd.jupyter.widget-view+json": {
       "version_major": 2,
       "version_minor": 0,
       "model_id": "37300218c77945b18dd6af5602d7f421"
      }
     },
     "metadata": {},
     "output_type": "display_data"
    },
    {
     "data": {
      "text/plain": "  0%|          | 0/2062 [00:00<?, ?it/s]",
      "application/vnd.jupyter.widget-view+json": {
       "version_major": 2,
       "version_minor": 0,
       "model_id": "b8081ac07ad746e5a1582327a52355fa"
      }
     },
     "metadata": {},
     "output_type": "display_data"
    },
    {
     "name": "stderr",
     "output_type": "stream",
     "text": [
      "mask_count_min: 0.0\n",
      "Confusion matrix: \n",
      "              P             N\n",
      "P  1.743001e+06  6.418749e+06\n",
      "N  1.517022e+07  1.212251e+08 \n",
      "Rates: \n",
      "              value\n",
      "recall     0.103056\n",
      "precision  0.213557\n",
      "accuracy   0.850654\n",
      "best_th: 0.1, fbeta: 0.41719582011281414\n",
      "Validation score increased (0.258710 --> 0.417196).  Saving model ...\n",
      "Epoch 13 - avg_train_loss: 0.3647  avg_val_loss: 0.4520  time: 499s\n",
      "Epoch 13 - avgScore: 0.4172\n",
      "valid_mask_gt.shape: (8181, 6330) \n",
      "valid_mask_gt.max: 255 \n",
      "\n"
     ]
    },
    {
     "data": {
      "text/plain": "  0%|          | 0/2611 [00:00<?, ?it/s]",
      "application/vnd.jupyter.widget-view+json": {
       "version_major": 2,
       "version_minor": 0,
       "model_id": "3e222e7e7a884000af8c5a7a31135155"
      }
     },
     "metadata": {},
     "output_type": "display_data"
    },
    {
     "data": {
      "text/plain": "  0%|          | 0/650 [00:00<?, ?it/s]",
      "application/vnd.jupyter.widget-view+json": {
       "version_major": 2,
       "version_minor": 0,
       "model_id": "5f011666cb52457db1a4ebb28a77bea0"
      }
     },
     "metadata": {},
     "output_type": "display_data"
    },
    {
     "name": "stderr",
     "output_type": "stream",
     "text": [
      "mask_count_min: 0.0\n",
      "Confusion matrix: \n",
      "              P             N\n",
      "P  7.092794e+05  2.367967e+06\n",
      "N  4.630085e+06  4.613152e+07 \n",
      "Rates: \n",
      "              value\n",
      "recall     0.132840\n",
      "precision  0.230492\n",
      "accuracy   0.870019\n",
      "best_th: 0.1, fbeta: 0.3828856127015711\n",
      "Validation score increased (0.258710 --> 0.382886).  Saving model ...\n",
      "Epoch 13 - avg_train_loss: 0.3931  avg_val_loss: 0.4242  time: 599s\n",
      "Epoch 13 - avgScore: 0.3829\n",
      "valid_mask_gt.shape: (7606, 5249) \n",
      "valid_mask_gt.max: 255 \n",
      "\n"
     ]
    },
    {
     "data": {
      "text/plain": "  0%|          | 0/2711 [00:00<?, ?it/s]",
      "application/vnd.jupyter.widget-view+json": {
       "version_major": 2,
       "version_minor": 0,
       "model_id": "a0f43db280f14a9ab19be89e59ae9aa4"
      }
     },
     "metadata": {},
     "output_type": "display_data"
    },
    {
     "data": {
      "text/plain": "  0%|          | 0/550 [00:00<?, ?it/s]",
      "application/vnd.jupyter.widget-view+json": {
       "version_major": 2,
       "version_minor": 0,
       "model_id": "21dc65e36c8c44b7b3a81d8c5564cb2b"
      }
     },
     "metadata": {},
     "output_type": "display_data"
    },
    {
     "name": "stderr",
     "output_type": "stream",
     "text": [
      "mask_count_min: 0.0\n",
      "Confusion matrix: \n",
      "              P             N\n",
      "P  2.544947e+05  1.605184e+06\n",
      "N  2.917988e+06  3.616595e+07 \n",
      "Rates: \n",
      "              value\n",
      "recall     0.080219\n",
      "precision  0.136849\n",
      "accuracy   0.889527\n",
      "best_th: 0.1, fbeta: 0.32054284869406224\n",
      "Validation score increased (0.258710 --> 0.320543).  Saving model ...\n",
      "Epoch 14 - avg_train_loss: 0.4095  avg_val_loss: 0.3558  time: 608s\n",
      "Epoch 14 - avgScore: 0.3205\n",
      "valid_mask_gt.shape: (14830, 9506) \n",
      "valid_mask_gt.max: 255 \n",
      "\n"
     ]
    },
    {
     "data": {
      "text/plain": "  0%|          | 0/1199 [00:00<?, ?it/s]",
      "application/vnd.jupyter.widget-view+json": {
       "version_major": 2,
       "version_minor": 0,
       "model_id": "3e2ce109da6c4cd8ad8668f25949258a"
      }
     },
     "metadata": {},
     "output_type": "display_data"
    },
    {
     "data": {
      "text/plain": "  0%|          | 0/2062 [00:00<?, ?it/s]",
      "application/vnd.jupyter.widget-view+json": {
       "version_major": 2,
       "version_minor": 0,
       "model_id": "a457b9c87cef42e7a46e9e7ef83659b4"
      }
     },
     "metadata": {},
     "output_type": "display_data"
    },
    {
     "name": "stderr",
     "output_type": "stream",
     "text": [
      "mask_count_min: 0.0\n",
      "Confusion matrix: \n",
      "              P             N\n",
      "P  1.504500e+06  5.577856e+06\n",
      "N  1.540872e+07  1.220660e+08 \n",
      "Rates: \n",
      "              value\n",
      "recall     0.088954\n",
      "precision  0.212429\n",
      "accuracy   0.854822\n",
      "best_th: 0.1, fbeta: 0.4337861810608464\n",
      "Validation score increased (0.258710 --> 0.433786).  Saving model ...\n",
      "Epoch 14 - avg_train_loss: 0.3616  avg_val_loss: 0.4670  time: 496s\n",
      "Epoch 14 - avgScore: 0.4338\n",
      "valid_mask_gt.shape: (8181, 6330) \n",
      "valid_mask_gt.max: 255 \n",
      "\n"
     ]
    },
    {
     "data": {
      "text/plain": "  0%|          | 0/2611 [00:00<?, ?it/s]",
      "application/vnd.jupyter.widget-view+json": {
       "version_major": 2,
       "version_minor": 0,
       "model_id": "a794160862a4498d8912091440b317eb"
      }
     },
     "metadata": {},
     "output_type": "display_data"
    },
    {
     "data": {
      "text/plain": "  0%|          | 0/650 [00:00<?, ?it/s]",
      "application/vnd.jupyter.widget-view+json": {
       "version_major": 2,
       "version_minor": 0,
       "model_id": "09fe6994868a4af8b786fbe9bbb66681"
      }
     },
     "metadata": {},
     "output_type": "display_data"
    },
    {
     "name": "stderr",
     "output_type": "stream",
     "text": [
      "mask_count_min: 0.0\n",
      "Confusion matrix: \n",
      "              P             N\n",
      "P  7.042003e+05  2.325975e+06\n",
      "N  4.635164e+06  4.617351e+07 \n",
      "Rates: \n",
      "              value\n",
      "recall     0.131888\n",
      "precision  0.232396\n",
      "accuracy   0.870704\n",
      "best_th: 0.1, fbeta: 0.39087594801622466\n",
      "Validation score increased (0.258710 --> 0.390876).  Saving model ...\n",
      "Epoch 14 - avg_train_loss: 0.3895  avg_val_loss: 0.4251  time: 603s\n",
      "Epoch 14 - avgScore: 0.3909\n",
      "valid_mask_gt.shape: (7606, 5249) \n",
      "valid_mask_gt.max: 255 \n",
      "\n"
     ]
    },
    {
     "data": {
      "text/plain": "  0%|          | 0/2711 [00:00<?, ?it/s]",
      "application/vnd.jupyter.widget-view+json": {
       "version_major": 2,
       "version_minor": 0,
       "model_id": "fd4c27c5a5884b6a8cf66a02b767a8df"
      }
     },
     "metadata": {},
     "output_type": "display_data"
    },
    {
     "data": {
      "text/plain": "  0%|          | 0/550 [00:00<?, ?it/s]",
      "application/vnd.jupyter.widget-view+json": {
       "version_major": 2,
       "version_minor": 0,
       "model_id": "64e256b79dd24275a4e1c3e4663ca200"
      }
     },
     "metadata": {},
     "output_type": "display_data"
    },
    {
     "name": "stderr",
     "output_type": "stream",
     "text": [
      "mask_count_min: 0.0\n",
      "Confusion matrix: \n",
      "              P             N\n",
      "P  2.252671e+05  1.462500e+06\n",
      "N  2.947216e+06  3.630863e+07 \n",
      "Rates: \n",
      "              value\n",
      "recall     0.071007\n",
      "precision  0.133470\n",
      "accuracy   0.892298\n",
      "best_th: 0.1, fbeta: 0.24971399919052\n",
      "EarlyStopping counter: 1 out of 16\n",
      "Epoch 15 - avg_train_loss: 0.4071  avg_val_loss: 0.3649  time: 610s\n",
      "Epoch 15 - avgScore: 0.2497\n",
      "valid_mask_gt.shape: (14830, 9506) \n",
      "valid_mask_gt.max: 255 \n",
      "\n"
     ]
    },
    {
     "data": {
      "text/plain": "  0%|          | 0/1199 [00:00<?, ?it/s]",
      "application/vnd.jupyter.widget-view+json": {
       "version_major": 2,
       "version_minor": 0,
       "model_id": "fc7a6fe3e44f4eec89ab98efd5abfbfe"
      }
     },
     "metadata": {},
     "output_type": "display_data"
    },
    {
     "data": {
      "text/plain": "  0%|          | 0/2062 [00:00<?, ?it/s]",
      "application/vnd.jupyter.widget-view+json": {
       "version_major": 2,
       "version_minor": 0,
       "model_id": "f3dc6ff671c74b77996842c01fd4d9ae"
      }
     },
     "metadata": {},
     "output_type": "display_data"
    },
    {
     "name": "stderr",
     "output_type": "stream",
     "text": [
      "mask_count_min: 0.0\n",
      "Confusion matrix: \n",
      "              P             N\n",
      "P  1.322143e+06  5.065327e+06\n",
      "N  1.559107e+07  1.225785e+08 \n",
      "Rates: \n",
      "              value\n",
      "recall     0.078172\n",
      "precision  0.206990\n",
      "accuracy   0.857106\n",
      "best_th: 0.1, fbeta: 0.4022582340769436\n",
      "Validation score increased (0.258710 --> 0.402258).  Saving model ...\n",
      "Epoch 15 - avg_train_loss: 0.3597  avg_val_loss: 0.4812  time: 501s\n",
      "Epoch 15 - avgScore: 0.4023\n",
      "valid_mask_gt.shape: (8181, 6330) \n",
      "valid_mask_gt.max: 255 \n",
      "\n"
     ]
    },
    {
     "data": {
      "text/plain": "  0%|          | 0/2611 [00:00<?, ?it/s]",
      "application/vnd.jupyter.widget-view+json": {
       "version_major": 2,
       "version_minor": 0,
       "model_id": "2af35b9470eb4432a7cd387b5dd4d703"
      }
     },
     "metadata": {},
     "output_type": "display_data"
    },
    {
     "data": {
      "text/plain": "  0%|          | 0/650 [00:00<?, ?it/s]",
      "application/vnd.jupyter.widget-view+json": {
       "version_major": 2,
       "version_minor": 0,
       "model_id": "036211db78e14d77a80736f17b84c2b0"
      }
     },
     "metadata": {},
     "output_type": "display_data"
    },
    {
     "name": "stderr",
     "output_type": "stream",
     "text": [
      "mask_count_min: 0.0\n",
      "Confusion matrix: \n",
      "              P             N\n",
      "P  7.448094e+05  2.341234e+06\n",
      "N  4.594555e+06  4.615825e+07 \n",
      "Rates: \n",
      "              value\n",
      "recall     0.139494\n",
      "precision  0.241348\n",
      "accuracy   0.871175\n",
      "best_th: 0.20125, fbeta: 0.41754759476475584\n",
      "Validation score increased (0.258710 --> 0.417548).  Saving model ...\n",
      "Epoch 15 - avg_train_loss: 0.3868  avg_val_loss: 0.4205  time: 604s\n",
      "Epoch 15 - avgScore: 0.4175\n",
      "valid_mask_gt.shape: (7606, 5249) \n",
      "valid_mask_gt.max: 255 \n",
      "\n"
     ]
    },
    {
     "data": {
      "text/plain": "  0%|          | 0/2711 [00:00<?, ?it/s]",
      "application/vnd.jupyter.widget-view+json": {
       "version_major": 2,
       "version_minor": 0,
       "model_id": "b83b692d23984e49b2062db60b182132"
      }
     },
     "metadata": {},
     "output_type": "display_data"
    },
    {
     "data": {
      "text/plain": "  0%|          | 0/550 [00:00<?, ?it/s]",
      "application/vnd.jupyter.widget-view+json": {
       "version_major": 2,
       "version_minor": 0,
       "model_id": "92bb555e3f64443bb5f399d9666f24ee"
      }
     },
     "metadata": {},
     "output_type": "display_data"
    },
    {
     "name": "stderr",
     "output_type": "stream",
     "text": [
      "mask_count_min: 0.0\n",
      "Confusion matrix: \n",
      "              P             N\n",
      "P  2.349457e+05  1.465368e+06\n",
      "N  2.937537e+06  3.630577e+07 \n",
      "Rates: \n",
      "              value\n",
      "recall     0.074057\n",
      "precision  0.138178\n",
      "accuracy   0.892464\n",
      "best_th: 0.1, fbeta: 0.28688369374874534\n",
      "Validation score increased (0.258710 --> 0.286884).  Saving model ...\n",
      "Epoch 16 - avg_train_loss: 0.4037  avg_val_loss: 0.3617  time: 609s\n",
      "Epoch 16 - avgScore: 0.2869\n",
      "valid_mask_gt.shape: (14830, 9506) \n",
      "valid_mask_gt.max: 255 \n",
      "\n"
     ]
    },
    {
     "data": {
      "text/plain": "  0%|          | 0/1199 [00:00<?, ?it/s]",
      "application/vnd.jupyter.widget-view+json": {
       "version_major": 2,
       "version_minor": 0,
       "model_id": "062418039ef14195b25430af959d973c"
      }
     },
     "metadata": {},
     "output_type": "display_data"
    },
    {
     "data": {
      "text/plain": "  0%|          | 0/2062 [00:00<?, ?it/s]",
      "application/vnd.jupyter.widget-view+json": {
       "version_major": 2,
       "version_minor": 0,
       "model_id": "b56edb561aeb4092a8ecc3fc14e97e5c"
      }
     },
     "metadata": {},
     "output_type": "display_data"
    },
    {
     "name": "stderr",
     "output_type": "stream",
     "text": [
      "mask_count_min: 0.0\n",
      "Confusion matrix: \n",
      "              P             N\n",
      "P  1.323291e+06  4.836403e+06\n",
      "N  1.558993e+07  1.228074e+08 \n",
      "Rates: \n",
      "              value\n",
      "recall     0.078240\n",
      "precision  0.214831\n",
      "accuracy   0.858697\n",
      "best_th: 0.1, fbeta: 0.4119393797608557\n",
      "Validation score increased (0.258710 --> 0.411939).  Saving model ...\n",
      "Epoch 16 - avg_train_loss: 0.3602  avg_val_loss: 0.4809  time: 502s\n",
      "Epoch 16 - avgScore: 0.4119\n",
      "valid_mask_gt.shape: (8181, 6330) \n",
      "valid_mask_gt.max: 255 \n",
      "\n"
     ]
    },
    {
     "data": {
      "text/plain": "  0%|          | 0/2611 [00:00<?, ?it/s]",
      "application/vnd.jupyter.widget-view+json": {
       "version_major": 2,
       "version_minor": 0,
       "model_id": "dbfa780baa744fcba4b5f080b7ff0d0e"
      }
     },
     "metadata": {},
     "output_type": "display_data"
    },
    {
     "data": {
      "text/plain": "  0%|          | 0/650 [00:00<?, ?it/s]",
      "application/vnd.jupyter.widget-view+json": {
       "version_major": 2,
       "version_minor": 0,
       "model_id": "4523240c2c6a416bbef1190673078280"
      }
     },
     "metadata": {},
     "output_type": "display_data"
    },
    {
     "name": "stderr",
     "output_type": "stream",
     "text": [
      "mask_count_min: 0.0\n",
      "Confusion matrix: \n",
      "              P             N\n",
      "P  6.301807e+05  2.027376e+06\n",
      "N  4.709183e+06  4.647211e+07 \n",
      "Rates: \n",
      "              value\n",
      "recall     0.118025\n",
      "precision  0.237128\n",
      "accuracy   0.874875\n",
      "best_th: 0.1, fbeta: 0.4230210703713646\n",
      "Validation score increased (0.258710 --> 0.423021).  Saving model ...\n",
      "Epoch 16 - avg_train_loss: 0.3838  avg_val_loss: 0.4353  time: 604s\n",
      "Epoch 16 - avgScore: 0.4230\n",
      "valid_mask_gt.shape: (7606, 5249) \n",
      "valid_mask_gt.max: 255 \n",
      "\n"
     ]
    },
    {
     "data": {
      "text/plain": "  0%|          | 0/2711 [00:00<?, ?it/s]",
      "application/vnd.jupyter.widget-view+json": {
       "version_major": 2,
       "version_minor": 0,
       "model_id": "a73717d3fe2d4bc383243f7544a41b70"
      }
     },
     "metadata": {},
     "output_type": "display_data"
    },
    {
     "data": {
      "text/plain": "  0%|          | 0/550 [00:00<?, ?it/s]",
      "application/vnd.jupyter.widget-view+json": {
       "version_major": 2,
       "version_minor": 0,
       "model_id": "fa2bac4b9fd94209936eeb06b1589823"
      }
     },
     "metadata": {},
     "output_type": "display_data"
    },
    {
     "name": "stderr",
     "output_type": "stream",
     "text": [
      "mask_count_min: 0.0\n",
      "Confusion matrix: \n",
      "              P             N\n",
      "P  1.947434e+05  1.299562e+06\n",
      "N  2.977740e+06  3.647157e+07 \n",
      "Rates: \n",
      "              value\n",
      "recall     0.061385\n",
      "precision  0.130324\n",
      "accuracy   0.895532\n",
      "best_th: 0.1, fbeta: 0.13990818266288418\n",
      "EarlyStopping counter: 1 out of 16\n",
      "Epoch 17 - avg_train_loss: 0.4017  avg_val_loss: 0.3770  time: 611s\n",
      "Epoch 17 - avgScore: 0.1399\n",
      "valid_mask_gt.shape: (14830, 9506) \n",
      "valid_mask_gt.max: 255 \n",
      "\n"
     ]
    },
    {
     "data": {
      "text/plain": "  0%|          | 0/1199 [00:00<?, ?it/s]",
      "application/vnd.jupyter.widget-view+json": {
       "version_major": 2,
       "version_minor": 0,
       "model_id": "2c6067266b1d4ebd99ab6c81582a5aef"
      }
     },
     "metadata": {},
     "output_type": "display_data"
    },
    {
     "data": {
      "text/plain": "  0%|          | 0/2062 [00:00<?, ?it/s]",
      "application/vnd.jupyter.widget-view+json": {
       "version_major": 2,
       "version_minor": 0,
       "model_id": "f24ac7b8821e41ab845118b7f0065961"
      }
     },
     "metadata": {},
     "output_type": "display_data"
    },
    {
     "name": "stderr",
     "output_type": "stream",
     "text": [
      "mask_count_min: 0.0\n",
      "Confusion matrix: \n",
      "              P             N\n",
      "P  1.224392e+06  4.551229e+06\n",
      "N  1.568883e+07  1.230926e+08 \n",
      "Rates: \n",
      "              value\n",
      "recall     0.072393\n",
      "precision  0.211993\n",
      "accuracy   0.859986\n",
      "best_th: 0.1, fbeta: 0.363925124448204\n",
      "Validation score increased (0.258710 --> 0.363925).  Saving model ...\n",
      "Epoch 17 - avg_train_loss: 0.3573  avg_val_loss: 0.4907  time: 498s\n",
      "Epoch 17 - avgScore: 0.3639\n",
      "valid_mask_gt.shape: (8181, 6330) \n",
      "valid_mask_gt.max: 255 \n",
      "\n"
     ]
    },
    {
     "data": {
      "text/plain": "  0%|          | 0/2611 [00:00<?, ?it/s]",
      "application/vnd.jupyter.widget-view+json": {
       "version_major": 2,
       "version_minor": 0,
       "model_id": "edb1d2101d9643729c5b9d4d766f6cd3"
      }
     },
     "metadata": {},
     "output_type": "display_data"
    },
    {
     "data": {
      "text/plain": "  0%|          | 0/650 [00:00<?, ?it/s]",
      "application/vnd.jupyter.widget-view+json": {
       "version_major": 2,
       "version_minor": 0,
       "model_id": "68cc9389f6f2430e85119a33d1768e43"
      }
     },
     "metadata": {},
     "output_type": "display_data"
    },
    {
     "name": "stderr",
     "output_type": "stream",
     "text": [
      "mask_count_min: 0.0\n",
      "Confusion matrix: \n",
      "              P             N\n",
      "P  4.357800e+05  1.551464e+06\n",
      "N  4.903584e+06  4.694802e+07 \n",
      "Rates: \n",
      "              value\n",
      "recall     0.081616\n",
      "precision  0.219289\n",
      "accuracy   0.880104\n",
      "best_th: 0.1, fbeta: 0.42844336744246087\n",
      "Validation score increased (0.258710 --> 0.428443).  Saving model ...\n",
      "Epoch 17 - avg_train_loss: 0.3833  avg_val_loss: 0.4744  time: 606s\n",
      "Epoch 17 - avgScore: 0.4284\n",
      "valid_mask_gt.shape: (7606, 5249) \n",
      "valid_mask_gt.max: 255 \n",
      "\n"
     ]
    },
    {
     "data": {
      "text/plain": "  0%|          | 0/2711 [00:00<?, ?it/s]",
      "application/vnd.jupyter.widget-view+json": {
       "version_major": 2,
       "version_minor": 0,
       "model_id": "7d87f3707cf141fa82c5cdfec63b29fa"
      }
     },
     "metadata": {},
     "output_type": "display_data"
    },
    {
     "data": {
      "text/plain": "  0%|          | 0/550 [00:00<?, ?it/s]",
      "application/vnd.jupyter.widget-view+json": {
       "version_major": 2,
       "version_minor": 0,
       "model_id": "a9f235853d724c1487bd6470fa420de2"
      }
     },
     "metadata": {},
     "output_type": "display_data"
    },
    {
     "name": "stderr",
     "output_type": "stream",
     "text": [
      "mask_count_min: 0.0\n",
      "Confusion matrix: \n",
      "              P             N\n",
      "P  1.742045e+05  1.181547e+06\n",
      "N  2.998278e+06  3.658959e+07 \n",
      "Rates: \n",
      "              value\n",
      "recall     0.054911\n",
      "precision  0.128493\n",
      "accuracy   0.897913\n",
      "best_th: 0.1, fbeta: 0.04782758067162725\n",
      "EarlyStopping counter: 1 out of 16\n",
      "Epoch 18 - avg_train_loss: 0.3986  avg_val_loss: 0.3843  time: 612s\n",
      "Epoch 18 - avgScore: 0.0478\n",
      "valid_mask_gt.shape: (14830, 9506) \n",
      "valid_mask_gt.max: 255 \n",
      "\n"
     ]
    },
    {
     "data": {
      "text/plain": "  0%|          | 0/1199 [00:00<?, ?it/s]",
      "application/vnd.jupyter.widget-view+json": {
       "version_major": 2,
       "version_minor": 0,
       "model_id": "431842ce23a44b118f96373f12a71a10"
      }
     },
     "metadata": {},
     "output_type": "display_data"
    },
    {
     "data": {
      "text/plain": "  0%|          | 0/2062 [00:00<?, ?it/s]",
      "application/vnd.jupyter.widget-view+json": {
       "version_major": 2,
       "version_minor": 0,
       "model_id": "100529515b244a5294804c9553c27272"
      }
     },
     "metadata": {},
     "output_type": "display_data"
    },
    {
     "name": "stderr",
     "output_type": "stream",
     "text": [
      "mask_count_min: 0.0\n",
      "Confusion matrix: \n",
      "              P             N\n",
      "P  9.758770e+05  3.877721e+06\n",
      "N  1.593734e+07  1.237661e+08 \n",
      "Rates: \n",
      "              value\n",
      "recall     0.057699\n",
      "precision  0.201063\n",
      "accuracy   0.862926\n",
      "best_th: 0.1, fbeta: 0.14266690049025674\n",
      "EarlyStopping counter: 2 out of 16\n",
      "Epoch 18 - avg_train_loss: 0.3550  avg_val_loss: 0.5160  time: 504s\n",
      "Epoch 18 - avgScore: 0.1427\n",
      "valid_mask_gt.shape: (8181, 6330) \n",
      "valid_mask_gt.max: 255 \n",
      "\n"
     ]
    },
    {
     "data": {
      "text/plain": "  0%|          | 0/2611 [00:00<?, ?it/s]",
      "application/vnd.jupyter.widget-view+json": {
       "version_major": 2,
       "version_minor": 0,
       "model_id": "b40f17c35e4c45df9344da99578cfb40"
      }
     },
     "metadata": {},
     "output_type": "display_data"
    },
    {
     "data": {
      "text/plain": "  0%|          | 0/650 [00:00<?, ?it/s]",
      "application/vnd.jupyter.widget-view+json": {
       "version_major": 2,
       "version_minor": 0,
       "model_id": "16986d07b21c43158d153cc38493311d"
      }
     },
     "metadata": {},
     "output_type": "display_data"
    },
    {
     "name": "stderr",
     "output_type": "stream",
     "text": [
      "mask_count_min: 0.0\n",
      "Confusion matrix: \n",
      "              P             N\n",
      "P  4.656091e+05  1.567976e+06\n",
      "N  4.873755e+06  4.693151e+07 \n",
      "Rates: \n",
      "              value\n",
      "recall     0.087203\n",
      "precision  0.228960\n",
      "accuracy   0.880352\n",
      "best_th: 0.1, fbeta: 0.442580503869633\n",
      "Validation score increased (0.258710 --> 0.442581).  Saving model ...\n",
      "Epoch 18 - avg_train_loss: 0.3796  avg_val_loss: 0.4678  time: 607s\n",
      "Epoch 18 - avgScore: 0.4426\n",
      "valid_mask_gt.shape: (7606, 5249) \n",
      "valid_mask_gt.max: 255 \n",
      "\n"
     ]
    },
    {
     "data": {
      "text/plain": "  0%|          | 0/2711 [00:00<?, ?it/s]",
      "application/vnd.jupyter.widget-view+json": {
       "version_major": 2,
       "version_minor": 0,
       "model_id": "da7868d5f68c4d1bb16093af3b2b17ff"
      }
     },
     "metadata": {},
     "output_type": "display_data"
    },
    {
     "data": {
      "text/plain": "  0%|          | 0/550 [00:00<?, ?it/s]",
      "application/vnd.jupyter.widget-view+json": {
       "version_major": 2,
       "version_minor": 0,
       "model_id": "ff7b148035da4542a96117732d390a75"
      }
     },
     "metadata": {},
     "output_type": "display_data"
    },
    {
     "name": "stderr",
     "output_type": "stream",
     "text": [
      "mask_count_min: 0.0\n",
      "Confusion matrix: \n",
      "              P             N\n",
      "P  1.513495e+05  1.067726e+06\n",
      "N  3.021133e+06  3.670341e+07 \n",
      "Rates: \n",
      "              value\n",
      "recall     0.047707\n",
      "precision  0.124151\n",
      "accuracy   0.900134\n",
      "best_th: 0.1, fbeta: 0.014022709625638232\n",
      "EarlyStopping counter: 1 out of 16\n",
      "Epoch 19 - avg_train_loss: 0.3956  avg_val_loss: 0.3959  time: 614s\n",
      "Epoch 19 - avgScore: 0.0140\n",
      "valid_mask_gt.shape: (14830, 9506) \n",
      "valid_mask_gt.max: 255 \n",
      "\n"
     ]
    },
    {
     "data": {
      "text/plain": "  0%|          | 0/1199 [00:00<?, ?it/s]",
      "application/vnd.jupyter.widget-view+json": {
       "version_major": 2,
       "version_minor": 0,
       "model_id": "960dffa9eeba4dc1b7d7bf99f1973a0f"
      }
     },
     "metadata": {},
     "output_type": "display_data"
    },
    {
     "data": {
      "text/plain": "  0%|          | 0/2062 [00:00<?, ?it/s]",
      "application/vnd.jupyter.widget-view+json": {
       "version_major": 2,
       "version_minor": 0,
       "model_id": "a061eed40efb465aa186fd46fd948535"
      }
     },
     "metadata": {},
     "output_type": "display_data"
    },
    {
     "name": "stderr",
     "output_type": "stream",
     "text": [
      "mask_count_min: 0.0\n",
      "Confusion matrix: \n",
      "              P             N\n",
      "P  9.478633e+05  3.790713e+06\n",
      "N  1.596535e+07  1.238531e+08 \n",
      "Rates: \n",
      "              value\n",
      "recall     0.056043\n",
      "precision  0.200031\n",
      "accuracy   0.863334\n",
      "best_th: 0.1, fbeta: 0.13018461477025156\n",
      "EarlyStopping counter: 2 out of 16\n",
      "Epoch 19 - avg_train_loss: 0.3512  avg_val_loss: 0.5203  time: 505s\n",
      "Epoch 19 - avgScore: 0.1302\n",
      "valid_mask_gt.shape: (8181, 6330) \n",
      "valid_mask_gt.max: 255 \n",
      "\n"
     ]
    },
    {
     "data": {
      "text/plain": "  0%|          | 0/2611 [00:00<?, ?it/s]",
      "application/vnd.jupyter.widget-view+json": {
       "version_major": 2,
       "version_minor": 0,
       "model_id": "1d9e069b9335428fb20116dc79724278"
      }
     },
     "metadata": {},
     "output_type": "display_data"
    },
    {
     "data": {
      "text/plain": "  0%|          | 0/650 [00:00<?, ?it/s]",
      "application/vnd.jupyter.widget-view+json": {
       "version_major": 2,
       "version_minor": 0,
       "model_id": "7865c794b22e48e6941be510ac682a32"
      }
     },
     "metadata": {},
     "output_type": "display_data"
    },
    {
     "name": "stderr",
     "output_type": "stream",
     "text": [
      "mask_count_min: 0.0\n",
      "Confusion matrix: \n",
      "              P             N\n",
      "P  4.472648e+05  1.499468e+06\n",
      "N  4.892099e+06  4.700002e+07 \n",
      "Rates: \n",
      "              value\n",
      "recall     0.083767\n",
      "precision  0.229752\n",
      "accuracy   0.881283\n",
      "best_th: 0.1, fbeta: 0.4369868887331144\n",
      "Validation score increased (0.258710 --> 0.436987).  Saving model ...\n",
      "Epoch 19 - avg_train_loss: 0.3761  avg_val_loss: 0.4733  time: 608s\n",
      "Epoch 19 - avgScore: 0.4370\n",
      "valid_mask_gt.shape: (7606, 5249) \n",
      "valid_mask_gt.max: 255 \n",
      "\n"
     ]
    },
    {
     "data": {
      "text/plain": "  0%|          | 0/2711 [00:00<?, ?it/s]",
      "application/vnd.jupyter.widget-view+json": {
       "version_major": 2,
       "version_minor": 0,
       "model_id": "deb15b65b61a485daaaf181aa224f06e"
      }
     },
     "metadata": {},
     "output_type": "display_data"
    },
    {
     "data": {
      "text/plain": "  0%|          | 0/550 [00:00<?, ?it/s]",
      "application/vnd.jupyter.widget-view+json": {
       "version_major": 2,
       "version_minor": 0,
       "model_id": "5d5938a714cb4ec8a0b60c68289ca950"
      }
     },
     "metadata": {},
     "output_type": "display_data"
    },
    {
     "name": "stderr",
     "output_type": "stream",
     "text": [
      "mask_count_min: 0.0\n",
      "Confusion matrix: \n",
      "              P             N\n",
      "P  1.550569e+05  1.052563e+06\n",
      "N  3.017426e+06  3.671857e+07 \n",
      "Rates: \n",
      "              value\n",
      "recall     0.048876\n",
      "precision  0.128399\n",
      "accuracy   0.900595\n",
      "best_th: 0.1, fbeta: 0.01653014639144825\n",
      "EarlyStopping counter: 1 out of 16\n",
      "Epoch 20 - avg_train_loss: 0.3944  avg_val_loss: 0.3931  time: 614s\n",
      "Epoch 20 - avgScore: 0.0165\n",
      "valid_mask_gt.shape: (14830, 9506) \n",
      "valid_mask_gt.max: 255 \n",
      "\n"
     ]
    },
    {
     "data": {
      "text/plain": "  0%|          | 0/1199 [00:00<?, ?it/s]",
      "application/vnd.jupyter.widget-view+json": {
       "version_major": 2,
       "version_minor": 0,
       "model_id": "d49c2d9266ec4c359663684ec02c3eea"
      }
     },
     "metadata": {},
     "output_type": "display_data"
    },
    {
     "data": {
      "text/plain": "  0%|          | 0/2062 [00:00<?, ?it/s]",
      "application/vnd.jupyter.widget-view+json": {
       "version_major": 2,
       "version_minor": 0,
       "model_id": "4879c188587b47ba93e60bfad3f779d8"
      }
     },
     "metadata": {},
     "output_type": "display_data"
    },
    {
     "name": "stderr",
     "output_type": "stream",
     "text": [
      "mask_count_min: 0.0\n",
      "Confusion matrix: \n",
      "              P             N\n",
      "P  9.219399e+05  3.603760e+06\n",
      "N  1.599128e+07  1.240401e+08 \n",
      "Rates: \n",
      "              value\n",
      "recall     0.054510\n",
      "precision  0.203712\n",
      "accuracy   0.864448\n",
      "best_th: 0.1, fbeta: 0.11359937675198116\n",
      "EarlyStopping counter: 2 out of 16\n",
      "Epoch 20 - avg_train_loss: 0.3547  avg_val_loss: 0.5232  time: 506s\n",
      "Epoch 20 - avgScore: 0.1136\n",
      "valid_mask_gt.shape: (8181, 6330) \n",
      "valid_mask_gt.max: 255 \n",
      "\n"
     ]
    },
    {
     "data": {
      "text/plain": "  0%|          | 0/2611 [00:00<?, ?it/s]",
      "application/vnd.jupyter.widget-view+json": {
       "version_major": 2,
       "version_minor": 0,
       "model_id": "72176634d16c4a10b4cf32dcfdea0b6e"
      }
     },
     "metadata": {},
     "output_type": "display_data"
    },
    {
     "data": {
      "text/plain": "  0%|          | 0/650 [00:00<?, ?it/s]",
      "application/vnd.jupyter.widget-view+json": {
       "version_major": 2,
       "version_minor": 0,
       "model_id": "f0da895b2abd4cdebe615be616782dc6"
      }
     },
     "metadata": {},
     "output_type": "display_data"
    },
    {
     "name": "stderr",
     "output_type": "stream",
     "text": [
      "mask_count_min: 0.0\n",
      "Confusion matrix: \n",
      "              P             N\n",
      "P  3.838723e+05  1.341640e+06\n",
      "N  4.955492e+06  4.715784e+07 \n",
      "Rates: \n",
      "              value\n",
      "recall     0.071895\n",
      "precision  0.222469\n",
      "accuracy   0.883037\n",
      "best_th: 0.1, fbeta: 0.363773914871916\n",
      "Validation score increased (0.258710 --> 0.363774).  Saving model ...\n",
      "Epoch 20 - avg_train_loss: 0.3762  avg_val_loss: 0.4904  time: 613s\n",
      "Epoch 20 - avgScore: 0.3638\n",
      "valid_mask_gt.shape: (7606, 5249) \n",
      "valid_mask_gt.max: 255 \n",
      "\n"
     ]
    },
    {
     "data": {
      "text/plain": "  0%|          | 0/2711 [00:00<?, ?it/s]",
      "application/vnd.jupyter.widget-view+json": {
       "version_major": 2,
       "version_minor": 0,
       "model_id": "5e98eef39eee4e8991ab1075306effb4"
      }
     },
     "metadata": {},
     "output_type": "display_data"
    },
    {
     "data": {
      "text/plain": "  0%|          | 0/550 [00:00<?, ?it/s]",
      "application/vnd.jupyter.widget-view+json": {
       "version_major": 2,
       "version_minor": 0,
       "model_id": "48495a417bf14612b387b1aae9b334b8"
      }
     },
     "metadata": {},
     "output_type": "display_data"
    },
    {
     "name": "stderr",
     "output_type": "stream",
     "text": [
      "mask_count_min: 0.0\n",
      "Confusion matrix: \n",
      "              P             N\n",
      "P  1.290276e+05  9.176595e+05\n",
      "N  3.043455e+06  3.685347e+07 \n",
      "Rates: \n",
      "              value\n",
      "recall     0.040671\n",
      "precision  0.123272\n",
      "accuracy   0.903254\n",
      "best_th: 0.1, fbeta: 0.001485224115605412\n",
      "EarlyStopping counter: 1 out of 16\n",
      "Epoch 21 - avg_train_loss: 0.3895  avg_val_loss: 0.4102  time: 615s\n",
      "Epoch 21 - avgScore: 0.0015\n",
      "valid_mask_gt.shape: (14830, 9506) \n",
      "valid_mask_gt.max: 255 \n",
      "\n"
     ]
    },
    {
     "data": {
      "text/plain": "  0%|          | 0/1199 [00:00<?, ?it/s]",
      "application/vnd.jupyter.widget-view+json": {
       "version_major": 2,
       "version_minor": 0,
       "model_id": "84d7a26a73a942459ee3740c92a28224"
      }
     },
     "metadata": {},
     "output_type": "display_data"
    },
    {
     "data": {
      "text/plain": "  0%|          | 0/2062 [00:00<?, ?it/s]",
      "application/vnd.jupyter.widget-view+json": {
       "version_major": 2,
       "version_minor": 0,
       "model_id": "1ac6c864f4a04ab9bb8c5944a0cbf142"
      }
     },
     "metadata": {},
     "output_type": "display_data"
    },
    {
     "name": "stderr",
     "output_type": "stream",
     "text": [
      "mask_count_min: 0.0\n",
      "Confusion matrix: \n",
      "              P             N\n",
      "P  7.998402e+05  3.230729e+06\n",
      "N  1.611338e+07  1.244131e+08 \n",
      "Rates: \n",
      "              value\n",
      "recall     0.047291\n",
      "precision  0.198444\n",
      "accuracy   0.866184\n",
      "best_th: 0.1, fbeta: 0.04562913868810697\n",
      "EarlyStopping counter: 2 out of 16\n",
      "Epoch 21 - avg_train_loss: 0.3527  avg_val_loss: 0.5416  time: 506s\n",
      "Epoch 21 - avgScore: 0.0456\n",
      "valid_mask_gt.shape: (8181, 6330) \n",
      "valid_mask_gt.max: 255 \n",
      "\n"
     ]
    },
    {
     "data": {
      "text/plain": "  0%|          | 0/2611 [00:00<?, ?it/s]",
      "application/vnd.jupyter.widget-view+json": {
       "version_major": 2,
       "version_minor": 0,
       "model_id": "69d5993c3a6a4241a6227ae56252d510"
      }
     },
     "metadata": {},
     "output_type": "display_data"
    },
    {
     "data": {
      "text/plain": "  0%|          | 0/650 [00:00<?, ?it/s]",
      "application/vnd.jupyter.widget-view+json": {
       "version_major": 2,
       "version_minor": 0,
       "model_id": "ad88ea360a574e91af787a241e30ff02"
      }
     },
     "metadata": {},
     "output_type": "display_data"
    },
    {
     "name": "stderr",
     "output_type": "stream",
     "text": [
      "mask_count_min: 0.0\n",
      "Confusion matrix: \n",
      "              P             N\n",
      "P  5.611348e+05  1.707723e+06\n",
      "N  4.778229e+06  4.679176e+07 \n",
      "Rates: \n",
      "              value\n",
      "recall     0.105094\n",
      "precision  0.247320\n",
      "accuracy   0.879530\n",
      "best_th: 0.1, fbeta: 0.41956081298830783\n",
      "Validation score increased (0.258710 --> 0.419561).  Saving model ...\n",
      "Epoch 21 - avg_train_loss: 0.3732  avg_val_loss: 0.4497  time: 609s\n",
      "Epoch 21 - avgScore: 0.4196\n",
      "valid_mask_gt.shape: (7606, 5249) \n",
      "valid_mask_gt.max: 255 \n",
      "\n"
     ]
    },
    {
     "data": {
      "text/plain": "  0%|          | 0/2711 [00:00<?, ?it/s]",
      "application/vnd.jupyter.widget-view+json": {
       "version_major": 2,
       "version_minor": 0,
       "model_id": "3671fcc3b41042429d2915501ee36be2"
      }
     },
     "metadata": {},
     "output_type": "display_data"
    },
    {
     "data": {
      "text/plain": "  0%|          | 0/550 [00:00<?, ?it/s]",
      "application/vnd.jupyter.widget-view+json": {
       "version_major": 2,
       "version_minor": 0,
       "model_id": "8f59677505aa4c9b815b4f48ca2ee496"
      }
     },
     "metadata": {},
     "output_type": "display_data"
    },
    {
     "name": "stderr",
     "output_type": "stream",
     "text": [
      "mask_count_min: 0.0\n",
      "Confusion matrix: \n",
      "              P             N\n",
      "P  1.217568e+05  8.523346e+05\n",
      "N  3.050726e+06  3.691880e+07 \n",
      "Rates: \n",
      "              value\n",
      "recall     0.038379\n",
      "precision  0.124995\n",
      "accuracy   0.904672\n",
      "best_th: 0.1, fbeta: 0.0024443968307701867\n",
      "EarlyStopping counter: 1 out of 16\n",
      "Epoch 22 - avg_train_loss: 0.3882  avg_val_loss: 0.4153  time: 617s\n",
      "Epoch 22 - avgScore: 0.0024\n",
      "valid_mask_gt.shape: (14830, 9506) \n",
      "valid_mask_gt.max: 255 \n",
      "\n"
     ]
    },
    {
     "data": {
      "text/plain": "  0%|          | 0/1199 [00:00<?, ?it/s]",
      "application/vnd.jupyter.widget-view+json": {
       "version_major": 2,
       "version_minor": 0,
       "model_id": "a57f0f3e09f24e00b79f202839fe6cc2"
      }
     },
     "metadata": {},
     "output_type": "display_data"
    },
    {
     "data": {
      "text/plain": "  0%|          | 0/2062 [00:00<?, ?it/s]",
      "application/vnd.jupyter.widget-view+json": {
       "version_major": 2,
       "version_minor": 0,
       "model_id": "43bb20f27db546d38db54b3c0e6e8aff"
      }
     },
     "metadata": {},
     "output_type": "display_data"
    },
    {
     "name": "stderr",
     "output_type": "stream",
     "text": [
      "mask_count_min: 0.0\n",
      "Confusion matrix: \n",
      "              P             N\n",
      "P  8.364910e+05  3.106851e+06\n",
      "N  1.607673e+07  1.245370e+08 \n",
      "Rates: \n",
      "              value\n",
      "recall     0.049458\n",
      "precision  0.212127\n",
      "accuracy   0.867294\n",
      "best_th: 0.1, fbeta: 0.11772127921341799\n",
      "EarlyStopping counter: 2 out of 16\n",
      "Epoch 22 - avg_train_loss: 0.3525  avg_val_loss: 0.5387  time: 501s\n",
      "Epoch 22 - avgScore: 0.1177\n",
      "valid_mask_gt.shape: (8181, 6330) \n",
      "valid_mask_gt.max: 255 \n",
      "\n"
     ]
    },
    {
     "data": {
      "text/plain": "  0%|          | 0/2611 [00:00<?, ?it/s]",
      "application/vnd.jupyter.widget-view+json": {
       "version_major": 2,
       "version_minor": 0,
       "model_id": "6cd514f10d624606bd40461364a85da2"
      }
     },
     "metadata": {},
     "output_type": "display_data"
    },
    {
     "data": {
      "text/plain": "  0%|          | 0/650 [00:00<?, ?it/s]",
      "application/vnd.jupyter.widget-view+json": {
       "version_major": 2,
       "version_minor": 0,
       "model_id": "340fa63f28bd4031b637afe04631ef51"
      }
     },
     "metadata": {},
     "output_type": "display_data"
    },
    {
     "name": "stderr",
     "output_type": "stream",
     "text": [
      "mask_count_min: 0.0\n",
      "Confusion matrix: \n",
      "              P             N\n",
      "P  3.051538e+05  1.074355e+06\n",
      "N  5.034210e+06  4.742513e+07 \n",
      "Rates: \n",
      "              value\n",
      "recall     0.057152\n",
      "precision  0.221205\n",
      "accuracy   0.886540\n",
      "best_th: 0.1, fbeta: 0.21310082981294026\n",
      "EarlyStopping counter: 3 out of 16\n",
      "Epoch 22 - avg_train_loss: 0.3732  avg_val_loss: 0.5206  time: 611s\n",
      "Epoch 22 - avgScore: 0.2131\n",
      "valid_mask_gt.shape: (7606, 5249) \n",
      "valid_mask_gt.max: 255 \n",
      "\n"
     ]
    },
    {
     "data": {
      "text/plain": "  0%|          | 0/2711 [00:00<?, ?it/s]",
      "application/vnd.jupyter.widget-view+json": {
       "version_major": 2,
       "version_minor": 0,
       "model_id": "30e39d34610e4c9db3f6a429239e8ab1"
      }
     },
     "metadata": {},
     "output_type": "display_data"
    },
    {
     "data": {
      "text/plain": "  0%|          | 0/550 [00:00<?, ?it/s]",
      "application/vnd.jupyter.widget-view+json": {
       "version_major": 2,
       "version_minor": 0,
       "model_id": "3be9d361c233443dbb42cb64e1f91a5c"
      }
     },
     "metadata": {},
     "output_type": "display_data"
    },
    {
     "name": "stderr",
     "output_type": "stream",
     "text": [
      "mask_count_min: 0.0\n",
      "Confusion matrix: \n",
      "              P             N\n",
      "P  1.177913e+05  8.186103e+05\n",
      "N  3.054692e+06  3.695252e+07 \n",
      "Rates: \n",
      "              value\n",
      "recall     0.037129\n",
      "precision  0.125791\n",
      "accuracy   0.905399\n",
      "best_th: 0.1, fbeta: 0.0013426660854381949\n",
      "EarlyStopping counter: 4 out of 16\n",
      "Epoch 23 - avg_train_loss: 0.3883  avg_val_loss: 0.4191  time: 617s\n",
      "Epoch 23 - avgScore: 0.0013\n",
      "valid_mask_gt.shape: (14830, 9506) \n",
      "valid_mask_gt.max: 255 \n",
      "\n"
     ]
    },
    {
     "data": {
      "text/plain": "  0%|          | 0/1199 [00:00<?, ?it/s]",
      "application/vnd.jupyter.widget-view+json": {
       "version_major": 2,
       "version_minor": 0,
       "model_id": "7c92ceeb06214fd880a89b78ee07b51a"
      }
     },
     "metadata": {},
     "output_type": "display_data"
    },
    {
     "data": {
      "text/plain": "  0%|          | 0/2062 [00:00<?, ?it/s]",
      "application/vnd.jupyter.widget-view+json": {
       "version_major": 2,
       "version_minor": 0,
       "model_id": "f68be77b3f534dc597ff07054ddb5701"
      }
     },
     "metadata": {},
     "output_type": "display_data"
    },
    {
     "name": "stderr",
     "output_type": "stream",
     "text": [
      "mask_count_min: 0.0\n",
      "Confusion matrix: \n",
      "              P             N\n",
      "P  6.794796e+05  2.633822e+06\n",
      "N  1.623374e+07  1.250100e+08 \n",
      "Rates: \n",
      "              value\n",
      "recall     0.040174\n",
      "precision  0.205076\n",
      "accuracy   0.869480\n",
      "best_th: 0.1, fbeta: 0.021523349709307228\n",
      "EarlyStopping counter: 5 out of 16\n",
      "Epoch 23 - avg_train_loss: 0.3572  avg_val_loss: 0.5660  time: 507s\n",
      "Epoch 23 - avgScore: 0.0215\n",
      "valid_mask_gt.shape: (8181, 6330) \n",
      "valid_mask_gt.max: 255 \n",
      "\n"
     ]
    },
    {
     "data": {
      "text/plain": "  0%|          | 0/2611 [00:00<?, ?it/s]",
      "application/vnd.jupyter.widget-view+json": {
       "version_major": 2,
       "version_minor": 0,
       "model_id": "289ad1fce27a4a9685a4d7b80ad12876"
      }
     },
     "metadata": {},
     "output_type": "display_data"
    },
    {
     "data": {
      "text/plain": "  0%|          | 0/650 [00:00<?, ?it/s]",
      "application/vnd.jupyter.widget-view+json": {
       "version_major": 2,
       "version_minor": 0,
       "model_id": "a8f51e533fc240cfb435b48a05ad6568"
      }
     },
     "metadata": {},
     "output_type": "display_data"
    },
    {
     "name": "stderr",
     "output_type": "stream",
     "text": [
      "mask_count_min: 0.0\n",
      "Confusion matrix: \n",
      "              P             N\n",
      "P  3.204650e+05  1.130649e+06\n",
      "N  5.018899e+06  4.736884e+07 \n",
      "Rates: \n",
      "              value\n",
      "recall     0.060019\n",
      "precision  0.220841\n",
      "accuracy   0.885779\n",
      "best_th: 0.1, fbeta: 0.22902255771134483\n",
      "EarlyStopping counter: 6 out of 16\n",
      "Epoch 23 - avg_train_loss: 0.3715  avg_val_loss: 0.5139  time: 609s\n",
      "Epoch 23 - avgScore: 0.2290\n",
      "valid_mask_gt.shape: (7606, 5249) \n",
      "valid_mask_gt.max: 255 \n",
      "\n"
     ]
    },
    {
     "data": {
      "text/plain": "  0%|          | 0/2711 [00:00<?, ?it/s]",
      "application/vnd.jupyter.widget-view+json": {
       "version_major": 2,
       "version_minor": 0,
       "model_id": "09122bccdab942899af988663d970f69"
      }
     },
     "metadata": {},
     "output_type": "display_data"
    },
    {
     "data": {
      "text/plain": "  0%|          | 0/550 [00:00<?, ?it/s]",
      "application/vnd.jupyter.widget-view+json": {
       "version_major": 2,
       "version_minor": 0,
       "model_id": "e3ed59b29c394d73920678f44391bcf4"
      }
     },
     "metadata": {},
     "output_type": "display_data"
    },
    {
     "name": "stderr",
     "output_type": "stream",
     "text": [
      "mask_count_min: 0.0\n",
      "Confusion matrix: \n",
      "              P             N\n",
      "P  1.325728e+05  8.671863e+05\n",
      "N  3.039910e+06  3.690395e+07 \n",
      "Rates: \n",
      "              value\n",
      "recall     0.041788\n",
      "precision  0.132605\n",
      "accuracy   0.904574\n",
      "best_th: 0.1, fbeta: 0.015403600611729197\n",
      "EarlyStopping counter: 7 out of 16\n",
      "Epoch 24 - avg_train_loss: 0.3843  avg_val_loss: 0.4131  time: 617s\n",
      "Epoch 24 - avgScore: 0.0154\n",
      "valid_mask_gt.shape: (14830, 9506) \n",
      "valid_mask_gt.max: 255 \n",
      "\n"
     ]
    },
    {
     "data": {
      "text/plain": "  0%|          | 0/1199 [00:00<?, ?it/s]",
      "application/vnd.jupyter.widget-view+json": {
       "version_major": 2,
       "version_minor": 0,
       "model_id": "721167e4d3e442b09aa664efee3aeffa"
      }
     },
     "metadata": {},
     "output_type": "display_data"
    },
    {
     "data": {
      "text/plain": "  0%|          | 0/2062 [00:00<?, ?it/s]",
      "application/vnd.jupyter.widget-view+json": {
       "version_major": 2,
       "version_minor": 0,
       "model_id": "72e72a344399458f833a9b1fa8e0b9fa"
      }
     },
     "metadata": {},
     "output_type": "display_data"
    },
    {
     "name": "stderr",
     "output_type": "stream",
     "text": [
      "mask_count_min: 0.0\n",
      "Confusion matrix: \n",
      "              P             N\n",
      "P  5.820216e+05  2.371756e+06\n",
      "N  1.633120e+07  1.252721e+08 \n",
      "Rates: \n",
      "              value\n",
      "recall     0.034412\n",
      "precision  0.197043\n",
      "accuracy   0.870619\n",
      "best_th: 0.1, fbeta: 0.004099677865690341\n",
      "EarlyStopping counter: 8 out of 16\n",
      "Epoch 24 - avg_train_loss: 0.3503  avg_val_loss: 0.5873  time: 504s\n",
      "Epoch 24 - avgScore: 0.0041\n",
      "valid_mask_gt.shape: (8181, 6330) \n",
      "valid_mask_gt.max: 255 \n",
      "\n"
     ]
    },
    {
     "data": {
      "text/plain": "  0%|          | 0/2611 [00:00<?, ?it/s]",
      "application/vnd.jupyter.widget-view+json": {
       "version_major": 2,
       "version_minor": 0,
       "model_id": "46e694905dc54dd89b2980cf00888894"
      }
     },
     "metadata": {},
     "output_type": "display_data"
    },
    {
     "data": {
      "text/plain": "  0%|          | 0/650 [00:00<?, ?it/s]",
      "application/vnd.jupyter.widget-view+json": {
       "version_major": 2,
       "version_minor": 0,
       "model_id": "787d1624e75444549e0f6b0aa3c14097"
      }
     },
     "metadata": {},
     "output_type": "display_data"
    },
    {
     "name": "stderr",
     "output_type": "stream",
     "text": [
      "mask_count_min: 0.0\n",
      "Confusion matrix: \n",
      "              P             N\n",
      "P  3.235026e+05  1.071942e+06\n",
      "N  5.015861e+06  4.742754e+07 \n",
      "Rates: \n",
      "              value\n",
      "recall     0.060588\n",
      "precision  0.231828\n",
      "accuracy   0.886925\n",
      "best_th: 0.1, fbeta: 0.28707676995368653\n",
      "Validation score increased (0.258710 --> 0.287077).  Saving model ...\n",
      "Epoch 24 - avg_train_loss: 0.3719  avg_val_loss: 0.5152  time: 612s\n",
      "Epoch 24 - avgScore: 0.2871\n",
      "valid_mask_gt.shape: (7606, 5249) \n",
      "valid_mask_gt.max: 255 \n",
      "\n"
     ]
    },
    {
     "data": {
      "text/plain": "  0%|          | 0/2711 [00:00<?, ?it/s]",
      "application/vnd.jupyter.widget-view+json": {
       "version_major": 2,
       "version_minor": 0,
       "model_id": "9d16a21a6e754d87a8f14c0fff798f49"
      }
     },
     "metadata": {},
     "output_type": "display_data"
    },
    {
     "data": {
      "text/plain": "  0%|          | 0/550 [00:00<?, ?it/s]",
      "application/vnd.jupyter.widget-view+json": {
       "version_major": 2,
       "version_minor": 0,
       "model_id": "45c619c04c904df8bd158bbfd9d0218b"
      }
     },
     "metadata": {},
     "output_type": "display_data"
    },
    {
     "name": "stderr",
     "output_type": "stream",
     "text": [
      "mask_count_min: 0.0\n",
      "Confusion matrix: \n",
      "              P             N\n",
      "P  1.104099e+05  7.624048e+05\n",
      "N  3.062073e+06  3.700873e+07 \n",
      "Rates: \n",
      "              value\n",
      "recall     0.034802\n",
      "precision  0.126499\n",
      "accuracy   0.906592\n",
      "best_th: 0.1, fbeta: 0.002201101406044731\n",
      "EarlyStopping counter: 1 out of 16\n",
      "Epoch 25 - avg_train_loss: 0.3825  avg_val_loss: 0.4263  time: 611s\n",
      "Epoch 25 - avgScore: 0.0022\n",
      "valid_mask_gt.shape: (14830, 9506) \n",
      "valid_mask_gt.max: 255 \n",
      "\n"
     ]
    },
    {
     "data": {
      "text/plain": "  0%|          | 0/1199 [00:00<?, ?it/s]",
      "application/vnd.jupyter.widget-view+json": {
       "version_major": 2,
       "version_minor": 0,
       "model_id": "7a967fe01af64839bf2ffaac9804b062"
      }
     },
     "metadata": {},
     "output_type": "display_data"
    },
    {
     "data": {
      "text/plain": "  0%|          | 0/2062 [00:00<?, ?it/s]",
      "application/vnd.jupyter.widget-view+json": {
       "version_major": 2,
       "version_minor": 0,
       "model_id": "083c554c241c427981c6d758bff29e98"
      }
     },
     "metadata": {},
     "output_type": "display_data"
    },
    {
     "name": "stderr",
     "output_type": "stream",
     "text": [
      "mask_count_min: 0.0\n",
      "Confusion matrix: \n",
      "              P             N\n",
      "P  6.993489e+05  2.500136e+06\n",
      "N  1.621387e+07  1.251437e+08 \n",
      "Rates: \n",
      "              value\n",
      "recall     0.041349\n",
      "precision  0.218582\n",
      "accuracy   0.870542\n",
      "best_th: 0.1, fbeta: 0.059833217661510445\n",
      "EarlyStopping counter: 2 out of 16\n",
      "Epoch 25 - avg_train_loss: 0.3486  avg_val_loss: 0.5656  time: 503s\n",
      "Epoch 25 - avgScore: 0.0598\n",
      "valid_mask_gt.shape: (8181, 6330) \n",
      "valid_mask_gt.max: 255 \n",
      "\n"
     ]
    },
    {
     "data": {
      "text/plain": "  0%|          | 0/2611 [00:00<?, ?it/s]",
      "application/vnd.jupyter.widget-view+json": {
       "version_major": 2,
       "version_minor": 0,
       "model_id": "9c0d79a2863b40469f2dd3a0c56a8797"
      }
     },
     "metadata": {},
     "output_type": "display_data"
    },
    {
     "data": {
      "text/plain": "  0%|          | 0/650 [00:00<?, ?it/s]",
      "application/vnd.jupyter.widget-view+json": {
       "version_major": 2,
       "version_minor": 0,
       "model_id": "e8767b647d8e490ebc60d366da960b36"
      }
     },
     "metadata": {},
     "output_type": "display_data"
    },
    {
     "name": "stderr",
     "output_type": "stream",
     "text": [
      "mask_count_min: 0.0\n",
      "Confusion matrix: \n",
      "              P             N\n",
      "P  2.080822e+05  8.004986e+05\n",
      "N  5.131282e+06  4.769899e+07 \n",
      "Rates: \n",
      "              value\n",
      "recall     0.038971\n",
      "precision  0.206312\n",
      "accuracy   0.889823\n",
      "best_th: 0.1, fbeta: 0.02019133391851453\n",
      "EarlyStopping counter: 3 out of 16\n",
      "Epoch 25 - avg_train_loss: 0.3709  avg_val_loss: 0.5721  time: 606s\n",
      "Epoch 25 - avgScore: 0.0202\n",
      "valid_mask_gt.shape: (7606, 5249) \n",
      "valid_mask_gt.max: 255 \n",
      "\n"
     ]
    },
    {
     "data": {
      "text/plain": "  0%|          | 0/2711 [00:00<?, ?it/s]",
      "application/vnd.jupyter.widget-view+json": {
       "version_major": 2,
       "version_minor": 0,
       "model_id": "577f10a216884b20825fdcbb6975df02"
      }
     },
     "metadata": {},
     "output_type": "display_data"
    },
    {
     "data": {
      "text/plain": "  0%|          | 0/550 [00:00<?, ?it/s]",
      "application/vnd.jupyter.widget-view+json": {
       "version_major": 2,
       "version_minor": 0,
       "model_id": "0a031a76474d4d94a5790c183ca0bb16"
      }
     },
     "metadata": {},
     "output_type": "display_data"
    },
    {
     "name": "stderr",
     "output_type": "stream",
     "text": [
      "mask_count_min: 0.0\n",
      "Confusion matrix: \n",
      "              P             N\n",
      "P  9.232339e+04  6.600389e+05\n",
      "N  3.080160e+06  3.711109e+07 \n",
      "Rates: \n",
      "              value\n",
      "recall     0.029101\n",
      "precision  0.122711\n",
      "accuracy   0.908650\n",
      "best_th: 0.1, fbeta: 0.00024723512909592503\n",
      "EarlyStopping counter: 4 out of 16\n",
      "Epoch 26 - avg_train_loss: 0.3814  avg_val_loss: 0.4446  time: 618s\n",
      "Epoch 26 - avgScore: 0.0002\n",
      "valid_mask_gt.shape: (14830, 9506) \n",
      "valid_mask_gt.max: 255 \n",
      "\n"
     ]
    },
    {
     "data": {
      "text/plain": "  0%|          | 0/1199 [00:00<?, ?it/s]",
      "application/vnd.jupyter.widget-view+json": {
       "version_major": 2,
       "version_minor": 0,
       "model_id": "53e461e77a174a13a9c8474fbccf81e6"
      }
     },
     "metadata": {},
     "output_type": "display_data"
    },
    {
     "data": {
      "text/plain": "  0%|          | 0/2062 [00:00<?, ?it/s]",
      "application/vnd.jupyter.widget-view+json": {
       "version_major": 2,
       "version_minor": 0,
       "model_id": "eacb851f08104ad586e6547919ae7eb2"
      }
     },
     "metadata": {},
     "output_type": "display_data"
    },
    {
     "name": "stderr",
     "output_type": "stream",
     "text": [
      "mask_count_min: 0.0\n",
      "Confusion matrix: \n",
      "              P             N\n",
      "P  5.267431e+05  2.089524e+06\n",
      "N  1.638647e+07  1.255543e+08 \n",
      "Rates: \n",
      "              value\n",
      "recall     0.031144\n",
      "precision  0.201334\n",
      "accuracy   0.872189\n",
      "best_th: 0.1, fbeta: 0.002831680882704192\n",
      "EarlyStopping counter: 5 out of 16\n",
      "Epoch 26 - avg_train_loss: 0.3516  avg_val_loss: 0.6029  time: 510s\n",
      "Epoch 26 - avgScore: 0.0028\n",
      "valid_mask_gt.shape: (8181, 6330) \n",
      "valid_mask_gt.max: 255 \n",
      "\n"
     ]
    },
    {
     "data": {
      "text/plain": "  0%|          | 0/2611 [00:00<?, ?it/s]",
      "application/vnd.jupyter.widget-view+json": {
       "version_major": 2,
       "version_minor": 0,
       "model_id": "3ab98abf0f1442e280d87f93f323209d"
      }
     },
     "metadata": {},
     "output_type": "display_data"
    },
    {
     "data": {
      "text/plain": "  0%|          | 0/650 [00:00<?, ?it/s]",
      "application/vnd.jupyter.widget-view+json": {
       "version_major": 2,
       "version_minor": 0,
       "model_id": "3127d6088754470cbc940335cf6c1a62"
      }
     },
     "metadata": {},
     "output_type": "display_data"
    },
    {
     "name": "stderr",
     "output_type": "stream",
     "text": [
      "mask_count_min: 0.0\n",
      "Confusion matrix: \n",
      "              P             N\n",
      "P  2.528518e+05  9.610187e+05\n",
      "N  5.086512e+06  4.753847e+07 \n",
      "Rates: \n",
      "              value\n",
      "recall     0.047356\n",
      "precision  0.208302\n",
      "accuracy   0.887673\n",
      "best_th: 0.1, fbeta: 0.042835669278340135\n",
      "EarlyStopping counter: 6 out of 16\n",
      "Epoch 26 - avg_train_loss: 0.3647  avg_val_loss: 0.5498  time: 612s\n",
      "Epoch 26 - avgScore: 0.0428\n",
      "valid_mask_gt.shape: (7606, 5249) \n",
      "valid_mask_gt.max: 255 \n",
      "\n"
     ]
    },
    {
     "data": {
      "text/plain": "  0%|          | 0/2711 [00:00<?, ?it/s]",
      "application/vnd.jupyter.widget-view+json": {
       "version_major": 2,
       "version_minor": 0,
       "model_id": "03258eb662784aa990473d92f4bb96b5"
      }
     },
     "metadata": {},
     "output_type": "display_data"
    },
    {
     "data": {
      "text/plain": "  0%|          | 0/550 [00:00<?, ?it/s]",
      "application/vnd.jupyter.widget-view+json": {
       "version_major": 2,
       "version_minor": 0,
       "model_id": "393daadebb1e45a9951098f4909d4cdb"
      }
     },
     "metadata": {},
     "output_type": "display_data"
    },
    {
     "name": "stderr",
     "output_type": "stream",
     "text": [
      "mask_count_min: 0.0\n",
      "Confusion matrix: \n",
      "              P             N\n",
      "P  7.644043e+04  5.749655e+05\n",
      "N  3.096043e+06  3.719617e+07 \n",
      "Rates: \n",
      "              value\n",
      "recall     0.024095\n",
      "precision  0.117347\n",
      "accuracy   0.910340\n",
      "best_th: 0.1, fbeta: 1.5742140390864644e-06\n",
      "EarlyStopping counter: 7 out of 16\n",
      "Epoch 27 - avg_train_loss: 0.3800  avg_val_loss: 0.4592  time: 612s\n",
      "Epoch 27 - avgScore: 0.0000\n",
      "valid_mask_gt.shape: (14830, 9506) \n",
      "valid_mask_gt.max: 255 \n",
      "\n"
     ]
    },
    {
     "data": {
      "text/plain": "  0%|          | 0/1199 [00:00<?, ?it/s]",
      "application/vnd.jupyter.widget-view+json": {
       "version_major": 2,
       "version_minor": 0,
       "model_id": "517e7b1b7fba4014a41440041111c9dc"
      }
     },
     "metadata": {},
     "output_type": "display_data"
    },
    {
     "data": {
      "text/plain": "  0%|          | 0/2062 [00:00<?, ?it/s]",
      "application/vnd.jupyter.widget-view+json": {
       "version_major": 2,
       "version_minor": 0,
       "model_id": "dc556a124bc9480984d59b0e2138b917"
      }
     },
     "metadata": {},
     "output_type": "display_data"
    },
    {
     "name": "stderr",
     "output_type": "stream",
     "text": [
      "mask_count_min: 0.0\n",
      "Confusion matrix: \n",
      "              P             N\n",
      "P  5.288807e+05  2.035870e+06\n",
      "N  1.638434e+07  1.256080e+08 \n",
      "Rates: \n",
      "              value\n",
      "recall     0.031270\n",
      "precision  0.206211\n",
      "accuracy   0.872575\n",
      "best_th: 0.1, fbeta: 0.004005386781479453\n",
      "EarlyStopping counter: 8 out of 16\n",
      "Epoch 27 - avg_train_loss: 0.3465  avg_val_loss: 0.6029  time: 503s\n",
      "Epoch 27 - avgScore: 0.0040\n",
      "valid_mask_gt.shape: (8181, 6330) \n",
      "valid_mask_gt.max: 255 \n",
      "\n"
     ]
    },
    {
     "data": {
      "text/plain": "  0%|          | 0/2611 [00:00<?, ?it/s]",
      "application/vnd.jupyter.widget-view+json": {
       "version_major": 2,
       "version_minor": 0,
       "model_id": "0ab10a74de1d4639a343ac41309f99f8"
      }
     },
     "metadata": {},
     "output_type": "display_data"
    },
    {
     "data": {
      "text/plain": "  0%|          | 0/650 [00:00<?, ?it/s]",
      "application/vnd.jupyter.widget-view+json": {
       "version_major": 2,
       "version_minor": 0,
       "model_id": "28f9e889548141f1914a1bcc435b70ea"
      }
     },
     "metadata": {},
     "output_type": "display_data"
    },
    {
     "name": "stderr",
     "output_type": "stream",
     "text": [
      "mask_count_min: 0.0\n",
      "Confusion matrix: \n",
      "              P             N\n",
      "P  2.056696e+05  8.070266e+05\n",
      "N  5.133694e+06  4.769246e+07 \n",
      "Rates: \n",
      "              value\n",
      "recall     0.038519\n",
      "precision  0.203091\n",
      "accuracy   0.889657\n",
      "best_th: 0.1, fbeta: 0.015976260940098075\n",
      "EarlyStopping counter: 9 out of 16\n",
      "Epoch 27 - avg_train_loss: 0.3677  avg_val_loss: 0.5792  time: 606s\n",
      "Epoch 27 - avgScore: 0.0160\n",
      "valid_mask_gt.shape: (7606, 5249) \n",
      "valid_mask_gt.max: 255 \n",
      "\n"
     ]
    },
    {
     "data": {
      "text/plain": "  0%|          | 0/2711 [00:00<?, ?it/s]",
      "application/vnd.jupyter.widget-view+json": {
       "version_major": 2,
       "version_minor": 0,
       "model_id": "310866bc8eab4e8296352a94a1745d46"
      }
     },
     "metadata": {},
     "output_type": "display_data"
    },
    {
     "data": {
      "text/plain": "  0%|          | 0/550 [00:00<?, ?it/s]",
      "application/vnd.jupyter.widget-view+json": {
       "version_major": 2,
       "version_minor": 0,
       "model_id": "434dd87867774e9892c3b5d8a1cc2611"
      }
     },
     "metadata": {},
     "output_type": "display_data"
    },
    {
     "name": "stderr",
     "output_type": "stream",
     "text": [
      "mask_count_min: 0.0\n",
      "Confusion matrix: \n",
      "              P             N\n",
      "P  7.893487e+04  5.807128e+05\n",
      "N  3.093548e+06  3.719042e+07 \n",
      "Rates: \n",
      "              value\n",
      "recall     0.024881\n",
      "precision  0.119662\n",
      "accuracy   0.910260\n",
      "best_th: 0.1, fbeta: 2.0481262464361662e-05\n",
      "EarlyStopping counter: 10 out of 16\n",
      "Epoch 28 - avg_train_loss: 0.3801  avg_val_loss: 0.4579  time: 613s\n",
      "Epoch 28 - avgScore: 0.0000\n",
      "valid_mask_gt.shape: (14830, 9506) \n",
      "valid_mask_gt.max: 255 \n",
      "\n"
     ]
    },
    {
     "data": {
      "text/plain": "  0%|          | 0/1199 [00:00<?, ?it/s]",
      "application/vnd.jupyter.widget-view+json": {
       "version_major": 2,
       "version_minor": 0,
       "model_id": "c246e95005ec464088059199ffbd96bf"
      }
     },
     "metadata": {},
     "output_type": "display_data"
    },
    {
     "data": {
      "text/plain": "  0%|          | 0/2062 [00:00<?, ?it/s]",
      "application/vnd.jupyter.widget-view+json": {
       "version_major": 2,
       "version_minor": 0,
       "model_id": "000ccc180f594d2e861684d477969a1a"
      }
     },
     "metadata": {},
     "output_type": "display_data"
    },
    {
     "name": "stderr",
     "output_type": "stream",
     "text": [
      "mask_count_min: 0.0\n",
      "Confusion matrix: \n",
      "              P             N\n",
      "P  4.875814e+05  1.978716e+06\n",
      "N  1.642564e+07  1.256651e+08 \n",
      "Rates: \n",
      "              value\n",
      "recall     0.028828\n",
      "precision  0.197698\n",
      "accuracy   0.872685\n",
      "best_th: 0.1, fbeta: 0.0008476271696899081\n",
      "EarlyStopping counter: 11 out of 16\n",
      "Epoch 28 - avg_train_loss: 0.3459  avg_val_loss: 0.6140  time: 503s\n",
      "Epoch 28 - avgScore: 0.0008\n",
      "valid_mask_gt.shape: (8181, 6330) \n",
      "valid_mask_gt.max: 255 \n",
      "\n"
     ]
    },
    {
     "data": {
      "text/plain": "  0%|          | 0/2611 [00:00<?, ?it/s]",
      "application/vnd.jupyter.widget-view+json": {
       "version_major": 2,
       "version_minor": 0,
       "model_id": "8e2e3652e7a14d03afc8990182ba36ab"
      }
     },
     "metadata": {},
     "output_type": "display_data"
    },
    {
     "data": {
      "text/plain": "  0%|          | 0/650 [00:00<?, ?it/s]",
      "application/vnd.jupyter.widget-view+json": {
       "version_major": 2,
       "version_minor": 0,
       "model_id": "504b5d8226e74e3886a535d5cc3fe109"
      }
     },
     "metadata": {},
     "output_type": "display_data"
    },
    {
     "name": "stderr",
     "output_type": "stream",
     "text": [
      "mask_count_min: 0.0\n",
      "Confusion matrix: \n",
      "              P             N\n",
      "P  2.331371e+05  8.057946e+05\n",
      "N  5.106227e+06  4.769369e+07 \n",
      "Rates: \n",
      "              value\n",
      "recall     0.043664\n",
      "precision  0.224401\n",
      "accuracy   0.890190\n",
      "best_th: 0.1, fbeta: 0.119686270520836\n",
      "EarlyStopping counter: 12 out of 16\n",
      "Epoch 28 - avg_train_loss: 0.3638  avg_val_loss: 0.5631  time: 613s\n",
      "Epoch 28 - avgScore: 0.1197\n",
      "valid_mask_gt.shape: (7606, 5249) \n",
      "valid_mask_gt.max: 255 \n",
      "\n"
     ]
    },
    {
     "data": {
      "text/plain": "  0%|          | 0/2711 [00:00<?, ?it/s]",
      "application/vnd.jupyter.widget-view+json": {
       "version_major": 2,
       "version_minor": 0,
       "model_id": "53680b6d795b41afaca6cc80bd70ce52"
      }
     },
     "metadata": {},
     "output_type": "display_data"
    },
    {
     "data": {
      "text/plain": "  0%|          | 0/550 [00:00<?, ?it/s]",
      "application/vnd.jupyter.widget-view+json": {
       "version_major": 2,
       "version_minor": 0,
       "model_id": "750ec22dfe37420796a30e2fdd606cfb"
      }
     },
     "metadata": {},
     "output_type": "display_data"
    },
    {
     "name": "stderr",
     "output_type": "stream",
     "text": [
      "mask_count_min: 0.0\n",
      "Confusion matrix: \n",
      "              P             N\n",
      "P  7.005528e+04  5.200947e+05\n",
      "N  3.102428e+06  3.725104e+07 \n",
      "Rates: \n",
      "              value\n",
      "recall     0.022082\n",
      "precision  0.118708\n",
      "accuracy   0.911524\n",
      "best_th: 0.1, fbeta: 1.5748843588631564e-06\n",
      "EarlyStopping counter: 13 out of 16\n",
      "Epoch 29 - avg_train_loss: 0.3737  avg_val_loss: 0.4694  time: 612s\n",
      "Epoch 29 - avgScore: 0.0000\n",
      "valid_mask_gt.shape: (14830, 9506) \n",
      "valid_mask_gt.max: 255 \n",
      "\n"
     ]
    },
    {
     "data": {
      "text/plain": "  0%|          | 0/1199 [00:00<?, ?it/s]",
      "application/vnd.jupyter.widget-view+json": {
       "version_major": 2,
       "version_minor": 0,
       "model_id": "475590dacbc142458789735da2c30074"
      }
     },
     "metadata": {},
     "output_type": "display_data"
    },
    {
     "data": {
      "text/plain": "  0%|          | 0/2062 [00:00<?, ?it/s]",
      "application/vnd.jupyter.widget-view+json": {
       "version_major": 2,
       "version_minor": 0,
       "model_id": "7ea4c164af134d0a9e25575f80c5bd1f"
      }
     },
     "metadata": {},
     "output_type": "display_data"
    },
    {
     "name": "stderr",
     "output_type": "stream",
     "text": [
      "mask_count_min: 0.0\n",
      "Confusion matrix: \n",
      "              P             N\n",
      "P  3.704071e+05  1.524449e+06\n",
      "N  1.654281e+07  1.261194e+08 \n",
      "Rates: \n",
      "              value\n",
      "recall     0.021900\n",
      "precision  0.195480\n",
      "accuracy   0.875016\n",
      "best_th: 0.1, fbeta: 8.394702675269496e-05\n",
      "EarlyStopping counter: 14 out of 16\n",
      "Epoch 29 - avg_train_loss: 0.3409  avg_val_loss: 0.6557  time: 503s\n",
      "Epoch 29 - avgScore: 0.0001\n",
      "valid_mask_gt.shape: (8181, 6330) \n",
      "valid_mask_gt.max: 255 \n",
      "\n"
     ]
    },
    {
     "data": {
      "text/plain": "  0%|          | 0/2611 [00:00<?, ?it/s]",
      "application/vnd.jupyter.widget-view+json": {
       "version_major": 2,
       "version_minor": 0,
       "model_id": "53450b13f17545b19fe06530186dc901"
      }
     },
     "metadata": {},
     "output_type": "display_data"
    },
    {
     "data": {
      "text/plain": "  0%|          | 0/650 [00:00<?, ?it/s]",
      "application/vnd.jupyter.widget-view+json": {
       "version_major": 2,
       "version_minor": 0,
       "model_id": "9265684491ce41e9ac80f6231e106b71"
      }
     },
     "metadata": {},
     "output_type": "display_data"
    },
    {
     "name": "stderr",
     "output_type": "stream",
     "text": [
      "mask_count_min: 0.0\n",
      "Confusion matrix: \n",
      "              P             N\n",
      "P  2.281380e+05  7.844432e+05\n",
      "N  5.111226e+06  4.771504e+07 \n",
      "Rates: \n",
      "              value\n",
      "recall     0.042728\n",
      "precision  0.225303\n",
      "accuracy   0.890494\n",
      "best_th: 0.1, fbeta: 0.10204186812519292\n",
      "EarlyStopping counter: 15 out of 16\n",
      "Epoch 29 - avg_train_loss: 0.3610  avg_val_loss: 0.5672  time: 613s\n",
      "Epoch 29 - avgScore: 0.1020\n",
      "valid_mask_gt.shape: (7606, 5249) \n",
      "valid_mask_gt.max: 255 \n",
      "\n"
     ]
    },
    {
     "data": {
      "text/plain": "  0%|          | 0/2711 [00:00<?, ?it/s]",
      "application/vnd.jupyter.widget-view+json": {
       "version_major": 2,
       "version_minor": 0,
       "model_id": "ead6a9be26874988ac37690a797badce"
      }
     },
     "metadata": {},
     "output_type": "display_data"
    },
    {
     "data": {
      "text/plain": "  0%|          | 0/550 [00:00<?, ?it/s]",
      "application/vnd.jupyter.widget-view+json": {
       "version_major": 2,
       "version_minor": 0,
       "model_id": "11154c45cc50493b81155c619d033f30"
      }
     },
     "metadata": {},
     "output_type": "display_data"
    },
    {
     "name": "stderr",
     "output_type": "stream",
     "text": [
      "mask_count_min: 0.0\n",
      "Confusion matrix: \n",
      "              P             N\n",
      "P  7.426872e+04  5.259292e+05\n",
      "N  3.098214e+06  3.724520e+07 \n",
      "Rates: \n",
      "              value\n",
      "recall     0.023410\n",
      "precision  0.123740\n",
      "accuracy   0.911485\n",
      "best_th: 0.1, fbeta: 9.453381789913173e-06\n",
      "EarlyStopping counter: 16 out of 16\n",
      "Epoch 30 - avg_train_loss: 0.3732  avg_val_loss: 0.4668  time: 619s\n",
      "Epoch 30 - avgScore: 0.0000\n",
      "Early stopping\n",
      "Early stopping\n"
     ]
    },
    {
     "data": {
      "text/plain": "2516"
     },
     "execution_count": 24,
     "metadata": {},
     "output_type": "execute_result"
    }
   ],
   "source": [
    "\n",
    "#    fold_configs = create_foldset()\n",
    "Logger.info(CONFIG)\n",
    "\n",
    "model, best_loss = build_model(cfg)\n",
    "best_loss = best_loss if best_loss is not None else np.inf\n",
    "model.to(device)\n",
    "\n",
    "if is_test:\n",
    "    pass\n",
    "\n",
    "\n",
    "if is_train:\n",
    "    early_stopping = EarlyStopping(\n",
    "        patience=Config.PATIENCE, verbose=True\n",
    "    )\n",
    "    fold_configs = create_foldset()\n",
    "    for epoch in range(CONFIG[\"epochs\"]//len(fold_configs)):\n",
    "        optimizer = AdamW(model.parameters(), lr=CONFIG[\"lr\"])\n",
    "        scheduler = get_scheduler(CONFIG, optimizer)\n",
    "\n",
    "        for fold_config in fold_configs:\n",
    "            train_loader = make_dataset(fold_config[\"train\"], dataset_mode='train')\n",
    "            valid_loader = make_dataset(fold_config[\"valid\"], dataset_mode='valid')\n",
    "\n",
    "            valid_mask_gt = valid_loader.dataset.get_gt(0)\n",
    "\n",
    "            valid_mask_gt = preprocess_valid_mask_gt(valid_mask_gt, CONFIG[\"tile_size\"])\n",
    "\n",
    "            start_time = time.time()\n",
    "\n",
    "            # train\n",
    "            avg_loss = train_fn(train_loader, model, criterion, optimizer, device)\n",
    "\n",
    "            # eval\n",
    "            avg_val_loss, label_pred = valid_fn(\n",
    "                valid_loader, model, criterion, device, valid_mask_gt)\n",
    "\n",
    "            if avg_val_loss < best_loss:\n",
    "                best_loss = avg_val_loss\n",
    "                Logger.info(f'best_loss: {best_loss:.4f}')\n",
    "                torch.save(model.state_dict(), get_saved_model_path(cfg))\n",
    "\n",
    "            scheduler_step(scheduler, avg_val_loss, epoch)\n",
    "\n",
    "            best_dice, best_th = calc_cv(valid_mask_gt, label_pred)\n",
    "\n",
    "            model.th = best_th\n",
    "\n",
    "            # score = avg_val_loss\n",
    "            score = best_dice\n",
    "\n",
    "            elapsed = time.time() - start_time\n",
    "\n",
    "            early_stopping(score,avg_val_loss, model)\n",
    "\n",
    "            Logger.info(\n",
    "                f'Epoch {epoch + 1} - avg_train_loss: {avg_loss:.4f}  avg_val_loss: {avg_val_loss:.4f}  time: {elapsed:.0f}s')\n",
    "            Logger.info(\n",
    "                f'Epoch {epoch + 1} - avgScore: {score:.4f}')\n",
    "            if USE_WANDB:\n",
    "                wandb.log({\n",
    "                    \"train_loss\": avg_loss,\n",
    "                    \"val_loss\": avg_val_loss,\n",
    "                    \"best_dice\": best_dice,\n",
    "                    \"best_th\": best_th,\n",
    "                    \"best_loss\": best_loss,\n",
    "                })\n",
    "            if early_stopping.early_stop:\n",
    "                Logger.info(\"Early stopping\")\n",
    "                break\n",
    "        if early_stopping.early_stop:\n",
    "            Logger.info(\"Early stopping\")\n",
    "            break\n",
    "\n",
    "\n",
    "del model, optimizer, scheduler, early_stopping, train_loader, valid_loader, valid_mask_gt, label_pred\n",
    "torch.cuda.empty_cache()\n",
    "gc.collect()\n",
    "\n"
   ],
   "metadata": {
    "collapsed": false,
    "ExecuteTime": {
     "start_time": "2023-04-28T13:01:16.796074Z",
     "end_time": "2023-04-28T13:01:16.796074Z"
    }
   }
  },
  {
   "cell_type": "markdown",
   "source": [
    "## Prediction"
   ],
   "metadata": {
    "collapsed": false
   }
  },
  {
   "cell_type": "code",
   "execution_count": 25,
   "outputs": [
    {
     "data": {
      "text/plain": "<IPython.core.display.HTML object>",
      "text/html": "Waiting for W&B process to finish... <strong style=\"color:green\">(success).</strong>"
     },
     "metadata": {},
     "output_type": "display_data"
    },
    {
     "data": {
      "text/plain": "VBox(children=(Label(value='0.001 MB of 0.001 MB uploaded (0.000 MB deduped)\\r'), FloatProgress(value=1.0, max…",
      "application/vnd.jupyter.widget-view+json": {
       "version_major": 2,
       "version_minor": 0,
       "model_id": "1178154304844ace9efaa31fc14c64d8"
      }
     },
     "metadata": {},
     "output_type": "display_data"
    },
    {
     "data": {
      "text/plain": "<IPython.core.display.HTML object>",
      "text/html": "<style>\n    table.wandb td:nth-child(1) { padding: 0 10px; text-align: left ; width: auto;} td:nth-child(2) {text-align: left ; width: 100%}\n    .wandb-row { display: flex; flex-direction: row; flex-wrap: wrap; justify-content: flex-start; width: 100% }\n    .wandb-col { display: flex; flex-direction: column; flex-basis: 100%; flex: 1; padding: 10px; }\n    </style>\n<div class=\"wandb-row\"><div class=\"wandb-col\"><h3>Run history:</h3><br/><table class=\"wandb\"><tr><td>best_dice</td><td>▅▆▆▃▇▇▅▄▇▇▆▅██▇▆█▇█▅▇▇▇▂█▃▃▁▇▃▁▁▅▂▁▁▁▁▁▁</td></tr><tr><td>best_loss</td><td>██▆▅▅▅▄▄▄▄▄▄▄▄▁▁▁▁▁▁▁▁▁▁▁▁▁▁▁▁▁▁▁▁▁▁▁▁▁▁</td></tr><tr><td>best_th</td><td>███▁██▁▁██▁▁██▁▁█▁▁▁█▁▁▁▁▁▁▁▁▁▁▁▁▁▁▁▁▁▁▁</td></tr><tr><td>train_loss</td><td>█▇▄█▆▆▄█▆▆▃▇▅▅▃▇▅▂▂▆▄▂▂▅▄▁▂▄▃▂▄▄▃▁▄▄▃▁▃▃</td></tr><tr><td>val_loss</td><td>▁▃▃▁▃▃▃▁▃▃▃▁▃▃▃▁▃▄▄▂▃▅▅▂▄▆▆▃▄▆▃▃▅▇▄▄▇█▄▄</td></tr></table><br/></div><div class=\"wandb-col\"><h3>Run summary:</h3><br/><table class=\"wandb\"><tr><td>best_dice</td><td>1e-05</td></tr><tr><td>best_loss</td><td>0.33725</td></tr><tr><td>best_th</td><td>0.1</td></tr><tr><td>train_loss</td><td>0.37322</td></tr><tr><td>val_loss</td><td>0.46682</td></tr></table><br/></div></div>"
     },
     "metadata": {},
     "output_type": "display_data"
    },
    {
     "data": {
      "text/plain": "<IPython.core.display.HTML object>",
      "text/html": " View run <strong style=\"color:#cdcd00\">Unet++_2.5d_Unimodel_20230427_225506</strong> at: <a href='https://wandb.ai/lzhen-ntu/vesuvius/runs/yty3ycwi' target=\"_blank\">https://wandb.ai/lzhen-ntu/vesuvius/runs/yty3ycwi</a><br/>Synced 6 W&B file(s), 0 media file(s), 0 artifact file(s) and 0 other file(s)"
     },
     "metadata": {},
     "output_type": "display_data"
    },
    {
     "data": {
      "text/plain": "<IPython.core.display.HTML object>",
      "text/html": "Find logs at: <code>.\\..\\saved\\logs\\wandb\\run-20230427_225510-yty3ycwi\\logs</code>"
     },
     "metadata": {},
     "output_type": "display_data"
    }
   ],
   "source": [
    "if USE_WANDB:\n",
    "    wandb.finish()"
   ],
   "metadata": {
    "collapsed": false,
    "ExecuteTime": {
     "start_time": "2023-04-28T13:01:23.071760Z",
     "end_time": "2023-04-28T13:01:23.072760Z"
    }
   }
  },
  {
   "cell_type": "code",
   "execution_count": 26,
   "outputs": [
    {
     "name": "stderr",
     "output_type": "stream",
     "text": [
      "model_name: Unet++\n",
      "backbone: se_resnext50_32x4d\n",
      "load model from: D:\\Codes\\python\\kaggle\\Vesuvius\\dev\\..\\saved\\checkpoints\\Unet++_16_best.pth\n"
     ]
    },
    {
     "ename": "RuntimeError",
     "evalue": "Given groups=1, weight of size [64, 16, 7, 7], expected input[1, 6, 224, 224] to have 16 channels, but got 6 channels instead",
     "output_type": "error",
     "traceback": [
      "\u001B[1;31m---------------------------------------------------------------------------\u001B[0m",
      "\u001B[1;31mRuntimeError\u001B[0m                              Traceback (most recent call last)",
      "\u001B[1;32m~\\AppData\\Local\\Temp\\ipykernel_10668\\2130176599.py\u001B[0m in \u001B[0;36m<module>\u001B[1;34m\u001B[0m\n\u001B[0;32m     19\u001B[0m     \u001B[0mmodel\u001B[0m\u001B[1;33m,\u001B[0m \u001B[0mbest_loss\u001B[0m \u001B[1;33m=\u001B[0m \u001B[0mbuild_model\u001B[0m\u001B[1;33m(\u001B[0m\u001B[0mcfg\u001B[0m\u001B[1;33m)\u001B[0m\u001B[1;33m\u001B[0m\u001B[1;33m\u001B[0m\u001B[0m\n\u001B[0;32m     20\u001B[0m     \u001B[0mmodel\u001B[0m\u001B[1;33m.\u001B[0m\u001B[0mto\u001B[0m\u001B[1;33m(\u001B[0m\u001B[0mdevice\u001B[0m\u001B[1;33m)\u001B[0m\u001B[1;33m\u001B[0m\u001B[1;33m\u001B[0m\u001B[0m\n\u001B[1;32m---> 21\u001B[1;33m     \u001B[0mlabel_pred\u001B[0m\u001B[1;33m=\u001B[0m\u001B[0mtest_fn\u001B[0m\u001B[1;33m(\u001B[0m\u001B[0mtest_img\u001B[0m\u001B[1;33m,\u001B[0m \u001B[0mmodel\u001B[0m\u001B[1;33m,\u001B[0m \u001B[0mdevice\u001B[0m\u001B[1;33m,\u001B[0m\u001B[0mmask\u001B[0m\u001B[1;33m,\u001B[0m \u001B[0mcfg\u001B[0m\u001B[1;33m[\u001B[0m\u001B[1;34m'tile_size'\u001B[0m\u001B[1;33m]\u001B[0m\u001B[1;33m)\u001B[0m\u001B[1;33m\u001B[0m\u001B[1;33m\u001B[0m\u001B[0m\n\u001B[0m\u001B[0;32m     22\u001B[0m \u001B[1;33m\u001B[0m\u001B[0m\n\u001B[0;32m     23\u001B[0m     \u001B[0mfig\u001B[0m\u001B[1;33m,\u001B[0m\u001B[0max\u001B[0m\u001B[1;33m=\u001B[0m \u001B[0mplt\u001B[0m\u001B[1;33m.\u001B[0m\u001B[0msubplots\u001B[0m\u001B[1;33m(\u001B[0m\u001B[1;36m1\u001B[0m\u001B[1;33m,\u001B[0m\u001B[1;36m3\u001B[0m\u001B[1;33m,\u001B[0m\u001B[0mfigsize\u001B[0m\u001B[1;33m=\u001B[0m\u001B[1;33m(\u001B[0m\u001B[1;36m10\u001B[0m\u001B[1;33m,\u001B[0m\u001B[1;36m5\u001B[0m\u001B[1;33m)\u001B[0m\u001B[1;33m)\u001B[0m\u001B[1;33m\u001B[0m\u001B[1;33m\u001B[0m\u001B[0m\n",
      "\u001B[1;32m~\\AppData\\Local\\Temp\\ipykernel_10668\\2422065832.py\u001B[0m in \u001B[0;36mtest_fn\u001B[1;34m(test_img, model, device, mask_gt, tile_size)\u001B[0m\n\u001B[0;32m     35\u001B[0m         \u001B[0mimg\u001B[0m \u001B[1;33m=\u001B[0m \u001B[0mimg\u001B[0m\u001B[1;33m.\u001B[0m\u001B[0mto\u001B[0m\u001B[1;33m(\u001B[0m\u001B[0mdevice\u001B[0m\u001B[1;33m)\u001B[0m\u001B[1;33m\u001B[0m\u001B[1;33m\u001B[0m\u001B[0m\n\u001B[0;32m     36\u001B[0m         \u001B[1;32mwith\u001B[0m \u001B[0mtorch\u001B[0m\u001B[1;33m.\u001B[0m\u001B[0mno_grad\u001B[0m\u001B[1;33m(\u001B[0m\u001B[1;33m)\u001B[0m\u001B[1;33m:\u001B[0m\u001B[1;33m\u001B[0m\u001B[1;33m\u001B[0m\u001B[0m\n\u001B[1;32m---> 37\u001B[1;33m             \u001B[0my_preds\u001B[0m \u001B[1;33m=\u001B[0m \u001B[0mmodel\u001B[0m\u001B[1;33m(\u001B[0m\u001B[0mimg\u001B[0m\u001B[1;33m)\u001B[0m\u001B[1;33m.\u001B[0m\u001B[0msqueeze\u001B[0m\u001B[1;33m(\u001B[0m\u001B[1;33m)\u001B[0m\u001B[1;33m\u001B[0m\u001B[1;33m\u001B[0m\u001B[0m\n\u001B[0m\u001B[0;32m     38\u001B[0m \u001B[1;33m\u001B[0m\u001B[0m\n\u001B[0;32m     39\u001B[0m         \u001B[0mlabel_pred\u001B[0m\u001B[1;33m[\u001B[0m\u001B[0mx1\u001B[0m\u001B[1;33m:\u001B[0m\u001B[0mx2\u001B[0m\u001B[1;33m,\u001B[0m \u001B[0my1\u001B[0m\u001B[1;33m:\u001B[0m\u001B[0my2\u001B[0m\u001B[1;33m]\u001B[0m \u001B[1;33m+=\u001B[0m \u001B[0my_preds\u001B[0m\u001B[1;33m>\u001B[0m\u001B[0mmodel\u001B[0m\u001B[1;33m.\u001B[0m\u001B[0mth\u001B[0m\u001B[1;33m\u001B[0m\u001B[1;33m\u001B[0m\u001B[0m\n",
      "\u001B[1;32m~\\miniconda3\\envs\\kaggle_Vesuvius\\lib\\site-packages\\torch\\nn\\modules\\module.py\u001B[0m in \u001B[0;36m_call_impl\u001B[1;34m(self, *input, **kwargs)\u001B[0m\n\u001B[0;32m   1192\u001B[0m         if not (self._backward_hooks or self._forward_hooks or self._forward_pre_hooks or _global_backward_hooks\n\u001B[0;32m   1193\u001B[0m                 or _global_forward_hooks or _global_forward_pre_hooks):\n\u001B[1;32m-> 1194\u001B[1;33m             \u001B[1;32mreturn\u001B[0m \u001B[0mforward_call\u001B[0m\u001B[1;33m(\u001B[0m\u001B[1;33m*\u001B[0m\u001B[0minput\u001B[0m\u001B[1;33m,\u001B[0m \u001B[1;33m**\u001B[0m\u001B[0mkwargs\u001B[0m\u001B[1;33m)\u001B[0m\u001B[1;33m\u001B[0m\u001B[1;33m\u001B[0m\u001B[0m\n\u001B[0m\u001B[0;32m   1195\u001B[0m         \u001B[1;31m# Do not call functions when jit is used\u001B[0m\u001B[1;33m\u001B[0m\u001B[1;33m\u001B[0m\u001B[1;33m\u001B[0m\u001B[0m\n\u001B[0;32m   1196\u001B[0m         \u001B[0mfull_backward_hooks\u001B[0m\u001B[1;33m,\u001B[0m \u001B[0mnon_full_backward_hooks\u001B[0m \u001B[1;33m=\u001B[0m \u001B[1;33m[\u001B[0m\u001B[1;33m]\u001B[0m\u001B[1;33m,\u001B[0m \u001B[1;33m[\u001B[0m\u001B[1;33m]\u001B[0m\u001B[1;33m\u001B[0m\u001B[1;33m\u001B[0m\u001B[0m\n",
      "\u001B[1;32m~\\AppData\\Local\\Temp\\ipykernel_10668\\1289317983.py\u001B[0m in \u001B[0;36mforward\u001B[1;34m(self, image)\u001B[0m\n\u001B[0;32m     19\u001B[0m \u001B[1;33m\u001B[0m\u001B[0m\n\u001B[0;32m     20\u001B[0m     \u001B[1;32mdef\u001B[0m \u001B[0mforward\u001B[0m\u001B[1;33m(\u001B[0m\u001B[0mself\u001B[0m\u001B[1;33m,\u001B[0m \u001B[0mimage\u001B[0m\u001B[1;33m)\u001B[0m\u001B[1;33m:\u001B[0m\u001B[1;33m\u001B[0m\u001B[1;33m\u001B[0m\u001B[0m\n\u001B[1;32m---> 21\u001B[1;33m         \u001B[0moutput\u001B[0m \u001B[1;33m=\u001B[0m \u001B[0mself\u001B[0m\u001B[1;33m.\u001B[0m\u001B[0mencoder\u001B[0m\u001B[1;33m(\u001B[0m\u001B[0mimage\u001B[0m\u001B[1;33m)\u001B[0m\u001B[1;33m\u001B[0m\u001B[1;33m\u001B[0m\u001B[0m\n\u001B[0m\u001B[0;32m     22\u001B[0m         \u001B[1;31m# output = output.squeeze(-1)\u001B[0m\u001B[1;33m\u001B[0m\u001B[1;33m\u001B[0m\u001B[1;33m\u001B[0m\u001B[0m\n\u001B[0;32m     23\u001B[0m         \u001B[1;32mreturn\u001B[0m \u001B[0moutput\u001B[0m\u001B[1;33m\u001B[0m\u001B[1;33m\u001B[0m\u001B[0m\n",
      "\u001B[1;32m~\\miniconda3\\envs\\kaggle_Vesuvius\\lib\\site-packages\\torch\\nn\\modules\\module.py\u001B[0m in \u001B[0;36m_call_impl\u001B[1;34m(self, *input, **kwargs)\u001B[0m\n\u001B[0;32m   1192\u001B[0m         if not (self._backward_hooks or self._forward_hooks or self._forward_pre_hooks or _global_backward_hooks\n\u001B[0;32m   1193\u001B[0m                 or _global_forward_hooks or _global_forward_pre_hooks):\n\u001B[1;32m-> 1194\u001B[1;33m             \u001B[1;32mreturn\u001B[0m \u001B[0mforward_call\u001B[0m\u001B[1;33m(\u001B[0m\u001B[1;33m*\u001B[0m\u001B[0minput\u001B[0m\u001B[1;33m,\u001B[0m \u001B[1;33m**\u001B[0m\u001B[0mkwargs\u001B[0m\u001B[1;33m)\u001B[0m\u001B[1;33m\u001B[0m\u001B[1;33m\u001B[0m\u001B[0m\n\u001B[0m\u001B[0;32m   1195\u001B[0m         \u001B[1;31m# Do not call functions when jit is used\u001B[0m\u001B[1;33m\u001B[0m\u001B[1;33m\u001B[0m\u001B[1;33m\u001B[0m\u001B[0m\n\u001B[0;32m   1196\u001B[0m         \u001B[0mfull_backward_hooks\u001B[0m\u001B[1;33m,\u001B[0m \u001B[0mnon_full_backward_hooks\u001B[0m \u001B[1;33m=\u001B[0m \u001B[1;33m[\u001B[0m\u001B[1;33m]\u001B[0m\u001B[1;33m,\u001B[0m \u001B[1;33m[\u001B[0m\u001B[1;33m]\u001B[0m\u001B[1;33m\u001B[0m\u001B[1;33m\u001B[0m\u001B[0m\n",
      "\u001B[1;32m~\\miniconda3\\envs\\kaggle_Vesuvius\\lib\\site-packages\\segmentation_models_pytorch\\base\\model.py\u001B[0m in \u001B[0;36mforward\u001B[1;34m(self, x)\u001B[0m\n\u001B[0;32m     27\u001B[0m         \u001B[0mself\u001B[0m\u001B[1;33m.\u001B[0m\u001B[0mcheck_input_shape\u001B[0m\u001B[1;33m(\u001B[0m\u001B[0mx\u001B[0m\u001B[1;33m)\u001B[0m\u001B[1;33m\u001B[0m\u001B[1;33m\u001B[0m\u001B[0m\n\u001B[0;32m     28\u001B[0m \u001B[1;33m\u001B[0m\u001B[0m\n\u001B[1;32m---> 29\u001B[1;33m         \u001B[0mfeatures\u001B[0m \u001B[1;33m=\u001B[0m \u001B[0mself\u001B[0m\u001B[1;33m.\u001B[0m\u001B[0mencoder\u001B[0m\u001B[1;33m(\u001B[0m\u001B[0mx\u001B[0m\u001B[1;33m)\u001B[0m\u001B[1;33m\u001B[0m\u001B[1;33m\u001B[0m\u001B[0m\n\u001B[0m\u001B[0;32m     30\u001B[0m         \u001B[0mdecoder_output\u001B[0m \u001B[1;33m=\u001B[0m \u001B[0mself\u001B[0m\u001B[1;33m.\u001B[0m\u001B[0mdecoder\u001B[0m\u001B[1;33m(\u001B[0m\u001B[1;33m*\u001B[0m\u001B[0mfeatures\u001B[0m\u001B[1;33m)\u001B[0m\u001B[1;33m\u001B[0m\u001B[1;33m\u001B[0m\u001B[0m\n\u001B[0;32m     31\u001B[0m \u001B[1;33m\u001B[0m\u001B[0m\n",
      "\u001B[1;32m~\\miniconda3\\envs\\kaggle_Vesuvius\\lib\\site-packages\\torch\\nn\\modules\\module.py\u001B[0m in \u001B[0;36m_call_impl\u001B[1;34m(self, *input, **kwargs)\u001B[0m\n\u001B[0;32m   1192\u001B[0m         if not (self._backward_hooks or self._forward_hooks or self._forward_pre_hooks or _global_backward_hooks\n\u001B[0;32m   1193\u001B[0m                 or _global_forward_hooks or _global_forward_pre_hooks):\n\u001B[1;32m-> 1194\u001B[1;33m             \u001B[1;32mreturn\u001B[0m \u001B[0mforward_call\u001B[0m\u001B[1;33m(\u001B[0m\u001B[1;33m*\u001B[0m\u001B[0minput\u001B[0m\u001B[1;33m,\u001B[0m \u001B[1;33m**\u001B[0m\u001B[0mkwargs\u001B[0m\u001B[1;33m)\u001B[0m\u001B[1;33m\u001B[0m\u001B[1;33m\u001B[0m\u001B[0m\n\u001B[0m\u001B[0;32m   1195\u001B[0m         \u001B[1;31m# Do not call functions when jit is used\u001B[0m\u001B[1;33m\u001B[0m\u001B[1;33m\u001B[0m\u001B[1;33m\u001B[0m\u001B[0m\n\u001B[0;32m   1196\u001B[0m         \u001B[0mfull_backward_hooks\u001B[0m\u001B[1;33m,\u001B[0m \u001B[0mnon_full_backward_hooks\u001B[0m \u001B[1;33m=\u001B[0m \u001B[1;33m[\u001B[0m\u001B[1;33m]\u001B[0m\u001B[1;33m,\u001B[0m \u001B[1;33m[\u001B[0m\u001B[1;33m]\u001B[0m\u001B[1;33m\u001B[0m\u001B[1;33m\u001B[0m\u001B[0m\n",
      "\u001B[1;32m~\\miniconda3\\envs\\kaggle_Vesuvius\\lib\\site-packages\\segmentation_models_pytorch\\encoders\\senet.py\u001B[0m in \u001B[0;36mforward\u001B[1;34m(self, x)\u001B[0m\n\u001B[0;32m     62\u001B[0m         \u001B[0mfeatures\u001B[0m \u001B[1;33m=\u001B[0m \u001B[1;33m[\u001B[0m\u001B[1;33m]\u001B[0m\u001B[1;33m\u001B[0m\u001B[1;33m\u001B[0m\u001B[0m\n\u001B[0;32m     63\u001B[0m         \u001B[1;32mfor\u001B[0m \u001B[0mi\u001B[0m \u001B[1;32min\u001B[0m \u001B[0mrange\u001B[0m\u001B[1;33m(\u001B[0m\u001B[0mself\u001B[0m\u001B[1;33m.\u001B[0m\u001B[0m_depth\u001B[0m \u001B[1;33m+\u001B[0m \u001B[1;36m1\u001B[0m\u001B[1;33m)\u001B[0m\u001B[1;33m:\u001B[0m\u001B[1;33m\u001B[0m\u001B[1;33m\u001B[0m\u001B[0m\n\u001B[1;32m---> 64\u001B[1;33m             \u001B[0mx\u001B[0m \u001B[1;33m=\u001B[0m \u001B[0mstages\u001B[0m\u001B[1;33m[\u001B[0m\u001B[0mi\u001B[0m\u001B[1;33m]\u001B[0m\u001B[1;33m(\u001B[0m\u001B[0mx\u001B[0m\u001B[1;33m)\u001B[0m\u001B[1;33m\u001B[0m\u001B[1;33m\u001B[0m\u001B[0m\n\u001B[0m\u001B[0;32m     65\u001B[0m             \u001B[0mfeatures\u001B[0m\u001B[1;33m.\u001B[0m\u001B[0mappend\u001B[0m\u001B[1;33m(\u001B[0m\u001B[0mx\u001B[0m\u001B[1;33m)\u001B[0m\u001B[1;33m\u001B[0m\u001B[1;33m\u001B[0m\u001B[0m\n\u001B[0;32m     66\u001B[0m \u001B[1;33m\u001B[0m\u001B[0m\n",
      "\u001B[1;32m~\\miniconda3\\envs\\kaggle_Vesuvius\\lib\\site-packages\\torch\\nn\\modules\\module.py\u001B[0m in \u001B[0;36m_call_impl\u001B[1;34m(self, *input, **kwargs)\u001B[0m\n\u001B[0;32m   1192\u001B[0m         if not (self._backward_hooks or self._forward_hooks or self._forward_pre_hooks or _global_backward_hooks\n\u001B[0;32m   1193\u001B[0m                 or _global_forward_hooks or _global_forward_pre_hooks):\n\u001B[1;32m-> 1194\u001B[1;33m             \u001B[1;32mreturn\u001B[0m \u001B[0mforward_call\u001B[0m\u001B[1;33m(\u001B[0m\u001B[1;33m*\u001B[0m\u001B[0minput\u001B[0m\u001B[1;33m,\u001B[0m \u001B[1;33m**\u001B[0m\u001B[0mkwargs\u001B[0m\u001B[1;33m)\u001B[0m\u001B[1;33m\u001B[0m\u001B[1;33m\u001B[0m\u001B[0m\n\u001B[0m\u001B[0;32m   1195\u001B[0m         \u001B[1;31m# Do not call functions when jit is used\u001B[0m\u001B[1;33m\u001B[0m\u001B[1;33m\u001B[0m\u001B[1;33m\u001B[0m\u001B[0m\n\u001B[0;32m   1196\u001B[0m         \u001B[0mfull_backward_hooks\u001B[0m\u001B[1;33m,\u001B[0m \u001B[0mnon_full_backward_hooks\u001B[0m \u001B[1;33m=\u001B[0m \u001B[1;33m[\u001B[0m\u001B[1;33m]\u001B[0m\u001B[1;33m,\u001B[0m \u001B[1;33m[\u001B[0m\u001B[1;33m]\u001B[0m\u001B[1;33m\u001B[0m\u001B[1;33m\u001B[0m\u001B[0m\n",
      "\u001B[1;32m~\\miniconda3\\envs\\kaggle_Vesuvius\\lib\\site-packages\\torch\\nn\\modules\\container.py\u001B[0m in \u001B[0;36mforward\u001B[1;34m(self, input)\u001B[0m\n\u001B[0;32m    202\u001B[0m     \u001B[1;32mdef\u001B[0m \u001B[0mforward\u001B[0m\u001B[1;33m(\u001B[0m\u001B[0mself\u001B[0m\u001B[1;33m,\u001B[0m \u001B[0minput\u001B[0m\u001B[1;33m)\u001B[0m\u001B[1;33m:\u001B[0m\u001B[1;33m\u001B[0m\u001B[1;33m\u001B[0m\u001B[0m\n\u001B[0;32m    203\u001B[0m         \u001B[1;32mfor\u001B[0m \u001B[0mmodule\u001B[0m \u001B[1;32min\u001B[0m \u001B[0mself\u001B[0m\u001B[1;33m:\u001B[0m\u001B[1;33m\u001B[0m\u001B[1;33m\u001B[0m\u001B[0m\n\u001B[1;32m--> 204\u001B[1;33m             \u001B[0minput\u001B[0m \u001B[1;33m=\u001B[0m \u001B[0mmodule\u001B[0m\u001B[1;33m(\u001B[0m\u001B[0minput\u001B[0m\u001B[1;33m)\u001B[0m\u001B[1;33m\u001B[0m\u001B[1;33m\u001B[0m\u001B[0m\n\u001B[0m\u001B[0;32m    205\u001B[0m         \u001B[1;32mreturn\u001B[0m \u001B[0minput\u001B[0m\u001B[1;33m\u001B[0m\u001B[1;33m\u001B[0m\u001B[0m\n\u001B[0;32m    206\u001B[0m \u001B[1;33m\u001B[0m\u001B[0m\n",
      "\u001B[1;32m~\\miniconda3\\envs\\kaggle_Vesuvius\\lib\\site-packages\\torch\\nn\\modules\\module.py\u001B[0m in \u001B[0;36m_call_impl\u001B[1;34m(self, *input, **kwargs)\u001B[0m\n\u001B[0;32m   1192\u001B[0m         if not (self._backward_hooks or self._forward_hooks or self._forward_pre_hooks or _global_backward_hooks\n\u001B[0;32m   1193\u001B[0m                 or _global_forward_hooks or _global_forward_pre_hooks):\n\u001B[1;32m-> 1194\u001B[1;33m             \u001B[1;32mreturn\u001B[0m \u001B[0mforward_call\u001B[0m\u001B[1;33m(\u001B[0m\u001B[1;33m*\u001B[0m\u001B[0minput\u001B[0m\u001B[1;33m,\u001B[0m \u001B[1;33m**\u001B[0m\u001B[0mkwargs\u001B[0m\u001B[1;33m)\u001B[0m\u001B[1;33m\u001B[0m\u001B[1;33m\u001B[0m\u001B[0m\n\u001B[0m\u001B[0;32m   1195\u001B[0m         \u001B[1;31m# Do not call functions when jit is used\u001B[0m\u001B[1;33m\u001B[0m\u001B[1;33m\u001B[0m\u001B[1;33m\u001B[0m\u001B[0m\n\u001B[0;32m   1196\u001B[0m         \u001B[0mfull_backward_hooks\u001B[0m\u001B[1;33m,\u001B[0m \u001B[0mnon_full_backward_hooks\u001B[0m \u001B[1;33m=\u001B[0m \u001B[1;33m[\u001B[0m\u001B[1;33m]\u001B[0m\u001B[1;33m,\u001B[0m \u001B[1;33m[\u001B[0m\u001B[1;33m]\u001B[0m\u001B[1;33m\u001B[0m\u001B[1;33m\u001B[0m\u001B[0m\n",
      "\u001B[1;32m~\\miniconda3\\envs\\kaggle_Vesuvius\\lib\\site-packages\\torch\\nn\\modules\\conv.py\u001B[0m in \u001B[0;36mforward\u001B[1;34m(self, input)\u001B[0m\n\u001B[0;32m    461\u001B[0m \u001B[1;33m\u001B[0m\u001B[0m\n\u001B[0;32m    462\u001B[0m     \u001B[1;32mdef\u001B[0m \u001B[0mforward\u001B[0m\u001B[1;33m(\u001B[0m\u001B[0mself\u001B[0m\u001B[1;33m,\u001B[0m \u001B[0minput\u001B[0m\u001B[1;33m:\u001B[0m \u001B[0mTensor\u001B[0m\u001B[1;33m)\u001B[0m \u001B[1;33m->\u001B[0m \u001B[0mTensor\u001B[0m\u001B[1;33m:\u001B[0m\u001B[1;33m\u001B[0m\u001B[1;33m\u001B[0m\u001B[0m\n\u001B[1;32m--> 463\u001B[1;33m         \u001B[1;32mreturn\u001B[0m \u001B[0mself\u001B[0m\u001B[1;33m.\u001B[0m\u001B[0m_conv_forward\u001B[0m\u001B[1;33m(\u001B[0m\u001B[0minput\u001B[0m\u001B[1;33m,\u001B[0m \u001B[0mself\u001B[0m\u001B[1;33m.\u001B[0m\u001B[0mweight\u001B[0m\u001B[1;33m,\u001B[0m \u001B[0mself\u001B[0m\u001B[1;33m.\u001B[0m\u001B[0mbias\u001B[0m\u001B[1;33m)\u001B[0m\u001B[1;33m\u001B[0m\u001B[1;33m\u001B[0m\u001B[0m\n\u001B[0m\u001B[0;32m    464\u001B[0m \u001B[1;33m\u001B[0m\u001B[0m\n\u001B[0;32m    465\u001B[0m \u001B[1;32mclass\u001B[0m \u001B[0mConv3d\u001B[0m\u001B[1;33m(\u001B[0m\u001B[0m_ConvNd\u001B[0m\u001B[1;33m)\u001B[0m\u001B[1;33m:\u001B[0m\u001B[1;33m\u001B[0m\u001B[1;33m\u001B[0m\u001B[0m\n",
      "\u001B[1;32m~\\miniconda3\\envs\\kaggle_Vesuvius\\lib\\site-packages\\torch\\nn\\modules\\conv.py\u001B[0m in \u001B[0;36m_conv_forward\u001B[1;34m(self, input, weight, bias)\u001B[0m\n\u001B[0;32m    458\u001B[0m                             _pair(0), self.dilation, self.groups)\n\u001B[0;32m    459\u001B[0m         return F.conv2d(input, weight, bias, self.stride,\n\u001B[1;32m--> 460\u001B[1;33m                         self.padding, self.dilation, self.groups)\n\u001B[0m\u001B[0;32m    461\u001B[0m \u001B[1;33m\u001B[0m\u001B[0m\n\u001B[0;32m    462\u001B[0m     \u001B[1;32mdef\u001B[0m \u001B[0mforward\u001B[0m\u001B[1;33m(\u001B[0m\u001B[0mself\u001B[0m\u001B[1;33m,\u001B[0m \u001B[0minput\u001B[0m\u001B[1;33m:\u001B[0m \u001B[0mTensor\u001B[0m\u001B[1;33m)\u001B[0m \u001B[1;33m->\u001B[0m \u001B[0mTensor\u001B[0m\u001B[1;33m:\u001B[0m\u001B[1;33m\u001B[0m\u001B[1;33m\u001B[0m\u001B[0m\n",
      "\u001B[1;31mRuntimeError\u001B[0m: Given groups=1, weight of size [64, 16, 7, 7], expected input[1, 6, 224, 224] to have 16 channels, but got 6 channels instead"
     ]
    }
   ],
   "source": [
    "from matplotlib import pyplot as plt\n",
    "\n",
    "results = []\n",
    "for id in ['a', 'b']:\n",
    "\n",
    "    test_img=ImgLoader.load_from_path_static(\n",
    "        cache_dir=cfg['cache_dir'],\n",
    "        data_dir=cfg['data_dir'],\n",
    "        file_path=f\"test/{id}/surface_volume\",\n",
    "    )\n",
    "\n",
    "    mask=ImgLoader.load_from_path_static(\n",
    "        cache_dir=cfg['cache_dir'],\n",
    "        data_dir=cfg['data_dir'],\n",
    "        file_path=f\"test/{id}/mask.png\",\n",
    "    )\n",
    "    test_img=np.moveaxis(test_img,-1,0)\n",
    "\n",
    "    model, best_loss = build_model(cfg)\n",
    "    model.to(device)\n",
    "    label_pred=test_fn(test_img, model, device,mask, cfg['tile_size'])\n",
    "\n",
    "    fig,ax= plt.subplots(1,3,figsize=(10,5))\n",
    "    ax[0].imshow(test_img)\n",
    "    ax[1].imshow(label_pred)\n",
    "    ax[2].imshow(mask)\n",
    "    ax[0].set_title('test_img')\n",
    "    ax[1].set_title('label_pred')\n",
    "    ax[2].set_title('mask')\n",
    "\n",
    "    plt.show()\n",
    "    results.append((id,label_pred))\n"
   ],
   "metadata": {
    "collapsed": false
   }
  },
  {
   "cell_type": "code",
   "execution_count": null,
   "outputs": [],
   "source": [
    "sub = pd.DataFrame(results, columns=['Id', 'Predicted'])\n",
    "sub.Id=sub.Id.asytpe(str)\n",
    "sub"
   ],
   "metadata": {
    "collapsed": false
   }
  },
  {
   "cell_type": "code",
   "execution_count": null,
   "outputs": [],
   "source": [
    "sample_sub = pd.read_csv(cfg['comp_dataset_path'] / 'sample_submission.csv')\n",
    "sample_sub = pd.merge(sample_sub[['Id']], sub, on='Id', how='left')\n",
    "sample_sub.to_csv('submission.csv', index=False)"
   ],
   "metadata": {
    "collapsed": false
   }
  },
  {
   "cell_type": "code",
   "execution_count": null,
   "outputs": [],
   "source": [],
   "metadata": {
    "collapsed": false
   }
  },
  {
   "cell_type": "code",
   "execution_count": null,
   "outputs": [],
   "source": [],
   "metadata": {
    "collapsed": false
   }
  }
 ],
 "metadata": {
  "kernelspec": {
   "display_name": "Python 3",
   "language": "python",
   "name": "python3"
  },
  "language_info": {
   "codemirror_mode": {
    "name": "ipython",
    "version": 2
   },
   "file_extension": ".py",
   "mimetype": "text/x-python",
   "name": "python",
   "nbconvert_exporter": "python",
   "pygments_lexer": "ipython2",
   "version": "2.7.6"
  }
 },
 "nbformat": 4,
 "nbformat_minor": 0
}
