{
 "cells": [
  {
   "attachments": {},
   "cell_type": "markdown",
   "metadata": {},
   "source": [
    "## summary"
   ]
  },
  {
   "cell_type": "code",
   "execution_count": 1,
   "metadata": {
    "ExecuteTime": {
     "end_time": "2023-06-01T13:16:58.001636338Z",
     "start_time": "2023-06-01T13:16:56.194584618Z"
    }
   },
   "outputs": [
    {
     "name": "stderr",
     "output_type": "stream",
     "text": [
      "/home/lz/mambaforge/envs/Ves/lib/python3.7/site-packages/torchvision/io/image.py:13: UserWarning: Failed to load image Python extension: /home/lz/mambaforge/envs/Ves/lib/python3.7/site-packages/torchvision/image.so: undefined symbol: _ZN5torch3jit17parseSchemaOrNameERKNSt7__cxx1112basic_stringIcSt11char_traitsIcESaIcEEE\n",
      "  warn(f\"Failed to load image Python extension: {e}\")\n"
     ]
    }
   ],
   "source": [
    "import gc\n",
    "import importlib.util\n",
    "import sys\n",
    "import time\n",
    "\n",
    "import matplotlib.pyplot as plt\n",
    "\n",
    "import albumentations as albu\n",
    "import torch.cuda.nccl\n",
    "import wandb\n",
    "import albumentations.pytorch as albuPy\n",
    "# import ToTensorV2\n",
    "from torch.optim import lr_scheduler as LRS\n",
    "\n",
    "sys.path.append(\"..\")\n",
    "\n",
    "import model.cv_metric as module_metric\n",
    "import model.loss as module_loss\n",
    "\n",
    "from logger.Loggers import *\n",
    "from model.model import VesuviusModel as CustomModel\n",
    "from utils import *\n",
    "from utils.env_detect import *\n"
   ]
  },
  {
   "attachments": {},
   "cell_type": "markdown",
   "metadata": {},
   "source": [
    "## Configs\n",
    "### Env detection"
   ]
  },
  {
   "cell_type": "code",
   "execution_count": 2,
   "metadata": {
    "ExecuteTime": {
     "end_time": "2023-06-01T13:16:58.007035486Z",
     "start_time": "2023-06-01T13:16:58.004582195Z"
    }
   },
   "outputs": [],
   "source": [
    "\n",
    "\n",
    "Logger = get_logger(__name__)\n"
   ]
  },
  {
   "attachments": {},
   "cell_type": "markdown",
   "metadata": {},
   "source": [
    "### Auto settings"
   ]
  },
  {
   "cell_type": "code",
   "execution_count": 2,
   "metadata": {
    "ExecuteTime": {
     "end_time": "2023-06-01T13:16:58.007323773Z",
     "start_time": "2023-06-01T13:16:58.004927480Z"
    }
   },
   "outputs": [],
   "source": []
  },
  {
   "cell_type": "code",
   "execution_count": 2,
   "metadata": {
    "ExecuteTime": {
     "end_time": "2023-06-01T13:16:58.007507354Z",
     "start_time": "2023-06-01T13:16:58.006567106Z"
    }
   },
   "outputs": [],
   "source": []
  },
  {
   "cell_type": "code",
   "execution_count": 3,
   "metadata": {
    "ExecuteTime": {
     "end_time": "2023-06-01T13:16:58.013089360Z",
     "start_time": "2023-06-01T13:16:58.012122095Z"
    }
   },
   "outputs": [],
   "source": [
    "\n",
    "\n",
    "# ============== augmentation =============\n",
    "def get_aug_list(size, in_channels, mode='train'):\n",
    "    \"\"\"\n",
    "    type: train, valid\n",
    "    return: list of albumentations\n",
    "\n",
    "    in case of any further modification,\n",
    "    one should use albu.Compose by themselves\n",
    "    \"\"\"\n",
    "\n",
    "    train_aug_list = [\n",
    "        # A.RandomResizedCrop(\n",
    "        #     size, size, scale=(0.85, 1.0)),\n",
    "        albu.Resize(size, size),\n",
    "        albu.HorizontalFlip(p=0.5),\n",
    "        albu.VerticalFlip(p=0.5),\n",
    "        albu.RandomBrightnessContrast(p=0.75),\n",
    "        albu.ShiftScaleRotate(p=0.75),\n",
    "        albu.OneOf([\n",
    "            albu.GaussNoise(var_limit=(10.0, 50.0)),\n",
    "            albu.GaussianBlur(),\n",
    "            albu.MotionBlur(),\n",
    "        ], p=0.4),\n",
    "        albu.GridDistortion(num_steps=5, distort_limit=0.3, p=0.5),\n",
    "        albu.CoarseDropout(max_holes=1, max_width=int(size * 0.3), max_height=int(size * 0.3),\n",
    "                           mask_fill_value=0, p=0.5),\n",
    "        # A.Cutout(max_h_size=int(size * 0.6),\n",
    "        #          max_w_size=int(size * 0.6), num_holes=1, p=1.0),\n",
    "\n",
    "        albu.Normalize(\n",
    "            mean=[0] * in_channels,\n",
    "            std=[1] * in_channels,\n",
    "            # max_pixel_value=1.0,\n",
    "            always_apply=True,\n",
    "        ),\n",
    "        # pad is placed last\n",
    "        # for not interfering with other aug,i.e.Normalize\n",
    "        albu.PadIfNeeded(size, size,\n",
    "                         position='top_left'),\n",
    "        albuPy.ToTensorV2(transpose_mask=True),\n",
    "    ]\n",
    "\n",
    "    valid_aug_list = [\n",
    "        albu.Resize(size, size),\n",
    "        albu.Normalize(\n",
    "            mean=[0] * in_channels,\n",
    "            std=[1] * in_channels,\n",
    "            # max_pixel_value=1.0,\n",
    "            always_apply=True,\n",
    "        ),\n",
    "        albu.PadIfNeeded(size, size,\n",
    "                         position='top_left'),\n",
    "        albuPy.ToTensorV2(transpose_mask=True),\n",
    "    ]\n",
    "\n",
    "    if mode == 'train':\n",
    "        return train_aug_list\n",
    "    else:\n",
    "        return valid_aug_list\n"
   ]
  },
  {
   "cell_type": "code",
   "execution_count": 3,
   "metadata": {
    "ExecuteTime": {
     "end_time": "2023-06-01T13:16:58.057023931Z",
     "start_time": "2023-06-01T13:16:58.013884353Z"
    }
   },
   "outputs": [],
   "source": []
  },
  {
   "cell_type": "code",
   "execution_count": 4,
   "metadata": {
    "ExecuteTime": {
     "end_time": "2023-06-01T13:16:58.057379160Z",
     "start_time": "2023-06-01T13:16:58.056627640Z"
    }
   },
   "outputs": [],
   "source": [
    "\n",
    "def get_config():\n",
    "    HOST, PATHS = decide_paths()\n",
    "    _cfg = yaml.safe_load(open(f\"{PATHS['ROOT_DIR']}/dev/default_config.yaml\", \"r\"))\n",
    "\n",
    "    util.seed_everything(_cfg['seed'])\n",
    "\n",
    "    PATHS = {k: str(v) for k, v in PATHS.items()}\n",
    "    _cfg[\"PATHS\"] = PATHS\n",
    "\n",
    "    _cfg['dataset']['data_dir'] = PATHS['DATA_DIR']\n",
    "    _cfg['dataset']['cache_dir'] = PATHS['CACHE_DIR']\n",
    "\n",
    "    with open(\"config.yaml\", \"w\") as f:\n",
    "        yaml.dump(_cfg, f)\n",
    "\n",
    "    # update in running cfgs\n",
    "    device = torch.device(\"cuda\" if torch.cuda.is_available()\n",
    "                          else \"mps\" if torch.backends.mps.is_available() else \"cpu\")\n",
    "    _cfg[\"device\"] = device\n",
    "\n",
    "    _cfg[\"kaggle_run_type\"] = os.getenv(\"KAGGLE_KERNEL_RUN_TYPE\")\n",
    "    _cfg['HOST'] = HOST\n",
    "\n",
    "    _cfg['data_loader']['num_workers'] = max(\n",
    "        _cfg['data_loader']['num_workers'], os.cpu_count() - 2)\n",
    "    # model id consist of settings of model,\n",
    "    # exp_id add on the settings for dataset\n",
    "    # run_id add on time\n",
    "    cfg_model = _cfg['model']\n",
    "    _cfg['model_id'] = f\"{cfg_model['Proto']}_{cfg_model['in_channels']}_{cfg_model['model_type']}\"\n",
    "\n",
    "    _cfg['model_id'] += f\"_fold_{'_'.join(_cfg['dataset']['image_sets'])}\"\n",
    "    _cfg['exp_id'] = f\"{_cfg['model_id']}_{cfg_model['tile_size']}\"\n",
    "    _cfg['run_id'] = f\"{_cfg['exp_id']}_{time.strftime('%m%d_%H%M%S')}\"\n",
    "\n",
    "    if not os.path.exists(f\"{PATHS['LOG_DIR']}/{_cfg['exp_id']}\"):\n",
    "        os.makedirs(f\"{PATHS['LOG_DIR']}/{_cfg['exp_id']}\")\n",
    "    setup_logging(f\"{PATHS['LOG_DIR']}/{_cfg['exp_id']}\")\n",
    "\n",
    "    import wandb\n",
    "    Logger.info('wandb imported')\n",
    "\n",
    "    t_resume = (_cfg['model'][\"resume_path\"] is not None) and os.path.exists(\n",
    "        get_saved_model_path(_cfg['PATHS']['CP_DIR'], _cfg['model_id']))\n",
    "    t_mode = 'online' if _cfg[\"kaggle_run_type\"] != \"batch\" and _cfg['wandb_mode'] == 'online' else 'offline'\n",
    "    Logger.info(f'resuming: {t_resume}; wandb mode: {t_mode}')\n",
    "\n",
    "    wandb.init(project=_cfg['comp_name'],\n",
    "               name=_cfg['run_id'],\n",
    "               config=_cfg,\n",
    "               dir=_cfg['PATHS']['LOG_DIR'],\n",
    "               resume=t_resume,\n",
    "               tags=[\n",
    "                   _cfg['model']['Proto'],\n",
    "                   _cfg['model']['model_type'],\n",
    "               ],\n",
    "               notes='resumed',\n",
    "               mode=t_mode)\n",
    "    del t_resume, t_mode\n",
    "\n",
    "    wandb.config['train_aug_list'] = albu.to_dict(albu.Compose(\n",
    "        get_aug_list(cfg_model['tile_size'], cfg_model['in_channels'], mode='train')))\n",
    "    wandb.config['valid_aug_list'] = albu.to_dict(albu.Compose(\n",
    "        get_aug_list(cfg_model['tile_size'], cfg_model['in_channels'], mode='valid')))\n",
    "\n",
    "    _cfg = wandb.config\n",
    "\n",
    "    return _cfg"
   ]
  },
  {
   "cell_type": "code",
   "execution_count": 4,
   "metadata": {
    "ExecuteTime": {
     "end_time": "2023-06-01T13:16:58.057571775Z",
     "start_time": "2023-06-01T13:16:58.057255470Z"
    }
   },
   "outputs": [],
   "source": []
  },
  {
   "attachments": {},
   "cell_type": "markdown",
   "metadata": {},
   "source": []
  },
  {
   "attachments": {},
   "cell_type": "markdown",
   "metadata": {},
   "source": [
    "### Global cfg\n"
   ]
  },
  {
   "cell_type": "code",
   "execution_count": 5,
   "metadata": {
    "ExecuteTime": {
     "end_time": "2023-06-01T13:17:03.601561829Z",
     "start_time": "2023-06-01T13:16:58.057484619Z"
    }
   },
   "outputs": [
    {
     "name": "stdout",
     "output_type": "stream",
     "text": [
      "wandb imported\n",
      "resuming: False; wandb mode: online\n"
     ]
    },
    {
     "name": "stderr",
     "output_type": "stream",
     "text": [
      "\u001B[34m\u001B[1mwandb\u001B[0m: Currently logged in as: \u001B[33mhernando\u001B[0m (\u001B[33mlzhen-ntu\u001B[0m). Use \u001B[1m`wandb login --relogin`\u001B[0m to force relogin\n"
     ]
    },
    {
     "data": {
      "text/plain": "VBox(children=(Label(value='Waiting for wandb.init()...\\r'), FloatProgress(value=0.016668611816567137, max=1.0…",
      "application/vnd.jupyter.widget-view+json": {
       "version_major": 2,
       "version_minor": 0,
       "model_id": "c87838134d0e4ab1a56ee1b8358fcf53"
      }
     },
     "metadata": {},
     "output_type": "display_data"
    },
    {
     "data": {
      "text/plain": "<IPython.core.display.HTML object>",
      "text/html": "Tracking run with wandb version 0.15.3"
     },
     "metadata": {},
     "output_type": "display_data"
    },
    {
     "data": {
      "text/plain": "<IPython.core.display.HTML object>",
      "text/html": "Run data is saved locally in <code>/home/lz/Codes/Vesuvius/dev/../saved/logs/wandb/run-20230601_211659-23b6ddvw</code>"
     },
     "metadata": {},
     "output_type": "display_data"
    },
    {
     "data": {
      "text/plain": "<IPython.core.display.HTML object>",
      "text/html": "Syncing run <strong><a href='https://wandb.ai/lzhen-ntu/vesuvius/runs/23b6ddvw' target=\"_blank\">Unet_6_Multi_fold_2_224_0601_211658</a></strong> to <a href='https://wandb.ai/lzhen-ntu/vesuvius' target=\"_blank\">Weights & Biases</a> (<a href='https://wandb.me/run' target=\"_blank\">docs</a>)<br/>"
     },
     "metadata": {},
     "output_type": "display_data"
    },
    {
     "data": {
      "text/plain": "<IPython.core.display.HTML object>",
      "text/html": " View project at <a href='https://wandb.ai/lzhen-ntu/vesuvius' target=\"_blank\">https://wandb.ai/lzhen-ntu/vesuvius</a>"
     },
     "metadata": {},
     "output_type": "display_data"
    },
    {
     "data": {
      "text/plain": "<IPython.core.display.HTML object>",
      "text/html": " View run at <a href='https://wandb.ai/lzhen-ntu/vesuvius/runs/23b6ddvw' target=\"_blank\">https://wandb.ai/lzhen-ntu/vesuvius/runs/23b6ddvw</a>"
     },
     "metadata": {},
     "output_type": "display_data"
    },
    {
     "name": "stdout",
     "output_type": "stream",
     "text": [
      "accelarater: cuda\n"
     ]
    }
   ],
   "source": [
    "\n",
    "g_cfg = get_config()\n",
    "if g_cfg[\"device\"] == \"cpu\":\n",
    "    Logger.warning(\"No accelarater enabled, Start testing\")\n",
    "    testing = True\n",
    "else:\n",
    "    Logger.warning(f\"accelarater: {g_cfg['device']}\")\n",
    "    testing = False"
   ]
  },
  {
   "attachments": {},
   "cell_type": "markdown",
   "metadata": {},
   "source": [
    "### External models"
   ]
  },
  {
   "cell_type": "code",
   "execution_count": 6,
   "metadata": {
    "ExecuteTime": {
     "end_time": "2023-06-01T13:17:03.606022263Z",
     "start_time": "2023-06-01T13:17:03.603572433Z"
    }
   },
   "outputs": [],
   "source": [
    "\n",
    "if not g_cfg.kaggle_run_type == \"batch\":\n",
    "    # https://github.com/Cadene/pretrained-models.pytorch/issues/222\n",
    "    import ssl\n",
    "\n",
    "    ssl._create_default_https_context = ssl._create_unverified_context\n",
    "\n",
    "if g_cfg.HOST == 'kaggle':\n",
    "    EXTERNAL_MODELS_DIR = Path(g_cfg.PATHS.EXTERNAL_MODELS_DIR)\n",
    "    sys.path.append(str(EXTERNAL_MODELS_DIR / \"segmentation-models-pytorch\" / \"segmentation_models.pytorch-master\"))\n",
    "    sys.path.append(str(EXTERNAL_MODELS_DIR / \"pretrainedmodels\" / \"pretrainedmodels-0.7.4\"))\n",
    "    sys.path.append(str(EXTERNAL_MODELS_DIR / \"efficientnet-pytorch\" / \"EfficientNet-PyTorch-master\"))\n",
    "    del EXTERNAL_MODELS_DIR\n",
    "\n",
    "    # noinspection PyUnresolvedReferences\n",
    "    import segmentation_models_pytorch as smp\n",
    "\n",
    "else:\n",
    "    if importlib.util.find_spec(\"segmentation_models_pytorch\") is None:\n",
    "        # %pip install -y segmentation-models-pytorch\n",
    "        pass\n",
    "    # %%conda install -y -c conda-forge segmentation-models-pytorch"
   ]
  },
  {
   "attachments": {},
   "cell_type": "markdown",
   "metadata": {},
   "source": []
  },
  {
   "cell_type": "code",
   "execution_count": 7,
   "metadata": {
    "ExecuteTime": {
     "end_time": "2023-06-01T13:17:03.649542549Z",
     "start_time": "2023-06-01T13:17:03.607025414Z"
    }
   },
   "outputs": [
    {
     "data": {
      "text/plain": "'Vincint'"
     },
     "execution_count": 7,
     "metadata": {},
     "output_type": "execute_result"
    }
   ],
   "source": [
    "g_cfg[\"HOST\"]"
   ]
  },
  {
   "cell_type": "code",
   "execution_count": 7,
   "metadata": {
    "ExecuteTime": {
     "end_time": "2023-06-01T13:17:03.649891308Z",
     "start_time": "2023-06-01T13:17:03.647709478Z"
    }
   },
   "outputs": [],
   "source": [
    "\n"
   ]
  },
  {
   "attachments": {},
   "cell_type": "markdown",
   "metadata": {},
   "source": [
    "## Helper functions"
   ]
  },
  {
   "cell_type": "code",
   "execution_count": 8,
   "metadata": {
    "ExecuteTime": {
     "end_time": "2023-06-01T13:17:03.650065239Z",
     "start_time": "2023-06-01T13:17:03.647974816Z"
    }
   },
   "outputs": [],
   "source": [
    "# ref.: https://www.kaggle.com/stainsby/fast-tested-rle\n",
    "def rle(img):\n",
    "    '''\n",
    "    img: numpy array, 1 - mask, 0 - background\n",
    "    Returns run length as string formated\n",
    "    '''\n",
    "    pixels = img.flatten()\n",
    "    # pixels = (pixels >= thr).astype(np.uint8)\n",
    "\n",
    "    pixels = np.concatenate([[0], pixels, [0]])\n",
    "    runs = np.where(pixels[1:] != pixels[:-1])[0] + 1\n",
    "    runs[1::2] -= runs[::2]\n",
    "    return ' '.join(str(x) for x in runs)\n",
    "\n",
    "# def np_rle(img):\n",
    "#     flat_img = np.where(img.flatten() , 1, 0).astype(np.uint8)\n",
    "#     starts = np.array((flat_img[:-1] == 0) & (flat_img[1:] == 1))\n",
    "#     ends = np.array((flat_img[:-1] == 1) & (flat_img[1:] == 0))\n",
    "#     starts_ix = np.where(starts)[0] + 2\n",
    "#     ends_ix = np.where(ends)[0] + 2\n",
    "#     lengths = ends_ix - starts_ix\n",
    "#     predicted_arr = np.stack([starts_ix, lengths]).T.flatten()\n",
    "#     rle_str=np.array2string(predicted_arr.reshape(-1), separator=' ')\n",
    "#     return rle_str[1:-1]"
   ]
  },
  {
   "attachments": {},
   "cell_type": "markdown",
   "metadata": {},
   "source": [
    "## Model"
   ]
  },
  {
   "cell_type": "code",
   "execution_count": 9,
   "metadata": {
    "ExecuteTime": {
     "end_time": "2023-06-01T13:17:03.650284363Z",
     "start_time": "2023-06-01T13:17:03.648143132Z"
    }
   },
   "outputs": [],
   "source": [
    "# class CustomModel(nn.Module):\n",
    "#     def __init__(self, cfg):\n",
    "#         super().__init__()\n",
    "#         self.cfg = cfg\n",
    "#         self.th = None\n",
    "#         # if cfg[\"model_name\"] == \"Unet++\":\n",
    "#         #     model_Conductor=getattr(smp, \"UnetPlusPlus\")\n",
    "#         # else:\n",
    "#         #     model_Conductor=getattr(smp, cfg[\"model_name\"])\n",
    "#         # self.encoder = model_Conductor(\n",
    "#         self.encoder = getattr(smp, cfg[\"Proto\"])(**cfg['args'])\n",
    "#\n",
    "#     def forward(self, image):\n",
    "#         output = self.encoder(image)\n",
    "#         # output = output.squeeze(-1)\n",
    "#         return output\n",
    "\n",
    "\n",
    "def build_model(cfg, cp_dir=g_cfg['PATHS']['CP_DIR'],\n",
    "                model_id=g_cfg['model_id'], weight=None):\n",
    "    \"\"\"\n",
    "    DO notice that this needs a global config\n",
    "    for paths and model_id\n",
    "    \"\"\"\n",
    "    Logger.info(f\"model_cfg: {cfg}\")\n",
    "    # if cfg['resume'] is not None:\n",
    "    model_path = get_saved_model_path(cp_dir, model_id)\n",
    "    if os.path.exists(model_path):\n",
    "        Logger.info(f'load model from: {model_path}')\n",
    "        _model = CustomModel(cfg)\n",
    "        loaded_model = torch.load(model_path)\n",
    "        # print(loaded_model)\n",
    "        _model.load_state_dict(loaded_model['model'])\n",
    "        # best_loss = loaded_model['best_loss']\n",
    "        # best_loss = None if loaded_model['best_loss'] is None else loaded_model['best_loss']\n",
    "        # best_loss = loaded_model['best_loss']\n",
    "        th = loaded_model['th'] if 'th' in loaded_model else 0.5\n",
    "        _model.th = th\n",
    "        return _model\n",
    "    Logger.info(f'trained model not found')\n",
    "\n",
    "    # if cfg['HOST']=='kaggle':\n",
    "    # #     weight = None\n",
    "    _model = CustomModel(cfg)\n",
    "    _model.th = 0.5\n",
    "    return _model"
   ]
  },
  {
   "cell_type": "code",
   "execution_count": 9,
   "metadata": {
    "ExecuteTime": {
     "end_time": "2023-06-01T13:17:03.650461112Z",
     "start_time": "2023-06-01T13:17:03.648261377Z"
    }
   },
   "outputs": [],
   "source": []
  },
  {
   "cell_type": "code",
   "execution_count": 9,
   "metadata": {
    "ExecuteTime": {
     "end_time": "2023-06-01T13:17:03.650617232Z",
     "start_time": "2023-06-01T13:17:03.648360275Z"
    }
   },
   "outputs": [],
   "source": []
  },
  {
   "attachments": {},
   "cell_type": "markdown",
   "metadata": {},
   "source": [
    "## DataSet"
   ]
  },
  {
   "cell_type": "code",
   "execution_count": 10,
   "metadata": {
    "ExecuteTime": {
     "end_time": "2023-06-01T13:17:03.651209907Z",
     "start_time": "2023-06-01T13:17:03.649084304Z"
    }
   },
   "outputs": [
    {
     "name": "stdout",
     "output_type": "stream",
     "text": [
      "available memory size is 25.53173065185547 GB\n"
     ]
    }
   ],
   "source": [
    "\n",
    "\n",
    "\n",
    "def get_transforms(mode, cfg):\n",
    "    return albu.Compose(get_aug_list(cfg['tile_size'], cfg['in_channels'], mode=mode))\n",
    "\n",
    "\n",
    "from data_loader import datasets, data_loaders\n"
   ]
  },
  {
   "cell_type": "code",
   "execution_count": 11,
   "metadata": {
    "ExecuteTime": {
     "end_time": "2023-06-01T13:17:03.651389541Z",
     "start_time": "2023-06-01T13:17:03.649760445Z"
    }
   },
   "outputs": [],
   "source": [
    "def make_dataset(cfg, trfs_mode='train'):\n",
    "    imgset_paths = [f\"train/{i}\" for i in cfg['image_sets']]\n",
    "    imgs = []\n",
    "    masks = []\n",
    "    labels = []\n",
    "    for path in imgset_paths:\n",
    "        imgs.append(f\"{path}/surface_volume\")\n",
    "        masks.append(f\"{path}/mask.png\")\n",
    "        labels.append(f\"{path}/inklabels.png\")\n",
    "\n",
    "    dataset = getattr(datasets, cfg['type'])(\n",
    "        image_sets=imgs,\n",
    "        cfg=cfg,\n",
    "        masks=masks,\n",
    "        labels=labels,\n",
    "        transform=get_transforms(mode=trfs_mode, cfg=cfg))\n",
    "    return dataset\n",
    "\n",
    "\n",
    "def make_data_loader(cfg, dataset):\n",
    "    loader = getattr(data_loaders, cfg['type'])(\n",
    "        dataset,\n",
    "        **cfg['args'],\n",
    "        pin_memory=True,\n",
    "        drop_last=False)\n",
    "\n",
    "    return loader"
   ]
  },
  {
   "cell_type": "code",
   "execution_count": 12,
   "metadata": {
    "ExecuteTime": {
     "end_time": "2023-06-01T13:17:03.651516090Z",
     "start_time": "2023-06-01T13:17:03.650193112Z"
    }
   },
   "outputs": [],
   "source": [
    "# dataset=make_dataset(g_cfg['dataset'])\n",
    "# train_loader=make_data_loader(g_cfg['data_loader'],dataset)\n",
    "# valid_lodaer=train_loader.split_validation()"
   ]
  },
  {
   "attachments": {},
   "cell_type": "markdown",
   "metadata": {},
   "source": [
    "## optimizer and Scheduler"
   ]
  },
  {
   "cell_type": "code",
   "execution_count": 13,
   "metadata": {
    "ExecuteTime": {
     "end_time": "2023-06-01T13:17:03.651643108Z",
     "start_time": "2023-06-01T13:17:03.650395934Z"
    }
   },
   "outputs": [],
   "source": [
    "def get_optimizer(cfg, model):\n",
    "    _optimizer = getattr(torch.optim, cfg['type'])(\n",
    "        model, **cfg['args'])\n",
    "    return _optimizer\n",
    "\n",
    "\n",
    "def get_scheduler(cfg, optimizer):\n",
    "    _scheduler = getattr(LRS, cfg['type'])(\n",
    "        optimizer, **cfg['args'])\n",
    "    return _scheduler\n",
    "\n",
    "\n",
    "def scheduler_step(_scheduler):\n",
    "    _scheduler.step()"
   ]
  },
  {
   "cell_type": "code",
   "execution_count": 14,
   "metadata": {
    "ExecuteTime": {
     "end_time": "2023-06-01T13:17:03.651766592Z",
     "start_time": "2023-06-01T13:17:03.650988683Z"
    }
   },
   "outputs": [],
   "source": [
    "# model,loss =build_model(g_cfg['model'],model_id=g_cfg['model_id'],cp_dir=g_cfg['PATHS']['CP_DIR'])\n",
    "# optimizer=get_optimizer(g_cfg['optimizer'],model)\n",
    "# scheduler=get_scheduler(g_cfg['scheduler'],optimizer)"
   ]
  },
  {
   "attachments": {},
   "cell_type": "markdown",
   "metadata": {},
   "source": [
    "## Assessments"
   ]
  },
  {
   "attachments": {},
   "cell_type": "markdown",
   "metadata": {},
   "source": [
    "## LOSS"
   ]
  },
  {
   "cell_type": "code",
   "execution_count": 15,
   "metadata": {
    "ExecuteTime": {
     "end_time": "2023-06-01T13:17:03.651889371Z",
     "start_time": "2023-06-01T13:17:03.651327095Z"
    }
   },
   "outputs": [],
   "source": [
    "# testing = True"
   ]
  },
  {
   "attachments": {},
   "cell_type": "markdown",
   "metadata": {},
   "source": [
    "use trainer"
   ]
  },
  {
   "cell_type": "code",
   "execution_count": 16,
   "metadata": {
    "ExecuteTime": {
     "end_time": "2023-06-01T13:17:03.657730479Z",
     "start_time": "2023-06-01T13:17:03.654270119Z"
    }
   },
   "outputs": [],
   "source": [
    "if testing:\n",
    "    importlib.reload(datasets)\n",
    "    g_cfg['data_loader']['args']['num_workers'] = 0\n",
    "    from trainer.VesuviusTrainer import VesuviusTrainer as Trainer\n",
    "\n",
    "    # def main(config):\n",
    "    \"\"\"\n",
    "    Take global config and train model\n",
    "    \"\"\"\n",
    "    logger = get_logger('train')\n",
    "    config = g_cfg\n",
    "    # setup data_loader instances\n",
    "    # trms=get_aug_list(config['model']['tile_size'],config['model']['in_channels'],'train')\n",
    "\n",
    "    full_dataset = make_dataset(config['dataset'])\n",
    "    data_loader = make_data_loader(config['data_loader'], full_dataset)\n",
    "\n",
    "    # data_loader = config.init_obj('data_loader', module_data)\n",
    "\n",
    "    valid_data_loader = data_loader.split_validation()\n",
    "\n",
    "    # build model architecture, then print to console\n",
    "    # model = config.init_obj('arch', module_arch)\n",
    "    model = build_model(config['model'])\n",
    "    # logger.info(model)\n",
    "\n",
    "    # prepare for (multi-device) GPU training\n",
    "    device, device_ids = prepare_device(config['n_gpu'])\n",
    "    model = model.to(device)\n",
    "    if len(device_ids) > 1:\n",
    "        model = torch.nn.DataParallel(model, device_ids=device_ids)\n",
    "\n",
    "    # get function handles of loss and metrics\n",
    "    # criterion = module_loss.config['loss'] which should be a function\n",
    "    criterion = getattr(module_loss, config['loss'])\n",
    "    # metrics is module_metric.__dict__[config['metrics']] which should be a list of functions\n",
    "    metrics = [getattr(module_metric, met) for met in config['metrics']]\n",
    "\n",
    "    # build optimizer, learning rate scheduler. delete every lines containing lr_scheduler for disabling scheduler\n",
    "    trainable_params = filter(lambda p: p.requires_grad, model.parameters())\n",
    "\n",
    "    optimizer = get_optimizer(config['optimizer'], trainable_params)\n",
    "    lr_scheduler = get_scheduler(config['scheduler'], optimizer)\n",
    "\n",
    "    trainer = Trainer(model, criterion, metrics, optimizer,\n",
    "                      config=config,\n",
    "                      device=device,\n",
    "                      data_loader=data_loader,\n",
    "                      valid_data_loader=valid_data_loader,\n",
    "                      lr_scheduler=lr_scheduler,\n",
    "                      len_epoch=1000)\n"
   ]
  },
  {
   "cell_type": "code",
   "execution_count": 17,
   "metadata": {
    "ExecuteTime": {
     "end_time": "2023-06-01T13:17:03.738309885Z",
     "start_time": "2023-06-01T13:17:03.658035868Z"
    }
   },
   "outputs": [],
   "source": [
    "# testing_img_label={\n",
    "#     \"img\":img,\n",
    "#     \"label\":label\n",
    "# }\n",
    "# torch.save(testing_img_label,'testing_img_label.pt')"
   ]
  },
  {
   "cell_type": "code",
   "execution_count": 18,
   "metadata": {
    "ExecuteTime": {
     "end_time": "2023-06-01T13:17:03.745102016Z",
     "start_time": "2023-06-01T13:17:03.660645683Z"
    }
   },
   "outputs": [],
   "source": [
    "# testing_var = torch.load('testing_img_label.pt')\n",
    "# img, label = testing_var['img'], testing_var['label']"
   ]
  },
  {
   "cell_type": "code",
   "execution_count": 19,
   "metadata": {
    "ExecuteTime": {
     "end_time": "2023-06-01T13:17:03.745483964Z",
     "start_time": "2023-06-01T13:17:03.704663525Z"
    }
   },
   "outputs": [],
   "source": [
    "\n",
    "if testing:\n",
    "    importlib.reload(module_metric)\n",
    "    metrics = [getattr(module_metric, met) for met in g_cfg['metrics']]\n",
    "    #1195\n",
    "    i = np.random.randint(0, len(data_loader.dataset))\n",
    "    # i=1195\n",
    "    print(f\"i={i}\")\n",
    "    img, label = data_loader.dataset[i]\n",
    "\n",
    "    fig, axs = plt.subplots(1, 2)\n",
    "    axs[0].imshow(img.mean(0), cmap='Greys')\n",
    "    axs[1].imshow(label)\n",
    "    plt.show()\n",
    "    model.eval()\n",
    "    with torch.no_grad():\n",
    "        out = model(img.unsqueeze(0).to(device))\n",
    "\n",
    "    # print(img.max(), img.min(), img.mean())\n",
    "    # print(out.max(), out.min(), out.mean())\n",
    "    # print(label.max(), label.min(), label.mean())\n",
    "\n",
    "    print(f\"input max={img.max()}, min={img.min()}, mean={img.mean()}\")\n",
    "    print(f\"out max={out.max()}, min={out.min()}, mean={out.mean()}\")\n",
    "    print(f\"label max={label.max()}, min={label.min()}, mean={label.mean()}\")\n",
    "\n",
    "    sig_out = out.squeeze().sigmoid()\n",
    "    print(f\"sig_out max={sig_out.max()}, min={sig_out.min()}, mean={sig_out.mean()}\")\n",
    "    out, label = sig_out.cpu(), label.cpu()\n",
    "    # plt.imshow(out.squeeze().cpu(),cmap='gray')\n",
    "    # out, label = out.squeeze().sigmoid().cpu(), label.cpu()\n",
    "    print(criterion(out, label))\n",
    "    fbeta = None\n",
    "    for m in metrics:\n",
    "        if m.__name__ == 'fbeta':\n",
    "            fbeta = m\n",
    "        dice = m(out, label)\n",
    "        print(f'{m.__name__}: {dice}')\n",
    "        assert dice <=1\n",
    "    fig, axs = plt.subplots(1, 3)\n",
    "    axs[0].imshow(out)\n",
    "    axs[1].imshow(out > 0.25)\n",
    "    axs[2].imshow(label)\n",
    "\n",
    "    plt.show()"
   ]
  },
  {
   "cell_type": "code",
   "execution_count": 20,
   "metadata": {
    "ExecuteTime": {
     "end_time": "2023-06-01T13:17:03.745645718Z",
     "start_time": "2023-06-01T13:17:03.704920597Z"
    }
   },
   "outputs": [],
   "source": [
    "if testing:\n",
    "    fb = metrics[0]\n",
    "\n",
    "    output = out\n",
    "    target = label\n",
    "    print(f'out max={out.max()}, min={out.min()}, mean={out.mean()}')\n",
    "    print(f'output max={output.max()}, min={output.min()}, mean={output.mean()}')\n",
    "    print(f'target max={target.max()}, min={target.min()}, mean={target.mean()}')\n",
    "\n",
    "    smooth = 1e-7\n",
    "    beta = 0.5\n",
    "    fnorm = module_metric.normalize\n",
    "    output = fnorm(output)\n",
    "    target = fnorm(target)\n",
    "    print(f\"to max={output.max()}, min={output.min()}\")\n",
    "    print(f\"tt max={target.max()}, min={target.min()}\")\n",
    "    # Calculate true positives, false positives, and false negatives\n",
    "    true_positives = (output & target).sum().item()\n",
    "    false_positives = (output & ~target).sum().item()\n",
    "    true_negatives = (~output & ~target).sum().item()\n",
    "    false_negatives = (~output & target).sum().item()\n",
    "    sensitivity = true_positives / (true_positives + false_negatives + smooth)\n",
    "    specificity = true_negatives / (true_negatives + false_positives + smooth)\n",
    "\n",
    "    print(f\"true_positives={true_positives}\")\n",
    "    print(f\"false_positives={false_positives}\")\n",
    "    print(f\"true_negatives={true_negatives}\")\n",
    "    print(f\"false_negatives={false_negatives}\")\n",
    "    print(f\"sensitivity={sensitivity}\")\n",
    "    print(f\"specificity={specificity}\")\n",
    "\n",
    "\n",
    "    # Calculate precision and recall\n",
    "    precision = true_positives / (true_positives + false_positives + smooth)\n",
    "    recall = true_positives / (true_positives + false_negatives + smooth)\n",
    "\n",
    "    # Calculate F-beta score\n",
    "    f_beta = (1 + beta ** 2) * (precision * recall) / ((beta ** 2 * precision) + recall + smooth)\n",
    "\n"
   ]
  },
  {
   "cell_type": "code",
   "execution_count": 21,
   "metadata": {
    "ExecuteTime": {
     "end_time": "2023-06-01T13:17:03.745954718Z",
     "start_time": "2023-06-01T13:17:03.705120463Z"
    }
   },
   "outputs": [],
   "source": [
    "# torch.allclose(output, output)"
   ]
  },
  {
   "cell_type": "code",
   "execution_count": 22,
   "metadata": {
    "ExecuteTime": {
     "end_time": "2023-06-01T13:17:03.746120162Z",
     "start_time": "2023-06-01T13:17:03.705296123Z"
    }
   },
   "outputs": [],
   "source": [
    "\n",
    "\n",
    "from trainer.VesuviusTrainer import VesuviusTrainer as Trainer\n",
    "\n",
    "\n",
    "def main(config):\n",
    "    \"\"\"\n",
    "    Take global config and train model\n",
    "    \"\"\"\n",
    "    # logger = get_logger('train')\n",
    "    # config = g_cfg\n",
    "    # setup data_loader instances\n",
    "    # trms=get_aug_list(config['model']['tile_size'],config['model']['in_channels'],'train')\n",
    "\n",
    "    full_dataset = make_dataset(config['dataset'])\n",
    "    data_loader = make_data_loader(config['data_loader'], full_dataset)\n",
    "\n",
    "    # data_loader = config.init_obj('data_loader', module_data)\n",
    "\n",
    "    valid_data_loader = data_loader.split_validation()\n",
    "\n",
    "    # build model architecture, then print to console\n",
    "    # model = config.init_obj('arch', module_arch)\n",
    "    model = build_model(config['model'])\n",
    "    # logger.info(model)\n",
    "\n",
    "    # prepare for (multi-device) GPU training\n",
    "    device, device_ids = prepare_device(config['n_gpu'])\n",
    "    model = model.to(device)\n",
    "    if len(device_ids) > 1:\n",
    "        model = torch.nn.DataParallel(model, device_ids=device_ids)\n",
    "\n",
    "    # get function handles of loss and metrics\n",
    "    # criterion = module_loss.config['loss'] which should be a function\n",
    "    criterion = getattr(module_loss, config['loss'])\n",
    "    # metrics is module_metric.__dict__[config['metrics']] which should be a list of functions\n",
    "    metrics = [getattr(module_metric, met) for met in config['metrics']]\n",
    "\n",
    "    # build optimizer, learning rate scheduler. delete every lines containing lr_scheduler for disabling scheduler\n",
    "    trainable_params = filter(lambda p: p.requires_grad, model.parameters())\n",
    "\n",
    "    optimizer = get_optimizer(config['optimizer'], trainable_params)\n",
    "    lr_scheduler = get_scheduler(config['scheduler'], optimizer)\n",
    "\n",
    "    trainer = Trainer(model, criterion, metrics, optimizer,\n",
    "                      config=config,\n",
    "                      device=device,\n",
    "                      data_loader=data_loader,\n",
    "                      valid_data_loader=valid_data_loader,\n",
    "                      lr_scheduler=lr_scheduler,\n",
    "                      len_epoch=1000)\n",
    "\n",
    "    trainer.train()\n",
    "    del trainer, model, optimizer, lr_scheduler, data_loader, valid_data_loader\n",
    "    gc.collect()\n",
    "    torch.cuda.empty_cache()\n"
   ]
  },
  {
   "cell_type": "code",
   "execution_count": 22,
   "outputs": [],
   "source": [],
   "metadata": {
    "collapsed": false,
    "ExecuteTime": {
     "end_time": "2023-06-01T13:17:03.746232958Z",
     "start_time": "2023-06-01T13:17:03.705611842Z"
    }
   }
  },
  {
   "cell_type": "code",
   "execution_count": 23,
   "metadata": {
    "ExecuteTime": {
     "end_time": "2023-06-01T15:17:15.912949128Z",
     "start_time": "2023-06-01T13:17:03.705786141Z"
    }
   },
   "outputs": [
    {
     "name": "stdout",
     "output_type": "stream",
     "text": [
      "model_cfg: {'Proto': 'Unet', 'resume_path': None, 'pretrained': True, 'model_type': 'Multi', 'tile_size': 224, 'in_channels': 6, 'args': {'encoder_name': 'se_resnext50_32x4d', 'encoder_weights': 'imagenet', 'in_channels': 6, 'classes': 1, 'activation': None}}\n",
      "load model from: /home/lz/Codes/Vesuvius/dev/../saved/checkpoints/Unet_6_Multi_fold_2_best.pth\n"
     ]
    },
    {
     "data": {
      "text/plain": "  0%|          | 0/1000 [00:00<?, ?it/s]",
      "application/vnd.jupyter.widget-view+json": {
       "version_major": 2,
       "version_minor": 0,
       "model_id": "2bbc9798d25347bba21e1c888eb81cad"
      }
     },
     "metadata": {},
     "output_type": "display_data"
    },
    {
     "data": {
      "text/plain": "  0%|          | 0/115 [00:00<?, ?it/s]",
      "application/vnd.jupyter.widget-view+json": {
       "version_major": 2,
       "version_minor": 0,
       "model_id": "77813842944343a4b071eb0f7eb81740"
      }
     },
     "metadata": {},
     "output_type": "display_data"
    },
    {
     "name": "stdout",
     "output_type": "stream",
     "text": [
      "    epoch          : 1\n",
      "    train/loss     : 0.9415499313175678\n",
      "    train/fbeta    : 0.4405196011066437\n",
      "    train/accuracy : 0.09060244937807588\n",
      "    train/precision: 0.49099355604551037\n",
      "    train/recall   : 0.3246543490525192\n",
      "    train/roc_auc  : 0.6621432206272684\n",
      "    valid/loss     : 0.8760857670203499\n",
      "    valid/fbeta    : 0.4591566026210785\n",
      "    valid/accuracy : 0.09593589261439754\n",
      "    valid/precision: 0.519911524237322\n",
      "    valid/recall   : 0.3293214505967711\n",
      "    valid/roc_auc  : 0.664490213093875\n",
      "Early stop count: 0\n"
     ]
    },
    {
     "data": {
      "text/plain": "  0%|          | 0/1000 [00:00<?, ?it/s]",
      "application/vnd.jupyter.widget-view+json": {
       "version_major": 2,
       "version_minor": 0,
       "model_id": "2065b1ebb4e941d4bf26c5837ceba2f6"
      }
     },
     "metadata": {},
     "output_type": "display_data"
    },
    {
     "data": {
      "text/plain": "  0%|          | 0/115 [00:00<?, ?it/s]",
      "application/vnd.jupyter.widget-view+json": {
       "version_major": 2,
       "version_minor": 0,
       "model_id": "dde64078538f4f7982bb36297be07eba"
      }
     },
     "metadata": {},
     "output_type": "display_data"
    },
    {
     "name": "stdout",
     "output_type": "stream",
     "text": [
      "    epoch          : 2\n",
      "    train/loss     : 0.7191191166043281\n",
      "    train/fbeta    : 0.47055795788764954\n",
      "    train/accuracy : 0.11137259969892041\n",
      "    train/precision: 0.4983655739066006\n",
      "    train/recall   : 0.4016802649572922\n",
      "    train/roc_auc  : 0.7006200133946643\n",
      "    valid/loss     : 0.6369723006435063\n",
      "    valid/fbeta    : 0.49956226348876953\n",
      "    valid/accuracy : 0.12399727957573166\n",
      "    valid/precision: 0.5316572842288009\n",
      "    valid/recall   : 0.42873946537448304\n",
      "    valid/roc_auc  : 0.714159388154533\n",
      "Early stop count: 0\n"
     ]
    },
    {
     "data": {
      "text/plain": "  0%|          | 0/1000 [00:00<?, ?it/s]",
      "application/vnd.jupyter.widget-view+json": {
       "version_major": 2,
       "version_minor": 0,
       "model_id": "c772956c90ac480a9961ef9df6bfaece"
      }
     },
     "metadata": {},
     "output_type": "display_data"
    },
    {
     "data": {
      "text/plain": "  0%|          | 0/115 [00:00<?, ?it/s]",
      "application/vnd.jupyter.widget-view+json": {
       "version_major": 2,
       "version_minor": 0,
       "model_id": "49a98dd610eb46138f48e5b9c7dff796"
      }
     },
     "metadata": {},
     "output_type": "display_data"
    },
    {
     "name": "stderr",
     "output_type": "stream",
     "text": [
      "\u001B[34m\u001B[1mwandb\u001B[0m: Network error resolved after 0:00:11.377007, resuming normal operation.\n"
     ]
    },
    {
     "name": "stdout",
     "output_type": "stream",
     "text": [
      "    epoch          : 3\n",
      "    train/loss     : 0.5920579836666584\n",
      "    train/fbeta    : 0.473591685295105\n",
      "    train/accuracy : 0.14253116230849577\n",
      "    train/precision: 0.47036799694193393\n",
      "    train/recall   : 0.5120753350417921\n",
      "    train/roc_auc  : 0.7557207368414499\n",
      "    valid/loss     : 0.5721952624942945\n",
      "    valid/fbeta    : 0.48863524198532104\n",
      "    valid/accuracy : 0.1609446054234822\n",
      "    valid/precision: 0.4781474117934875\n",
      "    valid/recall   : 0.5532615593436813\n",
      "    valid/roc_auc  : 0.7762889268127907\n",
      "Early stop count: 0\n"
     ]
    },
    {
     "data": {
      "text/plain": "  0%|          | 0/1000 [00:00<?, ?it/s]",
      "application/vnd.jupyter.widget-view+json": {
       "version_major": 2,
       "version_minor": 0,
       "model_id": "22166331530944ef8c7faf197b93da83"
      }
     },
     "metadata": {},
     "output_type": "display_data"
    },
    {
     "name": "stderr",
     "output_type": "stream",
     "text": [
      "\u001B[34m\u001B[1mwandb\u001B[0m: Network error resolved after 0:00:00.336141, resuming normal operation.\n"
     ]
    },
    {
     "data": {
      "text/plain": "  0%|          | 0/115 [00:00<?, ?it/s]",
      "application/vnd.jupyter.widget-view+json": {
       "version_major": 2,
       "version_minor": 0,
       "model_id": "17837bd3cbc843978d4ddd4e13be1668"
      }
     },
     "metadata": {},
     "output_type": "display_data"
    },
    {
     "name": "stdout",
     "output_type": "stream",
     "text": [
      "    epoch          : 4\n",
      "    train/loss     : 0.5431244969964028\n",
      "    train/fbeta    : 0.4593495726585388\n",
      "    train/accuracy : 0.1816784777580645\n",
      "    train/precision: 0.4313422062470287\n",
      "    train/recall   : 0.6490682136266296\n",
      "    train/roc_auc  : 0.8240617501703177\n",
      "    valid/loss     : 0.5325259812500166\n",
      "    valid/fbeta    : 0.4725158214569092\n",
      "    valid/accuracy : 0.19381538939430462\n",
      "    valid/precision: 0.4425703958099605\n",
      "    valid/recall   : 0.6689637304422491\n",
      "    valid/roc_auc  : 0.8340118782340853\n",
      "Early stop count: 1\n"
     ]
    },
    {
     "data": {
      "text/plain": "  0%|          | 0/1000 [00:00<?, ?it/s]",
      "application/vnd.jupyter.widget-view+json": {
       "version_major": 2,
       "version_minor": 0,
       "model_id": "8f95f7f48d8342ff9da80b40df45a99f"
      }
     },
     "metadata": {},
     "output_type": "display_data"
    },
    {
     "data": {
      "text/plain": "  0%|          | 0/115 [00:00<?, ?it/s]",
      "application/vnd.jupyter.widget-view+json": {
       "version_major": 2,
       "version_minor": 0,
       "model_id": "67042d12e6f449e3bed8fdeb6a5d8535"
      }
     },
     "metadata": {},
     "output_type": "display_data"
    },
    {
     "name": "stdout",
     "output_type": "stream",
     "text": [
      "    epoch          : 5\n",
      "    train/loss     : 0.5238362985849381\n",
      "    train/fbeta    : 0.4502207934856415\n",
      "    train/accuracy : 0.20021728216652337\n",
      "    train/precision: 0.41459991556872283\n",
      "    train/recall   : 0.716926805143984\n",
      "    train/roc_auc  : 0.8579076783214251\n",
      "    valid/loss     : 0.5200912776200668\n",
      "    valid/fbeta    : 0.4725761413574219\n",
      "    valid/accuracy : 0.20892806235068914\n",
      "    valid/precision: 0.4376242868857129\n",
      "    valid/recall   : 0.7177996897408095\n",
      "    valid/roc_auc  : 0.8583770342914743\n",
      "Early stop count: 2\n",
      "Saving checkpoint: /home/lz/Codes/Vesuvius/dev/../saved/checkpoints/Unet_6_Multi_fold_2_checkpoints.pth ...\n"
     ]
    },
    {
     "data": {
      "text/plain": "  0%|          | 0/1000 [00:00<?, ?it/s]",
      "application/vnd.jupyter.widget-view+json": {
       "version_major": 2,
       "version_minor": 0,
       "model_id": "65dad3e55513497c862b90e64b685e24"
      }
     },
     "metadata": {},
     "output_type": "display_data"
    },
    {
     "data": {
      "text/plain": "  0%|          | 0/115 [00:00<?, ?it/s]",
      "application/vnd.jupyter.widget-view+json": {
       "version_major": 2,
       "version_minor": 0,
       "model_id": "01257f2eb18e4359a24ccd84d4919c75"
      }
     },
     "metadata": {},
     "output_type": "display_data"
    },
    {
     "name": "stdout",
     "output_type": "stream",
     "text": [
      "    epoch          : 6\n",
      "    train/loss     : 0.5145070714950561\n",
      "    train/fbeta    : 0.45222750306129456\n",
      "    train/accuracy : 0.20815378193732034\n",
      "    train/precision: 0.4140114887329605\n",
      "    train/recall   : 0.7459872263005601\n",
      "    train/roc_auc  : 0.8724143121667177\n",
      "    valid/loss     : 0.5070541887179665\n",
      "    valid/fbeta    : 0.46845561265945435\n",
      "    valid/accuracy : 0.21042990629479663\n",
      "    valid/precision: 0.4462548194563575\n",
      "    valid/recall   : 0.728436741728886\n",
      "    valid/roc_auc  : 0.8636966570034967\n",
      "Early stop count: 3\n"
     ]
    },
    {
     "data": {
      "text/plain": "  0%|          | 0/1000 [00:00<?, ?it/s]",
      "application/vnd.jupyter.widget-view+json": {
       "version_major": 2,
       "version_minor": 0,
       "model_id": "680ef9eebf784ff4a2caed6233c4b555"
      }
     },
     "metadata": {},
     "output_type": "display_data"
    },
    {
     "name": "stderr",
     "output_type": "stream",
     "text": [
      "wandb: Network error (ReadTimeout), entering retry loop.\n"
     ]
    },
    {
     "data": {
      "text/plain": "  0%|          | 0/115 [00:00<?, ?it/s]",
      "application/vnd.jupyter.widget-view+json": {
       "version_major": 2,
       "version_minor": 0,
       "model_id": "d8907ca049f54cb6b78f27f97a4a2a46"
      }
     },
     "metadata": {},
     "output_type": "display_data"
    },
    {
     "name": "stdout",
     "output_type": "stream",
     "text": [
      "    epoch          : 7\n",
      "    train/loss     : 0.5054103604257106\n",
      "    train/fbeta    : 0.46199682354927063\n",
      "    train/accuracy : 0.21351718725061022\n",
      "    train/precision: 0.42309466679936797\n",
      "    train/recall   : 0.7619371703741802\n",
      "    train/roc_auc  : 0.8803958342457439\n",
      "    valid/loss     : 0.49393302228139796\n",
      "    valid/fbeta    : 0.4747372269630432\n",
      "    valid/accuracy : 0.21600542178461152\n",
      "    valid/precision: 0.4428877734524969\n",
      "    valid/recall   : 0.7481447237436846\n",
      "    valid/roc_auc  : 0.8735472409828414\n",
      "Early stop count: 4\n"
     ]
    },
    {
     "data": {
      "text/plain": "  0%|          | 0/1000 [00:00<?, ?it/s]",
      "application/vnd.jupyter.widget-view+json": {
       "version_major": 2,
       "version_minor": 0,
       "model_id": "54b53399230c4dca8a9d81f77645965d"
      }
     },
     "metadata": {},
     "output_type": "display_data"
    },
    {
     "data": {
      "text/plain": "  0%|          | 0/115 [00:00<?, ?it/s]",
      "application/vnd.jupyter.widget-view+json": {
       "version_major": 2,
       "version_minor": 0,
       "model_id": "c656406b5aef46ac88a81d4c81b03379"
      }
     },
     "metadata": {},
     "output_type": "display_data"
    },
    {
     "name": "stdout",
     "output_type": "stream",
     "text": [
      "    epoch          : 8\n",
      "    train/loss     : 0.5006593522727489\n",
      "    train/fbeta    : 0.46141740679740906\n",
      "    train/accuracy : 0.2120157645086643\n",
      "    train/precision: 0.4224802214659839\n",
      "    train/recall   : 0.7619956588161998\n",
      "    train/roc_auc  : 0.8804282393854681\n",
      "    valid/loss     : 0.49674351241277614\n",
      "    valid/fbeta    : 0.4853588342666626\n",
      "    valid/accuracy : 0.21824478921125945\n",
      "    valid/precision: 0.44812264534012547\n",
      "    valid/recall   : 0.7498487786842786\n",
      "    valid/roc_auc  : 0.8744047828135808\n",
      "Early stop count: 5\n"
     ]
    },
    {
     "data": {
      "text/plain": "  0%|          | 0/1000 [00:00<?, ?it/s]",
      "application/vnd.jupyter.widget-view+json": {
       "version_major": 2,
       "version_minor": 0,
       "model_id": "7bebb8c69e6e417ea592837984dc3350"
      }
     },
     "metadata": {},
     "output_type": "display_data"
    },
    {
     "data": {
      "text/plain": "  0%|          | 0/115 [00:00<?, ?it/s]",
      "application/vnd.jupyter.widget-view+json": {
       "version_major": 2,
       "version_minor": 0,
       "model_id": "5fbfa4536db1410d978e270e2fe33de8"
      }
     },
     "metadata": {},
     "output_type": "display_data"
    },
    {
     "name": "stdout",
     "output_type": "stream",
     "text": [
      "    epoch          : 9\n",
      "    train/loss     : 0.49440337550640107\n",
      "    train/fbeta    : 0.47251221537590027\n",
      "    train/accuracy : 0.21539510149247693\n",
      "    train/precision: 0.4334866074919312\n",
      "    train/recall   : 0.7707523310901159\n",
      "    train/roc_auc  : 0.8848227273141275\n",
      "    valid/loss     : 0.4913627653018288\n",
      "    valid/fbeta    : 0.49523237347602844\n",
      "    valid/accuracy : 0.21364797001484567\n",
      "    valid/precision: 0.4691229741225642\n",
      "    valid/recall   : 0.7348396949223099\n",
      "    valid/roc_auc  : 0.8669452490017864\n",
      "Early stop count: 6\n"
     ]
    },
    {
     "data": {
      "text/plain": "  0%|          | 0/1000 [00:00<?, ?it/s]",
      "application/vnd.jupyter.widget-view+json": {
       "version_major": 2,
       "version_minor": 0,
       "model_id": "c423a89434584230a0d2a773639fd8fe"
      }
     },
     "metadata": {},
     "output_type": "display_data"
    },
    {
     "data": {
      "text/plain": "  0%|          | 0/115 [00:00<?, ?it/s]",
      "application/vnd.jupyter.widget-view+json": {
       "version_major": 2,
       "version_minor": 0,
       "model_id": "7e3f66462d3746d89ee646bff2346181"
      }
     },
     "metadata": {},
     "output_type": "display_data"
    },
    {
     "name": "stdout",
     "output_type": "stream",
     "text": [
      "    epoch          : 10\n",
      "    train/loss     : 0.49238809365034103\n",
      "    train/fbeta    : 0.4762728810310364\n",
      "    train/accuracy : 0.2146411802950928\n",
      "    train/precision: 0.4377188827905093\n",
      "    train/recall   : 0.7676118438267966\n",
      "    train/roc_auc  : 0.8832632133755417\n",
      "    valid/loss     : 0.4854782254799553\n",
      "    valid/fbeta    : 0.5064945816993713\n",
      "    valid/accuracy : 0.21028490582687812\n",
      "    valid/precision: 0.47827859492623503\n",
      "    valid/recall   : 0.7270214103479057\n",
      "    valid/roc_auc  : 0.8630583774850512\n",
      "Early stop count: 0\n",
      "Saving checkpoint: /home/lz/Codes/Vesuvius/dev/../saved/checkpoints/Unet_6_Multi_fold_2_checkpoints.pth ...\n",
      "Saving current best: model_best.pth ...\n"
     ]
    },
    {
     "data": {
      "text/plain": "  0%|          | 0/1000 [00:00<?, ?it/s]",
      "application/vnd.jupyter.widget-view+json": {
       "version_major": 2,
       "version_minor": 0,
       "model_id": "1c59f26342904bacad3c2dadeea1f350"
      }
     },
     "metadata": {},
     "output_type": "display_data"
    },
    {
     "data": {
      "text/plain": "  0%|          | 0/115 [00:00<?, ?it/s]",
      "application/vnd.jupyter.widget-view+json": {
       "version_major": 2,
       "version_minor": 0,
       "model_id": "3af8471a3e894cc5ac454553316c9a5f"
      }
     },
     "metadata": {},
     "output_type": "display_data"
    },
    {
     "name": "stdout",
     "output_type": "stream",
     "text": [
      "    epoch          : 11\n",
      "    train/loss     : 0.4854202296435833\n",
      "    train/fbeta    : 0.48442545533180237\n",
      "    train/accuracy : 0.21379134297246943\n",
      "    train/precision: 0.4463152908030973\n",
      "    train/recall   : 0.7665808654731202\n",
      "    train/roc_auc  : 0.8827685227269212\n",
      "    valid/loss     : 0.47987494546434156\n",
      "    valid/fbeta    : 0.5004803538322449\n",
      "    valid/accuracy : 0.21732437688873227\n",
      "    valid/precision: 0.4723081159303922\n",
      "    valid/recall   : 0.7528202826097775\n",
      "    valid/roc_auc  : 0.875924643261876\n",
      "Early stop count: 0\n"
     ]
    },
    {
     "data": {
      "text/plain": "  0%|          | 0/1000 [00:00<?, ?it/s]",
      "application/vnd.jupyter.widget-view+json": {
       "version_major": 2,
       "version_minor": 0,
       "model_id": "6e1d19c4934c48d693243f654c148c11"
      }
     },
     "metadata": {},
     "output_type": "display_data"
    },
    {
     "data": {
      "text/plain": "  0%|          | 0/115 [00:00<?, ?it/s]",
      "application/vnd.jupyter.widget-view+json": {
       "version_major": 2,
       "version_minor": 0,
       "model_id": "39633e9c870f4f61b2f908dc90f95f7f"
      }
     },
     "metadata": {},
     "output_type": "display_data"
    },
    {
     "name": "stdout",
     "output_type": "stream",
     "text": [
      "    epoch          : 12\n",
      "    train/loss     : 0.4804711996614933\n",
      "    train/fbeta    : 0.4863983988761902\n",
      "    train/accuracy : 0.2122818456530359\n",
      "    train/precision: 0.44858042925746566\n",
      "    train/recall   : 0.766022545027723\n",
      "    train/roc_auc  : 0.8824978815367022\n",
      "    valid/loss     : 0.48115757651951\n",
      "    valid/fbeta    : 0.5036228895187378\n",
      "    valid/accuracy : 0.21523334601306898\n",
      "    valid/precision: 0.4742113598941514\n",
      "    valid/recall   : 0.7422694931881054\n",
      "    valid/roc_auc  : 0.8706654223363245\n",
      "Early stop count: 0\n"
     ]
    },
    {
     "data": {
      "text/plain": "  0%|          | 0/1000 [00:00<?, ?it/s]",
      "application/vnd.jupyter.widget-view+json": {
       "version_major": 2,
       "version_minor": 0,
       "model_id": "ccd300bb207746e9a4ed8b6e69b08311"
      }
     },
     "metadata": {},
     "output_type": "display_data"
    },
    {
     "data": {
      "text/plain": "  0%|          | 0/115 [00:00<?, ?it/s]",
      "application/vnd.jupyter.widget-view+json": {
       "version_major": 2,
       "version_minor": 0,
       "model_id": "db72f6cb5f6f4b139ee04a72819f2e27"
      }
     },
     "metadata": {},
     "output_type": "display_data"
    },
    {
     "name": "stdout",
     "output_type": "stream",
     "text": [
      "    epoch          : 13\n",
      "    train/loss     : 0.47760133096575735\n",
      "    train/fbeta    : 0.49548760056495667\n",
      "    train/accuracy : 0.21607215800355725\n",
      "    train/precision: 0.4575648434468025\n",
      "    train/recall   : 0.7727029134190679\n",
      "    train/roc_auc  : 0.8858476159114209\n",
      "    valid/loss     : 0.47008308794187464\n",
      "    valid/fbeta    : 0.5037664175033569\n",
      "    valid/accuracy : 0.22590353694097964\n",
      "    valid/precision: 0.46529430675075734\n",
      "    valid/recall   : 0.776372689141544\n",
      "    valid/roc_auc  : 0.8876878994242736\n",
      "Early stop count: 0\n"
     ]
    },
    {
     "data": {
      "text/plain": "  0%|          | 0/1000 [00:00<?, ?it/s]",
      "application/vnd.jupyter.widget-view+json": {
       "version_major": 2,
       "version_minor": 0,
       "model_id": "9b6bdfa5e5ee4e8cb4b4ac12630479ad"
      }
     },
     "metadata": {},
     "output_type": "display_data"
    },
    {
     "data": {
      "text/plain": "  0%|          | 0/115 [00:00<?, ?it/s]",
      "application/vnd.jupyter.widget-view+json": {
       "version_major": 2,
       "version_minor": 0,
       "model_id": "d76b644fbddd4c79a099916c3b995f1a"
      }
     },
     "metadata": {},
     "output_type": "display_data"
    },
    {
     "name": "stdout",
     "output_type": "stream",
     "text": [
      "    epoch          : 14\n",
      "    train/loss     : 0.47850022998452185\n",
      "    train/fbeta    : 0.49610909819602966\n",
      "    train/accuracy : 0.2162650363218764\n",
      "    train/precision: 0.4585338197206631\n",
      "    train/recall   : 0.770839262130091\n",
      "    train/roc_auc  : 0.8849165699500255\n",
      "    valid/loss     : 0.46601046945737756\n",
      "    valid/fbeta    : 0.5251246690750122\n",
      "    valid/accuracy : 0.21881698161573546\n",
      "    valid/precision: 0.4902911069549061\n",
      "    valid/recall   : 0.7588838790645536\n",
      "    valid/roc_auc  : 0.8789988103798967\n",
      "Early stop count: 0\n"
     ]
    },
    {
     "data": {
      "text/plain": "  0%|          | 0/1000 [00:00<?, ?it/s]",
      "application/vnd.jupyter.widget-view+json": {
       "version_major": 2,
       "version_minor": 0,
       "model_id": "1efa6022a237428c92de6caaee931815"
      }
     },
     "metadata": {},
     "output_type": "display_data"
    },
    {
     "data": {
      "text/plain": "  0%|          | 0/115 [00:00<?, ?it/s]",
      "application/vnd.jupyter.widget-view+json": {
       "version_major": 2,
       "version_minor": 0,
       "model_id": "aec8ab008668486ab814e6d63273a828"
      }
     },
     "metadata": {},
     "output_type": "display_data"
    },
    {
     "name": "stdout",
     "output_type": "stream",
     "text": [
      "    epoch          : 15\n",
      "    train/loss     : 0.47147711396217346\n",
      "    train/fbeta    : 0.501961886882782\n",
      "    train/accuracy : 0.2148941568177325\n",
      "    train/precision: 0.4645089918544362\n",
      "    train/recall   : 0.7729987227883928\n",
      "    train/roc_auc  : 0.8860122655267122\n",
      "    valid/loss     : 0.4653571286927099\n",
      "    valid/fbeta    : 0.5167585611343384\n",
      "    valid/accuracy : 0.23064314699185307\n",
      "    valid/precision: 0.47677310635917\n",
      "    valid/recall   : 0.7951541244813116\n",
      "    valid/roc_auc  : 0.897082500993031\n",
      "Early stop count: 0\n",
      "Saving checkpoint: /home/lz/Codes/Vesuvius/dev/../saved/checkpoints/Unet_6_Multi_fold_2_checkpoints.pth ...\n",
      "Saving current best: model_best.pth ...\n"
     ]
    },
    {
     "data": {
      "text/plain": "  0%|          | 0/1000 [00:00<?, ?it/s]",
      "application/vnd.jupyter.widget-view+json": {
       "version_major": 2,
       "version_minor": 0,
       "model_id": "e782172efc884bbdb6145547ba33a309"
      }
     },
     "metadata": {},
     "output_type": "display_data"
    },
    {
     "data": {
      "text/plain": "  0%|          | 0/115 [00:00<?, ?it/s]",
      "application/vnd.jupyter.widget-view+json": {
       "version_major": 2,
       "version_minor": 0,
       "model_id": "59dc20c1148c4587b3276a2212323c2a"
      }
     },
     "metadata": {},
     "output_type": "display_data"
    },
    {
     "name": "stdout",
     "output_type": "stream",
     "text": [
      "    epoch          : 16\n",
      "    train/loss     : 0.4686525530517101\n",
      "    train/fbeta    : 0.49992549419403076\n",
      "    train/accuracy : 0.21531401641196077\n",
      "    train/precision: 0.4620308786034381\n",
      "    train/recall   : 0.7757738342421558\n",
      "    train/roc_auc  : 0.8873938575826101\n",
      "    valid/loss     : 0.46155125680177106\n",
      "    valid/fbeta    : 0.5376814603805542\n",
      "    valid/accuracy : 0.21812298968472393\n",
      "    valid/precision: 0.504017141624902\n",
      "    valid/recall   : 0.7555247743858787\n",
      "    valid/roc_auc  : 0.8773404455981864\n",
      "Early stop count: 1\n"
     ]
    },
    {
     "data": {
      "text/plain": "  0%|          | 0/1000 [00:00<?, ?it/s]",
      "application/vnd.jupyter.widget-view+json": {
       "version_major": 2,
       "version_minor": 0,
       "model_id": "83d1be36c8284200a450636d18a69dac"
      }
     },
     "metadata": {},
     "output_type": "display_data"
    },
    {
     "data": {
      "text/plain": "  0%|          | 0/115 [00:00<?, ?it/s]",
      "application/vnd.jupyter.widget-view+json": {
       "version_major": 2,
       "version_minor": 0,
       "model_id": "2e4346584c8748f790a52d4b65abc4ef"
      }
     },
     "metadata": {},
     "output_type": "display_data"
    },
    {
     "name": "stdout",
     "output_type": "stream",
     "text": [
      "    epoch          : 17\n",
      "    train/loss     : 0.4682412500679493\n",
      "    train/fbeta    : 0.5093827247619629\n",
      "    train/accuracy : 0.2159513950890169\n",
      "    train/precision: 0.4723208224785784\n",
      "    train/recall   : 0.7705641726959842\n",
      "    train/roc_auc  : 0.8848075206727769\n",
      "    valid/loss     : 0.46018312962158864\n",
      "    valid/fbeta    : 0.5277730226516724\n",
      "    valid/accuracy : 0.22651485250151038\n",
      "    valid/precision: 0.49058533655413744\n",
      "    valid/recall   : 0.7810165420351797\n",
      "    valid/roc_auc  : 0.8900496044497233\n",
      "Early stop count: 0\n"
     ]
    },
    {
     "data": {
      "text/plain": "  0%|          | 0/1000 [00:00<?, ?it/s]",
      "application/vnd.jupyter.widget-view+json": {
       "version_major": 2,
       "version_minor": 0,
       "model_id": "45f0271571d94074b41a862ae8c7dd58"
      }
     },
     "metadata": {},
     "output_type": "display_data"
    },
    {
     "data": {
      "text/plain": "  0%|          | 0/115 [00:00<?, ?it/s]",
      "application/vnd.jupyter.widget-view+json": {
       "version_major": 2,
       "version_minor": 0,
       "model_id": "c390d4a7656f4f1d991b1d4b34bbdd2a"
      }
     },
     "metadata": {},
     "output_type": "display_data"
    },
    {
     "name": "stdout",
     "output_type": "stream",
     "text": [
      "    epoch          : 18\n",
      "    train/loss     : 0.4636262955367565\n",
      "    train/fbeta    : 0.5116411447525024\n",
      "    train/accuracy : 0.21529073735424406\n",
      "    train/precision: 0.4748364867474112\n",
      "    train/recall   : 0.7741603230895457\n",
      "    train/roc_auc  : 0.8866107398579609\n",
      "    valid/loss     : 0.4576805576034214\n",
      "    valid/fbeta    : 0.5338080525398254\n",
      "    valid/accuracy : 0.21212719271615663\n",
      "    valid/precision: 0.5021140413994181\n",
      "    valid/recall   : 0.7349740661738269\n",
      "    valid/roc_auc  : 0.8670882507383416\n",
      "Early stop count: 0\n"
     ]
    },
    {
     "data": {
      "text/plain": "  0%|          | 0/1000 [00:00<?, ?it/s]",
      "application/vnd.jupyter.widget-view+json": {
       "version_major": 2,
       "version_minor": 0,
       "model_id": "1dee1cd0fffd40d99aaa8e4be098cd78"
      }
     },
     "metadata": {},
     "output_type": "display_data"
    },
    {
     "data": {
      "text/plain": "  0%|          | 0/115 [00:00<?, ?it/s]",
      "application/vnd.jupyter.widget-view+json": {
       "version_major": 2,
       "version_minor": 0,
       "model_id": "176c8bd9f16c4ba7940335f6ddc31275"
      }
     },
     "metadata": {},
     "output_type": "display_data"
    },
    {
     "name": "stdout",
     "output_type": "stream",
     "text": [
      "    epoch          : 19\n",
      "    train/loss     : 0.4614975233972073\n",
      "    train/fbeta    : 0.5190209746360779\n",
      "    train/accuracy : 0.21732299829572735\n",
      "    train/precision: 0.4824879302731683\n",
      "    train/recall   : 0.7760114614861131\n",
      "    train/roc_auc  : 0.887546723468618\n",
      "    valid/loss     : 0.4601719594520071\n",
      "    valid/fbeta    : 0.5291035771369934\n",
      "    valid/accuracy : 0.22512293682729362\n",
      "    valid/precision: 0.4931511598801111\n",
      "    valid/recall   : 0.7701847170190885\n",
      "    valid/roc_auc  : 0.8846429461562084\n",
      "Early stop count: 0\n"
     ]
    },
    {
     "data": {
      "text/plain": "  0%|          | 0/1000 [00:00<?, ?it/s]",
      "application/vnd.jupyter.widget-view+json": {
       "version_major": 2,
       "version_minor": 0,
       "model_id": "b8e92a466a0b4370be74e6623605d5bb"
      }
     },
     "metadata": {},
     "output_type": "display_data"
    },
    {
     "data": {
      "text/plain": "  0%|          | 0/115 [00:00<?, ?it/s]",
      "application/vnd.jupyter.widget-view+json": {
       "version_major": 2,
       "version_minor": 0,
       "model_id": "a91ca4f2c64e4b61b14584a6a3570021"
      }
     },
     "metadata": {},
     "output_type": "display_data"
    },
    {
     "name": "stdout",
     "output_type": "stream",
     "text": [
      "    epoch          : 20\n",
      "    train/loss     : 0.4594893101155758\n",
      "    train/fbeta    : 0.514713704586029\n",
      "    train/accuracy : 0.21463680992878242\n",
      "    train/precision: 0.478290296546684\n",
      "    train/recall   : 0.7753273465494007\n",
      "    train/roc_auc  : 0.8872025844730361\n",
      "    valid/loss     : 0.45120868294135386\n",
      "    valid/fbeta    : 0.527040958404541\n",
      "    valid/accuracy : 0.2325955462854741\n",
      "    valid/precision: 0.48708516219964376\n",
      "    valid/recall   : 0.8042837797829548\n",
      "    valid/roc_auc  : 0.9016636148031034\n",
      "Early stop count: 1\n",
      "Saving checkpoint: /home/lz/Codes/Vesuvius/dev/../saved/checkpoints/Unet_6_Multi_fold_2_checkpoints.pth ...\n"
     ]
    },
    {
     "data": {
      "text/plain": "  0%|          | 0/1000 [00:00<?, ?it/s]",
      "application/vnd.jupyter.widget-view+json": {
       "version_major": 2,
       "version_minor": 0,
       "model_id": "a64a1cce74a2465d84b96232720c8f4d"
      }
     },
     "metadata": {},
     "output_type": "display_data"
    },
    {
     "data": {
      "text/plain": "  0%|          | 0/115 [00:00<?, ?it/s]",
      "application/vnd.jupyter.widget-view+json": {
       "version_major": 2,
       "version_minor": 0,
       "model_id": "127b98246c0947c4a84b6c0f8dc2e111"
      }
     },
     "metadata": {},
     "output_type": "display_data"
    },
    {
     "name": "stdout",
     "output_type": "stream",
     "text": [
      "    epoch          : 21\n",
      "    train/loss     : 0.4598429578244686\n",
      "    train/fbeta    : 0.5200366377830505\n",
      "    train/accuracy : 0.21664827806095463\n",
      "    train/precision: 0.4836153874147491\n",
      "    train/recall   : 0.7741251027099505\n",
      "    train/roc_auc  : 0.8866075589430318\n",
      "    valid/loss     : 0.45450524843257406\n",
      "    valid/fbeta    : 0.5413647294044495\n",
      "    valid/accuracy : 0.21984516675188107\n",
      "    valid/precision: 0.507436489619003\n",
      "    valid/recall   : 0.7596372300577744\n",
      "    valid/roc_auc  : 0.8794058803157186\n",
      "Early stop count: 0\n"
     ]
    },
    {
     "data": {
      "text/plain": "  0%|          | 0/1000 [00:00<?, ?it/s]",
      "application/vnd.jupyter.widget-view+json": {
       "version_major": 2,
       "version_minor": 0,
       "model_id": "540078b03e2244959051083159293f88"
      }
     },
     "metadata": {},
     "output_type": "display_data"
    },
    {
     "data": {
      "text/plain": "  0%|          | 0/115 [00:00<?, ?it/s]",
      "application/vnd.jupyter.widget-view+json": {
       "version_major": 2,
       "version_minor": 0,
       "model_id": "adcc266792ed4c00940392f81a05779f"
      }
     },
     "metadata": {},
     "output_type": "display_data"
    },
    {
     "name": "stdout",
     "output_type": "stream",
     "text": [
      "    epoch          : 22\n",
      "    train/loss     : 0.45611393615603446\n",
      "    train/fbeta    : 0.5214056372642517\n",
      "    train/accuracy : 0.21761167839178885\n",
      "    train/precision: 0.484905137804111\n",
      "    train/recall   : 0.7795269178399307\n",
      "    train/roc_auc  : 0.889308106181956\n",
      "    valid/loss     : 0.45715029913446176\n",
      "    valid/fbeta    : 0.5459586977958679\n",
      "    valid/accuracy : 0.22227450677932808\n",
      "    valid/precision: 0.5120930009457281\n",
      "    valid/recall   : 0.7607253505274008\n",
      "    valid/roc_auc  : 0.8799517499953841\n",
      "Early stop count: 0\n"
     ]
    },
    {
     "data": {
      "text/plain": "  0%|          | 0/1000 [00:00<?, ?it/s]",
      "application/vnd.jupyter.widget-view+json": {
       "version_major": 2,
       "version_minor": 0,
       "model_id": "5934ad45dcd04728a2dc6be3bc4571d9"
      }
     },
     "metadata": {},
     "output_type": "display_data"
    },
    {
     "data": {
      "text/plain": "  0%|          | 0/115 [00:00<?, ?it/s]",
      "application/vnd.jupyter.widget-view+json": {
       "version_major": 2,
       "version_minor": 0,
       "model_id": "cce6932a01a74dd394282e35a2ede5cc"
      }
     },
     "metadata": {},
     "output_type": "display_data"
    },
    {
     "name": "stdout",
     "output_type": "stream",
     "text": [
      "    epoch          : 23\n",
      "    train/loss     : 0.4560739820599556\n",
      "    train/fbeta    : 0.5230035185813904\n",
      "    train/accuracy : 0.21769275624773549\n",
      "    train/precision: 0.48662048047382717\n",
      "    train/recall   : 0.77871188634074\n",
      "    train/roc_auc  : 0.8889042661444365\n",
      "    valid/loss     : 0.448684772460357\n",
      "    valid/fbeta    : 0.5528507232666016\n",
      "    valid/accuracy : 0.21567221424038646\n",
      "    valid/precision: 0.524231635222985\n",
      "    valid/recall   : 0.7440006354855306\n",
      "    valid/roc_auc  : 0.8716205905448452\n",
      "Early stop count: 0\n"
     ]
    },
    {
     "data": {
      "text/plain": "  0%|          | 0/1000 [00:00<?, ?it/s]",
      "application/vnd.jupyter.widget-view+json": {
       "version_major": 2,
       "version_minor": 0,
       "model_id": "a1bfd776a6b24fd6949f487af22403b6"
      }
     },
     "metadata": {},
     "output_type": "display_data"
    },
    {
     "data": {
      "text/plain": "  0%|          | 0/115 [00:00<?, ?it/s]",
      "application/vnd.jupyter.widget-view+json": {
       "version_major": 2,
       "version_minor": 0,
       "model_id": "b2845f7aeebd4f6bb19c08c36e46f149"
      }
     },
     "metadata": {},
     "output_type": "display_data"
    },
    {
     "name": "stdout",
     "output_type": "stream",
     "text": [
      "    epoch          : 24\n",
      "    train/loss     : 0.4526621988117695\n",
      "    train/fbeta    : 0.5255234241485596\n",
      "    train/accuracy : 0.21808059854285627\n",
      "    train/precision: 0.4890644077940917\n",
      "    train/recall   : 0.7824894927021281\n",
      "    train/roc_auc  : 0.890795865677696\n",
      "    valid/loss     : 0.4423544253991998\n",
      "    valid/fbeta    : 0.5423738956451416\n",
      "    valid/accuracy : 0.22370307604160963\n",
      "    valid/precision: 0.5068598158803117\n",
      "    valid/recall   : 0.7715802581169727\n",
      "    valid/roc_auc  : 0.8853717741804721\n",
      "Early stop count: 0\n"
     ]
    },
    {
     "data": {
      "text/plain": "  0%|          | 0/1000 [00:00<?, ?it/s]",
      "application/vnd.jupyter.widget-view+json": {
       "version_major": 2,
       "version_minor": 0,
       "model_id": "0a17015c8c0343ab8b56c69b07e32c45"
      }
     },
     "metadata": {},
     "output_type": "display_data"
    },
    {
     "data": {
      "text/plain": "  0%|          | 0/115 [00:00<?, ?it/s]",
      "application/vnd.jupyter.widget-view+json": {
       "version_major": 2,
       "version_minor": 0,
       "model_id": "142c2903d4514c29979dc580c9947edd"
      }
     },
     "metadata": {},
     "output_type": "display_data"
    },
    {
     "name": "stdout",
     "output_type": "stream",
     "text": [
      "    epoch          : 25\n",
      "    train/loss     : 0.44749303394556045\n",
      "    train/fbeta    : 0.5279857516288757\n",
      "    train/accuracy : 0.215311159219279\n",
      "    train/precision: 0.49183883289839514\n",
      "    train/recall   : 0.7804602312687755\n",
      "    train/roc_auc  : 0.8897922366208944\n",
      "    valid/loss     : 0.44491531460181527\n",
      "    valid/fbeta    : 0.5406741499900818\n",
      "    valid/accuracy : 0.22520694546471573\n",
      "    valid/precision: 0.504437619978042\n",
      "    valid/recall   : 0.7784315493711919\n",
      "    valid/roc_auc  : 0.8887870594645172\n",
      "Early stop count: 0\n",
      "Saving checkpoint: /home/lz/Codes/Vesuvius/dev/../saved/checkpoints/Unet_6_Multi_fold_2_checkpoints.pth ...\n",
      "Saving current best: model_best.pth ...\n"
     ]
    },
    {
     "data": {
      "text/plain": "  0%|          | 0/1000 [00:00<?, ?it/s]",
      "application/vnd.jupyter.widget-view+json": {
       "version_major": 2,
       "version_minor": 0,
       "model_id": "e8aab48ad2014e359df00e932902fb41"
      }
     },
     "metadata": {},
     "output_type": "display_data"
    },
    {
     "data": {
      "text/plain": "  0%|          | 0/115 [00:00<?, ?it/s]",
      "application/vnd.jupyter.widget-view+json": {
       "version_major": 2,
       "version_minor": 0,
       "model_id": "05cef3ac5a9d44889fd1fa7af1d7d538"
      }
     },
     "metadata": {},
     "output_type": "display_data"
    },
    {
     "name": "stdout",
     "output_type": "stream",
     "text": [
      "    epoch          : 26\n",
      "    train/loss     : 0.452562680721283\n",
      "    train/fbeta    : 0.5347034931182861\n",
      "    train/accuracy : 0.21989363091889008\n",
      "    train/precision: 0.4991667852632094\n",
      "    train/recall   : 0.7790518938671745\n",
      "    train/roc_auc  : 0.8890913827226019\n",
      "    valid/loss     : 0.444948738295099\n",
      "    valid/fbeta    : 0.5518642663955688\n",
      "    valid/accuracy : 0.2196550966681453\n",
      "    valid/precision: 0.5182915704794927\n",
      "    valid/recall   : 0.7658111086137214\n",
      "    valid/roc_auc  : 0.8825059126508081\n",
      "Early stop count: 0\n"
     ]
    },
    {
     "data": {
      "text/plain": "  0%|          | 0/1000 [00:00<?, ?it/s]",
      "application/vnd.jupyter.widget-view+json": {
       "version_major": 2,
       "version_minor": 0,
       "model_id": "4269d2d1f83e43f6965de1c956103ca6"
      }
     },
     "metadata": {},
     "output_type": "display_data"
    },
    {
     "data": {
      "text/plain": "  0%|          | 0/115 [00:00<?, ?it/s]",
      "application/vnd.jupyter.widget-view+json": {
       "version_major": 2,
       "version_minor": 0,
       "model_id": "4b38b84884bf49b9b823342bcb283d78"
      }
     },
     "metadata": {},
     "output_type": "display_data"
    },
    {
     "name": "stdout",
     "output_type": "stream",
     "text": [
      "    epoch          : 27\n",
      "    train/loss     : 0.4460615194141865\n",
      "    train/fbeta    : 0.5356138944625854\n",
      "    train/accuracy : 0.21960800855959572\n",
      "    train/precision: 0.49958562465230444\n",
      "    train/recall   : 0.785330328579131\n",
      "    train/roc_auc  : 0.8922317142483184\n",
      "    valid/loss     : 0.444155309252117\n",
      "    valid/fbeta    : 0.5669931769371033\n",
      "    valid/accuracy : 0.2107326016766105\n",
      "    valid/precision: 0.5455354620409264\n",
      "    valid/recall   : 0.7275220280384241\n",
      "    valid/roc_auc  : 0.8634151426310573\n",
      "Early stop count: 0\n"
     ]
    },
    {
     "data": {
      "text/plain": "  0%|          | 0/1000 [00:00<?, ?it/s]",
      "application/vnd.jupyter.widget-view+json": {
       "version_major": 2,
       "version_minor": 0,
       "model_id": "a6a54586bf524e028e4cd98278ba4854"
      }
     },
     "metadata": {},
     "output_type": "display_data"
    },
    {
     "data": {
      "text/plain": "  0%|          | 0/115 [00:00<?, ?it/s]",
      "application/vnd.jupyter.widget-view+json": {
       "version_major": 2,
       "version_minor": 0,
       "model_id": "145859e2a16349088cd0c0cf4b3899e4"
      }
     },
     "metadata": {},
     "output_type": "display_data"
    },
    {
     "name": "stdout",
     "output_type": "stream",
     "text": [
      "    epoch          : 28\n",
      "    train/loss     : 0.444606995254755\n",
      "    train/fbeta    : 0.5350733399391174\n",
      "    train/accuracy : 0.21732409618117074\n",
      "    train/precision: 0.4990506439039461\n",
      "    train/recall   : 0.7832000518823655\n",
      "    train/roc_auc  : 0.8911701409001329\n",
      "    valid/loss     : 0.4400371800298276\n",
      "    valid/fbeta    : 0.556434690952301\n",
      "    valid/accuracy : 0.22401206448923064\n",
      "    valid/precision: 0.5221274400370939\n",
      "    valid/recall   : 0.7734323532345314\n",
      "    valid/roc_auc  : 0.8863179432402586\n",
      "Early stop count: 1\n"
     ]
    },
    {
     "data": {
      "text/plain": "  0%|          | 0/1000 [00:00<?, ?it/s]",
      "application/vnd.jupyter.widget-view+json": {
       "version_major": 2,
       "version_minor": 0,
       "model_id": "4442669027be456fb82e3bf6baa73a08"
      }
     },
     "metadata": {},
     "output_type": "display_data"
    },
    {
     "data": {
      "text/plain": "  0%|          | 0/115 [00:00<?, ?it/s]",
      "application/vnd.jupyter.widget-view+json": {
       "version_major": 2,
       "version_minor": 0,
       "model_id": "4f17aea0f2f04da48b32d261159f4908"
      }
     },
     "metadata": {},
     "output_type": "display_data"
    },
    {
     "name": "stdout",
     "output_type": "stream",
     "text": [
      "    epoch          : 29\n",
      "    train/loss     : 0.44360693073272706\n",
      "    train/fbeta    : 0.5371735692024231\n",
      "    train/accuracy : 0.21825169901917937\n",
      "    train/precision: 0.5011887903837093\n",
      "    train/recall   : 0.7849731387417427\n",
      "    train/roc_auc  : 0.8920592711147844\n",
      "    valid/loss     : 0.4390696463377579\n",
      "    valid/fbeta    : 0.5529382824897766\n",
      "    valid/accuracy : 0.22118225368414562\n",
      "    valid/precision: 0.524638763239909\n",
      "    valid/recall   : 0.7614726806911217\n",
      "    valid/roc_auc  : 0.8803440241031771\n",
      "Early stop count: 0\n"
     ]
    },
    {
     "data": {
      "text/plain": "  0%|          | 0/1000 [00:00<?, ?it/s]",
      "application/vnd.jupyter.widget-view+json": {
       "version_major": 2,
       "version_minor": 0,
       "model_id": "1d222e9cb9f5412c9e97547d3d4d6577"
      }
     },
     "metadata": {},
     "output_type": "display_data"
    },
    {
     "data": {
      "text/plain": "  0%|          | 0/115 [00:00<?, ?it/s]",
      "application/vnd.jupyter.widget-view+json": {
       "version_major": 2,
       "version_minor": 0,
       "model_id": "bfc9d1b8b351431ca253c7b5f2449de3"
      }
     },
     "metadata": {},
     "output_type": "display_data"
    },
    {
     "name": "stdout",
     "output_type": "stream",
     "text": [
      "    epoch          : 30\n",
      "    train/loss     : 0.4429683577120304\n",
      "    train/fbeta    : 0.5396526455879211\n",
      "    train/accuracy : 0.21932869001088753\n",
      "    train/precision: 0.5037277060809472\n",
      "    train/recall   : 0.7853715776090431\n",
      "    train/roc_auc  : 0.892260745586878\n",
      "    valid/loss     : 0.4359336155912151\n",
      "    valid/fbeta    : 0.5670566558837891\n",
      "    valid/accuracy : 0.21889630024026405\n",
      "    valid/precision: 0.5358392181866571\n",
      "    valid/recall   : 0.758733503045271\n",
      "    valid/roc_auc  : 0.8789964141122799\n",
      "Early stop count: 0\n",
      "Saving checkpoint: /home/lz/Codes/Vesuvius/dev/../saved/checkpoints/Unet_6_Multi_fold_2_checkpoints.pth ...\n",
      "Saving current best: model_best.pth ...\n"
     ]
    },
    {
     "data": {
      "text/plain": "  0%|          | 0/1000 [00:00<?, ?it/s]",
      "application/vnd.jupyter.widget-view+json": {
       "version_major": 2,
       "version_minor": 0,
       "model_id": "037917792d1a43a99d54183e1d7144e5"
      }
     },
     "metadata": {},
     "output_type": "display_data"
    },
    {
     "data": {
      "text/plain": "  0%|          | 0/115 [00:00<?, ?it/s]",
      "application/vnd.jupyter.widget-view+json": {
       "version_major": 2,
       "version_minor": 0,
       "model_id": "d750307e5c6d4f54bdf2dc9f886c65c3"
      }
     },
     "metadata": {},
     "output_type": "display_data"
    },
    {
     "name": "stdout",
     "output_type": "stream",
     "text": [
      "    epoch          : 31\n",
      "    train/loss     : 0.4464000116288662\n",
      "    train/fbeta    : 0.5380975604057312\n",
      "    train/accuracy : 0.21984942178504155\n",
      "    train/precision: 0.5024962823753985\n",
      "    train/recall   : 0.7833477247903065\n",
      "    train/roc_auc  : 0.8912451090885445\n",
      "    valid/loss     : 0.4367635055728581\n",
      "    valid/fbeta    : 0.5579383373260498\n",
      "    valid/accuracy : 0.221521418519573\n",
      "    valid/precision: 0.5245539807335944\n",
      "    valid/recall   : 0.7649050239804751\n",
      "    valid/roc_auc  : 0.8820638958347378\n",
      "Early stop count: 1\n"
     ]
    },
    {
     "data": {
      "text/plain": "  0%|          | 0/1000 [00:00<?, ?it/s]",
      "application/vnd.jupyter.widget-view+json": {
       "version_major": 2,
       "version_minor": 0,
       "model_id": "1d45e5c8ae6e4e9fa1a37f0fba06fea6"
      }
     },
     "metadata": {},
     "output_type": "display_data"
    },
    {
     "data": {
      "text/plain": "  0%|          | 0/115 [00:00<?, ?it/s]",
      "application/vnd.jupyter.widget-view+json": {
       "version_major": 2,
       "version_minor": 0,
       "model_id": "c16476c564f74a47a1228f02c4655f65"
      }
     },
     "metadata": {},
     "output_type": "display_data"
    },
    {
     "name": "stdout",
     "output_type": "stream",
     "text": [
      "    epoch          : 32\n",
      "    train/loss     : 0.44106312251091\n",
      "    train/fbeta    : 0.5373453497886658\n",
      "    train/accuracy : 0.21930020278591955\n",
      "    train/precision: 0.501018223287507\n",
      "    train/recall   : 0.7884856864441453\n",
      "    train/roc_auc  : 0.893813272928032\n",
      "    valid/loss     : 0.43422382810841437\n",
      "    valid/fbeta    : 0.5579530000686646\n",
      "    valid/accuracy : 0.22134860291745104\n",
      "    valid/precision: 0.5245110559287877\n",
      "    valid/recall   : 0.7668184899790494\n",
      "    valid/roc_auc  : 0.8830259315293015\n",
      "Early stop count: 2\n"
     ]
    },
    {
     "data": {
      "text/plain": "  0%|          | 0/1000 [00:00<?, ?it/s]",
      "application/vnd.jupyter.widget-view+json": {
       "version_major": 2,
       "version_minor": 0,
       "model_id": "1537f327a50647f1b38ebb0a87e5e70e"
      }
     },
     "metadata": {},
     "output_type": "display_data"
    },
    {
     "data": {
      "text/plain": "  0%|          | 0/115 [00:00<?, ?it/s]",
      "application/vnd.jupyter.widget-view+json": {
       "version_major": 2,
       "version_minor": 0,
       "model_id": "6e8ea225fe95439bb062b6cf26975cb8"
      }
     },
     "metadata": {},
     "output_type": "display_data"
    },
    {
     "name": "stdout",
     "output_type": "stream",
     "text": [
      "    epoch          : 33\n",
      "    train/loss     : 0.4398650369346142\n",
      "    train/fbeta    : 0.5416689515113831\n",
      "    train/accuracy : 0.21938883579771754\n",
      "    train/precision: 0.5058634776516662\n",
      "    train/recall   : 0.7871875550836247\n",
      "    train/roc_auc  : 0.893171997545779\n",
      "    valid/loss     : 0.4322739419729813\n",
      "    valid/fbeta    : 0.567844569683075\n",
      "    valid/accuracy : 0.22480187132568807\n",
      "    valid/precision: 0.5335359248585059\n",
      "    valid/recall   : 0.7833650657013658\n",
      "    valid/roc_auc  : 0.8912976894464817\n",
      "Early stop count: 0\n"
     ]
    },
    {
     "data": {
      "text/plain": "  0%|          | 0/1000 [00:00<?, ?it/s]",
      "application/vnd.jupyter.widget-view+json": {
       "version_major": 2,
       "version_minor": 0,
       "model_id": "320f8f484b084630bf8843a4ef1563aa"
      }
     },
     "metadata": {},
     "output_type": "display_data"
    },
    {
     "data": {
      "text/plain": "  0%|          | 0/115 [00:00<?, ?it/s]",
      "application/vnd.jupyter.widget-view+json": {
       "version_major": 2,
       "version_minor": 0,
       "model_id": "5030b9eabf6447159b8147789d4968d9"
      }
     },
     "metadata": {},
     "output_type": "display_data"
    },
    {
     "name": "stdout",
     "output_type": "stream",
     "text": [
      "    epoch          : 34\n",
      "    train/loss     : 0.43998144748806955\n",
      "    train/fbeta    : 0.5427682399749756\n",
      "    train/accuracy : 0.22051342050953038\n",
      "    train/precision: 0.5068694477691169\n",
      "    train/recall   : 0.78805025185844\n",
      "    train/roc_auc  : 0.8936028464274937\n",
      "    valid/loss     : 0.4379340086294257\n",
      "    valid/fbeta    : 0.5480602383613586\n",
      "    valid/accuracy : 0.22981833294600063\n",
      "    valid/precision: 0.5105830845462774\n",
      "    valid/recall   : 0.7928755174933906\n",
      "    valid/roc_auc  : 0.8960104682669281\n",
      "Early stop count: 0\n"
     ]
    },
    {
     "data": {
      "text/plain": "  0%|          | 0/1000 [00:00<?, ?it/s]",
      "application/vnd.jupyter.widget-view+json": {
       "version_major": 2,
       "version_minor": 0,
       "model_id": "2db4218a196f4ceab5a210242201bfbe"
      }
     },
     "metadata": {},
     "output_type": "display_data"
    },
    {
     "data": {
      "text/plain": "  0%|          | 0/115 [00:00<?, ?it/s]",
      "application/vnd.jupyter.widget-view+json": {
       "version_major": 2,
       "version_minor": 0,
       "model_id": "1c75c1d285794374a95f55825227ddda"
      }
     },
     "metadata": {},
     "output_type": "display_data"
    },
    {
     "name": "stdout",
     "output_type": "stream",
     "text": [
      "    epoch          : 35\n",
      "    train/loss     : 0.44046700271964073\n",
      "    train/fbeta    : 0.5426768660545349\n",
      "    train/accuracy : 0.22015230289353957\n",
      "    train/precision: 0.5069123371850508\n",
      "    train/recall   : 0.7870671744448374\n",
      "    train/roc_auc  : 0.8931125781782915\n",
      "    valid/loss     : 0.4354399066904317\n",
      "    valid/fbeta    : 0.5682790875434875\n",
      "    valid/accuracy : 0.22249269527755192\n",
      "    valid/precision: 0.5360342698268866\n",
      "    valid/recall   : 0.7653030070850254\n",
      "    valid/roc_auc  : 0.882277967809773\n",
      "Early stop count: 1\n",
      "Saving checkpoint: /home/lz/Codes/Vesuvius/dev/../saved/checkpoints/Unet_6_Multi_fold_2_checkpoints.pth ...\n"
     ]
    },
    {
     "data": {
      "text/plain": "  0%|          | 0/1000 [00:00<?, ?it/s]",
      "application/vnd.jupyter.widget-view+json": {
       "version_major": 2,
       "version_minor": 0,
       "model_id": "9bb024696178496d82cc7143e59a5739"
      }
     },
     "metadata": {},
     "output_type": "display_data"
    },
    {
     "data": {
      "text/plain": "  0%|          | 0/115 [00:00<?, ?it/s]",
      "application/vnd.jupyter.widget-view+json": {
       "version_major": 2,
       "version_minor": 0,
       "model_id": "a7277476decb4eae96b6268523635343"
      }
     },
     "metadata": {},
     "output_type": "display_data"
    },
    {
     "name": "stdout",
     "output_type": "stream",
     "text": [
      "    epoch          : 36\n",
      "    train/loss     : 0.43653131094574926\n",
      "    train/fbeta    : 0.5446746349334717\n",
      "    train/accuracy : 0.2205119118201177\n",
      "    train/precision: 0.5084626923418963\n",
      "    train/recall   : 0.7911020030287818\n",
      "    train/roc_auc  : 0.8951315490798248\n",
      "    valid/loss     : 0.43088751176129214\n",
      "    valid/fbeta    : 0.5478842854499817\n",
      "    valid/accuracy : 0.23460045639319718\n",
      "    valid/precision: 0.5092754889625104\n",
      "    valid/recall   : 0.8092393652598613\n",
      "    valid/roc_auc  : 0.9041847006813982\n",
      "Early stop count: 0\n"
     ]
    },
    {
     "data": {
      "text/plain": "  0%|          | 0/1000 [00:00<?, ?it/s]",
      "application/vnd.jupyter.widget-view+json": {
       "version_major": 2,
       "version_minor": 0,
       "model_id": "c7ed763b3fb941c690be2eda209dc450"
      }
     },
     "metadata": {},
     "output_type": "display_data"
    },
    {
     "data": {
      "text/plain": "  0%|          | 0/115 [00:00<?, ?it/s]",
      "application/vnd.jupyter.widget-view+json": {
       "version_major": 2,
       "version_minor": 0,
       "model_id": "1ee8c57d37dc474d83b80fd742dbf0de"
      }
     },
     "metadata": {},
     "output_type": "display_data"
    },
    {
     "name": "stdout",
     "output_type": "stream",
     "text": [
      "    epoch          : 37\n",
      "    train/loss     : 0.43775225907564164\n",
      "    train/fbeta    : 0.5435855984687805\n",
      "    train/accuracy : 0.21998858941498461\n",
      "    train/precision: 0.5076314004370674\n",
      "    train/recall   : 0.7899425155688143\n",
      "    train/roc_auc  : 0.8945515452538509\n",
      "    valid/loss     : 0.4322747925053472\n",
      "    valid/fbeta    : 0.5706078410148621\n",
      "    valid/accuracy : 0.22319537402229278\n",
      "    valid/precision: 0.5455785686426021\n",
      "    valid/recall   : 0.762363992014662\n",
      "    valid/roc_auc  : 0.8808173191487968\n",
      "Early stop count: 1\n"
     ]
    },
    {
     "data": {
      "text/plain": "  0%|          | 0/1000 [00:00<?, ?it/s]",
      "application/vnd.jupyter.widget-view+json": {
       "version_major": 2,
       "version_minor": 0,
       "model_id": "1f7737a6dbcd4227abfc3fbc0f4c841c"
      }
     },
     "metadata": {},
     "output_type": "display_data"
    },
    {
     "data": {
      "text/plain": "  0%|          | 0/115 [00:00<?, ?it/s]",
      "application/vnd.jupyter.widget-view+json": {
       "version_major": 2,
       "version_minor": 0,
       "model_id": "f1d4ef627efa4112ba69f6df85e65d4f"
      }
     },
     "metadata": {},
     "output_type": "display_data"
    },
    {
     "name": "stdout",
     "output_type": "stream",
     "text": [
      "    epoch          : 38\n",
      "    train/loss     : 0.43851340940594674\n",
      "    train/fbeta    : 0.5453927516937256\n",
      "    train/accuracy : 0.22130035375450724\n",
      "    train/precision: 0.5096786027656046\n",
      "    train/recall   : 0.7902418614332569\n",
      "    train/roc_auc  : 0.8947023877023731\n",
      "    valid/loss     : 0.4295998003171838\n",
      "    valid/fbeta    : 0.5738142728805542\n",
      "    valid/accuracy : 0.2250139617240071\n",
      "    valid/precision: 0.5410055890351421\n",
      "    valid/recall   : 0.7745824359843574\n",
      "    valid/roc_auc  : 0.8869196135499853\n",
      "Early stop count: 0\n"
     ]
    },
    {
     "data": {
      "text/plain": "  0%|          | 0/1000 [00:00<?, ?it/s]",
      "application/vnd.jupyter.widget-view+json": {
       "version_major": 2,
       "version_minor": 0,
       "model_id": "50179ff25f2f4d5e94eb9e8dd6f8e54f"
      }
     },
     "metadata": {},
     "output_type": "display_data"
    },
    {
     "data": {
      "text/plain": "  0%|          | 0/115 [00:00<?, ?it/s]",
      "application/vnd.jupyter.widget-view+json": {
       "version_major": 2,
       "version_minor": 0,
       "model_id": "e59ac52c8a5b45b9bb884119f394ed90"
      }
     },
     "metadata": {},
     "output_type": "display_data"
    },
    {
     "name": "stdout",
     "output_type": "stream",
     "text": [
      "    epoch          : 39\n",
      "    train/loss     : 0.4382579994797707\n",
      "    train/fbeta    : 0.5436946749687195\n",
      "    train/accuracy : 0.2201126280489922\n",
      "    train/precision: 0.5080705449728646\n",
      "    train/recall   : 0.788633356992932\n",
      "    train/roc_auc  : 0.8938976906066923\n",
      "    valid/loss     : 0.42762351994929104\n",
      "    valid/fbeta    : 0.5585880875587463\n",
      "    valid/accuracy : 0.22849152504892573\n",
      "    valid/precision: 0.5219417017224774\n",
      "    valid/recall   : 0.7934182704411415\n",
      "    valid/roc_auc  : 0.8963019771585706\n",
      "Early stop count: 1\n"
     ]
    },
    {
     "data": {
      "text/plain": "  0%|          | 0/1000 [00:00<?, ?it/s]",
      "application/vnd.jupyter.widget-view+json": {
       "version_major": 2,
       "version_minor": 0,
       "model_id": "ccb3a01f5d5e48208b6fe3197f1d5817"
      }
     },
     "metadata": {},
     "output_type": "display_data"
    },
    {
     "data": {
      "text/plain": "  0%|          | 0/115 [00:00<?, ?it/s]",
      "application/vnd.jupyter.widget-view+json": {
       "version_major": 2,
       "version_minor": 0,
       "model_id": "5195dfd9fa524fe0b1fe8d2e234e20ab"
      }
     },
     "metadata": {},
     "output_type": "display_data"
    },
    {
     "name": "stdout",
     "output_type": "stream",
     "text": [
      "    epoch          : 40\n",
      "    train/loss     : 0.43810002475976945\n",
      "    train/fbeta    : 0.5435982346534729\n",
      "    train/accuracy : 0.2212847300001228\n",
      "    train/precision: 0.507458150654613\n",
      "    train/recall   : 0.7915772089488247\n",
      "    train/roc_auc  : 0.8953665256304696\n",
      "    valid/loss     : 0.4311482934848122\n",
      "    valid/fbeta    : 0.5418797135353088\n",
      "    valid/accuracy : 0.2360731529361423\n",
      "    valid/precision: 0.5017436329745546\n",
      "    valid/recall   : 0.8126359571620787\n",
      "    valid/roc_auc  : 0.90586472473623\n",
      "Early stop count: 2\n",
      "Saving checkpoint: /home/lz/Codes/Vesuvius/dev/../saved/checkpoints/Unet_6_Multi_fold_2_checkpoints.pth ...\n"
     ]
    },
    {
     "data": {
      "text/plain": "  0%|          | 0/1000 [00:00<?, ?it/s]",
      "application/vnd.jupyter.widget-view+json": {
       "version_major": 2,
       "version_minor": 0,
       "model_id": "4dd85887807c42f1849f83ef2ee8422d"
      }
     },
     "metadata": {},
     "output_type": "display_data"
    },
    {
     "data": {
      "text/plain": "  0%|          | 0/115 [00:00<?, ?it/s]",
      "application/vnd.jupyter.widget-view+json": {
       "version_major": 2,
       "version_minor": 0,
       "model_id": "cc9ef78a4dac4302b4e90266ab940244"
      }
     },
     "metadata": {},
     "output_type": "display_data"
    },
    {
     "name": "stdout",
     "output_type": "stream",
     "text": [
      "    epoch          : 41\n",
      "    train/loss     : 0.43521021914482116\n",
      "    train/fbeta    : 0.549074649810791\n",
      "    train/accuracy : 0.22067508669455932\n",
      "    train/precision: 0.5133837184243127\n",
      "    train/recall   : 0.7920295832164748\n",
      "    train/roc_auc  : 0.8956020871680208\n",
      "    valid/loss     : 0.42744816049285556\n",
      "    valid/fbeta    : 0.5724714398384094\n",
      "    valid/accuracy : 0.21958620871894277\n",
      "    valid/precision: 0.5409498912281843\n",
      "    valid/recall   : 0.7646409750511349\n",
      "    valid/roc_auc  : 0.8819592837710172\n",
      "Early stop count: 0\n"
     ]
    },
    {
     "data": {
      "text/plain": "  0%|          | 0/1000 [00:00<?, ?it/s]",
      "application/vnd.jupyter.widget-view+json": {
       "version_major": 2,
       "version_minor": 0,
       "model_id": "5be35ba616d44cb1879fe90c32664180"
      }
     },
     "metadata": {},
     "output_type": "display_data"
    },
    {
     "data": {
      "text/plain": "  0%|          | 0/115 [00:00<?, ?it/s]",
      "application/vnd.jupyter.widget-view+json": {
       "version_major": 2,
       "version_minor": 0,
       "model_id": "de331ea9b20e413b8c43df99b92af4f2"
      }
     },
     "metadata": {},
     "output_type": "display_data"
    },
    {
     "name": "stdout",
     "output_type": "stream",
     "text": [
      "    epoch          : 42\n",
      "    train/loss     : 0.43652654692530635\n",
      "    train/fbeta    : 0.5444798469543457\n",
      "    train/accuracy : 0.21961106629636182\n",
      "    train/precision: 0.5087682775409658\n",
      "    train/recall   : 0.7883406280511419\n",
      "    train/roc_auc  : 0.8937532126685452\n",
      "    valid/loss     : 0.4285862990047621\n",
      "    valid/fbeta    : 0.573408305644989\n",
      "    valid/accuracy : 0.2245175135693313\n",
      "    valid/precision: 0.5402688125502765\n",
      "    valid/recall   : 0.7764880449929642\n",
      "    valid/roc_auc  : 0.8878703461639139\n",
      "Early stop count: 1\n"
     ]
    },
    {
     "data": {
      "text/plain": "  0%|          | 0/1000 [00:00<?, ?it/s]",
      "application/vnd.jupyter.widget-view+json": {
       "version_major": 2,
       "version_minor": 0,
       "model_id": "a8526645e7d54c749bed94b922042be3"
      }
     },
     "metadata": {},
     "output_type": "display_data"
    },
    {
     "data": {
      "text/plain": "  0%|          | 0/115 [00:00<?, ?it/s]",
      "application/vnd.jupyter.widget-view+json": {
       "version_major": 2,
       "version_minor": 0,
       "model_id": "f4fbc864af0548bb855f7e423d8efb9f"
      }
     },
     "metadata": {},
     "output_type": "display_data"
    },
    {
     "name": "stdout",
     "output_type": "stream",
     "text": [
      "    epoch          : 43\n",
      "    train/loss     : 0.43530007234215734\n",
      "    train/fbeta    : 0.545931875705719\n",
      "    train/accuracy : 0.2210260079517335\n",
      "    train/precision: 0.5100562691214628\n",
      "    train/recall   : 0.7927444634222762\n",
      "    train/roc_auc  : 0.8959550752119095\n",
      "    valid/loss     : 0.4290157986723858\n",
      "    valid/fbeta    : 0.5794219970703125\n",
      "    valid/accuracy : 0.22308557572966833\n",
      "    valid/precision: 0.54844860186454\n",
      "    valid/recall   : 0.7661889776260649\n",
      "    valid/roc_auc  : 0.8827388500823853\n",
      "Early stop count: 2\n"
     ]
    },
    {
     "data": {
      "text/plain": "  0%|          | 0/1000 [00:00<?, ?it/s]",
      "application/vnd.jupyter.widget-view+json": {
       "version_major": 2,
       "version_minor": 0,
       "model_id": "770bebee4daa495183089587f3a28a87"
      }
     },
     "metadata": {},
     "output_type": "display_data"
    },
    {
     "data": {
      "text/plain": "  0%|          | 0/115 [00:00<?, ?it/s]",
      "application/vnd.jupyter.widget-view+json": {
       "version_major": 2,
       "version_minor": 0,
       "model_id": "b1b21d957e4241ccb3379982a5d8f62b"
      }
     },
     "metadata": {},
     "output_type": "display_data"
    },
    {
     "name": "stdout",
     "output_type": "stream",
     "text": [
      "    epoch          : 44\n",
      "    train/loss     : 0.4351047618985176\n",
      "    train/fbeta    : 0.5516246557235718\n",
      "    train/accuracy : 0.22307155064146297\n",
      "    train/precision: 0.5159764507937383\n",
      "    train/recall   : 0.7929185812696465\n",
      "    train/roc_auc  : 0.8960476562760595\n",
      "    valid/loss     : 0.4335307268992714\n",
      "    valid/fbeta    : 0.5693354606628418\n",
      "    valid/accuracy : 0.22709519014777654\n",
      "    valid/precision: 0.5359601243772156\n",
      "    valid/recall   : 0.7764233022729261\n",
      "    valid/roc_auc  : 0.8878337269902998\n",
      "Early stop count: 0\n"
     ]
    },
    {
     "data": {
      "text/plain": "  0%|          | 0/1000 [00:00<?, ?it/s]",
      "application/vnd.jupyter.widget-view+json": {
       "version_major": 2,
       "version_minor": 0,
       "model_id": "0ffac47bff3945889373fbd4cf264953"
      }
     },
     "metadata": {},
     "output_type": "display_data"
    },
    {
     "data": {
      "text/plain": "  0%|          | 0/115 [00:00<?, ?it/s]",
      "application/vnd.jupyter.widget-view+json": {
       "version_major": 2,
       "version_minor": 0,
       "model_id": "10bc71e51bab45c88efd43de2ec3b92d"
      }
     },
     "metadata": {},
     "output_type": "display_data"
    },
    {
     "name": "stdout",
     "output_type": "stream",
     "text": [
      "    epoch          : 45\n",
      "    train/loss     : 0.4340011690557003\n",
      "    train/fbeta    : 0.5484480857849121\n",
      "    train/accuracy : 0.22115407316219238\n",
      "    train/precision: 0.512543746975884\n",
      "    train/recall   : 0.7923391663938085\n",
      "    train/roc_auc  : 0.8957556472256003\n",
      "    valid/loss     : 0.4271228126857592\n",
      "    valid/fbeta    : 0.5610885620117188\n",
      "    valid/accuracy : 0.2278289659526035\n",
      "    valid/precision: 0.525078221567392\n",
      "    valid/recall   : 0.7894649466496305\n",
      "    valid/roc_auc  : 0.894335229308215\n",
      "Early stop count: 1\n",
      "Saving checkpoint: /home/lz/Codes/Vesuvius/dev/../saved/checkpoints/Unet_6_Multi_fold_2_checkpoints.pth ...\n"
     ]
    },
    {
     "data": {
      "text/plain": "  0%|          | 0/1000 [00:00<?, ?it/s]",
      "application/vnd.jupyter.widget-view+json": {
       "version_major": 2,
       "version_minor": 0,
       "model_id": "48038533ce8144f78a8461929747eb3b"
      }
     },
     "metadata": {},
     "output_type": "display_data"
    },
    {
     "data": {
      "text/plain": "  0%|          | 0/115 [00:00<?, ?it/s]",
      "application/vnd.jupyter.widget-view+json": {
       "version_major": 2,
       "version_minor": 0,
       "model_id": "04d3c53490d542aa84395a2bfb485eb3"
      }
     },
     "metadata": {},
     "output_type": "display_data"
    },
    {
     "name": "stdout",
     "output_type": "stream",
     "text": [
      "    epoch          : 46\n",
      "    train/loss     : 0.433392739713192\n",
      "    train/fbeta    : 0.5485802292823792\n",
      "    train/accuracy : 0.22107914939385745\n",
      "    train/precision: 0.5127390440484425\n",
      "    train/recall   : 0.7913434848552994\n",
      "    train/roc_auc  : 0.8952584602595673\n",
      "    valid/loss     : 0.43402625348256985\n",
      "    valid/fbeta    : 0.5629740953445435\n",
      "    valid/accuracy : 0.2248419259854592\n",
      "    valid/precision: 0.5292705081830317\n",
      "    valid/recall   : 0.7732810016129875\n",
      "    valid/roc_auc  : 0.8862545693327519\n",
      "Early stop count: 2\n"
     ]
    },
    {
     "data": {
      "text/plain": "  0%|          | 0/1000 [00:00<?, ?it/s]",
      "application/vnd.jupyter.widget-view+json": {
       "version_major": 2,
       "version_minor": 0,
       "model_id": "d9424ed983de447486e67645efb47e6f"
      }
     },
     "metadata": {},
     "output_type": "display_data"
    },
    {
     "data": {
      "text/plain": "  0%|          | 0/115 [00:00<?, ?it/s]",
      "application/vnd.jupyter.widget-view+json": {
       "version_major": 2,
       "version_minor": 0,
       "model_id": "46692fdd7121443faf7804ac7d0c30ad"
      }
     },
     "metadata": {},
     "output_type": "display_data"
    },
    {
     "name": "stdout",
     "output_type": "stream",
     "text": [
      "    epoch          : 47\n",
      "    train/loss     : 0.43094925528764727\n",
      "    train/fbeta    : 0.5490582585334778\n",
      "    train/accuracy : 0.22148797632306547\n",
      "    train/precision: 0.5129416891690185\n",
      "    train/recall   : 0.7957101775544221\n",
      "    train/roc_auc  : 0.8974417842217253\n",
      "    valid/loss     : 0.4266823040402454\n",
      "    valid/fbeta    : 0.560027003288269\n",
      "    valid/accuracy : 0.22993629814328206\n",
      "    valid/precision: 0.5236119658419888\n",
      "    valid/recall   : 0.7963734475397437\n",
      "    valid/roc_auc  : 0.8977814633740493\n",
      "Early stop count: 3\n"
     ]
    },
    {
     "data": {
      "text/plain": "  0%|          | 0/1000 [00:00<?, ?it/s]",
      "application/vnd.jupyter.widget-view+json": {
       "version_major": 2,
       "version_minor": 0,
       "model_id": "1fff76aa28bc46bb9d8607ba99dcbd46"
      }
     },
     "metadata": {},
     "output_type": "display_data"
    },
    {
     "data": {
      "text/plain": "  0%|          | 0/115 [00:00<?, ?it/s]",
      "application/vnd.jupyter.widget-view+json": {
       "version_major": 2,
       "version_minor": 0,
       "model_id": "1d2cab4d800949abb3ab9703e2d9cadc"
      }
     },
     "metadata": {},
     "output_type": "display_data"
    },
    {
     "name": "stdout",
     "output_type": "stream",
     "text": [
      "    epoch          : 48\n",
      "    train/loss     : 0.43076925465464594\n",
      "    train/fbeta    : 0.5508603453636169\n",
      "    train/accuracy : 0.22043009058087967\n",
      "    train/precision: 0.5150371080699905\n",
      "    train/recall   : 0.7921067969428022\n",
      "    train/roc_auc  : 0.8956450726505224\n",
      "    valid/loss     : 0.4285955771155979\n",
      "    valid/fbeta    : 0.5549342036247253\n",
      "    valid/accuracy : 0.2337865821002673\n",
      "    valid/precision: 0.5170661320836837\n",
      "    valid/recall   : 0.8058765737854314\n",
      "    valid/roc_auc  : 0.9025144819273884\n",
      "Early stop count: 4\n"
     ]
    },
    {
     "data": {
      "text/plain": "  0%|          | 0/1000 [00:00<?, ?it/s]",
      "application/vnd.jupyter.widget-view+json": {
       "version_major": 2,
       "version_minor": 0,
       "model_id": "40087d106ce8430ab307af5c5acaf95c"
      }
     },
     "metadata": {},
     "output_type": "display_data"
    },
    {
     "data": {
      "text/plain": "  0%|          | 0/115 [00:00<?, ?it/s]",
      "application/vnd.jupyter.widget-view+json": {
       "version_major": 2,
       "version_minor": 0,
       "model_id": "81a4b498c0c64bc88906b42c8003efe3"
      }
     },
     "metadata": {},
     "output_type": "display_data"
    },
    {
     "name": "stdout",
     "output_type": "stream",
     "text": [
      "    epoch          : 49\n",
      "    train/loss     : 0.43421961277723314\n",
      "    train/fbeta    : 0.5516061782836914\n",
      "    train/accuracy : 0.22178909289274004\n",
      "    train/precision: 0.51635651487771\n",
      "    train/recall   : 0.7911800843455691\n",
      "    train/roc_auc  : 0.8951821372216207\n",
      "    valid/loss     : 0.4270902605160423\n",
      "    valid/fbeta    : 0.5683935880661011\n",
      "    valid/accuracy : 0.22951481437483687\n",
      "    valid/precision: 0.5333646300857211\n",
      "    valid/recall   : 0.7877990861140599\n",
      "    valid/roc_auc  : 0.8935141923277955\n",
      "Early stop count: 5\n"
     ]
    },
    {
     "data": {
      "text/plain": "  0%|          | 0/1000 [00:00<?, ?it/s]",
      "application/vnd.jupyter.widget-view+json": {
       "version_major": 2,
       "version_minor": 0,
       "model_id": "d6e7d7fc9be24c8f9d501e4b78503123"
      }
     },
     "metadata": {},
     "output_type": "display_data"
    },
    {
     "data": {
      "text/plain": "  0%|          | 0/115 [00:00<?, ?it/s]",
      "application/vnd.jupyter.widget-view+json": {
       "version_major": 2,
       "version_minor": 0,
       "model_id": "438be75ea01a4543a154f457470b6980"
      }
     },
     "metadata": {},
     "output_type": "display_data"
    },
    {
     "name": "stdout",
     "output_type": "stream",
     "text": [
      "    epoch          : 50\n",
      "    train/loss     : 0.4307818140387535\n",
      "    train/fbeta    : 0.5485549569129944\n",
      "    train/accuracy : 0.21972966358390977\n",
      "    train/precision: 0.5125859959338123\n",
      "    train/recall   : 0.7935454032447695\n",
      "    train/roc_auc  : 0.8963619247559836\n",
      "    valid/loss     : 0.42642823535463087\n",
      "    valid/fbeta    : 0.5590143203735352\n",
      "    valid/accuracy : 0.23003558994050938\n",
      "    valid/precision: 0.5219706838829494\n",
      "    valid/recall   : 0.8019061050032019\n",
      "    valid/roc_auc  : 0.9005428833665243\n",
      "Early stop count: 6\n",
      "Saving checkpoint: /home/lz/Codes/Vesuvius/dev/../saved/checkpoints/Unet_6_Multi_fold_2_checkpoints.pth ...\n"
     ]
    },
    {
     "name": "stderr",
     "output_type": "stream",
     "text": [
      "\u001B[34m\u001B[1mwandb\u001B[0m: \u001B[33mWARNING\u001B[0m Saving files without folders. If you want to preserve sub directories pass base_path to wandb.save, i.e. wandb.save(\"/mnt/folder/file.h5\", base_path=\"/mnt\")\n"
     ]
    },
    {
     "data": {
      "text/plain": "<IPython.core.display.HTML object>",
      "text/html": "Waiting for W&B process to finish... <strong style=\"color:green\">(success).</strong>"
     },
     "metadata": {},
     "output_type": "display_data"
    },
    {
     "data": {
      "text/plain": "<IPython.core.display.HTML object>",
      "text/html": "<style>\n    table.wandb td:nth-child(1) { padding: 0 10px; text-align: left ; width: auto;} td:nth-child(2) {text-align: left ; width: 100%}\n    .wandb-row { display: flex; flex-direction: row; flex-wrap: wrap; justify-content: flex-start; width: 100% }\n    .wandb-col { display: flex; flex-direction: column; flex-basis: 100%; flex: 1; padding: 10px; }\n    </style>\n<div class=\"wandb-row\"><div class=\"wandb-col\"><h3>Run history:</h3><br/><table class=\"wandb\"><tr><td>train/accuracy</td><td>▁▂▃▆▇▇▇▇▇▇▇▇▇▇▇▇▇▇█▇▇▇▇▇▇▇▇▇▇▇▇▇▇▇█▇▇▇▇▇</td></tr><tr><td>train/fbeta</td><td>▁▃▃▂▂▂▂▃▄▄▄▄▄▅▅▅▆▅▇▆▆▆▅▇▆▆▆▆▇▇▇▇▇▇█▇▇▇▇▇</td></tr><tr><td>train/loss</td><td>█▅▃▂▂▂▂▂▂▂▂▂▂▁▁▁▁▁▁▁▁▁▁▁▁▁▁▁▁▁▁▁▁▁▁▁▁▁▁▁</td></tr><tr><td>train/precision</td><td>▅▆▅▁▁▂▁▂▃▃▄▃▄▄▄▅▅▅▆▅▆▅▅▆▆▆▆▆▆▆▆▇▇▆█▆▆▆▇▆</td></tr><tr><td>train/recall</td><td>▁▂▃▇▇▇▇█████████████████████████████████</td></tr><tr><td>train/roc_auc</td><td>▁▂▃▇▇▇▇█████████████████████████████████</td></tr><tr><td>valid/accuracy</td><td>▁▂▄▆▇▇▇▇▇▇█▇▇█▇█▇▇▇▇▇▇▇▇▇▇███▇██▇▇▇█████</td></tr><tr><td>valid/fbeta</td><td>▁▃▃▂▂▂▃▃▃▄▄▅▆▅▅▅▆▆▆▆▆▇▇▆▇▇▇▆▆▇█▇███▇▇▇▇▇</td></tr><tr><td>valid/loss</td><td>█▄▃▃▂▂▂▂▂▂▂▂▂▂▁▂▁▁▁▁▁▁▁▁▁▁▁▁▁▁▁▁▁▁▁▁▁▁▁▁</td></tr><tr><td>valid/precision</td><td>▆▇▃▁▁▁▁▃▃▃▃▄▅▄▅▄▅▆▆▅▆█▆▆▆▆▇▅▅██▆█▇█▇▇▆▆▆</td></tr><tr><td>valid/recall</td><td>▁▂▄▆▇▇▇▇▇▇█▇▇█▇▇▇▇▇▇▇▇▇▇▇▇███▇▇█▇█▇█▇███</td></tr><tr><td>valid/roc_auc</td><td>▁▂▄▆▇▇▇▇▇▇█▇▇█▇▇▇▇▇▇▇▇▇▇▇▇███▇▇█▇█▇█▇███</td></tr></table><br/></div><div class=\"wandb-col\"><h3>Run summary:</h3><br/><table class=\"wandb\"><tr><td>train/accuracy</td><td>0.21973</td></tr><tr><td>train/fbeta</td><td>0.54855</td></tr><tr><td>train/loss</td><td>0.43078</td></tr><tr><td>train/precision</td><td>0.51259</td></tr><tr><td>train/recall</td><td>0.79355</td></tr><tr><td>train/roc_auc</td><td>0.89636</td></tr><tr><td>valid/accuracy</td><td>0.23004</td></tr><tr><td>valid/fbeta</td><td>0.55901</td></tr><tr><td>valid/loss</td><td>0.42643</td></tr><tr><td>valid/precision</td><td>0.52197</td></tr><tr><td>valid/recall</td><td>0.80191</td></tr><tr><td>valid/roc_auc</td><td>0.90054</td></tr></table><br/></div></div>"
     },
     "metadata": {},
     "output_type": "display_data"
    },
    {
     "data": {
      "text/plain": "<IPython.core.display.HTML object>",
      "text/html": " View run <strong style=\"color:#cdcd00\">Unet_6_Multi_fold_2_224_0601_211658</strong> at: <a href='https://wandb.ai/lzhen-ntu/vesuvius/runs/23b6ddvw' target=\"_blank\">https://wandb.ai/lzhen-ntu/vesuvius/runs/23b6ddvw</a><br/>Synced 6 W&B file(s), 37650 media file(s), 0 artifact file(s) and 1 other file(s)"
     },
     "metadata": {},
     "output_type": "display_data"
    },
    {
     "data": {
      "text/plain": "<IPython.core.display.HTML object>",
      "text/html": "Find logs at: <code>./../saved/logs/wandb/run-20230601_211659-23b6ddvw/logs</code>"
     },
     "metadata": {},
     "output_type": "display_data"
    }
   ],
   "source": [
    "if not testing:\n",
    "    # importlib.reload(datasets)\n",
    "    # reload all\n",
    "    for module in [datasets, module_metric, module_loss]:\n",
    "        importlib.reload(module)\n",
    "    main(g_cfg)"
   ]
  },
  {
   "cell_type": "code",
   "execution_count": 24,
   "metadata": {
    "ExecuteTime": {
     "end_time": "2023-06-01T15:17:15.916732382Z",
     "start_time": "2023-06-01T15:17:15.915430818Z"
    }
   },
   "outputs": [],
   "source": [
    "# data_ori, target_ori = next(iter(data_loader))\n",
    "# output_ori = model(data_ori.to(device)).squeeze(1)\n",
    "wandb.finish()"
   ]
  },
  {
   "cell_type": "code",
   "execution_count": 25,
   "metadata": {
    "ExecuteTime": {
     "end_time": "2023-06-01T15:17:15.954521610Z",
     "start_time": "2023-06-01T15:17:15.940411092Z"
    }
   },
   "outputs": [],
   "source": [
    "\n",
    "# for met in metrics:\n",
    "#     print('train/' + met.__name__, met(output_ori, target_ori))\n",
    "\n"
   ]
  },
  {
   "cell_type": "code",
   "execution_count": 26,
   "metadata": {
    "ExecuteTime": {
     "end_time": "2023-06-01T15:17:15.954784146Z",
     "start_time": "2023-06-01T15:17:15.940551629Z"
    }
   },
   "outputs": [],
   "source": [
    "# from torchvision.utils import make_grid\n",
    "# from matplotlib import pyplot as plt\n",
    "# target=target_ori.unsqueeze(1)\n",
    "# output=output_ori.unsqueeze(1)\n",
    "#\n",
    "# fig,axs=plt.subplots(2,1)\n",
    "# axs[0].imshow(make_grid(output, nrow=8)[0].cpu().detach().numpy(),cmap='gray')\n",
    "# axs[1].imshow(make_grid(target, nrow=8)[0].cpu().detach().numpy(),cmap='gray')\n",
    "#\n",
    "# plt.show()\n"
   ]
  },
  {
   "cell_type": "code",
   "execution_count": 26,
   "metadata": {
    "ExecuteTime": {
     "end_time": "2023-06-01T15:17:15.954884305Z",
     "start_time": "2023-06-01T15:17:15.940631274Z"
    }
   },
   "outputs": [],
   "source": []
  },
  {
   "cell_type": "code",
   "execution_count": 27,
   "metadata": {
    "ExecuteTime": {
     "end_time": "2023-06-01T15:17:15.954944953Z",
     "start_time": "2023-06-01T15:17:15.940715001Z"
    }
   },
   "outputs": [],
   "source": [
    "# ctp = output_norm[target_norm == 1].sum()\n",
    "# cfp = output_norm[target_norm == 0].sum()\n",
    "# ctn = (~output_norm)[target_norm == 0].sum()\n",
    "# cfn = (~output_norm)[target_norm == 1].sum()\n",
    "# assert ctp + cfp + ctn + cfn == output_norm.numel()"
   ]
  },
  {
   "cell_type": "code",
   "execution_count": 28,
   "metadata": {
    "ExecuteTime": {
     "end_time": "2023-06-01T15:17:15.954998042Z",
     "start_time": "2023-06-01T15:17:15.940784502Z"
    }
   },
   "outputs": [],
   "source": [
    "\n",
    "\n",
    "# output_grid = make_grid(output_tensor, nrow=8)[0].cpu().numpy()\n",
    "# target_grid = make_grid(target.unsqueeze(1), nrow=8)[0].cpu().numpy()\n",
    "# fig,axs=plt.subplots(1,2)\n",
    "# axs[0].imshow(output_grid, cmap='gray')\n",
    "# axs[1].imshow(target_grid, cmap='gray')\n",
    "#\n",
    "# plt.show()\n"
   ]
  },
  {
   "cell_type": "code",
   "execution_count": 29,
   "metadata": {
    "ExecuteTime": {
     "end_time": "2023-06-01T15:17:15.955046683Z",
     "start_time": "2023-06-01T15:17:15.940846807Z"
    }
   },
   "outputs": [],
   "source": [
    "# if __name__ == '__main__':\n",
    "#     main(g_cfg)\n"
   ]
  },
  {
   "cell_type": "code",
   "execution_count": 30,
   "metadata": {
    "ExecuteTime": {
     "end_time": "2023-06-01T15:17:15.955103365Z",
     "start_time": "2023-06-01T15:17:15.940970745Z"
    }
   },
   "outputs": [],
   "source": [
    "# data, target = next(iter(data_loader))\n",
    "# output = model(data.to(device))\n",
    "# a=output[0,:,:].cpu().detach().numpy()"
   ]
  },
  {
   "cell_type": "code",
   "execution_count": 30,
   "metadata": {
    "ExecuteTime": {
     "end_time": "2023-06-01T15:17:15.955152339Z",
     "start_time": "2023-06-01T15:17:15.941024512Z"
    }
   },
   "outputs": [],
   "source": []
  },
  {
   "cell_type": "code",
   "execution_count": 31,
   "metadata": {
    "ExecuteTime": {
     "end_time": "2023-06-01T15:17:15.955208613Z",
     "start_time": "2023-06-01T15:17:15.941071153Z"
    }
   },
   "outputs": [],
   "source": [
    "\n",
    "# from matplotlib import pyplot as plt\n",
    "# plt.imshow(a.astype(np.float32), cmap='gray')"
   ]
  },
  {
   "cell_type": "code",
   "execution_count": 32,
   "metadata": {
    "ExecuteTime": {
     "end_time": "2023-06-01T15:17:15.955277481Z",
     "start_time": "2023-06-01T15:17:15.941119154Z"
    }
   },
   "outputs": [],
   "source": [
    "# for met in metrics:\n",
    "#     print('train/' + met.__name__, met(output, target))"
   ]
  },
  {
   "cell_type": "code",
   "execution_count": 33,
   "metadata": {
    "ExecuteTime": {
     "end_time": "2023-06-01T15:17:15.955341757Z",
     "start_time": "2023-06-01T15:17:15.941201999Z"
    }
   },
   "outputs": [],
   "source": [
    "# import torch\n",
    "# import wandb\n",
    "# import torchvision.utils as vutils\n",
    "#\n",
    "# # Create a random input tensor and target tensor\n",
    "# B, C, H, W = 4, 8, 256, 256\n",
    "# input_tensor = torch.randint(low=0, high=2, size=(B, C, H, W))\n",
    "# output_tensor = torch.randint(low=0, high=2, size=(B, H, W))\n",
    "# target_tensor = torch.randint(low=0, high=2, size=(B, H, W))\n",
    "#\n",
    "# # Convert the target tensor to an RGB image\n",
    "# output_tensor = output_tensor.unsqueeze(1)\n",
    "# target_tensor = target_tensor.unsqueeze(1)\n",
    "# # target_tensor[:, 0, :, :][target_tensor[:, 0, :, :] == 1] = 255\n",
    "#\n",
    "# # Create a grid of input images and a grid of target images\n",
    "# input_grid = vutils.make_grid(input_tensor, nrow=B).numpy()\n",
    "# output_grid = vutils.make_grid(input_tensor, nrow=B).numpy()\n",
    "# target_grid = vutils.make_grid(target_tensor, nrow=B).numpy()\n",
    "#\n",
    "#\n",
    "#\n",
    "# a = wandb.Image(\n",
    "#     input_grid[0], masks={\n",
    "#         \"predictions\": {\"mask_data\": output_grid[0]},\n",
    "#         \"ground_truth\": {\"mask_data\": target_grid[0]},\n",
    "#     })\n",
    "#\n",
    "# # a.image.show()\n",
    "# a._masks['predictions']['mask_data'].show()\n",
    "# a._masks['ground_truth']['mask_data'].show()\n",
    "# # fig,axs=plt.subplots(2,1)\n",
    "# # # ax[0].imshow(input_grid[0,:,:])\n",
    "# # axs[0].imshow(input_grid, cmap='gray')\n",
    "# # axs[1].imshow(target_grid, cmap='gray')\n",
    "# # # Set the x-axis limits of all subplots\n",
    "# # # xmin = min(axs[0].get_xlim()[0], axs[1].get_xlim()[0])\n",
    "# # # xmax = max(axs[0].get_xlim()[1], axs[1].get_xlim()[1])\n",
    "# # # for ax in axs:\n",
    "# # #     ax.set_aspect('equal')\n",
    "# #     # ax.set_xlim(xmin, xmax)\n",
    "# #     # ax.set_axis_off()\n",
    "# # plt.savefig('test.png')"
   ]
  },
  {
   "cell_type": "code",
   "execution_count": 34,
   "metadata": {
    "ExecuteTime": {
     "end_time": "2023-06-01T15:17:15.955392988Z",
     "start_time": "2023-06-01T15:17:15.941317901Z"
    }
   },
   "outputs": [],
   "source": [
    "\n",
    "# with tqdm(enumerate(full_dataset), total=len(full_dataset)) as pbar:\n",
    "#     for idx, (img, tar) in pbar:\n",
    "#         assert img.shape[1:] == tar.shape, f\"img.shape:{img.shape} != tar.shape:{tar.shape}\"\n",
    "#         assert img.shape[-1] == 224, f\"img.shape:{img.shape}\"\n",
    "#         assert img.dtype == tar.dtype, f\"img.dtype:{img.dtype} != tar.dtype:{tar.dtype}\"\n",
    "# break"
   ]
  },
  {
   "attachments": {},
   "cell_type": "markdown",
   "metadata": {},
   "source": [
    " ## Train and valid"
   ]
  },
  {
   "cell_type": "code",
   "execution_count": 35,
   "metadata": {
    "ExecuteTime": {
     "end_time": "2023-06-01T15:17:16.003537221Z",
     "start_time": "2023-06-01T15:17:15.943510200Z"
    }
   },
   "outputs": [],
   "source": [
    "\n",
    "# from torch.cuda.amp import GradScaler, autocast\n",
    "#\n",
    "#\n",
    "# def train_fn(cfg):\n",
    "#     model.train()\n",
    "#\n",
    "#     scaler = GradScaler(enabled=cfg[\"use_amp\"])\n",
    "#     losses = AverageMeter()\n",
    "#\n",
    "#     full_dataset = make_dataset(g_cfg['dataset'])\n",
    "#     train_loader = make_data_loader(g_cfg['data_loader'], full_dataset)\n",
    "#     valid_loader = train_loader.split_validation()\n",
    "#\n",
    "#     with tqdm(enumerate(train_loader), total=len(train_loader)) as pbar:\n",
    "#         for step, data in pbar:\n",
    "#             images, masks, labels, positions = data\n",
    "#\n",
    "#             images = images.to(cfg['device'])\n",
    "#             labels = labels.to(cfg['device'])\n",
    "#             batch_size = labels.size(0)\n",
    "#\n",
    "#             with autocast(cfg[\"use_amp\"]):\n",
    "#                 y_preds = model(images).squeeze()\n",
    "#                 labels = labels.squeeze()\n",
    "#\n",
    "#                 loss = criterion(y_preds, labels)\n",
    "#                 assert loss > 0, f'input should be 0-1, but got: labels: {labels.min()}-{labels.max()}, y_preds: {y_preds.min()}-{y_preds.max()}'\n",
    "#\n",
    "#             losses.update(loss.item(), batch_size)\n",
    "#             scaler.scale(loss).backward()\n",
    "#\n",
    "#             grad_norm = torch.nn.utils.clip_grad_norm_(\n",
    "#                 model.parameters(), cfg[\"max_grad_norm\"])\n",
    "#\n",
    "#             scaler.step(optimizer)\n",
    "#             scaler.update()\n",
    "#             optimizer.zero_grad()\n",
    "#\n",
    "#     return losses.avg\n",
    "#\n",
    "#\n",
    "# def valid_fn(cfg, valid_loader):\n",
    "#     label_pred = np.zeros(valid_mask_gt.shape)\n",
    "#     label_count = np.zeros(valid_mask_gt.shape)\n",
    "#\n",
    "#     model.eval()\n",
    "#     losses = AverageMeter(mode='valid')\n",
    "#\n",
    "#     with tqdm(enumerate(valid_loader), total=len(valid_loader)) as pbar:\n",
    "#         for step, (images, masks, labels, positions) in pbar:\n",
    "#\n",
    "#             images = images.to(cfg['device'])\n",
    "#             labels = labels.to(cfg['device'])\n",
    "#             batch_size = labels.size(0)\n",
    "#\n",
    "#             with torch.no_grad():\n",
    "#                 y_preds = model(images).squeeze()\n",
    "#                 labels = labels.squeeze()\n",
    "#                 loss = criterion(y_preds, labels)\n",
    "#                 assert loss > 0, f'input should be 0-1, but got: labels: {labels.min()}-{labels.max()}, y_preds: {y_preds.min()}-{y_preds.max()}'\n",
    "#             losses.update(loss.item(), batch_size)\n",
    "#\n",
    "#             # make whole mask\n",
    "#             y_preds = torch.sigmoid(y_preds).to('cpu').numpy()\n",
    "#             # start_idx = step*CONFIG[\"valid_batch_size\"]             # end_idx = start_idx + batch_size\n",
    "#             # print(positions)\n",
    "#             for i, (x1, y1, x2, y2) in enumerate(zip(*positions)):\n",
    "#                 label_pred[y1:y2, x1:x2] += y_preds[i]\n",
    "#                 label_count[y1:y2, x1:x2] += np.ones((y2 - y1, x2 - x1))\n",
    "#\n",
    "#     Logger.info(f'mask_count_min: {label_count.min()}')\n",
    "#     label_pred /= label_count + 1e-8\n",
    "#     return losses.avg, label_pred"
   ]
  },
  {
   "cell_type": "code",
   "execution_count": 36,
   "metadata": {
    "ExecuteTime": {
     "end_time": "2023-06-01T15:17:16.129490705Z",
     "start_time": "2023-06-01T15:17:15.984333373Z"
    }
   },
   "outputs": [
    {
     "ename": "NameError",
     "evalue": "name 'ImgLoader' is not defined",
     "output_type": "error",
     "traceback": [
      "\u001B[0;31m---------------------------------------------------------------------------\u001B[0m",
      "\u001B[0;31mNameError\u001B[0m                                 Traceback (most recent call last)",
      "\u001B[0;32m/tmp/ipykernel_25514/2963240188.py\u001B[0m in \u001B[0;36m<module>\u001B[0;34m\u001B[0m\n\u001B[1;32m      3\u001B[0m \u001B[0mresults\u001B[0m \u001B[0;34m=\u001B[0m \u001B[0;34m[\u001B[0m\u001B[0;34m]\u001B[0m\u001B[0;34m\u001B[0m\u001B[0;34m\u001B[0m\u001B[0m\n\u001B[1;32m      4\u001B[0m \u001B[0;32mfor\u001B[0m \u001B[0mid\u001B[0m \u001B[0;32min\u001B[0m \u001B[0;34m[\u001B[0m\u001B[0;34m'a'\u001B[0m\u001B[0;34m,\u001B[0m \u001B[0;34m'b'\u001B[0m\u001B[0;34m]\u001B[0m\u001B[0;34m:\u001B[0m\u001B[0;34m\u001B[0m\u001B[0;34m\u001B[0m\u001B[0m\n\u001B[0;32m----> 5\u001B[0;31m     test_img = ImgLoader.load_from_path_static(\n\u001B[0m\u001B[1;32m      6\u001B[0m         \u001B[0mcache_dir\u001B[0m\u001B[0;34m=\u001B[0m\u001B[0mg_cfg\u001B[0m\u001B[0;34m[\u001B[0m\u001B[0;34m'cache_dir'\u001B[0m\u001B[0;34m]\u001B[0m\u001B[0;34m,\u001B[0m\u001B[0;34m\u001B[0m\u001B[0;34m\u001B[0m\u001B[0m\n\u001B[1;32m      7\u001B[0m         \u001B[0mdata_dir\u001B[0m\u001B[0;34m=\u001B[0m\u001B[0mg_cfg\u001B[0m\u001B[0;34m[\u001B[0m\u001B[0;34m'data_dir'\u001B[0m\u001B[0;34m]\u001B[0m\u001B[0;34m,\u001B[0m\u001B[0;34m\u001B[0m\u001B[0;34m\u001B[0m\u001B[0m\n",
      "\u001B[0;31mNameError\u001B[0m: name 'ImgLoader' is not defined"
     ]
    }
   ],
   "source": [
    "from matplotlib import pyplot as plt\n",
    "\n",
    "results = []\n",
    "for id in ['a', 'b']:\n",
    "    test_img = ImgLoader.load_from_path_static(\n",
    "        cache_dir=g_cfg['cache_dir'],\n",
    "        data_dir=g_cfg['data_dir'],\n",
    "        file_path=f\"test/{id}/surface_volume\",\n",
    "    )\n",
    "\n",
    "    mask = ImgLoader.load_from_path_static(\n",
    "        cache_dir=g_cfg['cache_dir'],\n",
    "        data_dir=g_cfg['data_dir'],\n",
    "        file_path=f\"test/{id}/mask.png\",\n",
    "    )\n",
    "    test_img = np.moveaxis(test_img, -1, 0)\n",
    "\n",
    "    model, best_loss = build_model(g_cfg)\n",
    "    model.output(device)\n",
    "    label_pred = test_fn(test_img, model, device, mask, g_cfg['tile_size'])\n",
    "\n",
    "    fig, ax = plt.subplots(1, 3, figsize=(10, 5))\n",
    "    ax[0].imshow(test_img)\n",
    "    ax[1].imshow(label_pred)\n",
    "    ax[2].imshow(mask)\n",
    "    ax[0].set_title('test_img')\n",
    "    ax[1].set_title('label_pred')\n",
    "    ax[2].set_title('mask')\n",
    "\n",
    "    plt.show()\n",
    "    results.append((id, label_pred))\n"
   ]
  },
  {
   "cell_type": "code",
   "execution_count": null,
   "metadata": {},
   "outputs": [],
   "source": [
    "sub = pd.DataFrame(results, columns=['Id', 'Predicted'])\n",
    "sub.Id = sub.Id.asytpe(str)\n",
    "sub"
   ]
  },
  {
   "cell_type": "code",
   "execution_count": null,
   "metadata": {},
   "outputs": [],
   "source": [
    "sample_sub = pd.read_csv(g_cfg['comp_dataset_path'] / 'sample_submission.csv')\n",
    "sample_sub = pd.merge(sample_sub[['Id']], sub, on='Id', how='left')\n",
    "sample_sub.to_csv('submission.csv', index=False)"
   ]
  },
  {
   "cell_type": "code",
   "execution_count": null,
   "metadata": {},
   "outputs": [],
   "source": []
  },
  {
   "cell_type": "code",
   "execution_count": null,
   "metadata": {},
   "outputs": [],
   "source": []
  }
 ],
 "metadata": {
  "kernelspec": {
   "display_name": "Python 3 (ipykernel)",
   "language": "python",
   "name": "python3"
  },
  "language_info": {
   "codemirror_mode": {
    "name": "ipython",
    "version": 3
   },
   "file_extension": ".py",
   "mimetype": "text/x-python",
   "name": "python",
   "nbconvert_exporter": "python",
   "pygments_lexer": "ipython3",
   "version": "3.7.16"
  },
  "vscode": {
   "interpreter": {
    "hash": "b965b14ec0a2571d4de1c2e32e7a66dc4ab4c0c25110946dc03356a1bb467977"
   }
  }
 },
 "nbformat": 4,
 "nbformat_minor": 1
}
