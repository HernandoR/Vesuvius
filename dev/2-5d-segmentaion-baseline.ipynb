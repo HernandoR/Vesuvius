{
 "cells": [
  {
   "cell_type": "markdown",
   "id": "87a2f28f",
   "metadata": {
    "papermill": {
     "duration": 0.013311,
     "end_time": "2023-04-04T06:16:54.865850",
     "exception": false,
     "start_time": "2023-04-04T06:16:54.852539",
     "status": "completed"
    },
    "tags": []
   },
   "source": [
    "## summary\n",
    "\n",
    "* 2.5d segmentation\n",
    "    *  segmentation_models_pytorch \n",
    "    *  Unet\n",
    "* use only 6 slices\n",
    "* slide inference"
   ]
  },
  {
   "cell_type": "code",
   "execution_count": 1,
   "id": "d7aaf6ca",
   "metadata": {
    "execution": {
     "iopub.execute_input": "2023-04-04T06:16:54.889425Z",
     "iopub.status.busy": "2023-04-04T06:16:54.888968Z",
     "iopub.status.idle": "2023-04-04T06:16:58.541610Z",
     "shell.execute_reply": "2023-04-04T06:16:58.540321Z"
    },
    "papermill": {
     "duration": 3.66646,
     "end_time": "2023-04-04T06:16:58.544526",
     "exception": false,
     "start_time": "2023-04-04T06:16:54.878066",
     "status": "completed"
    },
    "tags": [],
    "ExecuteTime": {
     "start_time": "2023-04-23T11:28:46.761173Z",
     "end_time": "2023-04-23T11:28:46.762178Z"
    }
   },
   "outputs": [],
   "source": [
    "\n",
    "import importlib.util\n",
    "import os\n",
    "import pickle\n",
    "import sys\n",
    "import time\n",
    "from pathlib import Path\n",
    "\n",
    "import pandas as pd\n",
    "import torch.nn as nn\n",
    "from torch.optim import AdamW\n",
    "from tqdm.auto import tqdm"
   ]
  },
  {
   "cell_type": "code",
   "execution_count": 2,
   "outputs": [],
   "source": [
    "import socket\n",
    "\n",
    "exp_id = \"Unet++_2.5d_Unimodel\"\n",
    "HOST = socket.gethostname()\n",
    "date_time = time.strftime(\"%Y%m%d_%H%M%S\")\n",
    "run_id = exp_id + \"_\" + date_time\n"
   ],
   "metadata": {
    "collapsed": false,
    "ExecuteTime": {
     "start_time": "2023-04-23T11:28:46.766178Z",
     "end_time": "2023-04-23T11:28:46.766178Z"
    }
   }
  },
  {
   "cell_type": "code",
   "execution_count": 3,
   "outputs": [
    {
     "data": {
      "text/plain": "('Unet++_2.5d_Unimodel', 'Vincit', False)"
     },
     "execution_count": 3,
     "metadata": {},
     "output_type": "execute_result"
    }
   ],
   "source": [
    "# noinspection PyUnresolvedReferences\n",
    "is_kaggle = _dh == [\"/kaggle/working\"]\n",
    "is_train = True\n",
    "is_test = False\n",
    "\n",
    "exp_id, HOST, is_kaggle"
   ],
   "metadata": {
    "collapsed": false,
    "ExecuteTime": {
     "start_time": "2023-04-23T11:28:46.767178Z",
     "end_time": "2023-04-23T11:28:46.768178Z"
    }
   }
  },
  {
   "cell_type": "code",
   "execution_count": 4,
   "outputs": [
    {
     "name": "stdout",
     "output_type": "stream",
     "text": [
      "ROOT_DIR: D:\\Codes\\python\\kaggle\\Vesuvius\\dev\\..\n"
     ]
    }
   ],
   "source": [
    "if not is_kaggle:\n",
    "    ROOT_DIR = Path(\"../\").absolute()\n",
    "    DATA_DIR = ROOT_DIR / \"data\" / \"raw\"\n",
    "    OUTPUT_DIR = ROOT_DIR / \"saved\"\n",
    "    CP_DIR = OUTPUT_DIR / \"checkpoints\"\n",
    "    LOG_DIR = ROOT_DIR / \"saved\" / \"logs\"\n",
    "    CACHE_DIR = ROOT_DIR / \"saved\" / \"cache\"\n",
    "    EXTERNAL_MODELS_DIR = ROOT_DIR / \"model\"\n",
    "else:\n",
    "    ROOT_DIR = Path(\"/kaggle\")\n",
    "    DATA_DIR = ROOT_DIR / \"input\" / \"vesuvius-challenge-ink-detection\"\n",
    "    OUTPUT_DIR = ROOT_DIR / \"working\"\n",
    "    CP_DIR = OUTPUT_DIR / \"ink-model\"\n",
    "    LOG_DIR = OUTPUT_DIR / \"saved\" / \"logs\"\n",
    "    CACHE_DIR = OUTPUT_DIR / \"saved\" / \"cache\"\n",
    "    EXTERNAL_MODELS_DIR = ROOT_DIR / \"input\"\n",
    "\n",
    "print(f\"ROOT_DIR: {ROOT_DIR}\")\n",
    "\n",
    "for p in [ROOT_DIR, DATA_DIR, OUTPUT_DIR, CP_DIR, LOG_DIR, CACHE_DIR]:\n",
    "    if os.path.exists(p) is False:\n",
    "        os.makedirs(p)\n",
    "\n",
    "def to_pickle(filename, obj):\n",
    "    with open(filename, mode=\"wb\") as f:\n",
    "        pickle.dump(obj, f)\n",
    "\n",
    "\n",
    "def unpickle(filename):\n",
    "    with open(filename, mode=\"rb\") as fo:\n",
    "        _ = pickle.load(fo)\n",
    "    return _"
   ],
   "metadata": {
    "collapsed": false,
    "ExecuteTime": {
     "start_time": "2023-04-23T11:28:46.771178Z",
     "end_time": "2023-04-23T11:28:46.771178Z"
    }
   }
  },
  {
   "cell_type": "code",
   "execution_count": 5,
   "outputs": [],
   "source": [
    "if is_test:\n",
    "    # from tqdm import tqdm\n",
    "    for i in tqdm(range(100)):\n",
    "        pass"
   ],
   "metadata": {
    "collapsed": false,
    "ExecuteTime": {
     "start_time": "2023-04-23T11:28:46.771178Z",
     "end_time": "2023-04-23T11:28:46.771178Z"
    }
   }
  },
  {
   "cell_type": "code",
   "execution_count": 6,
   "outputs": [],
   "source": [
    "# sys.path.append('/kaggle/input/pretrainedmodels/pretrainedmodels-0.7.4')\n",
    "# sys.path.append('/kaggle/input/efficientnet-pytorch/EfficientNet-PyTorch-master')\n",
    "# sys.path.append('/kaggle/input/timm-pytorch-image-models/pytorch-image-models-master')\n",
    "# sys.path.append('/kaggle/input/segmentation-models-pytorch/segmentation_models.pytorch-master')\n",
    "\n",
    "if not is_kaggle or True:\n",
    "    # https://github.com/Cadene/pretrained-models.pytorch/issues/222\n",
    "    import ssl\n",
    "\n",
    "    ssl._create_default_https_context = ssl._create_unverified_context\n",
    "if is_kaggle:\n",
    "    sys.path.append(str(EXTERNAL_MODELS_DIR /\"segmentation-models-pytorch\" / \"segmentation_models.pytorch-master\"))\n",
    "    sys.path.append(str(EXTERNAL_MODELS_DIR /\"pretrainedmodels\" / \"pretrainedmodels-0.7.4\"))\n",
    "    sys.path.append(str(EXTERNAL_MODELS_DIR /\"efficientnet-pytorch\"/ \"EfficientNet-PyTorch-master\"))\n",
    "\n",
    "    # noinspection PyUnresolvedReferences\n",
    "    import segmentation_models_pytorch as smp\n",
    "\n",
    "else:\n",
    "    if importlib.util.find_spec(\"segmentation_models_pytorch\") is None:\n",
    "        !conda install -y segmentation-models-pytorch\n",
    "    import segmentation_models_pytorch as smp\n",
    "    # %%conda install -y -c conda-forge segmentation-models-pytorch\n",
    "\n"
   ],
   "metadata": {
    "collapsed": false,
    "ExecuteTime": {
     "start_time": "2023-04-23T11:28:48.592866Z",
     "end_time": "2023-04-23T11:28:48.592866Z"
    }
   }
  },
  {
   "cell_type": "code",
   "execution_count": 7,
   "id": "ba3473c9",
   "metadata": {
    "execution": {
     "iopub.execute_input": "2023-04-04T06:17:01.366851Z",
     "iopub.status.busy": "2023-04-04T06:17:01.366492Z",
     "iopub.status.idle": "2023-04-04T06:17:02.229806Z",
     "shell.execute_reply": "2023-04-04T06:17:02.228785Z"
    },
    "papermill": {
     "duration": 0.872471,
     "end_time": "2023-04-04T06:17:02.232506",
     "exception": false,
     "start_time": "2023-04-04T06:17:01.360035",
     "status": "completed"
    },
    "tags": [],
    "ExecuteTime": {
     "start_time": "2023-04-23T11:28:48.671873Z",
     "end_time": "2023-04-23T11:28:48.671873Z"
    }
   },
   "outputs": [],
   "source": [
    "\n",
    "from torch.utils.data import DataLoader, Dataset\n",
    "import cv2\n",
    "import torch\n"
   ]
  },
  {
   "cell_type": "code",
   "execution_count": 7,
   "outputs": [],
   "source": [],
   "metadata": {
    "collapsed": false,
    "ExecuteTime": {
     "start_time": "2023-04-23T11:28:48.672873Z",
     "end_time": "2023-04-23T11:28:48.672873Z"
    }
   }
  },
  {
   "cell_type": "markdown",
   "id": "ea8b0202",
   "metadata": {
    "papermill": {
     "duration": 0.005151,
     "end_time": "2023-04-04T06:17:02.243271",
     "exception": false,
     "start_time": "2023-04-04T06:17:02.238120",
     "status": "completed"
    },
    "tags": []
   },
   "source": [
    "## config"
   ]
  },
  {
   "cell_type": "code",
   "execution_count": 8,
   "id": "890a731e",
   "metadata": {
    "execution": {
     "iopub.execute_input": "2023-04-04T06:17:02.255466Z",
     "iopub.status.busy": "2023-04-04T06:17:02.255143Z",
     "iopub.status.idle": "2023-04-04T06:17:02.266578Z",
     "shell.execute_reply": "2023-04-04T06:17:02.265585Z"
    },
    "papermill": {
     "duration": 0.020257,
     "end_time": "2023-04-04T06:17:02.268722",
     "exception": false,
     "start_time": "2023-04-04T06:17:02.248465",
     "status": "completed"
    },
    "tags": [],
    "ExecuteTime": {
     "start_time": "2023-04-23T11:28:48.672873Z",
     "end_time": "2023-04-23T11:28:48.672873Z"
    }
   },
   "outputs": [],
   "source": [
    "class Config:\n",
    "    comp_name = \"vesuvius\"\n",
    "    # ============== path =============\n",
    "    comp_dataset_path = DATA_DIR  # dataset path\n",
    "    cache_dir = CACHE_DIR  # cache directory\n",
    "    data_dir = DATA_DIR  # data directory\n",
    "    LOG_DIR = LOG_DIR  # log directory\n",
    "    Note_book = exp_id  # notebook name\n",
    "    model_dir = CP_DIR  # model directory\n",
    "    exp_name = exp_id  # experiment name\n",
    "    run_id = run_id  # run id\n",
    "    HOST = HOST  # host name\n",
    "\n",
    "    # ============== pred target =============\n",
    "    target_size = 1  # prediction target size\n",
    "\n",
    "    # ============== model cfg =============\n",
    "    model_name = \"Unet++\"  # model name\n",
    "    backbone = \"se_resnext50_32x4d\"  # model backbone\n",
    "    in_channels = 6  # number of input channels\n",
    "    resume = True  # resume training\n",
    "\n",
    "    # ============== training cfg =============\n",
    "    size = 224  # image size\n",
    "    tile_size = 224  # tile size\n",
    "    stride = 56  # tile stride\n",
    "\n",
    "    batch_size = 16  # batch size\n",
    "    use_amp = True  # use automatic mixed precision\n",
    "\n",
    "    scheduler = \"GradualWarmupSchedulerV2\"  # learning rate scheduler\n",
    "    epochs = 20  # number of training epochs\n",
    "    PATIENCE = min(epochs // 2, 8)  # early stopping patience\n",
    "    warmup_factor = 10  # warmup factor\n",
    "    lr = 1e-5 / 10  # initial learning rate\n",
    "\n",
    "    # ============== fold =============\n",
    "    valid_id = 2  # validation fold id\n",
    "\n",
    "    objective_cv = \"binary\"  # objective type\n",
    "    metric_direction = \"maximize\"  # metric direction\n",
    "\n",
    "    # ============== fixed =============\n",
    "    pretrained = True  # use pre-trained weights\n",
    "    inf_weight = \"best\"  # inference weight\n",
    "\n",
    "    min_lr = 1e-6  # minimum learning rate\n",
    "    weight_decay = 1e-6  # weight decay\n",
    "    max_grad_norm = 1000  # maximum gradient norm\n",
    "\n",
    "    print_freq = 50  # print frequency\n",
    "    num_workers = 2  # number of workers\n",
    "    seed = 3407  # random seed\n",
    "\n",
    "    def __getitem__(self, item):\n",
    "        return getattr(self, item)\n",
    "\n",
    "\n",
    "_Config = Config()\n",
    "\n",
    "\n"
   ]
  },
  {
   "cell_type": "code",
   "execution_count": 8,
   "outputs": [],
   "source": [],
   "metadata": {
    "collapsed": false,
    "ExecuteTime": {
     "start_time": "2023-04-23T11:28:48.696387Z",
     "end_time": "2023-04-23T11:28:48.696387Z"
    }
   }
  },
  {
   "cell_type": "code",
   "execution_count": 9,
   "outputs": [],
   "source": [
    "import albumentations as albu\n",
    "from albumentations.pytorch import ToTensorV2\n",
    "\n",
    "CONFIG = {}\n",
    "for k in dir(_Config):\n",
    "    if not k.startswith(\"__\"):\n",
    "        CONFIG[k] = getattr(_Config, k)\n",
    "\n",
    "for k in CONFIG.keys():\n",
    "    if k not in CONFIG.keys():\n",
    "        print(f\"{k} is not in CONFIG\")\n",
    "    elif CONFIG[k] != CONFIG[k]:\n",
    "        print(f\"CONFIG {k} = {CONFIG[k]};is not equal to tmp {k} = {CONFIG[k]}\")\n",
    "    else:\n",
    "        continue\n",
    "\n",
    "for k in CONFIG.keys():\n",
    "    if k not in CONFIG.keys():\n",
    "        print(f\"{k} is not in Config\")\n",
    "    else:\n",
    "        continue"
   ],
   "metadata": {
    "collapsed": false,
    "ExecuteTime": {
     "start_time": "2023-04-23T11:28:49.526366Z",
     "end_time": "2023-04-23T11:28:49.526366Z"
    }
   }
  },
  {
   "cell_type": "code",
   "execution_count": 10,
   "outputs": [],
   "source": [
    "cfg = CONFIG"
   ],
   "metadata": {
    "collapsed": false,
    "ExecuteTime": {
     "start_time": "2023-04-23T11:28:49.541367Z",
     "end_time": "2023-04-23T11:28:49.541367Z"
    }
   }
  },
  {
   "cell_type": "code",
   "execution_count": 11,
   "outputs": [],
   "source": [
    "\n",
    "\n",
    "# ============== augmentation =============\n",
    "def get_aug_list(size, in_channels, type='train'):\n",
    "    \"\"\"\n",
    "    type: train, valid\n",
    "    return: list of albumentations\n",
    "\n",
    "    in case of any further modification,\n",
    "    one should use albu.Compose by themselves\n",
    "    \"\"\"\n",
    "    train_aug_list = [\n",
    "        # A.RandomResizedCrop(\n",
    "        #     size, size, scale=(0.85, 1.0)),\n",
    "        albu.Resize(size, size),\n",
    "        albu.HorizontalFlip(p=0.5),\n",
    "        albu.VerticalFlip(p=0.5),\n",
    "        albu.RandomBrightnessContrast(p=0.75),\n",
    "        albu.ShiftScaleRotate(p=0.75),\n",
    "        albu.OneOf([\n",
    "            albu.GaussNoise(var_limit=(10.0, 50.0)),\n",
    "            albu.GaussianBlur(),\n",
    "            albu.MotionBlur(),\n",
    "        ], p=0.4),\n",
    "        albu.GridDistortion(num_steps=5, distort_limit=0.3, p=0.5),\n",
    "        albu.CoarseDropout(max_holes=1, max_width=int(size * 0.3), max_height=int(size * 0.3),\n",
    "                           mask_fill_value=0, p=0.5),\n",
    "        # A.Cutout(max_h_size=int(size * 0.6),\n",
    "        #          max_w_size=int(size * 0.6), num_holes=1, p=1.0),\n",
    "        albu.Normalize(\n",
    "            mean=[0] * in_channels,\n",
    "            std=[1] * in_channels\n",
    "        ),\n",
    "        ToTensorV2(transpose_mask=True),\n",
    "    ]\n",
    "\n",
    "    valid_aug_list = [\n",
    "        albu.Resize(size, size),\n",
    "        albu.Normalize(\n",
    "            mean=[0] * in_channels,\n",
    "            std=[1] * in_channels\n",
    "        ),\n",
    "        ToTensorV2(transpose_mask=True),\n",
    "    ]\n",
    "\n",
    "    if type == 'train':\n",
    "        return train_aug_list\n",
    "    else:\n",
    "        return valid_aug_list\n",
    "\n",
    "\n"
   ],
   "metadata": {
    "collapsed": false,
    "ExecuteTime": {
     "start_time": "2023-04-23T11:28:49.600884Z",
     "end_time": "2023-04-23T11:28:49.600884Z"
    }
   }
  },
  {
   "cell_type": "code",
   "execution_count": 12,
   "outputs": [],
   "source": [
    "%%capture\n",
    "# disable output of this cell\n",
    "if not (is_kaggle or is_test):\n",
    "    import wandb\n",
    "\n",
    "    wandb.init(project=cfg['comp_name'], name=cfg['run_id'],\n",
    "               config=CONFIG, dir=LOG_DIR)\n",
    "\n",
    "    wandb.config['train_aug_list'] = albu.Compose(\n",
    "        get_aug_list(cfg['size'], cfg['in_channels'], type='train')).to_dict()\n",
    "    wandb.config['valid_aug_list'] = albu.Compose(\n",
    "        get_aug_list(cfg['size'], cfg['in_channels'], type='valid')).to_dict()"
   ],
   "metadata": {
    "collapsed": false,
    "ExecuteTime": {
     "start_time": "2023-04-23T11:28:58.166023Z",
     "end_time": "2023-04-23T11:28:58.166023Z"
    }
   }
  },
  {
   "cell_type": "code",
   "execution_count": 13,
   "outputs": [],
   "source": [
    "import importlib.util\n",
    "\n",
    "\n",
    "class AverageMeter(object):\n",
    "    \"\"\"Computes and stores the average and current value\"\"\"\n",
    "\n",
    "    # if imported wandb, use wandb.log\n",
    "    #\n",
    "\n",
    "    def __init__(self, mode=\"train\"):\n",
    "        self.val = None\n",
    "        self.avg = None\n",
    "        self.sum = None\n",
    "        self.count = None\n",
    "        self.mode = mode\n",
    "\n",
    "        self.reset()\n",
    "        self.use_wandb = (importlib.util.find_spec('wandb') is not None)\n",
    "\n",
    "    def reset(self):\n",
    "        self.val = 0\n",
    "        self.avg = 0\n",
    "        self.sum = 0\n",
    "        self.count = 0\n",
    "\n",
    "    def update(self, val, n=1):\n",
    "        self.val = val\n",
    "        self.sum += val * n\n",
    "        self.count += n\n",
    "        self.avg = self.sum / self.count"
   ],
   "metadata": {
    "collapsed": false,
    "ExecuteTime": {
     "start_time": "2023-04-23T11:28:58.181532Z",
     "end_time": "2023-04-23T11:28:58.181532Z"
    }
   }
  },
  {
   "cell_type": "code",
   "execution_count": 13,
   "outputs": [],
   "source": [],
   "metadata": {
    "collapsed": false,
    "ExecuteTime": {
     "start_time": "2023-04-23T11:28:58.234532Z",
     "end_time": "2023-04-23T11:28:58.235531Z"
    }
   }
  },
  {
   "cell_type": "code",
   "execution_count": 14,
   "id": "8a2b911f",
   "metadata": {
    "execution": {
     "iopub.execute_input": "2023-04-04T06:17:02.280985Z",
     "iopub.status.busy": "2023-04-04T06:17:02.280599Z",
     "iopub.status.idle": "2023-04-04T06:17:02.285540Z",
     "shell.execute_reply": "2023-04-04T06:17:02.284405Z"
    },
    "papermill": {
     "duration": 0.013611,
     "end_time": "2023-04-04T06:17:02.287646",
     "exception": false,
     "start_time": "2023-04-04T06:17:02.274035",
     "status": "completed"
    },
    "tags": [],
    "ExecuteTime": {
     "start_time": "2023-04-23T11:28:58.235531Z",
     "end_time": "2023-04-23T11:28:58.235531Z"
    }
   },
   "outputs": [],
   "source": [
    "IS_DEBUG = True\n",
    "mode = 'train' if IS_DEBUG else 'test'\n",
    "TH = 0.4"
   ]
  },
  {
   "cell_type": "markdown",
   "id": "6e80d29f",
   "metadata": {
    "papermill": {
     "duration": 0.005211,
     "end_time": "2023-04-04T06:17:02.380189",
     "exception": false,
     "start_time": "2023-04-04T06:17:02.374978",
     "status": "completed"
    },
    "tags": []
   },
   "source": [
    "## helper"
   ]
  },
  {
   "cell_type": "code",
   "execution_count": 15,
   "id": "62068ce2",
   "metadata": {
    "execution": {
     "iopub.execute_input": "2023-04-04T06:17:02.392970Z",
     "iopub.status.busy": "2023-04-04T06:17:02.391931Z",
     "iopub.status.idle": "2023-04-04T06:17:02.398774Z",
     "shell.execute_reply": "2023-04-04T06:17:02.397769Z"
    },
    "papermill": {
     "duration": 0.015585,
     "end_time": "2023-04-04T06:17:02.401016",
     "exception": false,
     "start_time": "2023-04-04T06:17:02.385431",
     "status": "completed"
    },
    "tags": [],
    "ExecuteTime": {
     "start_time": "2023-04-23T11:28:58.235531Z",
     "end_time": "2023-04-23T11:28:58.235531Z"
    }
   },
   "outputs": [],
   "source": [
    "# ref.: https://www.kaggle.com/stainsby/fast-tested-rle\n",
    "def rle(img):\n",
    "    '''\n",
    "    img: numpy array, 1 - mask, 0 - background\n",
    "    Returns run length as string formated\n",
    "    '''\n",
    "    pixels = img.flatten()\n",
    "    # pixels = (pixels >= thr).astype(int)\n",
    "\n",
    "    pixels = np.concatenate([[0], pixels, [0]])\n",
    "    runs = np.where(pixels[1:] != pixels[:-1])[0] + 1\n",
    "    runs[1::2] -= runs[::2]\n",
    "    return ' '.join(str(x) for x in runs)\n",
    "\n",
    "# def np_rle(img):\n",
    "#     flat_img = np.where(img.flatten() , 1, 0).astype(np.uint8)\n",
    "#     starts = np.array((flat_img[:-1] == 0) & (flat_img[1:] == 1))\n",
    "#     ends = np.array((flat_img[:-1] == 1) & (flat_img[1:] == 0))\n",
    "#     starts_ix = np.where(starts)[0] + 2\n",
    "#     ends_ix = np.where(ends)[0] + 2\n",
    "#     lengths = ends_ix - starts_ix\n",
    "#     predicted_arr = np.stack([starts_ix, lengths]).T.flatten()\n",
    "#     rle_str=np.array2string(predicted_arr.reshape(-1), separator=' ')\n",
    "#     return rle_str[1:-1]"
   ]
  },
  {
   "cell_type": "code",
   "execution_count": 16,
   "outputs": [],
   "source": [
    "def init_logger(log_file):\n",
    "    from logging import getLogger, INFO, FileHandler, Formatter, StreamHandler\n",
    "\n",
    "    logger = getLogger(__name__)\n",
    "    logger.setLevel(INFO)\n",
    "    handler1 = StreamHandler()\n",
    "    handler1.setFormatter(Formatter(\"%(message)s\"))\n",
    "    handler2 = FileHandler(filename=log_file)\n",
    "    handler2.setFormatter(Formatter(\"%(message)s\"))\n",
    "\n",
    "    # remove existing handlers\n",
    "    if logger.hasHandlers():\n",
    "        logger.handlers.clear()\n",
    "\n",
    "    logger.addHandler(handler1)\n",
    "    logger.addHandler(handler2)\n",
    "    return logger"
   ],
   "metadata": {
    "collapsed": false,
    "ExecuteTime": {
     "start_time": "2023-04-23T11:28:58.245531Z",
     "end_time": "2023-04-23T11:28:58.245531Z"
    }
   }
  },
  {
   "cell_type": "code",
   "execution_count": 17,
   "outputs": [
    {
     "name": "stderr",
     "output_type": "stream",
     "text": [
      "\n",
      "\n",
      "-------- exp_info -----------------\n"
     ]
    }
   ],
   "source": [
    "import datetime\n",
    "\n",
    "device = torch.device('cuda' if torch.cuda.is_available() else 'cpu')\n",
    "\n",
    "Logger = init_logger(log_file=str(cfg['LOG_DIR'] / cfg['run_id']) + '.log')\n",
    "\n",
    "Logger.info('\\n\\n-------- exp_info -----------------')\n",
    "# Logger.info(datetime.datetime.now().strftime('%Y%m月%d日 %H:%M:%S'))"
   ],
   "metadata": {
    "collapsed": false,
    "ExecuteTime": {
     "start_time": "2023-04-23T11:28:58.324628Z",
     "end_time": "2023-04-23T11:28:58.325629Z"
    }
   }
  },
  {
   "cell_type": "code",
   "execution_count": 18,
   "outputs": [],
   "source": [
    "# img=cv2.imread(str(cfg['comp_dataset_path']/ f\"/{mode}/1/mask.png\"), 0)\n",
    "# str1=rle(img)\n",
    "# str2=np_rle(img)\n",
    "# import cProfile\n",
    "# cProfile.run('')\n",
    "# cProfile.run('str2=np_rle(img)')\n",
    "\n",
    "# assert str1 == str2\n"
   ],
   "metadata": {
    "collapsed": false,
    "ExecuteTime": {
     "start_time": "2023-04-23T11:28:58.325629Z",
     "end_time": "2023-04-23T11:28:58.325629Z"
    }
   }
  },
  {
   "cell_type": "markdown",
   "id": "c55bfc73",
   "metadata": {
    "papermill": {
     "duration": 0.005211,
     "end_time": "2023-04-04T06:17:02.411475",
     "exception": false,
     "start_time": "2023-04-04T06:17:02.406264",
     "status": "completed"
    },
    "tags": []
   },
   "source": [
    "## dataset"
   ]
  },
  {
   "cell_type": "code",
   "execution_count": 19,
   "id": "2ad7fd10",
   "metadata": {
    "execution": {
     "iopub.execute_input": "2023-04-04T06:17:02.423640Z",
     "iopub.status.busy": "2023-04-04T06:17:02.422845Z",
     "iopub.status.idle": "2023-04-04T06:17:02.430140Z",
     "shell.execute_reply": "2023-04-04T06:17:02.429053Z"
    },
    "papermill": {
     "duration": 0.016017,
     "end_time": "2023-04-04T06:17:02.432638",
     "exception": false,
     "start_time": "2023-04-04T06:17:02.416621",
     "status": "completed"
    },
    "tags": [],
    "ExecuteTime": {
     "start_time": "2023-04-23T11:28:58.326629Z",
     "end_time": "2023-04-23T11:28:58.327627Z"
    }
   },
   "outputs": [],
   "source": [
    "# def read_image(fragment_id):\n",
    "#     images = []\n",
    "#\n",
    "#     # idxs = range(65)\n",
    "#     mid = 65 // 2\n",
    "#     start = mid - cfg['in_channels'] // 2\n",
    "#     end = mid + cfg['in_channels'] // 2\n",
    "#     idxs = range(start, end)\n",
    "#     logger.info(f\"reading image fragment_id: {fragment_id}, idxs: {idxs}\")\n",
    "#\n",
    "#     with tqdm(idxs) as pbar:\n",
    "#         for i in pbar:\n",
    "#             image = cv2.imread(str(cfg['comp_dataset_path'] / f\"{mode}/{fragment_id}/surface_volume/{i:02}.tif\"), 0)\n",
    "#\n",
    "#             pad0 = (cfg['tile_size'] - image.shape[0] % cfg['tile_size'])\n",
    "#             pad1 = (cfg['tile_size'] - image.shape[1] % cfg['tile_size'])\n",
    "#\n",
    "#             image = np.pad(image, [(0, pad0), (0, pad1)], constant_values=0)\n",
    "#\n",
    "#             images.append(image)\n",
    "#     images = np.stack(images, axis=2)\n",
    "#\n",
    "#     return images"
   ]
  },
  {
   "cell_type": "code",
   "execution_count": 20,
   "id": "32db1853",
   "metadata": {
    "execution": {
     "iopub.execute_input": "2023-04-04T06:17:02.444829Z",
     "iopub.status.busy": "2023-04-04T06:17:02.443957Z",
     "iopub.status.idle": "2023-04-04T06:17:02.452141Z",
     "shell.execute_reply": "2023-04-04T06:17:02.451212Z"
    },
    "papermill": {
     "duration": 0.01625,
     "end_time": "2023-04-04T06:17:02.454096",
     "exception": false,
     "start_time": "2023-04-04T06:17:02.437846",
     "status": "completed"
    },
    "tags": [],
    "ExecuteTime": {
     "start_time": "2023-04-23T11:28:58.352627Z",
     "end_time": "2023-04-23T11:28:58.352627Z"
    }
   },
   "outputs": [],
   "source": [
    "def get_transforms(mode, cfg):\n",
    "    return albu.Compose(get_aug_list(cfg['size'], cfg['in_channels'], type=mode))\n",
    "\n",
    "\n",
    "if not is_kaggle:\n",
    "    from DataSets import CustomDataset\n",
    "else:\n",
    "\n",
    "    from cachetools import FIFOCache, cached\n",
    "\n",
    "\n",
    "    class ImgLoader:\n",
    "\n",
    "        def __init__(self, cache_dir: Path = None, data_dir: Path = None):\n",
    "            self.cache_dir = cache_dir\n",
    "            self.data_dir = data_dir\n",
    "\n",
    "        def load_from_path(self, file_path: str = None, channel=6):\n",
    "            return ImgLoader.load_from_path_static(self.cache_dir, self.data_dir, file_path, channel=channel)\n",
    "\n",
    "        @staticmethod\n",
    "        @cached(cache=FIFOCache(maxsize=10))\n",
    "        def load_from_path_static(cache_dir: Path = None, data_dir: Path = None, file_path: str = None, channel=6):\n",
    "            if isinstance(file_path, Path):\n",
    "                file_path = str(file_path)\n",
    "\n",
    "            assert not file_path.endswith('npy'), f\"file path {file_path} is a npy file\"\n",
    "            assert os.path.exists(data_dir / file_path), f\"file path {file_path} does not exist\"\n",
    "\n",
    "            path__npy_ = cache_dir / f\"{file_path}.npy\"\n",
    "\n",
    "            if os.path.exists(path__npy_):\n",
    "                img_l = np.load(str(path__npy_), allow_pickle=True)\n",
    "                assert img_l is not None, f\"Cached file {path__npy_} is None\"\n",
    "                return img_l\n",
    "\n",
    "            if not os.path.exists(path__npy_.parent):\n",
    "                os.makedirs(path__npy_.parent)\n",
    "\n",
    "            if os.path.isfile(data_dir / file_path):\n",
    "                img_l = cv2.imread(str(data_dir / file_path), 0)\n",
    "                assert img_l is not None, f\"Image file {data_dir / file_path} is None\"\n",
    "                np.save(str(path__npy_), img_l)\n",
    "                return img_l\n",
    "\n",
    "            if os.path.isdir(data_dir / file_path):\n",
    "                path__npy_ = cache_dir / f\"{file_path}_{channel}.npy\"\n",
    "                if os.path.exists(path__npy_):\n",
    "                    img_l = np.load(str(path__npy_), allow_pickle=True)\n",
    "                    assert img_l is not None, f\"Cached file {path__npy_} is None\"\n",
    "                    return img_l\n",
    "\n",
    "                img_l = []\n",
    "                files = os.listdir(data_dir / file_path)\n",
    "                mid = len(files) // 2\n",
    "                start = mid - channel // 2\n",
    "                end = mid + channel // 2\n",
    "                assert start >= 0, f\"start {start} is less than 0\"\n",
    "                assert end <= len(files), f\"end {end} is greater than {len(files)}\"\n",
    "\n",
    "                files = files[start:end]\n",
    "                for file in tqdm(files):\n",
    "                    img_l.append(ImgLoader.load_from_path_static(cache_dir, data_dir, f\"{file_path}/{file}\"))\n",
    "\n",
    "                img_l = np.stack(img_l, axis=2)\n",
    "                np.save(str(path__npy_), img_l)\n",
    "                return img_l\n",
    "\n",
    "\n",
    "    class CustomDataset(Dataset):\n",
    "        \"\"\"\"\n",
    "        Custom Dataset for loading images, masks, and labels\n",
    "        params:\n",
    "            image_sets: list of image paths\n",
    "            masks: list of mask paths\n",
    "            labels: list of label paths\n",
    "            transform: albumentations transform\n",
    "            mode: train, valid, or test\n",
    "        \"\"\"\n",
    "\n",
    "        def __init__(self, image_sets, cfg, masks=None, labels=None, transform=None, mode=\"train\"):\n",
    "            self.image_sets = image_sets\n",
    "            self.cfg = cfg\n",
    "            self.masks = masks\n",
    "            self.labels = labels\n",
    "            self.transform = transform\n",
    "            self.type = mode\n",
    "            self.imgLoader = None\n",
    "            self.patch_num = []\n",
    "            self.preprocess()\n",
    "\n",
    "        def preprocess(self):\n",
    "            if self.imgLoader is None:\n",
    "                self.imgLoader = ImgLoader(\n",
    "                    cache_dir=self.cfg['cache_dir'],\n",
    "                    data_dir=self.cfg['data_dir'])\n",
    "\n",
    "            for mask in self.masks:\n",
    "                # mask may be path like or numpy array\n",
    "                if isinstance(mask, (str, Path)):\n",
    "                    mask = self.imgLoader.load_from_path(mask)\n",
    "\n",
    "                x1_num = math.ceil((mask.shape[1] - self.cfg['tile_size']) / self.cfg['stride']) + 1\n",
    "                y1_num = math.ceil((mask.shape[0] - self.cfg['tile_size']) / self.cfg['stride']) + 1\n",
    "\n",
    "                self.patch_num.append((x1_num, y1_num))\n",
    "\n",
    "            self.patch_num = np.array(self.patch_num)\n",
    "\n",
    "        def get_gt(self, img_idx):\n",
    "            return self.imgLoader.load_from_path(self.labels[img_idx])\n",
    "\n",
    "        def get_mask(self, img_idx):\n",
    "            return self.imgLoader.load_from_path(self.masks[img_idx])\n",
    "\n",
    "        def __len__(self):\n",
    "            x, y = np.transpose(self.patch_num)\n",
    "            return x @ y\n",
    "\n",
    "        def __getitem__(self, idx):\n",
    "            # x1, y1, x2, y2 = self.xyxys[idx]\n",
    "            img_id = 0\n",
    "            patch_id = idx\n",
    "            for i, patch_num in enumerate(self.patch_num):\n",
    "                if patch_id < patch_num[0] * patch_num[1]:\n",
    "                    img_id = i\n",
    "                    break\n",
    "                else:\n",
    "                    patch_id -= patch_num[0] * patch_num[1]\n",
    "\n",
    "            x1_num, y1_num = self.patch_num[img_id]\n",
    "            x1 = (patch_id % x1_num) * self.cfg['stride']\n",
    "            y1 = (patch_id // x1_num) * self.cfg['stride']\n",
    "            x2 = x1 + self.cfg['tile_size']\n",
    "            y2 = y1 + self.cfg['tile_size']\n",
    "\n",
    "            img = self.imgLoader.load_from_path(self.image_sets[img_id], channel=self.cfg['in_channels'])\n",
    "            mask = self.imgLoader.load_from_path(self.masks[img_id])\n",
    "\n",
    "            img = img[y1:y2, x1:x2]\n",
    "            mask = mask[y1:y2, x1:x2]\n",
    "\n",
    "            if img.shape[0] != self.cfg['tile_size'] or img.shape[1] != self.cfg['tile_size']:\n",
    "                pad_h = self.cfg['tile_size'] - img.shape[0]\n",
    "                pad_w = self.cfg['tile_size'] - img.shape[1]\n",
    "                img = np.pad(img, ((0, pad_h), (0, pad_w), (0, 0)), mode=\"constant\", constant_values=0)\n",
    "                mask = np.pad(mask, ((0, pad_h), (0, pad_w)), mode=\"constant\", constant_values=0)\n",
    "\n",
    "            if self.type in [\"train\", \"valid\"]:\n",
    "                label = self.imgLoader.load_from_path(self.labels[img_id])\n",
    "                label = label[y1:y2, x1:x2]\n",
    "                if label.shape[0] != self.cfg['tile_size'] or label.shape[1] != self.cfg['tile_size']:\n",
    "                    pad_h = self.cfg['tile_size'] - label.shape[0]\n",
    "                    pad_w = self.cfg['tile_size'] - label.shape[1]\n",
    "                    label = np.pad(label, ((0, pad_h), (0, pad_w)), mode=\"constant\", constant_values=0)\n",
    "\n",
    "                data = self.transform(image=img, mask=mask, label=label)\n",
    "                label = data[\"label\"].astype(np.float32)\n",
    "            else:\n",
    "                label = -1\n",
    "                data = self.transform(image=img, mask=mask)\n",
    "\n",
    "            # if mask != data[\"mask\"]:\n",
    "            #     print(\"mask is not equal\")`\n",
    "            #     fig, ax = plt.subplots(1, 2)\n",
    "            #     ax[0].imshow(mask)\n",
    "            #     ax[1].imshow(data[\"mask\"])\n",
    "            #     ax[0].set_title(\"mask\")\n",
    "            #     ax[1].set_title(\"data[mask]\")\n",
    "            #     plt.show()\n",
    "            image = data[\"image\"]\n",
    "            mask = data[\"mask\"]\n",
    "\n",
    "            return image, mask, label, (x1, y1, x2, y2)\n"
   ]
  },
  {
   "cell_type": "code",
   "execution_count": 21,
   "id": "0506ecb2",
   "metadata": {
    "execution": {
     "iopub.execute_input": "2023-04-04T06:17:02.466139Z",
     "iopub.status.busy": "2023-04-04T06:17:02.465818Z",
     "iopub.status.idle": "2023-04-04T06:17:02.473416Z",
     "shell.execute_reply": "2023-04-04T06:17:02.472333Z"
    },
    "papermill": {
     "duration": 0.016202,
     "end_time": "2023-04-04T06:17:02.475850",
     "exception": false,
     "start_time": "2023-04-04T06:17:02.459648",
     "status": "completed"
    },
    "tags": [],
    "ExecuteTime": {
     "start_time": "2023-04-23T11:28:58.453144Z",
     "end_time": "2023-04-23T11:28:58.453144Z"
    }
   },
   "outputs": [],
   "source": [
    "def make_dataset(img_set_ids,mode='train', dataset_mode='train'):\n",
    "    imgs = []\n",
    "    masks = []\n",
    "    labels = []\n",
    "    for set_id in img_set_ids:\n",
    "        imgs.append(f\"{mode}/{set_id}/surface_volume\")\n",
    "        masks.append(f\"{mode}/{set_id}/mask.png\")\n",
    "        labels.append(f\"{mode}/{set_id}/inklabels.png\")\n",
    "\n",
    "    # test_images = read_image(fragment_id)\n",
    "    #\n",
    "    # x1_list = list(range(0, test_images.shape[1] - cfg['tile_size']+ 1, cfg['stride']))\n",
    "    # y1_list = list(range(0, test_images.shape[0] - cfg['tile_size']+ 1, cfg['stride']))\n",
    "    #\n",
    "    # test_images_list = []\n",
    "    # xyxys = []\n",
    "    # for y1 in y1_list:\n",
    "    #     for x1 in x1_list:\n",
    "    #         y2 = y1 + cfg['tile_size']\n",
    "    #         x2 = x1 + cfg['tile_size']\n",
    "    #         test_images_list.append(test_images[y1:y2, x1:x2])\n",
    "    #         xyxys.append((x1, y1, x2, y2))\n",
    "    # xyxys = np.stack(xyxys)\n",
    "\n",
    "    dataset = CustomDataset(\n",
    "        image_sets=imgs,\n",
    "        cfg=cfg,\n",
    "        masks=masks,\n",
    "        labels=labels,\n",
    "        mode=dataset_mode,\n",
    "        transform=get_transforms(mode=dataset_mode, cfg=cfg))\n",
    "\n",
    "    loader = DataLoader(\n",
    "        dataset,\n",
    "        batch_size=cfg['batch_size'],\n",
    "        shuffle=False,\n",
    "        num_workers=cfg['num_workers'],\n",
    "        pin_memory=True,\n",
    "        drop_last=False)\n",
    "\n",
    "    return loader"
   ]
  },
  {
   "cell_type": "code",
   "execution_count": 22,
   "outputs": [],
   "source": [
    "# def make_dataset(img_set_id, mode='train',data_set='train'):\n",
    "#\n",
    "#     imgs_path= cfg['comp_dataset_path']/ f\"{data_set}/{img_set_id}/surface_volume\""
   ],
   "metadata": {
    "collapsed": false,
    "ExecuteTime": {
     "start_time": "2023-04-23T11:28:58.453144Z",
     "end_time": "2023-04-23T11:28:58.453144Z"
    }
   }
  },
  {
   "cell_type": "code",
   "execution_count": 23,
   "outputs": [],
   "source": [
    "if is_test:\n",
    "    import numpy as np\n",
    "\n",
    "    x = range(1, 4)\n",
    "    y = range(1, 4)\n",
    "    import itertools as it\n",
    "\n",
    "    k = list(it.product(x, y))\n",
    "    a = np.sum([x * y for x, y in k])\n",
    "    print(k)\n",
    "    print(a)\n",
    "\n",
    "    x, y = np.transpose(k)\n",
    "    print(x, y)\n",
    "    print(x @ y)\n",
    "\n",
    "# test_image = read_image(3)\n",
    "# test_image.shape\n",
    "# x1_list = list(range(0, test_image.shape[1] - cfg['tile_size'] + 1, cfg['stride']))\n",
    "# assert len(x1_list) == math.ceil((test_image.shape[1] - cfg['tile_size'] + 1) / cfg['stride'])\n",
    "# math.ceil((test_image.shape[1] - cfg['tile_size'])/ cfg['stride'])+1"
   ],
   "metadata": {
    "collapsed": false,
    "ExecuteTime": {
     "start_time": "2023-04-23T11:28:58.454145Z",
     "end_time": "2023-04-23T11:28:58.454145Z"
    }
   }
  },
  {
   "cell_type": "markdown",
   "id": "03cc793c",
   "metadata": {
    "papermill": {
     "duration": 0.004987,
     "end_time": "2023-04-04T06:17:02.486001",
     "exception": false,
     "start_time": "2023-04-04T06:17:02.481014",
     "status": "completed"
    },
    "tags": []
   },
   "source": [
    "## model"
   ]
  },
  {
   "cell_type": "code",
   "execution_count": 24,
   "id": "afd0f109",
   "metadata": {
    "execution": {
     "iopub.execute_input": "2023-04-04T06:17:02.498300Z",
     "iopub.status.busy": "2023-04-04T06:17:02.498008Z",
     "iopub.status.idle": "2023-04-04T06:17:02.504815Z",
     "shell.execute_reply": "2023-04-04T06:17:02.503718Z"
    },
    "papermill": {
     "duration": 0.016104,
     "end_time": "2023-04-04T06:17:02.507279",
     "exception": false,
     "start_time": "2023-04-04T06:17:02.491175",
     "status": "completed"
    },
    "tags": [],
    "ExecuteTime": {
     "start_time": "2023-04-23T11:28:58.454145Z",
     "end_time": "2023-04-23T11:28:58.454145Z"
    }
   },
   "outputs": [],
   "source": [
    "class CustomModel(nn.Module):\n",
    "    def __init__(self, cfg, weight=None):\n",
    "        super().__init__()\n",
    "        self.cfg = cfg\n",
    "        self.th = 0.5\n",
    "        self.encoder = smp.UnetPlusPlus(\n",
    "            encoder_name=cfg['backbone'],\n",
    "            encoder_weights=weight,\n",
    "            in_channels=cfg['in_channels'],\n",
    "            classes=cfg['target_size'],\n",
    "            activation=None,\n",
    "        )\n",
    "\n",
    "    def forward(self, image):\n",
    "        output = self.encoder(image)\n",
    "        # output = output.squeeze(-1)\n",
    "        return output\n",
    "\n",
    "\n",
    "def get_saved_model_path(cfg, fold=1):\n",
    "    return str(cfg['model_dir']) + f'{cfg[\"model_name\"]}_best.pth'\n",
    "\n",
    "\n",
    "# def get_model_path(cfg, fold=1):\n",
    "#     \"\"\"\n",
    "#     return saved model path if exists, otherwise return external model path\n",
    "#     \"\"\"\n",
    "#     if os.path.exists(get_saved_model_path(cfg, fold)):\n",
    "#         return get_saved_model_path(cfg, fold)\n",
    "#     else:\n",
    "#         _tmp = str(EXTERNAL_MODELS_DIR / f\"{cfg['exp_name']}/vesuvius-models/Unet_fold{fold}_best.pth'\")\n",
    "#         Logger.info(f'trained model not found \\n'\n",
    "#                     f'load model from {_tmp}')\n",
    "#     return _tmp\n",
    "\n",
    "\n",
    "def build_model(cfg, weight=\"imagenet\"):\n",
    "    Logger.info(f\"model_name: {cfg['model_name']}\")\n",
    "    Logger.info(f\"backbone: {cfg['backbone']}\")\n",
    "    if cfg['resume']:\n",
    "        model_path = get_saved_model_path(cfg)\n",
    "        if os.path.exists(model_path):\n",
    "            Logger.info(f'load model from: {model_path}')\n",
    "            _model = CustomModel(cfg, weight=None)\n",
    "            loaded_model = torch.load(model_path)\n",
    "            # print(loaded_model)\n",
    "            _model.load_state_dict(loaded_model['model'])\n",
    "            # best_loss = loaded_model['best_loss']\n",
    "            # best_loss = None if loaded_model['best_loss'] is None else loaded_model['best_loss']\n",
    "            best_loss = loaded_model['best_loss']\n",
    "            th=loaded_model['th'] if 'th' in loaded_model else 0.5\n",
    "            _model.th = th\n",
    "            return _model, best_loss\n",
    "        Logger.info(f'trained model not found')\n",
    "\n",
    "    if is_kaggle:\n",
    "        weight = None\n",
    "    _model = CustomModel(cfg, weight)\n",
    "    return _model, None\n",
    "\n",
    "\n"
   ]
  },
  {
   "cell_type": "code",
   "execution_count": 25,
   "id": "de52fd84",
   "metadata": {
    "execution": {
     "iopub.execute_input": "2023-04-04T06:17:02.518666Z",
     "iopub.status.busy": "2023-04-04T06:17:02.518404Z",
     "iopub.status.idle": "2023-04-04T06:17:02.525777Z",
     "shell.execute_reply": "2023-04-04T06:17:02.524715Z"
    },
    "papermill": {
     "duration": 0.015532,
     "end_time": "2023-04-04T06:17:02.527914",
     "exception": false,
     "start_time": "2023-04-04T06:17:02.512382",
     "status": "completed"
    },
    "tags": [],
    "ExecuteTime": {
     "start_time": "2023-04-23T11:28:58.455143Z",
     "end_time": "2023-04-23T11:28:58.455143Z"
    }
   },
   "outputs": [],
   "source": [
    "# class EnsembleModel:\n",
    "#     def __init__(self, use_tta=False):\n",
    "#         self.models = []\n",
    "#         self.use_tta = use_tta\n",
    "#\n",
    "#     def __call__(self, x):\n",
    "#         outputs = [torch.sigmoid(model(x)).to('cpu').numpy()\n",
    "#                    for model in self.models]\n",
    "#         avg_preds = np.mean(outputs, axis=0)\n",
    "#         return avg_preds\n",
    "#\n",
    "#     def add_model(self, model):\n",
    "#         self.models.append(model)\n",
    "#\n",
    "#\n",
    "# def build_ensemble_model():\n",
    "#     # if mode == 'test'\n",
    "#     #  load from saved model\n",
    "#     _model = EnsembleModel()\n",
    "#     for _fold in [1, 2, 3]:\n",
    "#         model = build_model(cfg, weight=None,fold=_fold)\n",
    "#         model.to(device)\n",
    "#\n",
    "#         # model_path = get_model_path(CONFIG, fold=_fold)\n",
    "#         # state = torch.load(model_path)['model']\n",
    "#         # model.load_state_dict(state)\n",
    "#         model.eval()\n",
    "#\n",
    "#         _model.add_model(model)\n",
    "#\n",
    "#     return _model"
   ]
  },
  {
   "cell_type": "code",
   "execution_count": 26,
   "id": "43e3276d",
   "metadata": {
    "execution": {
     "iopub.execute_input": "2023-04-04T06:17:02.539977Z",
     "iopub.status.busy": "2023-04-04T06:17:02.539151Z",
     "iopub.status.idle": "2023-04-04T06:17:02.547457Z",
     "shell.execute_reply": "2023-04-04T06:17:02.546834Z"
    },
    "papermill": {
     "duration": 0.01631,
     "end_time": "2023-04-04T06:17:02.549356",
     "exception": false,
     "start_time": "2023-04-04T06:17:02.533046",
     "status": "completed"
    },
    "tags": [],
    "ExecuteTime": {
     "start_time": "2023-04-23T11:28:58.455143Z",
     "end_time": "2023-04-23T11:28:58.456143Z"
    }
   },
   "outputs": [],
   "source": [
    "if mode == 'test':\n",
    "    fragment_ids = sorted(os.listdir(cfg['comp_dataset_path'] / mode))\n",
    "else:\n",
    "    fragment_ids = [3]"
   ]
  },
  {
   "cell_type": "code",
   "execution_count": 27,
   "outputs": [],
   "source": [
    "# def score(y_true, y_pred):\n",
    "#     y_true = np.array(y_true)\n",
    "#     y_pred = np.array(y_pred)\n",
    "#\n",
    "#     # use F0.5 score\n",
    "#     B = 0.5\n",
    "#     B2 = B * B\n",
    "#     TruePositive = np.sum(y_true * y_pred)\n",
    "#     FalsePositive = np.sum((1 - y_true) * y_pred)\n",
    "#     FalseNegative = np.sum(y_true * (1 - y_pred))\n",
    "#     p = TruePositive / (TruePositive + FalsePositive + 1e-6)\n",
    "#     r = TruePositive / (TruePositive + FalseNegative + 1e-6)\n",
    "#     score = (1 + B2) * p * r / (B2 * p + r + 1e-6)\n",
    "#     return score"
   ],
   "metadata": {
    "collapsed": false,
    "ExecuteTime": {
     "start_time": "2023-04-23T11:28:58.456143Z",
     "end_time": "2023-04-23T11:28:58.456143Z"
    }
   }
  },
  {
   "cell_type": "code",
   "execution_count": 28,
   "id": "e4e7bb9b",
   "metadata": {
    "execution": {
     "iopub.execute_input": "2023-04-04T06:17:02.561243Z",
     "iopub.status.busy": "2023-04-04T06:17:02.560466Z",
     "iopub.status.idle": "2023-04-04T06:17:37.789515Z",
     "shell.execute_reply": "2023-04-04T06:17:37.788296Z"
    },
    "papermill": {
     "duration": 35.237916,
     "end_time": "2023-04-04T06:17:37.792373",
     "exception": false,
     "start_time": "2023-04-04T06:17:02.554457",
     "status": "completed"
    },
    "tags": [],
    "ExecuteTime": {
     "start_time": "2023-04-23T11:28:58.476148Z",
     "end_time": "2023-04-23T11:28:58.476148Z"
    }
   },
   "outputs": [],
   "source": [
    "# model = build_ensemble_model()"
   ]
  },
  {
   "cell_type": "markdown",
   "source": [
    "## Scheduler"
   ],
   "metadata": {
    "collapsed": false
   }
  },
  {
   "cell_type": "code",
   "execution_count": 29,
   "outputs": [],
   "source": [
    "\n",
    "import math\n",
    "import time\n",
    "import numpy as np\n",
    "import torch\n",
    "\n",
    "from torch.optim.lr_scheduler import CosineAnnealingLR\n",
    "\n",
    "\n",
    "# from warmup_scheduler import GradualWarmupScheduler\n",
    "\n",
    "\n",
    "# class GradualWarmupSchedulerV2(GradualWarmupScheduler):\n",
    "#     \"\"\"\n",
    "#     https://www.kaggle.com/code/underwearfitting/single-fold-training-of-resnet200d-lb0-965\n",
    "#     \"\"\"\n",
    "#     def __init__(self, optimizer, multiplier, total_epoch, after_scheduler=None):\n",
    "#         super(GradualWarmupSchedulerV2, self).__init__(\n",
    "#             optimizer, multiplier, total_epoch, after_scheduler)\n",
    "#\n",
    "#     def get_lr(self):\n",
    "#         if self.last_epoch > self.total_epoch:\n",
    "#             if self.after_scheduler:\n",
    "#                 if not self.finished:\n",
    "#                     self.after_scheduler.base_lrs = [\n",
    "#                         base_lr * self.multiplier for base_lr in self.base_lrs]\n",
    "#                     self.finished = True\n",
    "#                 return self.after_scheduler.get_lr()\n",
    "#             return [base_lr * self.multiplier for base_lr in self.base_lrs]\n",
    "#         if self.multiplier == 1.0:\n",
    "#             return [base_lr * (float(self.last_epoch) / self.total_epoch) for base_lr in self.base_lrs]\n",
    "#         else:\n",
    "#             return [base_lr * ((self.multiplier - 1.) * self.last_epoch / self.total_epoch + 1.) for base_lr in self.base_lrs]\n",
    "\n",
    "def get_scheduler(cfg, optimizer):\n",
    "    scheduler_cosine = CosineAnnealingLR(\n",
    "        optimizer, cfg[\"epochs\"], eta_min=1e-7)\n",
    "    # scheduler = GradualWarmupSchedulerV2(\n",
    "    #     optimizer, multiplier=10, total_epoch=1, after_scheduler=scheduler_cosine)\n",
    "\n",
    "    return scheduler_cosine\n",
    "\n",
    "\n",
    "def scheduler_step(scheduler, avg_val_loss, epoch):\n",
    "    # scheduler.step(epoch)\n",
    "    scheduler.step()"
   ],
   "metadata": {
    "collapsed": false,
    "ExecuteTime": {
     "start_time": "2023-04-23T11:28:58.569667Z",
     "end_time": "2023-04-23T11:28:58.570665Z"
    }
   }
  },
  {
   "cell_type": "markdown",
   "source": [
    "## Metrics"
   ],
   "metadata": {
    "collapsed": false
   }
  },
  {
   "cell_type": "code",
   "execution_count": 30,
   "outputs": [],
   "source": [
    "\n",
    "\n",
    "def fbeta_numpy(targets, preds, beta=0.5, smooth=1e-6):\n",
    "    \"\"\"\n",
    "    https://www.kaggle.com/competitions/vesuvius-challenge-ink-detection/discussion/397288\n",
    "    \"\"\"\n",
    "    y_true_count = targets.sum()\n",
    "    ctp = preds[targets == 1].sum()\n",
    "    cfp = preds[targets == 0].sum()\n",
    "    beta_squared = beta * beta\n",
    "\n",
    "    c_precision = ctp / (ctp + cfp + smooth)\n",
    "    c_recall = ctp / (y_true_count + smooth)\n",
    "    dice = (1 + beta_squared) * (c_precision * c_recall) / (beta_squared * c_precision + c_recall + smooth)\n",
    "\n",
    "    return dice\n",
    "\n",
    "\n",
    "def calc_fbeta(label_gt, label_pred):\n",
    "    assert label_gt.shape == label_pred.shape, f'mask.shape:{label_gt.shape} != mask_pred.shape:{label_pred.shape}'\n",
    "    label_gt = label_gt.astype(int).flatten()\n",
    "    label_pred = label_pred.flatten()\n",
    "\n",
    "    best_th = 0\n",
    "    best_dice = 0\n",
    "    # for th in np.array(range(10, 50 + 1, 5)) / 100:\n",
    "    for th in np.linspace(10, 96, 10) / 100:\n",
    "        # dice = fbeta_score(mask, (mask_pred >= th).astype(int), beta=0.5)\n",
    "        # print(label_pred.max())\n",
    "        dice = fbeta_numpy(label_gt, (label_pred >= th).astype(int), beta=0.5)\n",
    "        Logger.info(f'th: {th}, fbeta: {dice}')\n",
    "\n",
    "        if dice > best_dice:\n",
    "            best_dice = dice\n",
    "            best_th = th\n",
    "\n",
    "    Logger.info(f'best_th: {best_th}, fbeta: {best_dice}')\n",
    "    return best_dice, best_th\n",
    "\n",
    "\n",
    "def calc_cv(mask_gt, mask_pred):\n",
    "    best_dice, best_th = calc_fbeta(mask_gt, mask_pred)\n",
    "\n",
    "    return best_dice, best_th"
   ],
   "metadata": {
    "collapsed": false,
    "ExecuteTime": {
     "start_time": "2023-04-23T11:28:58.570665Z",
     "end_time": "2023-04-23T11:28:58.570665Z"
    }
   }
  },
  {
   "cell_type": "markdown",
   "source": [
    "## Loss"
   ],
   "metadata": {
    "collapsed": false
   }
  },
  {
   "cell_type": "code",
   "execution_count": 30,
   "outputs": [],
   "source": [],
   "metadata": {
    "collapsed": false,
    "ExecuteTime": {
     "start_time": "2023-04-23T11:28:58.570665Z",
     "end_time": "2023-04-23T11:28:58.571666Z"
    }
   }
  },
  {
   "cell_type": "code",
   "execution_count": 31,
   "outputs": [],
   "source": [
    "DiceLoss = smp.losses.DiceLoss(mode='binary')\n",
    "BCELoss = smp.losses.SoftBCEWithLogitsLoss()\n",
    "\n",
    "alpha = 0.5\n",
    "beta = 1 - alpha\n",
    "TverskyLoss = smp.losses.TverskyLoss(\n",
    "    mode='binary', log_loss=False, alpha=alpha, beta=beta)\n",
    "\n",
    "\n",
    "def criterion(y_pred, y_true):\n",
    "    # return 0.5 * BCELoss(y_pred, y_true) + 0.5 * DiceLoss(y_pred, y_true)\n",
    "    return BCELoss(y_pred, y_true)\n",
    "    # return 0.5 * BCELoss(y_pred, y_true) + 0.5 * TverskyLoss(y_pred, y_true)"
   ],
   "metadata": {
    "collapsed": false,
    "ExecuteTime": {
     "start_time": "2023-04-23T11:28:58.571666Z",
     "end_time": "2023-04-23T11:28:58.571666Z"
    }
   }
  },
  {
   "cell_type": "markdown",
   "id": "18f287b7",
   "metadata": {
    "papermill": {
     "duration": 0.005237,
     "end_time": "2023-04-04T06:17:37.803520",
     "exception": false,
     "start_time": "2023-04-04T06:17:37.798283",
     "status": "completed"
    },
    "tags": []
   },
   "source": [
    "## train and valid"
   ]
  },
  {
   "cell_type": "code",
   "execution_count": 32,
   "outputs": [],
   "source": [
    "from torch.cuda.amp import autocast, GradScaler\n",
    "\n",
    "\n",
    "def train_fn(train_loader, model, criterion, optimizer, device):\n",
    "    model.train()\n",
    "\n",
    "    scaler = GradScaler(enabled=CONFIG[\"use_amp\"])\n",
    "    losses = AverageMeter()\n",
    "\n",
    "    with tqdm(enumerate(train_loader), total=len(train_loader)) as pbar:\n",
    "        for step, data in pbar:\n",
    "            images, masks, labels, positions = data\n",
    "\n",
    "            images = images.to(device)\n",
    "            labels = labels.to(device)\n",
    "            batch_size = labels.size(0)\n",
    "\n",
    "            with autocast(CONFIG[\"use_amp\"]):\n",
    "                y_preds = model(images).squeeze()\n",
    "                labels = labels.squeeze()\n",
    "\n",
    "                loss = criterion(y_preds, labels)\n",
    "\n",
    "            losses.update(loss.item(), batch_size)\n",
    "            scaler.scale(loss).backward()\n",
    "\n",
    "            grad_norm = torch.nn.utils.clip_grad_norm_(\n",
    "                model.parameters(), CONFIG[\"max_grad_norm\"])\n",
    "\n",
    "            scaler.step(optimizer)\n",
    "            scaler.update()\n",
    "            optimizer.zero_grad()\n",
    "\n",
    "    return losses.avg\n",
    "\n",
    "\n",
    "def valid_fn(valid_loader, model, criterion, device, valid_mask_gt):\n",
    "    label_pred = np.zeros(valid_mask_gt.shape)\n",
    "    label_count = np.zeros(valid_mask_gt.shape)\n",
    "\n",
    "    model.eval()\n",
    "    losses = AverageMeter(mode='valid')\n",
    "\n",
    "    with tqdm(enumerate(valid_loader), total=len(valid_loader)) as pbar:\n",
    "        for step, (images, masks, labels, positions) in pbar:\n",
    "\n",
    "            images = images.to(device)\n",
    "            labels = labels.to(device)\n",
    "            batch_size = labels.size(0)\n",
    "\n",
    "            with torch.no_grad():\n",
    "                y_preds = model(images).squeeze()\n",
    "                labels = labels.squeeze()\n",
    "                loss = criterion(y_preds, labels)\n",
    "            losses.update(loss.item(), batch_size)\n",
    "\n",
    "            # make whole mask\n",
    "            y_preds = torch.sigmoid(y_preds).to('cpu').numpy()\n",
    "            # start_idx = step*CONFIG[\"valid_batch_size\"]             # end_idx = start_idx + batch_size\n",
    "            # print(positions)\n",
    "            for i, (x1, y1, x2, y2) in enumerate(zip(*positions)):\n",
    "                label_pred[y1:y2, x1:x2] += y_preds[i]\n",
    "                label_count[y1:y2, x1:x2] += np.ones((y2 - y1, x2 - x1))\n",
    "\n",
    "    Logger.info(f'mask_count_min: {label_count.min()}')\n",
    "    label_pred /= label_count + 1e-8\n",
    "    return losses.avg, label_pred\n",
    "\n",
    "def test_fn(test_loader, model, device,mask_gt):\n",
    "    model.eval()\n",
    "    label_pred = np.zeros(mask_gt.shape)\n",
    "    label_count = np.zeros(mask_gt.shape)\n",
    "    with tqdm(enumerate(test_loader), total=len(test_loader)) as pbar:\n",
    "        for step, (images, masks, labels, positions) in pbar:\n",
    "\n",
    "            images = images.to(device)\n",
    "            labels = labels.to(device)\n",
    "            batch_size = labels.size(0)\n",
    "\n",
    "            with torch.no_grad():\n",
    "                y_preds = model(images).squeeze()\n",
    "\n",
    "            # make whole mask\n",
    "            y_preds = torch.sigmoid(y_preds).to('cpu').numpy()\n",
    "            # start_idx = step*CONFIG[\"valid_batch_size\"]             # end_idx = start_idx + batch_size\n",
    "            # print(positions)\n",
    "            for i, (x1, y1, x2, y2) in enumerate(zip(*positions)):\n",
    "                label_pred[y1:y2, x1:x2] += y_preds[i]\n",
    "                label_count[y1:y2, x1:x2] += np.ones((y2 - y1, x2 - x1))\n",
    "    label_pred /= label_count + 1e-8\n",
    "    return label_pred\n"
   ],
   "metadata": {
    "collapsed": false,
    "ExecuteTime": {
     "start_time": "2023-04-23T11:28:58.571666Z",
     "end_time": "2023-04-23T11:28:58.571666Z"
    }
   }
  },
  {
   "cell_type": "code",
   "execution_count": 33,
   "outputs": [],
   "source": [
    "import shutil\n",
    "\n",
    "\n",
    "# TODO\n",
    "class EarlyStopping:\n",
    "    def __init__(self, patience=7, verbose=False, delta=0):\n",
    "        self.patience = patience\n",
    "        self.verbose = verbose\n",
    "        self.counter = 0\n",
    "        self.best_score = None\n",
    "        self.early_stop = False\n",
    "        self.val_loss_min = np.Inf\n",
    "        self.delta = delta\n",
    "\n",
    "    def __call__(self, val_loss, model):\n",
    "\n",
    "        score = -val_loss\n",
    "\n",
    "        if self.best_score is None:\n",
    "\n",
    "            self.save_checkpoint(val_loss, model)\n",
    "        elif score < self.best_score + self.delta:\n",
    "            self.counter += 1\n",
    "            Logger.info(f\"EarlyStopping counter: {self.counter} out of {self.patience}\")\n",
    "            if self.counter >= self.patience:\n",
    "                self.early_stop = True\n",
    "        else:\n",
    "\n",
    "            self.save_checkpoint(val_loss, model)\n",
    "            self.counter = 0\n",
    "\n",
    "    def save_checkpoint(self, val_loss, model):\n",
    "        \"\"\"Saves model when validation loss decrease.\"\"\"\n",
    "\n",
    "        self.best_score = score\n",
    "        if self.verbose:\n",
    "            Logger.info(\n",
    "                f\"Validation loss decreased ({self.val_loss_min:.6f} --> {val_loss:.6f}).  Saving model ...\"\n",
    "            )\n",
    "\n",
    "        self.val_loss_min = val_loss\n",
    "\n",
    "        save_path = get_saved_model_path(cfg)\n",
    "        if os.path.exists(save_path):\n",
    "            shutil.move(save_path, save_path.replace('.pt', '-bkp.pt'))\n",
    "\n",
    "        torch.save(\n",
    "            {\"model\": model.state_dict(),\n",
    "             \"best_loss\": -score,\n",
    "             \"th\": model.th\n",
    "             }\n",
    "            , save_path)\n",
    "        self.val_loss_min = val_loss"
   ],
   "metadata": {
    "collapsed": false,
    "ExecuteTime": {
     "start_time": "2023-04-23T11:28:58.572666Z",
     "end_time": "2023-04-23T11:28:58.572666Z"
    }
   }
  },
  {
   "cell_type": "code",
   "execution_count": 34,
   "id": "3afecb7b",
   "metadata": {
    "execution": {
     "iopub.execute_input": "2023-04-04T06:17:37.815765Z",
     "iopub.status.busy": "2023-04-04T06:17:37.815446Z",
     "iopub.status.idle": "2023-04-04T06:30:31.217587Z",
     "shell.execute_reply": "2023-04-04T06:30:31.216518Z"
    },
    "papermill": {
     "duration": 773.411149,
     "end_time": "2023-04-04T06:30:31.220188",
     "exception": false,
     "start_time": "2023-04-04T06:17:37.809039",
     "status": "completed"
    },
    "tags": [],
    "ExecuteTime": {
     "start_time": "2023-04-23T11:28:58.578665Z",
     "end_time": "2023-04-23T11:28:58.578665Z"
    }
   },
   "outputs": [],
   "source": [
    "pass\n",
    "# results = []\n",
    "# for fragment_id in fragment_ids:\n",
    "\n",
    "# def test(fragment_id):\n",
    "#     model= build_ensemble_model()\n",
    "#     test_loader = make_dataset(fragment_id, dataset_mode='test')\n",
    "#\n",
    "#     # binary_mask = cv2.imread(str(cfg['comp_dataset_path'] / f\"{mode}/{fragment_id}/mask.png\"), 0)\n",
    "#     binary_mask = test_loader.dataset.imgLoader.load_from_path(test_loader.dataset.masks[0])\n",
    "#     binary_mask = (binary_mask / 255).astype(int)\n",
    "#\n",
    "#     ori_h = binary_mask.shape[0]\n",
    "#     ori_w = binary_mask.shape[1]\n",
    "#     # mask = mask / 255\n",
    "#\n",
    "#     pad0 = (cfg['tile_size'] - binary_mask.shape[0] % cfg['tile_size'])\n",
    "#     pad1 = (cfg['tile_size'] - binary_mask.shape[1] % cfg['tile_size'])\n",
    "#\n",
    "#     Logger.info(\"trunk test\")\n",
    "#     binary_mask = np.pad(binary_mask, [(0, pad0), (0, pad1)], constant_values=0)\n",
    "#\n",
    "#     mask_pred = np.zeros(binary_mask.shape)\n",
    "#     mask_count = np.zeros(binary_mask.shape)\n",
    "#     with tqdm(enumerate(test_loader), total=len(test_loader)) as pbar:\n",
    "#         for step, (image,mask,label,pos) in pbar:\n",
    "#             # for step, (images) in tqdm(enumerate(test_loader)):\n",
    "#             # MEMO The image wil be a list in size of batch size\n",
    "#             images = images.to(device)\n",
    "#             batch_size = images.size(0)\n",
    "#\n",
    "#             with torch.no_grad():\n",
    "#                 y_preds = model(images)\n",
    "#\n",
    "#             # start_idx = step * cfg['batch_size']\n",
    "#             # end_idx = start_idx + batch_size\n",
    "#             for (x1, y1, x2, y2), y_pred in zip(pos, y_preds):\n",
    "#                 mask_pred[y1:y2, x1:x2] += y_pred.squeeze(0)\n",
    "#                 mask_count[y1:y2, x1:x2] += np.ones((cfg['tile_size'], cfg['tile_size']))\n",
    "#             # for i, (x1, y1, x2, y2) in enumerate(xyxys[start_idx:end_idx]):\n",
    "#             #     mask_pred[y1:y2, x1:x2] += y_preds[i].squeeze(0)\n",
    "#             #     mask_count[y1:y2, x1:x2] += np.ones((cfg['tile_size'], cfg['tile_size']))\n",
    "#\n",
    "#     if is_test:\n",
    "#         plt.imshow(mask_count)\n",
    "#         plt.show()\n",
    "#\n",
    "#     Logger.info(f'mask_count_min: {mask_count.min()}')\n",
    "#     mask_pred /= mask_count\n",
    "#\n",
    "#     mask_pred = mask_pred[:ori_h, :ori_w]\n",
    "#     binary_mask = binary_mask[:ori_h, :ori_w]\n",
    "#\n",
    "#     mask_pred = (mask_pred >= TH).astype(int)\n",
    "#     mask_pred *= binary_mask\n",
    "#\n",
    "#     inklabels_rle = rle(mask_pred)\n",
    "#\n",
    "#     results.append((fragment_id, inklabels_rle))\n",
    "#     label_true = cv2.imread(str(cfg['comp_dataset_path'] / f\"{mode}/{fragment_id}/inklabels.png\"), 0)\n",
    "#\n",
    "#     fig, ax = plt.subplots(1, 2, figsize=(20, 20))\n",
    "#     ax[0].imshow(mask_pred)\n",
    "#     ax[0].title.set_text('pred')\n",
    "#     ax[1].imshow(label_true)\n",
    "#     ax[1].title.set_text('true')\n",
    "#     F05 = score(mask_pred, label_true)\n",
    "#     Logger.info('score', F05)\n",
    "#     # plt.show()\n",
    "#     # wandb.run.summary(f\"score_{fragment_id}\", F05)\n",
    "#     wandb.log({\"test_score\": F05})\n",
    "#     wandb.log({\"test_img\": [wandb.Image(fig, caption=f\"score_{fragment_id}\")]})\n",
    "#\n",
    "#     del mask_pred, mask_count\n",
    "#     del test_loader\n",
    "#\n",
    "#     gc.collect()\n",
    "#     torch.cuda.empty_cache()\n"
   ]
  },
  {
   "cell_type": "code",
   "execution_count": 35,
   "outputs": [],
   "source": [
    "# if is_test:\n",
    "#     Logger.info(y_preds[0].shape)\n",
    "#     str(CONFIG[\"comp_dataset_path\"] / f\"{mode}/{fragment_id}/inklabel.png\")\n",
    "pass"
   ],
   "metadata": {
    "collapsed": false,
    "ExecuteTime": {
     "start_time": "2023-04-23T11:28:58.685554Z",
     "end_time": "2023-04-23T11:28:58.685554Z"
    }
   }
  },
  {
   "cell_type": "code",
   "execution_count": 35,
   "outputs": [],
   "source": [],
   "metadata": {
    "collapsed": false,
    "ExecuteTime": {
     "start_time": "2023-04-23T11:28:58.685554Z",
     "end_time": "2023-04-23T11:28:58.685554Z"
    }
   }
  },
  {
   "cell_type": "code",
   "execution_count": 36,
   "outputs": [
    {
     "name": "stderr",
     "output_type": "stream",
     "text": [
      "2023-04-23 11:28:58\n"
     ]
    }
   ],
   "source": [
    "# CFG = CONFIG\n",
    "# wandb.log({\"test_score\": F05})\n",
    "# wandb.log({\"test_img\": [wandb.Image(fig, caption=f\"score_{fragment_id}\")]})\n",
    "\n",
    "Logger.info(datetime.datetime.now().strftime('%Y-%m-%d %H:%M:%S'))"
   ],
   "metadata": {
    "collapsed": false,
    "ExecuteTime": {
     "start_time": "2023-04-23T11:28:58.686554Z",
     "end_time": "2023-04-23T11:28:58.686554Z"
    }
   }
  },
  {
   "cell_type": "markdown",
   "source": [
    "## Main"
   ],
   "metadata": {
    "collapsed": false
   }
  },
  {
   "cell_type": "code",
   "execution_count": 37,
   "outputs": [],
   "source": [
    "# if is_test:\n",
    "# import cProfile\n",
    "# from time import sleep\n",
    "# def bench():\n",
    "#     train_loader = make_dataset([1, 2], dataset_mode='train')\n",
    "#     train_dataset = train_loader.dataset\n",
    "#     sample = next(iter(train_dataset))\n",
    "#     with tqdm(enumerate(train_dataset), total=len(train_dataset)) as pbar:\n",
    "#         for step, data in pbar:\n",
    "#             for i in range(3):\n",
    "#\n",
    "#                 assert sample[i].shape == data[i].shape, f\"in step {step} \" \\\n",
    "#                                                          f\"sample[{i}].shape: {sample[i].shape} != data[{i}].shape: {data[i].shape}\"\n",
    "#\n",
    "# cProfile.run('bench()', sort='cumtime')\n"
   ],
   "metadata": {
    "collapsed": false,
    "ExecuteTime": {
     "start_time": "2023-04-23T11:28:58.686554Z",
     "end_time": "2023-04-23T11:28:58.686554Z"
    }
   }
  },
  {
   "cell_type": "code",
   "execution_count": 38,
   "outputs": [],
   "source": [
    "\n",
    "\n",
    "# foldset = []\n",
    "# foldset.append({\n",
    "#     'train': [1, 2],\n",
    "#     'valid': [3]\n",
    "# })\n",
    "# foldset.append({\n",
    "#     'train': [1, 3],\n",
    "#     'valid': [2]\n",
    "# })\n",
    "# foldset.append({\n",
    "#     'train': [2, 3],\n",
    "#     'valid': [1]\n",
    "# })\n",
    "# # fold = cfg['valid_id']\n",
    "# if cfg['metric_direction'] == 'minimize':\n",
    "#     best_score = np.inf\n",
    "# elif cfg['metric_direction'] == 'maximize':\n",
    "#     best_score = -1\n",
    "# else:\n",
    "#     best_score = 0\n",
    "#\n",
    "# best_lo"
   ],
   "metadata": {
    "collapsed": false,
    "ExecuteTime": {
     "start_time": "2023-04-23T11:28:58.687554Z",
     "end_time": "2023-04-23T11:28:58.687554Z"
    }
   }
  },
  {
   "cell_type": "code",
   "execution_count": 39,
   "outputs": [],
   "source": [
    "pass\n",
    "# for fold in foldset:\n",
    "#     train_loader = make_dataset([1, 2], dataset_mode='train')\n",
    "#     valid_loader = make_dataset([3], dataset_mode='valid')\n",
    "#     valid_mask_gt = valid_loader.dataset.get_gt(0)\n",
    "#\n",
    "#     if valid_mask_gt.max() > 1:\n",
    "#         Logger.info(f'valid_mask_gt.shape: {valid_mask_gt.shape} \\n'\n",
    "#                     f'valid_mask_gt.max: {valid_mask_gt.max()} \\n')\n",
    "#         valid_mask_gt = valid_mask_gt / 255\n",
    "#\n",
    "#     pad0 = (CONFIG[\"tile_size\"] - valid_mask_gt.shape[0] % CONFIG[\"tile_size\"])\n",
    "#     pad1 = (CONFIG[\"tile_size\"] - valid_mask_gt.shape[1] % CONFIG[\"tile_size\"])\n",
    "#     valid_mask_gt = np.pad(valid_mask_gt, [(0, pad0), (0, pad1)], constant_values=0)\n",
    "#\n",
    "#     model = build_model(cfg)\n",
    "#     model.to(device)\n",
    "#\n",
    "#     optimizer = AdamW(model.parameters(), lr=CONFIG[\"lr\"])\n",
    "#     scheduler = get_scheduler(CONFIG, optimizer)\n",
    "#\n",
    "#     for epoch in range(CONFIG[\"epochs\"]):\n",
    "#\n",
    "#         start_time = time.time()\n",
    "#\n",
    "#         # train\n",
    "#         avg_loss = train_fn(train_loader, model, criterion, optimizer, device)\n",
    "#\n",
    "#         # eval\n",
    "#         avg_val_loss, mask_pred = valid_fn(\n",
    "#             valid_loader, model, criterion, device, valid_mask_gt)\n",
    "#\n",
    "#         scheduler_step(scheduler, avg_val_loss, epoch)\n",
    "#\n",
    "#         best_dice, best_th = calc_cv(valid_mask_gt, mask_pred)\n",
    "#\n",
    "#         # score = avg_val_loss\n",
    "#         score = best_dice\n",
    "#\n",
    "#         elapsed = time.time() - start_time\n",
    "#\n",
    "#         Logger.info(\n",
    "#             f'Epoch {epoch + 1} - avg_train_loss: {avg_loss:.4f}  avg_val_loss: {avg_val_loss:.4f}  time: {elapsed:.0f}s')\n",
    "#         # Logger.info(f'Epoch {epoch+1} - avgScore: {avg_score:.4f}')\n",
    "#         Logger.info(\n",
    "#             f'Epoch {epoch + 1} - avgScore: {score:.4f}')\n",
    "#\n",
    "#         if CONFIG[\"metric_direction\"] == 'minimize':\n",
    "#             update_best = score < best_score\n",
    "#         elif CONFIG[\"metric_direction\"] == 'maximize':\n",
    "#             update_best = score > best_score\n",
    "#\n",
    "#         if update_best:\n",
    "#             best_loss = avg_val_loss\n",
    "#             best_score = score\n",
    "#\n",
    "#             Logger.info(\n",
    "#                 f'Epoch {epoch + 1} - Save Best Score: {best_score:.4f} Model')\n",
    "#             Logger.info(\n",
    "#                 f'Epoch {epoch + 1} - Save Best Loss: {best_loss:.4f} Model')\n",
    "#\n",
    "#             torch.save({'model': model.state_dict(),\n",
    "#                         'preds': mask_pred},\n",
    "#                        CONFIG[\"model_dir\"] + f'{CONFIG[\"model_name\"]}_fold{fold}_best.pth')"
   ],
   "metadata": {
    "collapsed": false,
    "ExecuteTime": {
     "start_time": "2023-04-23T11:28:58.687554Z",
     "end_time": "2023-04-23T11:28:58.687554Z"
    }
   }
  },
  {
   "cell_type": "code",
   "execution_count": 40,
   "outputs": [],
   "source": [
    "# import numpy as np\n",
    "# import time\n",
    "# from torch.optim import AdamW\n",
    "\n",
    "\n",
    "def create_foldset():\n",
    "    foldset = []\n",
    "    foldset.append({\n",
    "        'train': [1, 2],\n",
    "        'valid': [3]\n",
    "    })\n",
    "    foldset.append({\n",
    "        'train': [1, 3],\n",
    "        'valid': [2]\n",
    "    })\n",
    "    foldset.append({\n",
    "        'train': [2, 3],\n",
    "        'valid': [1]\n",
    "    })\n",
    "    return foldset\n",
    "\n",
    "\n",
    "def get_best_score(metric_direction):\n",
    "    if metric_direction == 'minimize':\n",
    "        return np.inf\n",
    "    elif metric_direction == 'maximize':\n",
    "        return -1\n",
    "    else:\n",
    "        return 0\n",
    "\n",
    "\n",
    "def preprocess_valid_mask_gt(valid_mask_gt, tile_size):\n",
    "    if valid_mask_gt.max() > 1:\n",
    "        Logger.info(f'valid_mask_gt.shape: {valid_mask_gt.shape} \\n'\n",
    "                    f'valid_mask_gt.max: {valid_mask_gt.max()} \\n')\n",
    "        valid_mask_gt = valid_mask_gt / 255\n",
    "\n",
    "    pad0 = (tile_size - valid_mask_gt.shape[0] % tile_size)\n",
    "    pad1 = (tile_size - valid_mask_gt.shape[1] % tile_size)\n",
    "    valid_mask_gt = np.pad(valid_mask_gt, [(0, pad0), (0, pad1)], constant_values=0)\n",
    "\n",
    "    return valid_mask_gt\n",
    "\n",
    "\n",
    "def should_update_best_score(metric_direction, score, best_score):\n",
    "    if metric_direction == 'minimize':\n",
    "        return score < best_score\n",
    "    elif metric_direction == 'maximize':\n",
    "        return score > best_score\n"
   ],
   "metadata": {
    "collapsed": false,
    "ExecuteTime": {
     "start_time": "2023-04-23T11:28:58.688554Z",
     "end_time": "2023-04-23T11:28:58.688554Z"
    }
   }
  },
  {
   "cell_type": "code",
   "execution_count": 41,
   "outputs": [],
   "source": [
    "# fold_configs = create_foldset()\n",
    "#\n",
    "# best_score = -1 if CONFIG[\"metric_direction\"] == 'maximize' else np.inf\n",
    "# best_loss = np.inf\n",
    "#\n",
    "# # CONFIG[\"epochs\"] = 4\n",
    "# model = build_model(cfg,fold=fold_configs[0][\"valid\"][0])"
   ],
   "metadata": {
    "collapsed": false,
    "ExecuteTime": {
     "start_time": "2023-04-23T11:28:58.706556Z",
     "end_time": "2023-04-23T11:28:58.706556Z"
    }
   }
  },
  {
   "cell_type": "code",
   "execution_count": 42,
   "outputs": [
    {
     "name": "stderr",
     "output_type": "stream",
     "text": [
      "{'HOST': 'Vincit', 'LOG_DIR': WindowsPath('D:/Codes/python/kaggle/Vesuvius/dev/../saved/logs'), 'Note_book': 'Unet++_2.5d_Unimodel', 'PATIENCE': 8, 'backbone': 'se_resnext50_32x4d', 'batch_size': 16, 'cache_dir': WindowsPath('D:/Codes/python/kaggle/Vesuvius/dev/../saved/cache'), 'comp_dataset_path': WindowsPath('D:/Codes/python/kaggle/Vesuvius/dev/../data/raw'), 'comp_name': 'vesuvius', 'data_dir': WindowsPath('D:/Codes/python/kaggle/Vesuvius/dev/../data/raw'), 'epochs': 20, 'exp_name': 'Unet++_2.5d_Unimodel', 'in_channels': 6, 'inf_weight': 'best', 'lr': 1.0000000000000002e-06, 'max_grad_norm': 1000, 'metric_direction': 'maximize', 'min_lr': 1e-06, 'model_dir': WindowsPath('D:/Codes/python/kaggle/Vesuvius/dev/../saved/checkpoints'), 'model_name': 'Unet++', 'num_workers': 2, 'objective_cv': 'binary', 'pretrained': True, 'print_freq': 50, 'resume': True, 'run_id': 'Unet++_2.5d_Unimodel_20230423_112846', 'scheduler': 'GradualWarmupSchedulerV2', 'seed': 3407, 'size': 224, 'stride': 56, 'target_size': 1, 'tile_size': 224, 'use_amp': True, 'valid_id': 2, 'warmup_factor': 10, 'weight_decay': 1e-06}\n",
      "model_name: Unet++\n",
      "backbone: se_resnext50_32x4d\n",
      "load model from: D:\\Codes\\python\\kaggle\\Vesuvius\\dev\\..\\saved\\checkpointsUnet++_best.pth\n",
      "fold_config: {'train': [1, 2], 'valid': [3]}\n",
      "valid_mask_gt.shape: (7606, 5249) \n",
      "valid_mask_gt.max: 255 \n",
      "\n"
     ]
    },
    {
     "data": {
      "text/plain": "  0%|          | 0/3734 [00:00<?, ?it/s]",
      "application/vnd.jupyter.widget-view+json": {
       "version_major": 2,
       "version_minor": 0,
       "model_id": "ff3d57c1b2f64dafb6628649f414e337"
      }
     },
     "metadata": {},
     "output_type": "display_data"
    },
    {
     "data": {
      "text/plain": "  0%|          | 0/757 [00:00<?, ?it/s]",
      "application/vnd.jupyter.widget-view+json": {
       "version_major": 2,
       "version_minor": 0,
       "model_id": "8d136b10780046fe9840a8840c4838f2"
      }
     },
     "metadata": {},
     "output_type": "display_data"
    },
    {
     "name": "stderr",
     "output_type": "stream",
     "text": [
      "mask_count_min: 0.0\n",
      "th: 0.1, fbeta: 0.12527691930600307\n",
      "th: 0.19555555555555557, fbeta: 0.14347167798473834\n",
      "th: 0.2911111111111111, fbeta: 0.14727052030283486\n",
      "th: 0.38666666666666666, fbeta: 0.15104070347940743\n",
      "th: 0.4822222222222222, fbeta: 0.1540732747072748\n",
      "th: 0.5777777777777778, fbeta: 0.1570682723688013\n",
      "th: 0.6733333333333333, fbeta: 0.16023889046154458\n",
      "th: 0.7688888888888888, fbeta: 0.16389314572997488\n",
      "th: 0.8644444444444445, fbeta: 0.16851940088899722\n",
      "th: 0.96, fbeta: 0.18199962078438112\n",
      "best_th: 0.96, fbeta: 0.18199962078438112\n",
      "Validation loss decreased (inf --> 0.182000).  Saving model ...\n",
      "Epoch 1 - avg_train_loss: -144.0691  avg_val_loss: -313.5623  time: 795s\n",
      "Epoch 1 - avgScore: 0.1820\n",
      "fold_config: {'train': [1, 3], 'valid': [2]}\n",
      "valid_mask_gt.shape: (14830, 9506) \n",
      "valid_mask_gt.max: 255 \n",
      "\n"
     ]
    },
    {
     "data": {
      "text/plain": "  0%|          | 0/1756 [00:00<?, ?it/s]",
      "application/vnd.jupyter.widget-view+json": {
       "version_major": 2,
       "version_minor": 0,
       "model_id": "98404c2cbf5e43e7a0601c5cc2060ac1"
      }
     },
     "metadata": {},
     "output_type": "display_data"
    },
    {
     "data": {
      "text/plain": "  0%|          | 0/2735 [00:00<?, ?it/s]",
      "application/vnd.jupyter.widget-view+json": {
       "version_major": 2,
       "version_minor": 0,
       "model_id": "faa35312138544d7b697fef4e3f0669c"
      }
     },
     "metadata": {},
     "output_type": "display_data"
    },
    {
     "name": "stderr",
     "output_type": "stream",
     "text": [
      "mask_count_min: 0.0\n",
      "th: 0.1, fbeta: 0.19823577772655457\n",
      "th: 0.19555555555555557, fbeta: 0.20989771184192232\n",
      "th: 0.2911111111111111, fbeta: 0.21606150657987389\n",
      "th: 0.38666666666666666, fbeta: 0.2208332190223897\n",
      "th: 0.4822222222222222, fbeta: 0.22575463015681144\n",
      "th: 0.5777777777777778, fbeta: 0.2320300018512767\n",
      "th: 0.6733333333333333, fbeta: 0.24059799543407867\n",
      "th: 0.7688888888888888, fbeta: 0.25191475155185455\n",
      "th: 0.8644444444444445, fbeta: 0.2658433441140547\n",
      "th: 0.96, fbeta: 0.2857034951857613\n",
      "best_th: 0.96, fbeta: 0.2857034951857613\n",
      "EarlyStopping counter: 1 out of 8\n",
      "Epoch 1 - avg_train_loss: -119.0894  avg_val_loss: -236.8422  time: 642s\n",
      "Epoch 1 - avgScore: 0.2857\n",
      "fold_config: {'train': [2, 3], 'valid': [1]}\n",
      "valid_mask_gt.shape: (8181, 6330) \n",
      "valid_mask_gt.max: 255 \n",
      "\n"
     ]
    },
    {
     "data": {
      "text/plain": "  0%|          | 0/3492 [00:00<?, ?it/s]",
      "application/vnd.jupyter.widget-view+json": {
       "version_major": 2,
       "version_minor": 0,
       "model_id": "3dd7e6b686324b74b1aa440594e3b25b"
      }
     },
     "metadata": {},
     "output_type": "display_data"
    },
    {
     "data": {
      "text/plain": "  0%|          | 0/999 [00:00<?, ?it/s]",
      "application/vnd.jupyter.widget-view+json": {
       "version_major": 2,
       "version_minor": 0,
       "model_id": "13250a609b70445093079b7d373f3562"
      }
     },
     "metadata": {},
     "output_type": "display_data"
    },
    {
     "name": "stderr",
     "output_type": "stream",
     "text": [
      "mask_count_min: 0.0\n",
      "th: 0.1, fbeta: 0.16898715926634883\n",
      "th: 0.19555555555555557, fbeta: 0.20948694662503936\n",
      "th: 0.2911111111111111, fbeta: 0.21675792428755064\n",
      "th: 0.38666666666666666, fbeta: 0.22276065518396762\n",
      "th: 0.4822222222222222, fbeta: 0.22861378137113825\n",
      "th: 0.5777777777777778, fbeta: 0.23362380259262566\n",
      "th: 0.6733333333333333, fbeta: 0.2379030472042576\n",
      "th: 0.7688888888888888, fbeta: 0.24186769145800402\n",
      "th: 0.8644444444444445, fbeta: 0.24673986231628395\n",
      "th: 0.96, fbeta: 0.25579506537314034\n",
      "best_th: 0.96, fbeta: 0.25579506537314034\n",
      "EarlyStopping counter: 2 out of 8\n",
      "Epoch 1 - avg_train_loss: -141.5022  avg_val_loss: -374.1473  time: 768s\n",
      "Epoch 1 - avgScore: 0.2558\n",
      "fold_config: {'train': [1, 2], 'valid': [3]}\n",
      "valid_mask_gt.shape: (7606, 5249) \n",
      "valid_mask_gt.max: 255 \n",
      "\n"
     ]
    },
    {
     "data": {
      "text/plain": "  0%|          | 0/3734 [00:00<?, ?it/s]",
      "application/vnd.jupyter.widget-view+json": {
       "version_major": 2,
       "version_minor": 0,
       "model_id": "1b66c6a806994dc285df13782252e2b5"
      }
     },
     "metadata": {},
     "output_type": "display_data"
    },
    {
     "data": {
      "text/plain": "  0%|          | 0/757 [00:00<?, ?it/s]",
      "application/vnd.jupyter.widget-view+json": {
       "version_major": 2,
       "version_minor": 0,
       "model_id": "3ccf43673ee94a69a5a1a4b9abdadfd8"
      }
     },
     "metadata": {},
     "output_type": "display_data"
    },
    {
     "name": "stderr",
     "output_type": "stream",
     "text": [
      "mask_count_min: 0.0\n",
      "th: 0.1, fbeta: 0.13273308194924363\n",
      "th: 0.19555555555555557, fbeta: 0.14492416597605923\n",
      "th: 0.2911111111111111, fbeta: 0.14901333622262014\n",
      "th: 0.38666666666666666, fbeta: 0.15270342210059817\n",
      "th: 0.4822222222222222, fbeta: 0.15572951170172933\n",
      "th: 0.5777777777777778, fbeta: 0.15875657410171048\n",
      "th: 0.6733333333333333, fbeta: 0.1620463738509317\n",
      "th: 0.7688888888888888, fbeta: 0.16557264092181578\n",
      "th: 0.8644444444444445, fbeta: 0.17178073004853617\n",
      "th: 0.96, fbeta: 0.1877658801954154\n",
      "best_th: 0.96, fbeta: 0.1877658801954154\n",
      "EarlyStopping counter: 3 out of 8\n",
      "Epoch 2 - avg_train_loss: -150.9937  avg_val_loss: -291.0014  time: 786s\n",
      "Epoch 2 - avgScore: 0.1878\n",
      "fold_config: {'train': [1, 3], 'valid': [2]}\n",
      "valid_mask_gt.shape: (14830, 9506) \n",
      "valid_mask_gt.max: 255 \n",
      "\n"
     ]
    },
    {
     "data": {
      "text/plain": "  0%|          | 0/1756 [00:00<?, ?it/s]",
      "application/vnd.jupyter.widget-view+json": {
       "version_major": 2,
       "version_minor": 0,
       "model_id": "bd4286408db54fff880f228a3d3c5e75"
      }
     },
     "metadata": {},
     "output_type": "display_data"
    },
    {
     "data": {
      "text/plain": "  0%|          | 0/2735 [00:00<?, ?it/s]",
      "application/vnd.jupyter.widget-view+json": {
       "version_major": 2,
       "version_minor": 0,
       "model_id": "14499dc644da4158902d62b16be1f7c3"
      }
     },
     "metadata": {},
     "output_type": "display_data"
    },
    {
     "name": "stderr",
     "output_type": "stream",
     "text": [
      "mask_count_min: 0.0\n",
      "th: 0.1, fbeta: 0.1876348044116096\n",
      "th: 0.19555555555555557, fbeta: 0.2082809784993721\n",
      "th: 0.2911111111111111, fbeta: 0.2138531893082737\n",
      "th: 0.38666666666666666, fbeta: 0.2181067048206101\n",
      "th: 0.4822222222222222, fbeta: 0.22186288516763253\n",
      "th: 0.5777777777777778, fbeta: 0.22550731628541873\n",
      "th: 0.6733333333333333, fbeta: 0.2300057629128862\n",
      "th: 0.7688888888888888, fbeta: 0.23614504205596618\n",
      "th: 0.8644444444444445, fbeta: 0.24552264690743195\n",
      "th: 0.96, fbeta: 0.26252111764790553\n",
      "best_th: 0.96, fbeta: 0.26252111764790553\n",
      "EarlyStopping counter: 4 out of 8\n",
      "Epoch 2 - avg_train_loss: -123.3160  avg_val_loss: -457.7731  time: 641s\n",
      "Epoch 2 - avgScore: 0.2625\n",
      "fold_config: {'train': [2, 3], 'valid': [1]}\n",
      "valid_mask_gt.shape: (8181, 6330) \n",
      "valid_mask_gt.max: 255 \n",
      "\n"
     ]
    },
    {
     "data": {
      "text/plain": "  0%|          | 0/3492 [00:00<?, ?it/s]",
      "application/vnd.jupyter.widget-view+json": {
       "version_major": 2,
       "version_minor": 0,
       "model_id": "529138c1eed549f7953882788b0f4243"
      }
     },
     "metadata": {},
     "output_type": "display_data"
    },
    {
     "data": {
      "text/plain": "  0%|          | 0/999 [00:00<?, ?it/s]",
      "application/vnd.jupyter.widget-view+json": {
       "version_major": 2,
       "version_minor": 0,
       "model_id": "3942ad65239f45a7808f1776b1a2ff20"
      }
     },
     "metadata": {},
     "output_type": "display_data"
    },
    {
     "name": "stderr",
     "output_type": "stream",
     "text": [
      "mask_count_min: 0.0\n",
      "th: 0.1, fbeta: 0.17642969321488366\n",
      "th: 0.19555555555555557, fbeta: 0.21037087485243275\n",
      "th: 0.2911111111111111, fbeta: 0.2183313926114485\n",
      "th: 0.38666666666666666, fbeta: 0.22452205572765596\n",
      "th: 0.4822222222222222, fbeta: 0.23076248423567594\n",
      "th: 0.5777777777777778, fbeta: 0.23571043491173246\n",
      "th: 0.6733333333333333, fbeta: 0.24000309698069536\n",
      "th: 0.7688888888888888, fbeta: 0.24461085201443533\n",
      "th: 0.8644444444444445, fbeta: 0.2519709251435266\n",
      "th: 0.96, fbeta: 0.2695060057283472\n",
      "best_th: 0.96, fbeta: 0.2695060057283472\n",
      "EarlyStopping counter: 5 out of 8\n",
      "Epoch 2 - avg_train_loss: -146.3511  avg_val_loss: -368.6926  time: 769s\n",
      "Epoch 2 - avgScore: 0.2695\n",
      "fold_config: {'train': [1, 2], 'valid': [3]}\n",
      "valid_mask_gt.shape: (7606, 5249) \n",
      "valid_mask_gt.max: 255 \n",
      "\n"
     ]
    },
    {
     "data": {
      "text/plain": "  0%|          | 0/3734 [00:00<?, ?it/s]",
      "application/vnd.jupyter.widget-view+json": {
       "version_major": 2,
       "version_minor": 0,
       "model_id": "107562f021bf4565ba6fbcb99f598033"
      }
     },
     "metadata": {},
     "output_type": "display_data"
    },
    {
     "data": {
      "text/plain": "  0%|          | 0/757 [00:00<?, ?it/s]",
      "application/vnd.jupyter.widget-view+json": {
       "version_major": 2,
       "version_minor": 0,
       "model_id": "67329f237db04aff8a01b18e499e6118"
      }
     },
     "metadata": {},
     "output_type": "display_data"
    },
    {
     "name": "stderr",
     "output_type": "stream",
     "text": [
      "mask_count_min: 0.0\n",
      "th: 0.1, fbeta: 0.12921617365760057\n",
      "th: 0.19555555555555557, fbeta: 0.14607594322398937\n",
      "th: 0.2911111111111111, fbeta: 0.15025343541990974\n",
      "th: 0.38666666666666666, fbeta: 0.15344179605994349\n",
      "th: 0.4822222222222222, fbeta: 0.15600438969817332\n",
      "th: 0.5777777777777778, fbeta: 0.158637918490721\n",
      "th: 0.6733333333333333, fbeta: 0.16121158578617323\n",
      "th: 0.7688888888888888, fbeta: 0.1636067265737612\n",
      "th: 0.8644444444444445, fbeta: 0.16706416728707574\n",
      "th: 0.96, fbeta: 0.17630901962481269\n",
      "best_th: 0.96, fbeta: 0.17630901962481269\n",
      "EarlyStopping counter: 6 out of 8\n",
      "Epoch 3 - avg_train_loss: -156.3939  avg_val_loss: -386.5466  time: 787s\n",
      "Epoch 3 - avgScore: 0.1763\n",
      "fold_config: {'train': [1, 3], 'valid': [2]}\n",
      "valid_mask_gt.shape: (14830, 9506) \n",
      "valid_mask_gt.max: 255 \n",
      "\n"
     ]
    },
    {
     "data": {
      "text/plain": "  0%|          | 0/1756 [00:00<?, ?it/s]",
      "application/vnd.jupyter.widget-view+json": {
       "version_major": 2,
       "version_minor": 0,
       "model_id": "5c801a1c50034571b6fd4c2a19b44afe"
      }
     },
     "metadata": {},
     "output_type": "display_data"
    },
    {
     "data": {
      "text/plain": "  0%|          | 0/2735 [00:00<?, ?it/s]",
      "application/vnd.jupyter.widget-view+json": {
       "version_major": 2,
       "version_minor": 0,
       "model_id": "5b62c4b4c7964c9ea89368012a1a7530"
      }
     },
     "metadata": {},
     "output_type": "display_data"
    },
    {
     "name": "stderr",
     "output_type": "stream",
     "text": [
      "mask_count_min: 0.0\n",
      "th: 0.1, fbeta: 0.19645086930762012\n",
      "th: 0.19555555555555557, fbeta: 0.21012817368257392\n",
      "th: 0.2911111111111111, fbeta: 0.21620697186528715\n",
      "th: 0.38666666666666666, fbeta: 0.22068265766499032\n",
      "th: 0.4822222222222222, fbeta: 0.22480291545927314\n",
      "th: 0.5777777777777778, fbeta: 0.22961388687446768\n",
      "th: 0.6733333333333333, fbeta: 0.2363104549951796\n",
      "th: 0.7688888888888888, fbeta: 0.24496901845114777\n",
      "th: 0.8644444444444445, fbeta: 0.25521232355178053\n",
      "th: 0.96, fbeta: 0.27182684509687094\n",
      "best_th: 0.96, fbeta: 0.27182684509687094\n",
      "EarlyStopping counter: 7 out of 8\n",
      "Epoch 3 - avg_train_loss: -128.5899  avg_val_loss: -309.5302  time: 641s\n",
      "Epoch 3 - avgScore: 0.2718\n",
      "fold_config: {'train': [2, 3], 'valid': [1]}\n",
      "valid_mask_gt.shape: (8181, 6330) \n",
      "valid_mask_gt.max: 255 \n",
      "\n"
     ]
    },
    {
     "data": {
      "text/plain": "  0%|          | 0/3492 [00:00<?, ?it/s]",
      "application/vnd.jupyter.widget-view+json": {
       "version_major": 2,
       "version_minor": 0,
       "model_id": "3eeb1f26523d4de88ac7579ad246782f"
      }
     },
     "metadata": {},
     "output_type": "display_data"
    },
    {
     "data": {
      "text/plain": "  0%|          | 0/999 [00:00<?, ?it/s]",
      "application/vnd.jupyter.widget-view+json": {
       "version_major": 2,
       "version_minor": 0,
       "model_id": "32911bcd0f2f4a7d97fc3fd1b22cbbf1"
      }
     },
     "metadata": {},
     "output_type": "display_data"
    },
    {
     "name": "stderr",
     "output_type": "stream",
     "text": [
      "mask_count_min: 0.0\n",
      "th: 0.1, fbeta: 0.18694120835655506\n",
      "th: 0.19555555555555557, fbeta: 0.2112649489974059\n",
      "th: 0.2911111111111111, fbeta: 0.21872506023067892\n",
      "th: 0.38666666666666666, fbeta: 0.22420062268536928\n",
      "th: 0.4822222222222222, fbeta: 0.229548435906876\n",
      "th: 0.5777777777777778, fbeta: 0.23448354968204935\n",
      "th: 0.6733333333333333, fbeta: 0.23866590768862364\n",
      "th: 0.7688888888888888, fbeta: 0.2423520237358167\n",
      "th: 0.8644444444444445, fbeta: 0.24676258477980528\n",
      "th: 0.96, fbeta: 0.25247965280592183\n",
      "best_th: 0.96, fbeta: 0.25247965280592183\n",
      "EarlyStopping counter: 8 out of 8\n",
      "Epoch 3 - avg_train_loss: -152.9784  avg_val_loss: -265.6425  time: 771s\n",
      "Epoch 3 - avgScore: 0.2525\n",
      "Early stopping\n",
      "fold_config: {'train': [1, 2], 'valid': [3]}\n",
      "valid_mask_gt.shape: (7606, 5249) \n",
      "valid_mask_gt.max: 255 \n",
      "\n"
     ]
    },
    {
     "data": {
      "text/plain": "  0%|          | 0/3734 [00:00<?, ?it/s]",
      "application/vnd.jupyter.widget-view+json": {
       "version_major": 2,
       "version_minor": 0,
       "model_id": "0de3235c7e3247bdb3836ec8a133c5d2"
      }
     },
     "metadata": {},
     "output_type": "display_data"
    },
    {
     "data": {
      "text/plain": "  0%|          | 0/757 [00:00<?, ?it/s]",
      "application/vnd.jupyter.widget-view+json": {
       "version_major": 2,
       "version_minor": 0,
       "model_id": "e56caed5ae804813ab2867453eb072e9"
      }
     },
     "metadata": {},
     "output_type": "display_data"
    },
    {
     "name": "stderr",
     "output_type": "stream",
     "text": [
      "mask_count_min: 0.0\n",
      "th: 0.1, fbeta: 0.13161472786922007\n",
      "th: 0.19555555555555557, fbeta: 0.14487523594226415\n",
      "th: 0.2911111111111111, fbeta: 0.1496787706897184\n",
      "th: 0.38666666666666666, fbeta: 0.15324232026112103\n",
      "th: 0.4822222222222222, fbeta: 0.15616626225051083\n",
      "th: 0.5777777777777778, fbeta: 0.15897048285161486\n",
      "th: 0.6733333333333333, fbeta: 0.16208535050200448\n",
      "th: 0.7688888888888888, fbeta: 0.1653420181407505\n",
      "th: 0.8644444444444445, fbeta: 0.17087642491511465\n",
      "th: 0.96, fbeta: 0.18560809982011897\n",
      "best_th: 0.96, fbeta: 0.18560809982011897\n",
      "EarlyStopping counter: 9 out of 8\n",
      "Epoch 4 - avg_train_loss: -164.2188  avg_val_loss: -273.6455  time: 789s\n",
      "Epoch 4 - avgScore: 0.1856\n",
      "Early stopping\n",
      "fold_config: {'train': [1, 2], 'valid': [3]}\n",
      "valid_mask_gt.shape: (7606, 5249) \n",
      "valid_mask_gt.max: 255 \n",
      "\n"
     ]
    },
    {
     "data": {
      "text/plain": "  0%|          | 0/3734 [00:00<?, ?it/s]",
      "application/vnd.jupyter.widget-view+json": {
       "version_major": 2,
       "version_minor": 0,
       "model_id": "ed6875282a2f49fa844a3e0b610e0f6a"
      }
     },
     "metadata": {},
     "output_type": "display_data"
    },
    {
     "data": {
      "text/plain": "  0%|          | 0/757 [00:00<?, ?it/s]",
      "application/vnd.jupyter.widget-view+json": {
       "version_major": 2,
       "version_minor": 0,
       "model_id": "b990fb8bce8d4eb190518525a631800a"
      }
     },
     "metadata": {},
     "output_type": "display_data"
    },
    {
     "name": "stderr",
     "output_type": "stream",
     "text": [
      "mask_count_min: 0.0\n",
      "th: 0.1, fbeta: 0.1378114476969792\n",
      "th: 0.19555555555555557, fbeta: 0.14626643258077826\n",
      "th: 0.2911111111111111, fbeta: 0.15027089269916016\n",
      "th: 0.38666666666666666, fbeta: 0.15342053042849427\n",
      "th: 0.4822222222222222, fbeta: 0.15581080103147216\n",
      "th: 0.5777777777777778, fbeta: 0.15835777985249713\n",
      "th: 0.6733333333333333, fbeta: 0.1609984321004951\n",
      "th: 0.7688888888888888, fbeta: 0.16339428665700872\n",
      "th: 0.8644444444444445, fbeta: 0.16603666581512855\n",
      "th: 0.96, fbeta: 0.17276559982909584\n",
      "best_th: 0.96, fbeta: 0.17276559982909584\n",
      "EarlyStopping counter: 10 out of 8\n",
      "Epoch 5 - avg_train_loss: -166.7434  avg_val_loss: -367.1119  time: 790s\n",
      "Epoch 5 - avgScore: 0.1728\n",
      "Early stopping\n",
      "fold_config: {'train': [1, 2], 'valid': [3]}\n",
      "valid_mask_gt.shape: (7606, 5249) \n",
      "valid_mask_gt.max: 255 \n",
      "\n"
     ]
    },
    {
     "data": {
      "text/plain": "  0%|          | 0/3734 [00:00<?, ?it/s]",
      "application/vnd.jupyter.widget-view+json": {
       "version_major": 2,
       "version_minor": 0,
       "model_id": "4f205f27a1e342bb839146a9114e2276"
      }
     },
     "metadata": {},
     "output_type": "display_data"
    },
    {
     "data": {
      "text/plain": "  0%|          | 0/757 [00:00<?, ?it/s]",
      "application/vnd.jupyter.widget-view+json": {
       "version_major": 2,
       "version_minor": 0,
       "model_id": "b806f13ed2334413bb3dc2180e79dadf"
      }
     },
     "metadata": {},
     "output_type": "display_data"
    },
    {
     "name": "stderr",
     "output_type": "stream",
     "text": [
      "mask_count_min: 0.0\n",
      "th: 0.1, fbeta: 0.13657218369583138\n",
      "th: 0.19555555555555557, fbeta: 0.1454472545993275\n",
      "th: 0.2911111111111111, fbeta: 0.14959129085525416\n",
      "th: 0.38666666666666666, fbeta: 0.1529809478864286\n",
      "th: 0.4822222222222222, fbeta: 0.15548489467665078\n",
      "th: 0.5777777777777778, fbeta: 0.15808448241616554\n",
      "th: 0.6733333333333333, fbeta: 0.1607662825143349\n",
      "th: 0.7688888888888888, fbeta: 0.16330774759533676\n",
      "th: 0.8644444444444445, fbeta: 0.16600544178279614\n",
      "th: 0.96, fbeta: 0.17332057339009685\n",
      "best_th: 0.96, fbeta: 0.17332057339009685\n",
      "EarlyStopping counter: 11 out of 8\n",
      "Epoch 6 - avg_train_loss: -172.1419  avg_val_loss: -288.8358  time: 790s\n",
      "Epoch 6 - avgScore: 0.1733\n",
      "Early stopping\n",
      "fold_config: {'train': [1, 2], 'valid': [3]}\n",
      "valid_mask_gt.shape: (7606, 5249) \n",
      "valid_mask_gt.max: 255 \n",
      "\n"
     ]
    },
    {
     "data": {
      "text/plain": "  0%|          | 0/3734 [00:00<?, ?it/s]",
      "application/vnd.jupyter.widget-view+json": {
       "version_major": 2,
       "version_minor": 0,
       "model_id": "158fa7a55b1047619887815169271ca6"
      }
     },
     "metadata": {},
     "output_type": "display_data"
    },
    {
     "data": {
      "text/plain": "  0%|          | 0/757 [00:00<?, ?it/s]",
      "application/vnd.jupyter.widget-view+json": {
       "version_major": 2,
       "version_minor": 0,
       "model_id": "1d422d0253114c2c93f1e6002a9d5f5e"
      }
     },
     "metadata": {},
     "output_type": "display_data"
    },
    {
     "name": "stderr",
     "output_type": "stream",
     "text": [
      "mask_count_min: 0.0\n",
      "th: 0.1, fbeta: 0.13994927263622603\n",
      "th: 0.19555555555555557, fbeta: 0.14695102199593177\n",
      "th: 0.2911111111111111, fbeta: 0.15086433065649407\n",
      "th: 0.38666666666666666, fbeta: 0.1539401962973795\n",
      "th: 0.4822222222222222, fbeta: 0.15646618392621203\n",
      "th: 0.5777777777777778, fbeta: 0.15957351379598414\n",
      "th: 0.6733333333333333, fbeta: 0.16290952328419817\n",
      "th: 0.7688888888888888, fbeta: 0.16711282938189798\n",
      "th: 0.8644444444444445, fbeta: 0.17400947146248777\n",
      "th: 0.96, fbeta: 0.19069589870949374\n",
      "best_th: 0.96, fbeta: 0.19069589870949374\n",
      "EarlyStopping counter: 12 out of 8\n",
      "Epoch 7 - avg_train_loss: -176.0058  avg_val_loss: -249.7006  time: 790s\n",
      "Epoch 7 - avgScore: 0.1907\n",
      "Early stopping\n",
      "fold_config: {'train': [1, 2], 'valid': [3]}\n",
      "valid_mask_gt.shape: (7606, 5249) \n",
      "valid_mask_gt.max: 255 \n",
      "\n"
     ]
    },
    {
     "data": {
      "text/plain": "  0%|          | 0/3734 [00:00<?, ?it/s]",
      "application/vnd.jupyter.widget-view+json": {
       "version_major": 2,
       "version_minor": 0,
       "model_id": "58350cf266a840e3a0a1d4d4c15bc467"
      }
     },
     "metadata": {},
     "output_type": "display_data"
    },
    {
     "data": {
      "text/plain": "  0%|          | 0/757 [00:00<?, ?it/s]",
      "application/vnd.jupyter.widget-view+json": {
       "version_major": 2,
       "version_minor": 0,
       "model_id": "430a05f525a44e63b0dbd86ffe0e7a15"
      }
     },
     "metadata": {},
     "output_type": "display_data"
    },
    {
     "name": "stderr",
     "output_type": "stream",
     "text": [
      "mask_count_min: 0.0\n",
      "th: 0.1, fbeta: 0.13611959870892118\n",
      "th: 0.19555555555555557, fbeta: 0.14635249886192495\n",
      "th: 0.2911111111111111, fbeta: 0.15049368303353575\n",
      "th: 0.38666666666666666, fbeta: 0.15350559533773445\n",
      "th: 0.4822222222222222, fbeta: 0.15571585912507327\n",
      "th: 0.5777777777777778, fbeta: 0.15817800375985588\n",
      "th: 0.6733333333333333, fbeta: 0.16129984735728245\n",
      "th: 0.7688888888888888, fbeta: 0.16487151311137363\n",
      "th: 0.8644444444444445, fbeta: 0.17022833096576795\n",
      "th: 0.96, fbeta: 0.18418270163281253\n",
      "best_th: 0.96, fbeta: 0.18418270163281253\n",
      "EarlyStopping counter: 13 out of 8\n",
      "Epoch 8 - avg_train_loss: -179.4453  avg_val_loss: -273.2835  time: 791s\n",
      "Epoch 8 - avgScore: 0.1842\n",
      "Early stopping\n",
      "fold_config: {'train': [1, 2], 'valid': [3]}\n",
      "valid_mask_gt.shape: (7606, 5249) \n",
      "valid_mask_gt.max: 255 \n",
      "\n"
     ]
    },
    {
     "data": {
      "text/plain": "  0%|          | 0/3734 [00:00<?, ?it/s]",
      "application/vnd.jupyter.widget-view+json": {
       "version_major": 2,
       "version_minor": 0,
       "model_id": "3514b383c4be41b78087487582c03ad1"
      }
     },
     "metadata": {},
     "output_type": "display_data"
    },
    {
     "data": {
      "text/plain": "  0%|          | 0/757 [00:00<?, ?it/s]",
      "application/vnd.jupyter.widget-view+json": {
       "version_major": 2,
       "version_minor": 0,
       "model_id": "a09ea52c7b65409db68bbe2b3c964b21"
      }
     },
     "metadata": {},
     "output_type": "display_data"
    },
    {
     "name": "stderr",
     "output_type": "stream",
     "text": [
      "mask_count_min: 0.0\n",
      "th: 0.1, fbeta: 0.1384649755231874\n",
      "th: 0.19555555555555557, fbeta: 0.14640377508591815\n",
      "th: 0.2911111111111111, fbeta: 0.150634168142111\n",
      "th: 0.38666666666666666, fbeta: 0.153629576844314\n",
      "th: 0.4822222222222222, fbeta: 0.15605458838956893\n",
      "th: 0.5777777777777778, fbeta: 0.15865534405958073\n",
      "th: 0.6733333333333333, fbeta: 0.16163246497115272\n",
      "th: 0.7688888888888888, fbeta: 0.16473427925474896\n",
      "th: 0.8644444444444445, fbeta: 0.1693178364259969\n",
      "th: 0.96, fbeta: 0.18170603366714455\n",
      "best_th: 0.96, fbeta: 0.18170603366714455\n",
      "EarlyStopping counter: 14 out of 8\n",
      "Epoch 9 - avg_train_loss: -183.1095  avg_val_loss: -215.7959  time: 791s\n",
      "Epoch 9 - avgScore: 0.1817\n",
      "Early stopping\n",
      "fold_config: {'train': [1, 2], 'valid': [3]}\n",
      "valid_mask_gt.shape: (7606, 5249) \n",
      "valid_mask_gt.max: 255 \n",
      "\n"
     ]
    },
    {
     "data": {
      "text/plain": "  0%|          | 0/3734 [00:00<?, ?it/s]",
      "application/vnd.jupyter.widget-view+json": {
       "version_major": 2,
       "version_minor": 0,
       "model_id": "ba44bf7e47184eab88eab9cf0de058df"
      }
     },
     "metadata": {},
     "output_type": "display_data"
    },
    {
     "data": {
      "text/plain": "  0%|          | 0/757 [00:00<?, ?it/s]",
      "application/vnd.jupyter.widget-view+json": {
       "version_major": 2,
       "version_minor": 0,
       "model_id": "4b88cc2c2af84551aa2bb4652beee822"
      }
     },
     "metadata": {},
     "output_type": "display_data"
    },
    {
     "name": "stderr",
     "output_type": "stream",
     "text": [
      "mask_count_min: 0.0\n",
      "th: 0.1, fbeta: 0.13840456626277783\n",
      "th: 0.19555555555555557, fbeta: 0.1482535669076488\n",
      "th: 0.2911111111111111, fbeta: 0.15267789249625863\n",
      "th: 0.38666666666666666, fbeta: 0.15590821864928195\n",
      "th: 0.4822222222222222, fbeta: 0.15924985206784403\n",
      "th: 0.5777777777777778, fbeta: 0.16328147643617807\n",
      "th: 0.6733333333333333, fbeta: 0.16816563462770454\n",
      "th: 0.7688888888888888, fbeta: 0.17538341289328543\n",
      "th: 0.8644444444444445, fbeta: 0.18736010441527873\n",
      "th: 0.96, fbeta: 0.20762844329998537\n",
      "best_th: 0.96, fbeta: 0.20762844329998537\n",
      "EarlyStopping counter: 15 out of 8\n",
      "Epoch 10 - avg_train_loss: -186.2504  avg_val_loss: -134.7623  time: 790s\n",
      "Epoch 10 - avgScore: 0.2076\n",
      "Early stopping\n",
      "fold_config: {'train': [1, 2], 'valid': [3]}\n",
      "valid_mask_gt.shape: (7606, 5249) \n",
      "valid_mask_gt.max: 255 \n",
      "\n"
     ]
    },
    {
     "data": {
      "text/plain": "  0%|          | 0/3734 [00:00<?, ?it/s]",
      "application/vnd.jupyter.widget-view+json": {
       "version_major": 2,
       "version_minor": 0,
       "model_id": "f685389272004af8913ea56e93accb2e"
      }
     },
     "metadata": {},
     "output_type": "display_data"
    },
    {
     "data": {
      "text/plain": "  0%|          | 0/757 [00:00<?, ?it/s]",
      "application/vnd.jupyter.widget-view+json": {
       "version_major": 2,
       "version_minor": 0,
       "model_id": "c62a948827594e17a7dff771eb7282b7"
      }
     },
     "metadata": {},
     "output_type": "display_data"
    },
    {
     "name": "stderr",
     "output_type": "stream",
     "text": [
      "mask_count_min: 0.0\n",
      "th: 0.1, fbeta: 0.14059758694672453\n",
      "th: 0.19555555555555557, fbeta: 0.147680855128357\n",
      "th: 0.2911111111111111, fbeta: 0.15225823448551623\n",
      "th: 0.38666666666666666, fbeta: 0.1557296006089861\n",
      "th: 0.4822222222222222, fbeta: 0.15905219717491936\n",
      "th: 0.5777777777777778, fbeta: 0.16240637620635526\n",
      "th: 0.6733333333333333, fbeta: 0.1663645572095656\n",
      "th: 0.7688888888888888, fbeta: 0.1725106609263259\n",
      "th: 0.8644444444444445, fbeta: 0.18357435862574445\n",
      "th: 0.96, fbeta: 0.20561620945463102\n",
      "best_th: 0.96, fbeta: 0.20561620945463102\n",
      "EarlyStopping counter: 16 out of 8\n",
      "Epoch 11 - avg_train_loss: -189.6899  avg_val_loss: -170.0527  time: 790s\n",
      "Epoch 11 - avgScore: 0.2056\n",
      "Early stopping\n",
      "fold_config: {'train': [1, 2], 'valid': [3]}\n",
      "valid_mask_gt.shape: (7606, 5249) \n",
      "valid_mask_gt.max: 255 \n",
      "\n"
     ]
    },
    {
     "data": {
      "text/plain": "  0%|          | 0/3734 [00:00<?, ?it/s]",
      "application/vnd.jupyter.widget-view+json": {
       "version_major": 2,
       "version_minor": 0,
       "model_id": "0039a50186cb4a6a902ac7657b398938"
      }
     },
     "metadata": {},
     "output_type": "display_data"
    },
    {
     "data": {
      "text/plain": "  0%|          | 0/757 [00:00<?, ?it/s]",
      "application/vnd.jupyter.widget-view+json": {
       "version_major": 2,
       "version_minor": 0,
       "model_id": "345062fcfb6447a28df0e4974aa3455a"
      }
     },
     "metadata": {},
     "output_type": "display_data"
    },
    {
     "name": "stderr",
     "output_type": "stream",
     "text": [
      "mask_count_min: 0.0\n",
      "th: 0.1, fbeta: 0.13641245376290226\n",
      "th: 0.19555555555555557, fbeta: 0.14597008204913356\n",
      "th: 0.2911111111111111, fbeta: 0.14995922332495085\n",
      "th: 0.38666666666666666, fbeta: 0.15311683745518145\n",
      "th: 0.4822222222222222, fbeta: 0.15566401042264494\n",
      "th: 0.5777777777777778, fbeta: 0.15843022020608533\n",
      "th: 0.6733333333333333, fbeta: 0.16159437043268332\n",
      "th: 0.7688888888888888, fbeta: 0.16459188183401927\n",
      "th: 0.8644444444444445, fbeta: 0.16831604405530612\n",
      "th: 0.96, fbeta: 0.17687665586857662\n",
      "best_th: 0.96, fbeta: 0.17687665586857662\n",
      "EarlyStopping counter: 17 out of 8\n",
      "Epoch 12 - avg_train_loss: -195.0355  avg_val_loss: -322.1661  time: 791s\n",
      "Epoch 12 - avgScore: 0.1769\n",
      "Early stopping\n",
      "fold_config: {'train': [1, 2], 'valid': [3]}\n",
      "valid_mask_gt.shape: (7606, 5249) \n",
      "valid_mask_gt.max: 255 \n",
      "\n"
     ]
    },
    {
     "data": {
      "text/plain": "  0%|          | 0/3734 [00:00<?, ?it/s]",
      "application/vnd.jupyter.widget-view+json": {
       "version_major": 2,
       "version_minor": 0,
       "model_id": "96cc35db22b241b391fe7af0b7257ceb"
      }
     },
     "metadata": {},
     "output_type": "display_data"
    },
    {
     "data": {
      "text/plain": "  0%|          | 0/757 [00:00<?, ?it/s]",
      "application/vnd.jupyter.widget-view+json": {
       "version_major": 2,
       "version_minor": 0,
       "model_id": "ae9760005c744676803ae633994d5a8a"
      }
     },
     "metadata": {},
     "output_type": "display_data"
    },
    {
     "name": "stderr",
     "output_type": "stream",
     "text": [
      "mask_count_min: 0.0\n",
      "th: 0.1, fbeta: 0.1399541327069486\n",
      "th: 0.19555555555555557, fbeta: 0.1461173914178962\n",
      "th: 0.2911111111111111, fbeta: 0.14985982195581124\n",
      "th: 0.38666666666666666, fbeta: 0.15308312023374412\n",
      "th: 0.4822222222222222, fbeta: 0.1555721575466438\n",
      "th: 0.5777777777777778, fbeta: 0.15843888130024775\n",
      "th: 0.6733333333333333, fbeta: 0.16173408394608652\n",
      "th: 0.7688888888888888, fbeta: 0.1648034091813245\n",
      "th: 0.8644444444444445, fbeta: 0.16894092896919274\n",
      "th: 0.96, fbeta: 0.17840354394939492\n",
      "best_th: 0.96, fbeta: 0.17840354394939492\n",
      "EarlyStopping counter: 18 out of 8\n",
      "Epoch 13 - avg_train_loss: -197.8777  avg_val_loss: -238.6838  time: 791s\n",
      "Epoch 13 - avgScore: 0.1784\n",
      "Early stopping\n",
      "fold_config: {'train': [1, 2], 'valid': [3]}\n",
      "valid_mask_gt.shape: (7606, 5249) \n",
      "valid_mask_gt.max: 255 \n",
      "\n"
     ]
    },
    {
     "data": {
      "text/plain": "  0%|          | 0/3734 [00:00<?, ?it/s]",
      "application/vnd.jupyter.widget-view+json": {
       "version_major": 2,
       "version_minor": 0,
       "model_id": "6fccaeb2803b462a975f49e42d889334"
      }
     },
     "metadata": {},
     "output_type": "display_data"
    },
    {
     "data": {
      "text/plain": "  0%|          | 0/757 [00:00<?, ?it/s]",
      "application/vnd.jupyter.widget-view+json": {
       "version_major": 2,
       "version_minor": 0,
       "model_id": "99af5891ae2246188cbb84af53483f36"
      }
     },
     "metadata": {},
     "output_type": "display_data"
    },
    {
     "name": "stderr",
     "output_type": "stream",
     "text": [
      "mask_count_min: 0.0\n",
      "th: 0.1, fbeta: 0.1370134943687009\n",
      "th: 0.19555555555555557, fbeta: 0.14580517650469166\n",
      "th: 0.2911111111111111, fbeta: 0.1497200408539629\n",
      "th: 0.38666666666666666, fbeta: 0.15311986359471913\n",
      "th: 0.4822222222222222, fbeta: 0.15588226932616184\n",
      "th: 0.5777777777777778, fbeta: 0.15880965604506633\n",
      "th: 0.6733333333333333, fbeta: 0.16184888938009567\n",
      "th: 0.7688888888888888, fbeta: 0.16451761499197784\n",
      "th: 0.8644444444444445, fbeta: 0.1679647632195626\n",
      "th: 0.96, fbeta: 0.17526155556509637\n",
      "best_th: 0.96, fbeta: 0.17526155556509637\n",
      "EarlyStopping counter: 19 out of 8\n",
      "Epoch 14 - avg_train_loss: -203.8418  avg_val_loss: -258.9268  time: 793s\n",
      "Epoch 14 - avgScore: 0.1753\n",
      "Early stopping\n",
      "fold_config: {'train': [1, 2], 'valid': [3]}\n",
      "valid_mask_gt.shape: (7606, 5249) \n",
      "valid_mask_gt.max: 255 \n",
      "\n"
     ]
    },
    {
     "data": {
      "text/plain": "  0%|          | 0/3734 [00:00<?, ?it/s]",
      "application/vnd.jupyter.widget-view+json": {
       "version_major": 2,
       "version_minor": 0,
       "model_id": "221845523584435ab18790f382f298f6"
      }
     },
     "metadata": {},
     "output_type": "display_data"
    },
    {
     "data": {
      "text/plain": "  0%|          | 0/757 [00:00<?, ?it/s]",
      "application/vnd.jupyter.widget-view+json": {
       "version_major": 2,
       "version_minor": 0,
       "model_id": "1e80ceb48a3c483db9241b1d39d34ee5"
      }
     },
     "metadata": {},
     "output_type": "display_data"
    },
    {
     "name": "stderr",
     "output_type": "stream",
     "text": [
      "mask_count_min: 0.0\n",
      "th: 0.1, fbeta: 0.1391671982026503\n",
      "th: 0.19555555555555557, fbeta: 0.1460071415797593\n",
      "th: 0.2911111111111111, fbeta: 0.1500513841956396\n",
      "th: 0.38666666666666666, fbeta: 0.15338253027157278\n",
      "th: 0.4822222222222222, fbeta: 0.1564162372053694\n",
      "th: 0.5777777777777778, fbeta: 0.15992833884765684\n",
      "th: 0.6733333333333333, fbeta: 0.16384638691706818\n",
      "th: 0.7688888888888888, fbeta: 0.16842611197203788\n",
      "th: 0.8644444444444445, fbeta: 0.1748960520841243\n",
      "th: 0.96, fbeta: 0.18789794528315407\n",
      "best_th: 0.96, fbeta: 0.18789794528315407\n",
      "EarlyStopping counter: 20 out of 8\n",
      "Epoch 15 - avg_train_loss: -206.2503  avg_val_loss: -195.9991  time: 791s\n",
      "Epoch 15 - avgScore: 0.1879\n",
      "Early stopping\n",
      "fold_config: {'train': [1, 2], 'valid': [3]}\n",
      "valid_mask_gt.shape: (7606, 5249) \n",
      "valid_mask_gt.max: 255 \n",
      "\n"
     ]
    },
    {
     "data": {
      "text/plain": "  0%|          | 0/3734 [00:00<?, ?it/s]",
      "application/vnd.jupyter.widget-view+json": {
       "version_major": 2,
       "version_minor": 0,
       "model_id": "c306a6ca0d3c454ba4f94be02f016559"
      }
     },
     "metadata": {},
     "output_type": "display_data"
    },
    {
     "data": {
      "text/plain": "  0%|          | 0/757 [00:00<?, ?it/s]",
      "application/vnd.jupyter.widget-view+json": {
       "version_major": 2,
       "version_minor": 0,
       "model_id": "ebb92964bff04461b856b78a8251a406"
      }
     },
     "metadata": {},
     "output_type": "display_data"
    },
    {
     "name": "stderr",
     "output_type": "stream",
     "text": [
      "mask_count_min: 0.0\n",
      "th: 0.1, fbeta: 0.13515232977183192\n",
      "th: 0.19555555555555557, fbeta: 0.14620647244381227\n",
      "th: 0.2911111111111111, fbeta: 0.15065748539446136\n",
      "th: 0.38666666666666666, fbeta: 0.15419468310497575\n",
      "th: 0.4822222222222222, fbeta: 0.15730644945821098\n",
      "th: 0.5777777777777778, fbeta: 0.16078880957299488\n",
      "th: 0.6733333333333333, fbeta: 0.1643565241223758\n",
      "th: 0.7688888888888888, fbeta: 0.168586564819644\n",
      "th: 0.8644444444444445, fbeta: 0.17490573777400842\n",
      "th: 0.96, fbeta: 0.18803312599331387\n",
      "best_th: 0.96, fbeta: 0.18803312599331387\n",
      "EarlyStopping counter: 21 out of 8\n",
      "Epoch 16 - avg_train_loss: -211.1295  avg_val_loss: -206.8634  time: 788s\n",
      "Epoch 16 - avgScore: 0.1880\n",
      "Early stopping\n",
      "fold_config: {'train': [1, 2], 'valid': [3]}\n",
      "valid_mask_gt.shape: (7606, 5249) \n",
      "valid_mask_gt.max: 255 \n",
      "\n"
     ]
    },
    {
     "data": {
      "text/plain": "  0%|          | 0/3734 [00:00<?, ?it/s]",
      "application/vnd.jupyter.widget-view+json": {
       "version_major": 2,
       "version_minor": 0,
       "model_id": "f5a7c3ad479a469199b828a083a86c84"
      }
     },
     "metadata": {},
     "output_type": "display_data"
    },
    {
     "data": {
      "text/plain": "  0%|          | 0/757 [00:00<?, ?it/s]",
      "application/vnd.jupyter.widget-view+json": {
       "version_major": 2,
       "version_minor": 0,
       "model_id": "b6cdd1caf5bf4d5cae0656064e88b611"
      }
     },
     "metadata": {},
     "output_type": "display_data"
    },
    {
     "name": "stderr",
     "output_type": "stream",
     "text": [
      "mask_count_min: 0.0\n",
      "th: 0.1, fbeta: 0.13408569299499995\n",
      "th: 0.19555555555555557, fbeta: 0.1452285578030741\n",
      "th: 0.2911111111111111, fbeta: 0.14937538562926903\n",
      "th: 0.38666666666666666, fbeta: 0.15299173844736033\n",
      "th: 0.4822222222222222, fbeta: 0.15623088055309653\n",
      "th: 0.5777777777777778, fbeta: 0.15971135964700767\n",
      "th: 0.6733333333333333, fbeta: 0.1633587594676731\n",
      "th: 0.7688888888888888, fbeta: 0.16704269065201624\n",
      "th: 0.8644444444444445, fbeta: 0.1720045819166941\n",
      "th: 0.96, fbeta: 0.1824413616228254\n",
      "best_th: 0.96, fbeta: 0.1824413616228254\n",
      "EarlyStopping counter: 22 out of 8\n",
      "Epoch 17 - avg_train_loss: -216.5798  avg_val_loss: -302.7911  time: 788s\n",
      "Epoch 17 - avgScore: 0.1824\n",
      "Early stopping\n",
      "fold_config: {'train': [1, 2], 'valid': [3]}\n",
      "valid_mask_gt.shape: (7606, 5249) \n",
      "valid_mask_gt.max: 255 \n",
      "\n"
     ]
    },
    {
     "data": {
      "text/plain": "  0%|          | 0/3734 [00:00<?, ?it/s]",
      "application/vnd.jupyter.widget-view+json": {
       "version_major": 2,
       "version_minor": 0,
       "model_id": "5bfff8caf4a84d87a3ca2ffcffc5960d"
      }
     },
     "metadata": {},
     "output_type": "display_data"
    },
    {
     "data": {
      "text/plain": "  0%|          | 0/757 [00:00<?, ?it/s]",
      "application/vnd.jupyter.widget-view+json": {
       "version_major": 2,
       "version_minor": 0,
       "model_id": "3b55bfaa89a94b52ae33b19b2344aeb3"
      }
     },
     "metadata": {},
     "output_type": "display_data"
    },
    {
     "name": "stderr",
     "output_type": "stream",
     "text": [
      "mask_count_min: 0.0\n",
      "th: 0.1, fbeta: 0.13088042234792863\n",
      "th: 0.19555555555555557, fbeta: 0.1456181806848048\n",
      "th: 0.2911111111111111, fbeta: 0.15018703328682606\n",
      "th: 0.38666666666666666, fbeta: 0.15406864650631544\n",
      "th: 0.4822222222222222, fbeta: 0.15798268491688364\n",
      "th: 0.5777777777777778, fbeta: 0.1622657795781062\n",
      "th: 0.6733333333333333, fbeta: 0.16691457763176676\n",
      "th: 0.7688888888888888, fbeta: 0.17284744705085606\n",
      "th: 0.8644444444444445, fbeta: 0.1800513705574429\n",
      "th: 0.96, fbeta: 0.1834861068569255\n",
      "best_th: 0.96, fbeta: 0.1834861068569255\n",
      "EarlyStopping counter: 23 out of 8\n",
      "Epoch 18 - avg_train_loss: -220.7984  avg_val_loss: -135.6721  time: 786s\n",
      "Epoch 18 - avgScore: 0.1835\n",
      "Early stopping\n",
      "fold_config: {'train': [1, 2], 'valid': [3]}\n",
      "valid_mask_gt.shape: (7606, 5249) \n",
      "valid_mask_gt.max: 255 \n",
      "\n"
     ]
    },
    {
     "data": {
      "text/plain": "  0%|          | 0/3734 [00:00<?, ?it/s]",
      "application/vnd.jupyter.widget-view+json": {
       "version_major": 2,
       "version_minor": 0,
       "model_id": "e1a9d7d32d2a482da10d756686f363d6"
      }
     },
     "metadata": {},
     "output_type": "display_data"
    },
    {
     "data": {
      "text/plain": "  0%|          | 0/757 [00:00<?, ?it/s]",
      "application/vnd.jupyter.widget-view+json": {
       "version_major": 2,
       "version_minor": 0,
       "model_id": "d61f9b5969194e3a9603d001450e978e"
      }
     },
     "metadata": {},
     "output_type": "display_data"
    },
    {
     "name": "stderr",
     "output_type": "stream",
     "text": [
      "mask_count_min: 0.0\n",
      "th: 0.1, fbeta: 0.13187310060247462\n",
      "th: 0.19555555555555557, fbeta: 0.14378345318304056\n",
      "th: 0.2911111111111111, fbeta: 0.14711694744628426\n",
      "th: 0.38666666666666666, fbeta: 0.15067255337543342\n",
      "th: 0.4822222222222222, fbeta: 0.15359994774477279\n",
      "th: 0.5777777777777778, fbeta: 0.15658987477868366\n",
      "th: 0.6733333333333333, fbeta: 0.15981818646042395\n",
      "th: 0.7688888888888888, fbeta: 0.16277987165229027\n",
      "th: 0.8644444444444445, fbeta: 0.16602351093294151\n",
      "th: 0.96, fbeta: 0.17267952092723002\n",
      "best_th: 0.96, fbeta: 0.17267952092723002\n",
      "EarlyStopping counter: 24 out of 8\n",
      "Epoch 19 - avg_train_loss: -229.1015  avg_val_loss: -411.3416  time: 786s\n",
      "Epoch 19 - avgScore: 0.1727\n",
      "Early stopping\n",
      "fold_config: {'train': [1, 2], 'valid': [3]}\n",
      "valid_mask_gt.shape: (7606, 5249) \n",
      "valid_mask_gt.max: 255 \n",
      "\n"
     ]
    },
    {
     "data": {
      "text/plain": "  0%|          | 0/3734 [00:00<?, ?it/s]",
      "application/vnd.jupyter.widget-view+json": {
       "version_major": 2,
       "version_minor": 0,
       "model_id": "e4c34706ca7a42278152d2bf7b993a1b"
      }
     },
     "metadata": {},
     "output_type": "display_data"
    },
    {
     "data": {
      "text/plain": "  0%|          | 0/757 [00:00<?, ?it/s]",
      "application/vnd.jupyter.widget-view+json": {
       "version_major": 2,
       "version_minor": 0,
       "model_id": "9142da46587b4ed18eb6cb102195f5cb"
      }
     },
     "metadata": {},
     "output_type": "display_data"
    },
    {
     "name": "stderr",
     "output_type": "stream",
     "text": [
      "mask_count_min: 0.0\n",
      "th: 0.1, fbeta: 0.13614295709958887\n",
      "th: 0.19555555555555557, fbeta: 0.14885563479364466\n",
      "th: 0.2911111111111111, fbeta: 0.1536392991648458\n",
      "th: 0.38666666666666666, fbeta: 0.1571464292784313\n",
      "th: 0.4822222222222222, fbeta: 0.16073929750115595\n",
      "th: 0.5777777777777778, fbeta: 0.164193476976811\n",
      "th: 0.6733333333333333, fbeta: 0.16834328997303405\n",
      "th: 0.7688888888888888, fbeta: 0.1743257573129932\n",
      "th: 0.8644444444444445, fbeta: 0.1837714289259746\n",
      "th: 0.96, fbeta: 0.1981886984173971\n",
      "best_th: 0.96, fbeta: 0.1981886984173971\n",
      "EarlyStopping counter: 25 out of 8\n",
      "Epoch 20 - avg_train_loss: -229.5730  avg_val_loss: -143.0157  time: 789s\n",
      "Epoch 20 - avgScore: 0.1982\n",
      "Early stopping\n"
     ]
    },
    {
     "data": {
      "text/plain": "1755"
     },
     "execution_count": 42,
     "metadata": {},
     "output_type": "execute_result"
    }
   ],
   "source": [
    "\n",
    "\n",
    "import gc\n",
    "\n",
    "fold_configs = create_foldset()\n",
    "\n",
    "# best_score = -1 if CONFIG[\"metric_direction\"] == 'maximize' else np.inf\n",
    "\n",
    "\n",
    "# CONFIG[\"epochs\"] = 4\n",
    "# TODO the best score should be compared\n",
    "# with the best score of the loaded model\n",
    "# if there's any\n",
    "Logger.info(CONFIG)\n",
    "\n",
    "model, best_loss = build_model(cfg)\n",
    "best_loss = best_loss if best_loss is not None else np.inf\n",
    "model.to(device)\n",
    "early_stopping = EarlyStopping(\n",
    "    patience=Config.PATIENCE, verbose=True\n",
    ")\n",
    "for epoch in range(CONFIG[\"epochs\"]):\n",
    "    optimizer = AdamW(model.parameters(), lr=CONFIG[\"lr\"])\n",
    "    scheduler = get_scheduler(CONFIG, optimizer)\n",
    "\n",
    "    for fold_config in fold_configs:\n",
    "        train_loader = make_dataset(fold_config[\"train\"], dataset_mode='train')\n",
    "        valid_loader = make_dataset(fold_config[\"valid\"], dataset_mode='valid')\n",
    "\n",
    "        Logger.info(f'fold_config: {fold_config}')\n",
    "\n",
    "        valid_mask_gt = valid_loader.dataset.get_gt(0)\n",
    "\n",
    "        valid_mask_gt = preprocess_valid_mask_gt(valid_mask_gt, CONFIG[\"tile_size\"])\n",
    "\n",
    "\n",
    "        start_time = time.time()\n",
    "\n",
    "        # train\n",
    "        avg_loss = train_fn(train_loader, model, criterion, optimizer, device)\n",
    "\n",
    "        # eval\n",
    "        avg_val_loss, label_pred = valid_fn(\n",
    "            valid_loader, model, criterion, device, valid_mask_gt)\n",
    "\n",
    "        scheduler_step(scheduler, avg_val_loss, epoch)\n",
    "\n",
    "        best_dice, best_th = calc_cv(valid_mask_gt, label_pred)\n",
    "\n",
    "        model.th = best_th\n",
    "\n",
    "        # score = avg_val_loss\n",
    "        score = best_dice\n",
    "\n",
    "        elapsed = time.time() - start_time\n",
    "\n",
    "        early_stopping(score, model)\n",
    "\n",
    "        Logger.info(\n",
    "            f'Epoch {epoch + 1} - avg_train_loss: {avg_loss:.4f}  avg_val_loss: {avg_val_loss:.4f}  time: {elapsed:.0f}s')\n",
    "        Logger.info(\n",
    "            f'Epoch {epoch + 1} - avgScore: {score:.4f}')\n",
    "        if not is_kaggle:\n",
    "            wandb.log({\n",
    "                \"train_loss\": avg_loss,\n",
    "                \"val_loss\": avg_val_loss,\n",
    "                \"best_dice\": best_dice,\n",
    "                \"best_th\": best_th,\n",
    "                \"best_loss\": best_loss,\n",
    "            })\n",
    "\n",
    "        if early_stopping.early_stop:\n",
    "            Logger.info(\"Early stopping\")\n",
    "            break\n",
    "\n",
    "del model, optimizer, scheduler, early_stopping, train_loader, valid_loader\n",
    "torch.cuda.empty_cache()\n",
    "gc.collect()\n",
    "\n"
   ],
   "metadata": {
    "collapsed": false,
    "ExecuteTime": {
     "start_time": "2023-04-23T17:02:52.079840Z",
     "end_time": "2023-04-23T17:02:52.079840Z"
    }
   }
  },
  {
   "cell_type": "code",
   "execution_count": 43,
   "outputs": [],
   "source": [
    "\n",
    "from matplotlib import pyplot as plt\n",
    "\n",
    "\n",
    "def predict(img_set_ids, model, device,mode='test'):\n",
    "    _mode=mode if mode == 'test' else 'train'\n",
    "    imgs = []\n",
    "    masks = []\n",
    "    labels = []\n",
    "    for set_id in img_set_ids:\n",
    "        imgs.append(f\"{_mode}/{set_id}/surface_volume\")\n",
    "        masks.append(f\"{_mode}/{set_id}/mask.png\")\n",
    "        labels.append(f\"{_mode}/{set_id}/inklabels.png\")\n",
    "\n",
    "    test_dataset = CustomDataset(\n",
    "        image_sets=imgs,\n",
    "        cfg=cfg,\n",
    "        masks=masks,\n",
    "        labels=labels,\n",
    "        mode=mode,\n",
    "        transform=get_transforms(mode=mode, cfg=cfg))\n",
    "\n",
    "    test_loader = DataLoader(\n",
    "        test_dataset,\n",
    "        batch_size=CONFIG[\"batch_size\"],\n",
    "        shuffle=False,\n",
    "        num_workers=CONFIG[\"num_workers\"],\n",
    "        pin_memory=True,\n",
    "        drop_last=False,\n",
    "    )\n",
    "    mask_gt = test_dataset.get_mask(0)\n",
    "    label_pred = test_fn(test_loader, model, device,mask_gt=preprocess_valid_mask_gt(mask_gt, CONFIG[\"tile_size\"]))\n",
    "\n",
    "    # mask_gt = preprocess_valid_mask_gt(mask_gt, CONFIG[\"tile_size\"])\n",
    "    label_pred=label_pred[:mask_gt.shape[0],:mask_gt.shape[1]]\n",
    "    # Consider mask then calculate the best threshold\n",
    "    label_pred *= (mask_gt/255)\n",
    "\n",
    "    if mode=='valid':\n",
    "        label_gt = test_dataset.get_gt(0)/255\n",
    "        best_dice, best_th = calc_cv(label_gt, label_pred)\n",
    "        print(f'best_dice: {best_dice} best_th: {best_th} using th {model.th}')\n",
    "\n",
    "        fig, ax = plt.subplots(1, 3, figsize=(20, 10))\n",
    "        ax[0].imshow(label_gt)\n",
    "        ax[0].set_title('label_gt')\n",
    "        ax[1].imshow(label_pred)\n",
    "        ax[1].set_title('label_pred')\n",
    "\n",
    "        label_pred = (label_pred > model.th).astype(np.uint8)\n",
    "        ax[2].imshow(label_pred)\n",
    "        ax[2].set_title('binary_label')\n",
    "        plt.show()\n",
    "    else:\n",
    "        fig, ax = plt.subplots(1, 2, figsize=(20, 10))\n",
    "        ax[0].imshow(label_pred)\n",
    "        ax[0].set_title('label_pred')\n",
    "        label_pred = (label_pred > model.th).astype(np.uint8)\n",
    "        ax[1].imshow(label_pred)\n",
    "        ax[1].set_title('binary_label')\n",
    "\n",
    "    return label_pred\n"
   ],
   "metadata": {
    "collapsed": false,
    "ExecuteTime": {
     "start_time": "2023-04-23T17:02:52.534773Z",
     "end_time": "2023-04-23T17:02:52.534773Z"
    }
   }
  },
  {
   "cell_type": "code",
   "execution_count": 43,
   "outputs": [],
   "source": [],
   "metadata": {
    "collapsed": false,
    "ExecuteTime": {
     "start_time": "2023-04-23T17:02:52.550777Z",
     "end_time": "2023-04-23T17:02:52.550777Z"
    }
   }
  },
  {
   "cell_type": "code",
   "execution_count": 44,
   "outputs": [
    {
     "ename": "NameError",
     "evalue": "name 'model' is not defined",
     "output_type": "error",
     "traceback": [
      "\u001B[1;31m---------------------------------------------------------------------------\u001B[0m",
      "\u001B[1;31mNameError\u001B[0m                                 Traceback (most recent call last)",
      "\u001B[1;32m~\\AppData\\Local\\Temp\\ipykernel_3968\\3721361882.py\u001B[0m in \u001B[0;36m<module>\u001B[1;34m\u001B[0m\n\u001B[0;32m      1\u001B[0m \u001B[1;31m# if is_test:\u001B[0m\u001B[1;33m\u001B[0m\u001B[1;33m\u001B[0m\u001B[1;33m\u001B[0m\u001B[0m\n\u001B[1;32m----> 2\u001B[1;33m \u001B[0mmodel\u001B[0m\u001B[1;33m.\u001B[0m\u001B[0mth\u001B[0m\u001B[1;33m\u001B[0m\u001B[1;33m\u001B[0m\u001B[0m\n\u001B[0m\u001B[0;32m      3\u001B[0m \u001B[1;33m\u001B[0m\u001B[0m\n\u001B[0;32m      4\u001B[0m \u001B[1;33m\u001B[0m\u001B[0m\n",
      "\u001B[1;31mNameError\u001B[0m: name 'model' is not defined"
     ]
    }
   ],
   "source": [
    "# if is_test:\n",
    "model.th\n",
    "\n"
   ],
   "metadata": {
    "collapsed": false,
    "ExecuteTime": {
     "start_time": "2023-04-22T18:01:36.201990Z",
     "end_time": "2023-04-22T18:01:36.201990Z"
    }
   }
  },
  {
   "cell_type": "markdown",
   "source": [
    " ## submission"
   ],
   "metadata": {
    "collapsed": false
   }
  },
  {
   "cell_type": "code",
   "execution_count": null,
   "outputs": [],
   "source": [
    "results = []\n",
    "\n",
    "\n",
    "for id in ['a','b']:\n",
    "\n",
    "    model, best_loss = build_model(cfg)\n",
    "\n",
    "    model.th=0.96 if model.th == 0.5 else model.th\n",
    "    model.to(device)\n",
    "    img_set_ids = [id]\n",
    "\n",
    "    label_pred = predict(img_set_ids, model, device, mode='test')\n",
    "    label_rle=rle(label_pred)\n",
    "\n",
    "    results.append((id, label_rle))\n",
    "\n",
    "\n"
   ],
   "metadata": {
    "collapsed": false,
    "ExecuteTime": {
     "start_time": "2023-04-22T11:08:53.287212Z",
     "end_time": "2023-04-22T11:08:53.287212Z"
    }
   }
  },
  {
   "cell_type": "code",
   "execution_count": null,
   "id": "0d8346ad",
   "metadata": {
    "execution": {
     "iopub.execute_input": "2023-04-04T06:30:31.252944Z",
     "iopub.status.busy": "2023-04-04T06:30:31.252599Z",
     "iopub.status.idle": "2023-04-04T06:30:31.261892Z",
     "shell.execute_reply": "2023-04-04T06:30:31.260963Z"
    },
    "papermill": {
     "duration": 0.020153,
     "end_time": "2023-04-04T06:30:31.264092",
     "exception": false,
     "start_time": "2023-04-04T06:30:31.243939",
     "status": "completed"
    },
    "tags": [],
    "ExecuteTime": {
     "start_time": "2023-04-22T11:08:53.431726Z",
     "end_time": "2023-04-22T11:08:53.431726Z"
    }
   },
   "outputs": [],
   "source": [
    "sub = pd.DataFrame(results, columns=['Id', 'Predicted'])"
   ]
  },
  {
   "cell_type": "code",
   "execution_count": null,
   "id": "b81b47bd",
   "metadata": {
    "execution": {
     "iopub.execute_input": "2023-04-04T06:30:31.280585Z",
     "iopub.status.busy": "2023-04-04T06:30:31.279567Z",
     "iopub.status.idle": "2023-04-04T06:30:31.294278Z",
     "shell.execute_reply": "2023-04-04T06:30:31.293284Z"
    },
    "papermill": {
     "duration": 0.024985,
     "end_time": "2023-04-04T06:30:31.296340",
     "exception": false,
     "start_time": "2023-04-04T06:30:31.271355",
     "status": "completed"
    },
    "tags": [],
    "ExecuteTime": {
     "start_time": "2023-04-22T11:08:53.432727Z",
     "end_time": "2023-04-22T11:08:53.432727Z"
    }
   },
   "outputs": [],
   "source": [
    "sub.Id = sub.Id.astype(str)\n",
    "sub"
   ]
  },
  {
   "cell_type": "code",
   "execution_count": null,
   "id": "ce29cc91",
   "metadata": {
    "execution": {
     "iopub.execute_input": "2023-04-04T06:30:31.313274Z",
     "iopub.status.busy": "2023-04-04T06:30:31.312439Z",
     "iopub.status.idle": "2023-04-04T06:30:31.348437Z",
     "shell.execute_reply": "2023-04-04T06:30:31.347499Z"
    },
    "papermill": {
     "duration": 0.046772,
     "end_time": "2023-04-04T06:30:31.350709",
     "exception": false,
     "start_time": "2023-04-04T06:30:31.303937",
     "status": "completed"
    },
    "tags": [],
    "ExecuteTime": {
     "start_time": "2023-04-22T11:08:53.433726Z",
     "end_time": "2023-04-22T11:08:53.433726Z"
    }
   },
   "outputs": [],
   "source": [
    "sample_sub = pd.read_csv(cfg['comp_dataset_path'] / 'sample_submission.csv')\n",
    "sample_sub = pd.merge(sample_sub[['Id']], sub, on='Id', how='left')\n",
    "# sample_sub = pd.merge(sample_sub[['Id']], sub, on='Id', how='left')"
   ]
  },
  {
   "cell_type": "code",
   "execution_count": null,
   "outputs": [],
   "source": [
    "sample_sub.to_csv('submission.csv', index=False)"
   ],
   "metadata": {
    "collapsed": false,
    "ExecuteTime": {
     "start_time": "2023-04-22T11:08:53.433726Z",
     "end_time": "2023-04-22T11:08:53.433726Z"
    }
   }
  },
  {
   "cell_type": "code",
   "execution_count": null,
   "outputs": [],
   "source": [
    "\n",
    "\n",
    "if not is_kaggle:\n",
    "    from wandb import AlertLevel\n",
    "    wandb.alert(title=\"Training Finished\", text=\"Training Finished \", level=AlertLevel.INFO)"
   ],
   "metadata": {
    "collapsed": false,
    "ExecuteTime": {
     "start_time": "2023-04-22T11:08:53.433726Z",
     "end_time": "2023-04-22T11:08:53.433726Z"
    }
   }
  },
  {
   "cell_type": "code",
   "execution_count": null,
   "outputs": [],
   "source": [],
   "metadata": {
    "collapsed": false,
    "ExecuteTime": {
     "start_time": "2023-04-22T11:08:53.433726Z",
     "end_time": "2023-04-22T11:08:53.433726Z"
    }
   }
  }
 ],
 "metadata": {
  "kernelspec": {
   "display_name": "Python 3",
   "language": "python",
   "name": "python3"
  },
  "language_info": {
   "codemirror_mode": {
    "name": "ipython",
    "version": 3
   },
   "file_extension": ".py",
   "mimetype": "text/x-python",
   "name": "python",
   "nbconvert_exporter": "python",
   "pygments_lexer": "ipython3",
   "version": "3.7.12"
  },
  "papermill": {
   "default_parameters": {},
   "duration": 828.212268,
   "end_time": "2023-04-04T06:30:34.163286",
   "environment_variables": {},
   "exception": null,
   "input_path": "__notebook__.ipynb",
   "output_path": "__notebook__.ipynb",
   "parameters": {},
   "start_time": "2023-04-04T06:16:45.951018",
   "version": "2.4.0"
  },
  "widgets": {
   "application/vnd.jupyter.widget-state+json": {
    "state": {
     "05edc140f97c49dcaec210a042a4ee54": {
      "model_module": "@jupyter-widgets/controls",
      "model_module_version": "1.5.0",
      "model_name": "DescriptionStyleModel",
      "state": {
       "_model_module": "@jupyter-widgets/controls",
       "_model_module_version": "1.5.0",
       "_model_name": "DescriptionStyleModel",
       "_view_count": null,
       "_view_module": "@jupyter-widgets/base",
       "_view_module_version": "1.2.0",
       "_view_name": "StyleView",
       "description_width": ""
      }
     },
     "0823f65f0ce5461fab351ab8b046ef57": {
      "model_module": "@jupyter-widgets/controls",
      "model_module_version": "1.5.0",
      "model_name": "HBoxModel",
      "state": {
       "_dom_classes": [],
       "_model_module": "@jupyter-widgets/controls",
       "_model_module_version": "1.5.0",
       "_model_name": "HBoxModel",
       "_view_count": null,
       "_view_module": "@jupyter-widgets/controls",
       "_view_module_version": "1.5.0",
       "_view_name": "HBoxView",
       "box_style": "",
       "children": [
        "IPY_MODEL_a1e1f9bd85d549ebba21c512cc3f1d66",
        "IPY_MODEL_693cbf8782e34ac79359fe37db936b5b",
        "IPY_MODEL_b2c5429ebf6f41148ed0dbbf8199db7a"
       ],
       "layout": "IPY_MODEL_9f22e9fc81cb413aab158888445215de"
      }
     },
     "0efb7652675a41d98951fed02ca86c8f": {
      "model_module": "@jupyter-widgets/controls",
      "model_module_version": "1.5.0",
      "model_name": "DescriptionStyleModel",
      "state": {
       "_model_module": "@jupyter-widgets/controls",
       "_model_module_version": "1.5.0",
       "_model_name": "DescriptionStyleModel",
       "_view_count": null,
       "_view_module": "@jupyter-widgets/base",
       "_view_module_version": "1.2.0",
       "_view_name": "StyleView",
       "description_width": ""
      }
     },
     "235169359c9e492a87d2f07c219d5961": {
      "model_module": "@jupyter-widgets/base",
      "model_module_version": "1.2.0",
      "model_name": "LayoutModel",
      "state": {
       "_model_module": "@jupyter-widgets/base",
       "_model_module_version": "1.2.0",
       "_model_name": "LayoutModel",
       "_view_count": null,
       "_view_module": "@jupyter-widgets/base",
       "_view_module_version": "1.2.0",
       "_view_name": "LayoutView",
       "align_content": null,
       "align_items": null,
       "align_self": null,
       "border": null,
       "bottom": null,
       "display": null,
       "flex": null,
       "flex_flow": null,
       "grid_area": null,
       "grid_auto_columns": null,
       "grid_auto_flow": null,
       "grid_auto_rows": null,
       "grid_column": null,
       "grid_gap": null,
       "grid_row": null,
       "grid_template_areas": null,
       "grid_template_columns": null,
       "grid_template_rows": null,
       "height": null,
       "justify_content": null,
       "justify_items": null,
       "left": null,
       "margin": null,
       "max_height": null,
       "max_width": null,
       "min_height": null,
       "min_width": null,
       "object_fit": null,
       "object_position": null,
       "order": null,
       "overflow": null,
       "overflow_x": null,
       "overflow_y": null,
       "padding": null,
       "right": null,
       "top": null,
       "visibility": null,
       "width": null
      }
     },
     "31c87f677ad74de1bf0aeaeeea763c01": {
      "model_module": "@jupyter-widgets/controls",
      "model_module_version": "1.5.0",
      "model_name": "HTMLModel",
      "state": {
       "_dom_classes": [],
       "_model_module": "@jupyter-widgets/controls",
       "_model_module_version": "1.5.0",
       "_model_name": "HTMLModel",
       "_view_count": null,
       "_view_module": "@jupyter-widgets/controls",
       "_view_module_version": "1.5.0",
       "_view_name": "HTMLView",
       "description": "",
       "description_tooltip": null,
       "layout": "IPY_MODEL_beb302221e164199903400b8708cb80e",
       "placeholder": "​",
       "style": "IPY_MODEL_e008b4ee076a4ac4a21911b2865ff66a",
       "value": " 6/6 [00:05&lt;00:00,  1.03it/s]"
      }
     },
     "33444ea8dc774f0f88cbe1f9ac67a1fb": {
      "model_module": "@jupyter-widgets/controls",
      "model_module_version": "1.5.0",
      "model_name": "HTMLModel",
      "state": {
       "_dom_classes": [],
       "_model_module": "@jupyter-widgets/controls",
       "_model_module_version": "1.5.0",
       "_model_name": "HTMLModel",
       "_view_count": null,
       "_view_module": "@jupyter-widgets/controls",
       "_view_module_version": "1.5.0",
       "_view_name": "HTMLView",
       "description": "",
       "description_tooltip": null,
       "layout": "IPY_MODEL_235169359c9e492a87d2f07c219d5961",
       "placeholder": "​",
       "style": "IPY_MODEL_bb1d294251d24a94924c71828504983d",
       "value": " 2715/2715 [08:20&lt;00:00,  5.53it/s]"
      }
     },
     "37e4c9d2de9e4c2ca79b57fd856f69f3": {
      "model_module": "@jupyter-widgets/controls",
      "model_module_version": "1.5.0",
      "model_name": "ProgressStyleModel",
      "state": {
       "_model_module": "@jupyter-widgets/controls",
       "_model_module_version": "1.5.0",
       "_model_name": "ProgressStyleModel",
       "_view_count": null,
       "_view_module": "@jupyter-widgets/base",
       "_view_module_version": "1.2.0",
       "_view_name": "StyleView",
       "bar_color": null,
       "description_width": ""
      }
     },
     "3e3040a605c34ea2a0bfb1c28a18fadf": {
      "model_module": "@jupyter-widgets/controls",
      "model_module_version": "1.5.0",
      "model_name": "ProgressStyleModel",
      "state": {
       "_model_module": "@jupyter-widgets/controls",
       "_model_module_version": "1.5.0",
       "_model_name": "ProgressStyleModel",
       "_view_count": null,
       "_view_module": "@jupyter-widgets/base",
       "_view_module_version": "1.2.0",
       "_view_name": "StyleView",
       "bar_color": null,
       "description_width": ""
      }
     },
     "3f42c613a593444bbb7f23d64478b488": {
      "model_module": "@jupyter-widgets/controls",
      "model_module_version": "1.5.0",
      "model_name": "HTMLModel",
      "state": {
       "_dom_classes": [],
       "_model_module": "@jupyter-widgets/controls",
       "_model_module_version": "1.5.0",
       "_model_name": "HTMLModel",
       "_view_count": null,
       "_view_module": "@jupyter-widgets/controls",
       "_view_module_version": "1.5.0",
       "_view_name": "HTMLView",
       "description": "",
       "description_tooltip": null,
       "layout": "IPY_MODEL_786a537f37284ea39556b56d49e74f34",
       "placeholder": "​",
       "style": "IPY_MODEL_05edc140f97c49dcaec210a042a4ee54",
       "value": "100%"
      }
     },
     "4528102d3534492fb66a6ba50ad02f78": {
      "model_module": "@jupyter-widgets/controls",
      "model_module_version": "1.5.0",
      "model_name": "DescriptionStyleModel",
      "state": {
       "_model_module": "@jupyter-widgets/controls",
       "_model_module_version": "1.5.0",
       "_model_name": "DescriptionStyleModel",
       "_view_count": null,
       "_view_module": "@jupyter-widgets/base",
       "_view_module_version": "1.2.0",
       "_view_name": "StyleView",
       "description_width": ""
      }
     },
     "455d6ce5c3304a9697c0aa5002ff94b9": {
      "model_module": "@jupyter-widgets/base",
      "model_module_version": "1.2.0",
      "model_name": "LayoutModel",
      "state": {
       "_model_module": "@jupyter-widgets/base",
       "_model_module_version": "1.2.0",
       "_model_name": "LayoutModel",
       "_view_count": null,
       "_view_module": "@jupyter-widgets/base",
       "_view_module_version": "1.2.0",
       "_view_name": "LayoutView",
       "align_content": null,
       "align_items": null,
       "align_self": null,
       "border": null,
       "bottom": null,
       "display": null,
       "flex": null,
       "flex_flow": null,
       "grid_area": null,
       "grid_auto_columns": null,
       "grid_auto_flow": null,
       "grid_auto_rows": null,
       "grid_column": null,
       "grid_gap": null,
       "grid_row": null,
       "grid_template_areas": null,
       "grid_template_columns": null,
       "grid_template_rows": null,
       "height": null,
       "justify_content": null,
       "justify_items": null,
       "left": null,
       "margin": null,
       "max_height": null,
       "max_width": null,
       "min_height": null,
       "min_width": null,
       "object_fit": null,
       "object_position": null,
       "order": null,
       "overflow": null,
       "overflow_x": null,
       "overflow_y": null,
       "padding": null,
       "right": null,
       "top": null,
       "visibility": null,
       "width": null
      }
     },
     "5172c127b82440348a7cc8495734b596": {
      "model_module": "@jupyter-widgets/base",
      "model_module_version": "1.2.0",
      "model_name": "LayoutModel",
      "state": {
       "_model_module": "@jupyter-widgets/base",
       "_model_module_version": "1.2.0",
       "_model_name": "LayoutModel",
       "_view_count": null,
       "_view_module": "@jupyter-widgets/base",
       "_view_module_version": "1.2.0",
       "_view_name": "LayoutView",
       "align_content": null,
       "align_items": null,
       "align_self": null,
       "border": null,
       "bottom": null,
       "display": null,
       "flex": null,
       "flex_flow": null,
       "grid_area": null,
       "grid_auto_columns": null,
       "grid_auto_flow": null,
       "grid_auto_rows": null,
       "grid_column": null,
       "grid_gap": null,
       "grid_row": null,
       "grid_template_areas": null,
       "grid_template_columns": null,
       "grid_template_rows": null,
       "height": null,
       "justify_content": null,
       "justify_items": null,
       "left": null,
       "margin": null,
       "max_height": null,
       "max_width": null,
       "min_height": null,
       "min_width": null,
       "object_fit": null,
       "object_position": null,
       "order": null,
       "overflow": null,
       "overflow_x": null,
       "overflow_y": null,
       "padding": null,
       "right": null,
       "top": null,
       "visibility": null,
       "width": null
      }
     },
     "62699ccc03954a1f9a0dff56e1b11b93": {
      "model_module": "@jupyter-widgets/controls",
      "model_module_version": "1.5.0",
      "model_name": "HTMLModel",
      "state": {
       "_dom_classes": [],
       "_model_module": "@jupyter-widgets/controls",
       "_model_module_version": "1.5.0",
       "_model_name": "HTMLModel",
       "_view_count": null,
       "_view_module": "@jupyter-widgets/controls",
       "_view_module_version": "1.5.0",
       "_view_name": "HTMLView",
       "description": "",
       "description_tooltip": null,
       "layout": "IPY_MODEL_71501593788c4801999e65ecc72cc570",
       "placeholder": "​",
       "style": "IPY_MODEL_0efb7652675a41d98951fed02ca86c8f",
       "value": "100%"
      }
     },
     "6337af0a22ea4149b706beee8b6e34db": {
      "model_module": "@jupyter-widgets/controls",
      "model_module_version": "1.5.0",
      "model_name": "FloatProgressModel",
      "state": {
       "_dom_classes": [],
       "_model_module": "@jupyter-widgets/controls",
       "_model_module_version": "1.5.0",
       "_model_name": "FloatProgressModel",
       "_view_count": null,
       "_view_module": "@jupyter-widgets/controls",
       "_view_module_version": "1.5.0",
       "_view_name": "ProgressView",
       "bar_style": "success",
       "description": "",
       "description_tooltip": null,
       "layout": "IPY_MODEL_5172c127b82440348a7cc8495734b596",
       "max": 1365.0,
       "min": 0.0,
       "orientation": "horizontal",
       "style": "IPY_MODEL_3e3040a605c34ea2a0bfb1c28a18fadf",
       "value": 1365.0
      }
     },
     "655d6717973945069be9ce0e45efbe30": {
      "model_module": "@jupyter-widgets/controls",
      "model_module_version": "1.5.0",
      "model_name": "HTMLModel",
      "state": {
       "_dom_classes": [],
       "_model_module": "@jupyter-widgets/controls",
       "_model_module_version": "1.5.0",
       "_model_name": "HTMLModel",
       "_view_count": null,
       "_view_module": "@jupyter-widgets/controls",
       "_view_module_version": "1.5.0",
       "_view_name": "HTMLView",
       "description": "",
       "description_tooltip": null,
       "layout": "IPY_MODEL_8cafccedd20e4539b7a95392e82f5cf3",
       "placeholder": "​",
       "style": "IPY_MODEL_947fd201bf6b40f0b531f81eb8b17536",
       "value": " 1365/1365 [04:14&lt;00:00,  5.52it/s]"
      }
     },
     "693cbf8782e34ac79359fe37db936b5b": {
      "model_module": "@jupyter-widgets/controls",
      "model_module_version": "1.5.0",
      "model_name": "FloatProgressModel",
      "state": {
       "_dom_classes": [],
       "_model_module": "@jupyter-widgets/controls",
       "_model_module_version": "1.5.0",
       "_model_name": "FloatProgressModel",
       "_view_count": null,
       "_view_module": "@jupyter-widgets/controls",
       "_view_module_version": "1.5.0",
       "_view_name": "ProgressView",
       "bar_style": "success",
       "description": "",
       "description_tooltip": null,
       "layout": "IPY_MODEL_9753e36da81f4d7db15bf5803539bdf3",
       "max": 6.0,
       "min": 0.0,
       "orientation": "horizontal",
       "style": "IPY_MODEL_f5ad0266390c4cd98ce5e492973e8d62",
       "value": 6.0
      }
     },
     "6fa4efd451b54b7da19aadfe3c9564dc": {
      "model_module": "@jupyter-widgets/controls",
      "model_module_version": "1.5.0",
      "model_name": "FloatProgressModel",
      "state": {
       "_dom_classes": [],
       "_model_module": "@jupyter-widgets/controls",
       "_model_module_version": "1.5.0",
       "_model_name": "FloatProgressModel",
       "_view_count": null,
       "_view_module": "@jupyter-widgets/controls",
       "_view_module_version": "1.5.0",
       "_view_name": "ProgressView",
       "bar_style": "success",
       "description": "",
       "description_tooltip": null,
       "layout": "IPY_MODEL_70ad1fa8fbd2456aafdfe24d39604e79",
       "max": 6.0,
       "min": 0.0,
       "orientation": "horizontal",
       "style": "IPY_MODEL_a9f123f9cb5749aba87af30a3f8d276b",
       "value": 6.0
      }
     },
     "70ad1fa8fbd2456aafdfe24d39604e79": {
      "model_module": "@jupyter-widgets/base",
      "model_module_version": "1.2.0",
      "model_name": "LayoutModel",
      "state": {
       "_model_module": "@jupyter-widgets/base",
       "_model_module_version": "1.2.0",
       "_model_name": "LayoutModel",
       "_view_count": null,
       "_view_module": "@jupyter-widgets/base",
       "_view_module_version": "1.2.0",
       "_view_name": "LayoutView",
       "align_content": null,
       "align_items": null,
       "align_self": null,
       "border": null,
       "bottom": null,
       "display": null,
       "flex": null,
       "flex_flow": null,
       "grid_area": null,
       "grid_auto_columns": null,
       "grid_auto_flow": null,
       "grid_auto_rows": null,
       "grid_column": null,
       "grid_gap": null,
       "grid_row": null,
       "grid_template_areas": null,
       "grid_template_columns": null,
       "grid_template_rows": null,
       "height": null,
       "justify_content": null,
       "justify_items": null,
       "left": null,
       "margin": null,
       "max_height": null,
       "max_width": null,
       "min_height": null,
       "min_width": null,
       "object_fit": null,
       "object_position": null,
       "order": null,
       "overflow": null,
       "overflow_x": null,
       "overflow_y": null,
       "padding": null,
       "right": null,
       "top": null,
       "visibility": null,
       "width": null
      }
     },
     "71501593788c4801999e65ecc72cc570": {
      "model_module": "@jupyter-widgets/base",
      "model_module_version": "1.2.0",
      "model_name": "LayoutModel",
      "state": {
       "_model_module": "@jupyter-widgets/base",
       "_model_module_version": "1.2.0",
       "_model_name": "LayoutModel",
       "_view_count": null,
       "_view_module": "@jupyter-widgets/base",
       "_view_module_version": "1.2.0",
       "_view_name": "LayoutView",
       "align_content": null,
       "align_items": null,
       "align_self": null,
       "border": null,
       "bottom": null,
       "display": null,
       "flex": null,
       "flex_flow": null,
       "grid_area": null,
       "grid_auto_columns": null,
       "grid_auto_flow": null,
       "grid_auto_rows": null,
       "grid_column": null,
       "grid_gap": null,
       "grid_row": null,
       "grid_template_areas": null,
       "grid_template_columns": null,
       "grid_template_rows": null,
       "height": null,
       "justify_content": null,
       "justify_items": null,
       "left": null,
       "margin": null,
       "max_height": null,
       "max_width": null,
       "min_height": null,
       "min_width": null,
       "object_fit": null,
       "object_position": null,
       "order": null,
       "overflow": null,
       "overflow_x": null,
       "overflow_y": null,
       "padding": null,
       "right": null,
       "top": null,
       "visibility": null,
       "width": null
      }
     },
     "786a537f37284ea39556b56d49e74f34": {
      "model_module": "@jupyter-widgets/base",
      "model_module_version": "1.2.0",
      "model_name": "LayoutModel",
      "state": {
       "_model_module": "@jupyter-widgets/base",
       "_model_module_version": "1.2.0",
       "_model_name": "LayoutModel",
       "_view_count": null,
       "_view_module": "@jupyter-widgets/base",
       "_view_module_version": "1.2.0",
       "_view_name": "LayoutView",
       "align_content": null,
       "align_items": null,
       "align_self": null,
       "border": null,
       "bottom": null,
       "display": null,
       "flex": null,
       "flex_flow": null,
       "grid_area": null,
       "grid_auto_columns": null,
       "grid_auto_flow": null,
       "grid_auto_rows": null,
       "grid_column": null,
       "grid_gap": null,
       "grid_row": null,
       "grid_template_areas": null,
       "grid_template_columns": null,
       "grid_template_rows": null,
       "height": null,
       "justify_content": null,
       "justify_items": null,
       "left": null,
       "margin": null,
       "max_height": null,
       "max_width": null,
       "min_height": null,
       "min_width": null,
       "object_fit": null,
       "object_position": null,
       "order": null,
       "overflow": null,
       "overflow_x": null,
       "overflow_y": null,
       "padding": null,
       "right": null,
       "top": null,
       "visibility": null,
       "width": null
      }
     },
     "88991508c3844ff891e5ac25524aafd3": {
      "model_module": "@jupyter-widgets/controls",
      "model_module_version": "1.5.0",
      "model_name": "HBoxModel",
      "state": {
       "_dom_classes": [],
       "_model_module": "@jupyter-widgets/controls",
       "_model_module_version": "1.5.0",
       "_model_name": "HBoxModel",
       "_view_count": null,
       "_view_module": "@jupyter-widgets/controls",
       "_view_module_version": "1.5.0",
       "_view_name": "HBoxView",
       "box_style": "",
       "children": [
        "IPY_MODEL_3f42c613a593444bbb7f23d64478b488",
        "IPY_MODEL_b1d2311478504781ae635d527fe4d1f8",
        "IPY_MODEL_33444ea8dc774f0f88cbe1f9ac67a1fb"
       ],
       "layout": "IPY_MODEL_abe048958d38403da308e1c19cb8df36"
      }
     },
     "8caead85dddc4407a6c2f1588c74b89d": {
      "model_module": "@jupyter-widgets/base",
      "model_module_version": "1.2.0",
      "model_name": "LayoutModel",
      "state": {
       "_model_module": "@jupyter-widgets/base",
       "_model_module_version": "1.2.0",
       "_model_name": "LayoutModel",
       "_view_count": null,
       "_view_module": "@jupyter-widgets/base",
       "_view_module_version": "1.2.0",
       "_view_name": "LayoutView",
       "align_content": null,
       "align_items": null,
       "align_self": null,
       "border": null,
       "bottom": null,
       "display": null,
       "flex": null,
       "flex_flow": null,
       "grid_area": null,
       "grid_auto_columns": null,
       "grid_auto_flow": null,
       "grid_auto_rows": null,
       "grid_column": null,
       "grid_gap": null,
       "grid_row": null,
       "grid_template_areas": null,
       "grid_template_columns": null,
       "grid_template_rows": null,
       "height": null,
       "justify_content": null,
       "justify_items": null,
       "left": null,
       "margin": null,
       "max_height": null,
       "max_width": null,
       "min_height": null,
       "min_width": null,
       "object_fit": null,
       "object_position": null,
       "order": null,
       "overflow": null,
       "overflow_x": null,
       "overflow_y": null,
       "padding": null,
       "right": null,
       "top": null,
       "visibility": null,
       "width": null
      }
     },
     "8cafccedd20e4539b7a95392e82f5cf3": {
      "model_module": "@jupyter-widgets/base",
      "model_module_version": "1.2.0",
      "model_name": "LayoutModel",
      "state": {
       "_model_module": "@jupyter-widgets/base",
       "_model_module_version": "1.2.0",
       "_model_name": "LayoutModel",
       "_view_count": null,
       "_view_module": "@jupyter-widgets/base",
       "_view_module_version": "1.2.0",
       "_view_name": "LayoutView",
       "align_content": null,
       "align_items": null,
       "align_self": null,
       "border": null,
       "bottom": null,
       "display": null,
       "flex": null,
       "flex_flow": null,
       "grid_area": null,
       "grid_auto_columns": null,
       "grid_auto_flow": null,
       "grid_auto_rows": null,
       "grid_column": null,
       "grid_gap": null,
       "grid_row": null,
       "grid_template_areas": null,
       "grid_template_columns": null,
       "grid_template_rows": null,
       "height": null,
       "justify_content": null,
       "justify_items": null,
       "left": null,
       "margin": null,
       "max_height": null,
       "max_width": null,
       "min_height": null,
       "min_width": null,
       "object_fit": null,
       "object_position": null,
       "order": null,
       "overflow": null,
       "overflow_x": null,
       "overflow_y": null,
       "padding": null,
       "right": null,
       "top": null,
       "visibility": null,
       "width": null
      }
     },
     "947fd201bf6b40f0b531f81eb8b17536": {
      "model_module": "@jupyter-widgets/controls",
      "model_module_version": "1.5.0",
      "model_name": "DescriptionStyleModel",
      "state": {
       "_model_module": "@jupyter-widgets/controls",
       "_model_module_version": "1.5.0",
       "_model_name": "DescriptionStyleModel",
       "_view_count": null,
       "_view_module": "@jupyter-widgets/base",
       "_view_module_version": "1.2.0",
       "_view_name": "StyleView",
       "description_width": ""
      }
     },
     "9753e36da81f4d7db15bf5803539bdf3": {
      "model_module": "@jupyter-widgets/base",
      "model_module_version": "1.2.0",
      "model_name": "LayoutModel",
      "state": {
       "_model_module": "@jupyter-widgets/base",
       "_model_module_version": "1.2.0",
       "_model_name": "LayoutModel",
       "_view_count": null,
       "_view_module": "@jupyter-widgets/base",
       "_view_module_version": "1.2.0",
       "_view_name": "LayoutView",
       "align_content": null,
       "align_items": null,
       "align_self": null,
       "border": null,
       "bottom": null,
       "display": null,
       "flex": null,
       "flex_flow": null,
       "grid_area": null,
       "grid_auto_columns": null,
       "grid_auto_flow": null,
       "grid_auto_rows": null,
       "grid_column": null,
       "grid_gap": null,
       "grid_row": null,
       "grid_template_areas": null,
       "grid_template_columns": null,
       "grid_template_rows": null,
       "height": null,
       "justify_content": null,
       "justify_items": null,
       "left": null,
       "margin": null,
       "max_height": null,
       "max_width": null,
       "min_height": null,
       "min_width": null,
       "object_fit": null,
       "object_position": null,
       "order": null,
       "overflow": null,
       "overflow_x": null,
       "overflow_y": null,
       "padding": null,
       "right": null,
       "top": null,
       "visibility": null,
       "width": null
      }
     },
     "9e6e6677a3b84619b46d8a51ff795b16": {
      "model_module": "@jupyter-widgets/controls",
      "model_module_version": "1.5.0",
      "model_name": "DescriptionStyleModel",
      "state": {
       "_model_module": "@jupyter-widgets/controls",
       "_model_module_version": "1.5.0",
       "_model_name": "DescriptionStyleModel",
       "_view_count": null,
       "_view_module": "@jupyter-widgets/base",
       "_view_module_version": "1.2.0",
       "_view_name": "StyleView",
       "description_width": ""
      }
     },
     "9f22e9fc81cb413aab158888445215de": {
      "model_module": "@jupyter-widgets/base",
      "model_module_version": "1.2.0",
      "model_name": "LayoutModel",
      "state": {
       "_model_module": "@jupyter-widgets/base",
       "_model_module_version": "1.2.0",
       "_model_name": "LayoutModel",
       "_view_count": null,
       "_view_module": "@jupyter-widgets/base",
       "_view_module_version": "1.2.0",
       "_view_name": "LayoutView",
       "align_content": null,
       "align_items": null,
       "align_self": null,
       "border": null,
       "bottom": null,
       "display": null,
       "flex": null,
       "flex_flow": null,
       "grid_area": null,
       "grid_auto_columns": null,
       "grid_auto_flow": null,
       "grid_auto_rows": null,
       "grid_column": null,
       "grid_gap": null,
       "grid_row": null,
       "grid_template_areas": null,
       "grid_template_columns": null,
       "grid_template_rows": null,
       "height": null,
       "justify_content": null,
       "justify_items": null,
       "left": null,
       "margin": null,
       "max_height": null,
       "max_width": null,
       "min_height": null,
       "min_width": null,
       "object_fit": null,
       "object_position": null,
       "order": null,
       "overflow": null,
       "overflow_x": null,
       "overflow_y": null,
       "padding": null,
       "right": null,
       "top": null,
       "visibility": null,
       "width": null
      }
     },
     "a137c3f769004adea46694eba8fbceed": {
      "model_module": "@jupyter-widgets/base",
      "model_module_version": "1.2.0",
      "model_name": "LayoutModel",
      "state": {
       "_model_module": "@jupyter-widgets/base",
       "_model_module_version": "1.2.0",
       "_model_name": "LayoutModel",
       "_view_count": null,
       "_view_module": "@jupyter-widgets/base",
       "_view_module_version": "1.2.0",
       "_view_name": "LayoutView",
       "align_content": null,
       "align_items": null,
       "align_self": null,
       "border": null,
       "bottom": null,
       "display": null,
       "flex": null,
       "flex_flow": null,
       "grid_area": null,
       "grid_auto_columns": null,
       "grid_auto_flow": null,
       "grid_auto_rows": null,
       "grid_column": null,
       "grid_gap": null,
       "grid_row": null,
       "grid_template_areas": null,
       "grid_template_columns": null,
       "grid_template_rows": null,
       "height": null,
       "justify_content": null,
       "justify_items": null,
       "left": null,
       "margin": null,
       "max_height": null,
       "max_width": null,
       "min_height": null,
       "min_width": null,
       "object_fit": null,
       "object_position": null,
       "order": null,
       "overflow": null,
       "overflow_x": null,
       "overflow_y": null,
       "padding": null,
       "right": null,
       "top": null,
       "visibility": null,
       "width": null
      }
     },
     "a1e1f9bd85d549ebba21c512cc3f1d66": {
      "model_module": "@jupyter-widgets/controls",
      "model_module_version": "1.5.0",
      "model_name": "HTMLModel",
      "state": {
       "_dom_classes": [],
       "_model_module": "@jupyter-widgets/controls",
       "_model_module_version": "1.5.0",
       "_model_name": "HTMLModel",
       "_view_count": null,
       "_view_module": "@jupyter-widgets/controls",
       "_view_module_version": "1.5.0",
       "_view_name": "HTMLView",
       "description": "",
       "description_tooltip": null,
       "layout": "IPY_MODEL_455d6ce5c3304a9697c0aa5002ff94b9",
       "placeholder": "​",
       "style": "IPY_MODEL_9e6e6677a3b84619b46d8a51ff795b16",
       "value": "100%"
      }
     },
     "a9f123f9cb5749aba87af30a3f8d276b": {
      "model_module": "@jupyter-widgets/controls",
      "model_module_version": "1.5.0",
      "model_name": "ProgressStyleModel",
      "state": {
       "_model_module": "@jupyter-widgets/controls",
       "_model_module_version": "1.5.0",
       "_model_name": "ProgressStyleModel",
       "_view_count": null,
       "_view_module": "@jupyter-widgets/base",
       "_view_module_version": "1.2.0",
       "_view_name": "StyleView",
       "bar_color": null,
       "description_width": ""
      }
     },
     "abe048958d38403da308e1c19cb8df36": {
      "model_module": "@jupyter-widgets/base",
      "model_module_version": "1.2.0",
      "model_name": "LayoutModel",
      "state": {
       "_model_module": "@jupyter-widgets/base",
       "_model_module_version": "1.2.0",
       "_model_name": "LayoutModel",
       "_view_count": null,
       "_view_module": "@jupyter-widgets/base",
       "_view_module_version": "1.2.0",
       "_view_name": "LayoutView",
       "align_content": null,
       "align_items": null,
       "align_self": null,
       "border": null,
       "bottom": null,
       "display": null,
       "flex": null,
       "flex_flow": null,
       "grid_area": null,
       "grid_auto_columns": null,
       "grid_auto_flow": null,
       "grid_auto_rows": null,
       "grid_column": null,
       "grid_gap": null,
       "grid_row": null,
       "grid_template_areas": null,
       "grid_template_columns": null,
       "grid_template_rows": null,
       "height": null,
       "justify_content": null,
       "justify_items": null,
       "left": null,
       "margin": null,
       "max_height": null,
       "max_width": null,
       "min_height": null,
       "min_width": null,
       "object_fit": null,
       "object_position": null,
       "order": null,
       "overflow": null,
       "overflow_x": null,
       "overflow_y": null,
       "padding": null,
       "right": null,
       "top": null,
       "visibility": null,
       "width": null
      }
     },
     "ac433e4180ac4ba28b25b45002cd4d19": {
      "model_module": "@jupyter-widgets/controls",
      "model_module_version": "1.5.0",
      "model_name": "HBoxModel",
      "state": {
       "_dom_classes": [],
       "_model_module": "@jupyter-widgets/controls",
       "_model_module_version": "1.5.0",
       "_model_name": "HBoxModel",
       "_view_count": null,
       "_view_module": "@jupyter-widgets/controls",
       "_view_module_version": "1.5.0",
       "_view_name": "HBoxView",
       "box_style": "",
       "children": [
        "IPY_MODEL_f46f7b42d8e7460fbc333fbeed98a074",
        "IPY_MODEL_6fa4efd451b54b7da19aadfe3c9564dc",
        "IPY_MODEL_31c87f677ad74de1bf0aeaeeea763c01"
       ],
       "layout": "IPY_MODEL_a137c3f769004adea46694eba8fbceed"
      }
     },
     "b1d2311478504781ae635d527fe4d1f8": {
      "model_module": "@jupyter-widgets/controls",
      "model_module_version": "1.5.0",
      "model_name": "FloatProgressModel",
      "state": {
       "_dom_classes": [],
       "_model_module": "@jupyter-widgets/controls",
       "_model_module_version": "1.5.0",
       "_model_name": "FloatProgressModel",
       "_view_count": null,
       "_view_module": "@jupyter-widgets/controls",
       "_view_module_version": "1.5.0",
       "_view_name": "ProgressView",
       "bar_style": "success",
       "description": "",
       "description_tooltip": null,
       "layout": "IPY_MODEL_8caead85dddc4407a6c2f1588c74b89d",
       "max": 2715.0,
       "min": 0.0,
       "orientation": "horizontal",
       "style": "IPY_MODEL_37e4c9d2de9e4c2ca79b57fd856f69f3",
       "value": 2715.0
      }
     },
     "b2c5429ebf6f41148ed0dbbf8199db7a": {
      "model_module": "@jupyter-widgets/controls",
      "model_module_version": "1.5.0",
      "model_name": "HTMLModel",
      "state": {
       "_dom_classes": [],
       "_model_module": "@jupyter-widgets/controls",
       "_model_module_version": "1.5.0",
       "_model_name": "HTMLModel",
       "_view_count": null,
       "_view_module": "@jupyter-widgets/controls",
       "_view_module_version": "1.5.0",
       "_view_name": "HTMLView",
       "description": "",
       "description_tooltip": null,
       "layout": "IPY_MODEL_d7ea9aec3b474e89890ff0de977fd95a",
       "placeholder": "​",
       "style": "IPY_MODEL_f40cdac524cf43f583da10f1b86f98cb",
       "value": " 6/6 [00:02&lt;00:00,  2.09it/s]"
      }
     },
     "bb1d294251d24a94924c71828504983d": {
      "model_module": "@jupyter-widgets/controls",
      "model_module_version": "1.5.0",
      "model_name": "DescriptionStyleModel",
      "state": {
       "_model_module": "@jupyter-widgets/controls",
       "_model_module_version": "1.5.0",
       "_model_name": "DescriptionStyleModel",
       "_view_count": null,
       "_view_module": "@jupyter-widgets/base",
       "_view_module_version": "1.2.0",
       "_view_name": "StyleView",
       "description_width": ""
      }
     },
     "beb302221e164199903400b8708cb80e": {
      "model_module": "@jupyter-widgets/base",
      "model_module_version": "1.2.0",
      "model_name": "LayoutModel",
      "state": {
       "_model_module": "@jupyter-widgets/base",
       "_model_module_version": "1.2.0",
       "_model_name": "LayoutModel",
       "_view_count": null,
       "_view_module": "@jupyter-widgets/base",
       "_view_module_version": "1.2.0",
       "_view_name": "LayoutView",
       "align_content": null,
       "align_items": null,
       "align_self": null,
       "border": null,
       "bottom": null,
       "display": null,
       "flex": null,
       "flex_flow": null,
       "grid_area": null,
       "grid_auto_columns": null,
       "grid_auto_flow": null,
       "grid_auto_rows": null,
       "grid_column": null,
       "grid_gap": null,
       "grid_row": null,
       "grid_template_areas": null,
       "grid_template_columns": null,
       "grid_template_rows": null,
       "height": null,
       "justify_content": null,
       "justify_items": null,
       "left": null,
       "margin": null,
       "max_height": null,
       "max_width": null,
       "min_height": null,
       "min_width": null,
       "object_fit": null,
       "object_position": null,
       "order": null,
       "overflow": null,
       "overflow_x": null,
       "overflow_y": null,
       "padding": null,
       "right": null,
       "top": null,
       "visibility": null,
       "width": null
      }
     },
     "d7ea9aec3b474e89890ff0de977fd95a": {
      "model_module": "@jupyter-widgets/base",
      "model_module_version": "1.2.0",
      "model_name": "LayoutModel",
      "state": {
       "_model_module": "@jupyter-widgets/base",
       "_model_module_version": "1.2.0",
       "_model_name": "LayoutModel",
       "_view_count": null,
       "_view_module": "@jupyter-widgets/base",
       "_view_module_version": "1.2.0",
       "_view_name": "LayoutView",
       "align_content": null,
       "align_items": null,
       "align_self": null,
       "border": null,
       "bottom": null,
       "display": null,
       "flex": null,
       "flex_flow": null,
       "grid_area": null,
       "grid_auto_columns": null,
       "grid_auto_flow": null,
       "grid_auto_rows": null,
       "grid_column": null,
       "grid_gap": null,
       "grid_row": null,
       "grid_template_areas": null,
       "grid_template_columns": null,
       "grid_template_rows": null,
       "height": null,
       "justify_content": null,
       "justify_items": null,
       "left": null,
       "margin": null,
       "max_height": null,
       "max_width": null,
       "min_height": null,
       "min_width": null,
       "object_fit": null,
       "object_position": null,
       "order": null,
       "overflow": null,
       "overflow_x": null,
       "overflow_y": null,
       "padding": null,
       "right": null,
       "top": null,
       "visibility": null,
       "width": null
      }
     },
     "da4fea22d57140d4b60de411a1a18aa5": {
      "model_module": "@jupyter-widgets/controls",
      "model_module_version": "1.5.0",
      "model_name": "HBoxModel",
      "state": {
       "_dom_classes": [],
       "_model_module": "@jupyter-widgets/controls",
       "_model_module_version": "1.5.0",
       "_model_name": "HBoxModel",
       "_view_count": null,
       "_view_module": "@jupyter-widgets/controls",
       "_view_module_version": "1.5.0",
       "_view_name": "HBoxView",
       "box_style": "",
       "children": [
        "IPY_MODEL_62699ccc03954a1f9a0dff56e1b11b93",
        "IPY_MODEL_6337af0a22ea4149b706beee8b6e34db",
        "IPY_MODEL_655d6717973945069be9ce0e45efbe30"
       ],
       "layout": "IPY_MODEL_e57cd76b08d24c9fafa37cd28f87b83a"
      }
     },
     "e008b4ee076a4ac4a21911b2865ff66a": {
      "model_module": "@jupyter-widgets/controls",
      "model_module_version": "1.5.0",
      "model_name": "DescriptionStyleModel",
      "state": {
       "_model_module": "@jupyter-widgets/controls",
       "_model_module_version": "1.5.0",
       "_model_name": "DescriptionStyleModel",
       "_view_count": null,
       "_view_module": "@jupyter-widgets/base",
       "_view_module_version": "1.2.0",
       "_view_name": "StyleView",
       "description_width": ""
      }
     },
     "e57cd76b08d24c9fafa37cd28f87b83a": {
      "model_module": "@jupyter-widgets/base",
      "model_module_version": "1.2.0",
      "model_name": "LayoutModel",
      "state": {
       "_model_module": "@jupyter-widgets/base",
       "_model_module_version": "1.2.0",
       "_model_name": "LayoutModel",
       "_view_count": null,
       "_view_module": "@jupyter-widgets/base",
       "_view_module_version": "1.2.0",
       "_view_name": "LayoutView",
       "align_content": null,
       "align_items": null,
       "align_self": null,
       "border": null,
       "bottom": null,
       "display": null,
       "flex": null,
       "flex_flow": null,
       "grid_area": null,
       "grid_auto_columns": null,
       "grid_auto_flow": null,
       "grid_auto_rows": null,
       "grid_column": null,
       "grid_gap": null,
       "grid_row": null,
       "grid_template_areas": null,
       "grid_template_columns": null,
       "grid_template_rows": null,
       "height": null,
       "justify_content": null,
       "justify_items": null,
       "left": null,
       "margin": null,
       "max_height": null,
       "max_width": null,
       "min_height": null,
       "min_width": null,
       "object_fit": null,
       "object_position": null,
       "order": null,
       "overflow": null,
       "overflow_x": null,
       "overflow_y": null,
       "padding": null,
       "right": null,
       "top": null,
       "visibility": null,
       "width": null
      }
     },
     "f02a8f774644434d8c81133ba3d531cb": {
      "model_module": "@jupyter-widgets/base",
      "model_module_version": "1.2.0",
      "model_name": "LayoutModel",
      "state": {
       "_model_module": "@jupyter-widgets/base",
       "_model_module_version": "1.2.0",
       "_model_name": "LayoutModel",
       "_view_count": null,
       "_view_module": "@jupyter-widgets/base",
       "_view_module_version": "1.2.0",
       "_view_name": "LayoutView",
       "align_content": null,
       "align_items": null,
       "align_self": null,
       "border": null,
       "bottom": null,
       "display": null,
       "flex": null,
       "flex_flow": null,
       "grid_area": null,
       "grid_auto_columns": null,
       "grid_auto_flow": null,
       "grid_auto_rows": null,
       "grid_column": null,
       "grid_gap": null,
       "grid_row": null,
       "grid_template_areas": null,
       "grid_template_columns": null,
       "grid_template_rows": null,
       "height": null,
       "justify_content": null,
       "justify_items": null,
       "left": null,
       "margin": null,
       "max_height": null,
       "max_width": null,
       "min_height": null,
       "min_width": null,
       "object_fit": null,
       "object_position": null,
       "order": null,
       "overflow": null,
       "overflow_x": null,
       "overflow_y": null,
       "padding": null,
       "right": null,
       "top": null,
       "visibility": null,
       "width": null
      }
     },
     "f40cdac524cf43f583da10f1b86f98cb": {
      "model_module": "@jupyter-widgets/controls",
      "model_module_version": "1.5.0",
      "model_name": "DescriptionStyleModel",
      "state": {
       "_model_module": "@jupyter-widgets/controls",
       "_model_module_version": "1.5.0",
       "_model_name": "DescriptionStyleModel",
       "_view_count": null,
       "_view_module": "@jupyter-widgets/base",
       "_view_module_version": "1.2.0",
       "_view_name": "StyleView",
       "description_width": ""
      }
     },
     "f46f7b42d8e7460fbc333fbeed98a074": {
      "model_module": "@jupyter-widgets/controls",
      "model_module_version": "1.5.0",
      "model_name": "HTMLModel",
      "state": {
       "_dom_classes": [],
       "_model_module": "@jupyter-widgets/controls",
       "_model_module_version": "1.5.0",
       "_model_name": "HTMLModel",
       "_view_count": null,
       "_view_module": "@jupyter-widgets/controls",
       "_view_module_version": "1.5.0",
       "_view_name": "HTMLView",
       "description": "",
       "description_tooltip": null,
       "layout": "IPY_MODEL_f02a8f774644434d8c81133ba3d531cb",
       "placeholder": "​",
       "style": "IPY_MODEL_4528102d3534492fb66a6ba50ad02f78",
       "value": "100%"
      }
     },
     "f5ad0266390c4cd98ce5e492973e8d62": {
      "model_module": "@jupyter-widgets/controls",
      "model_module_version": "1.5.0",
      "model_name": "ProgressStyleModel",
      "state": {
       "_model_module": "@jupyter-widgets/controls",
       "_model_module_version": "1.5.0",
       "_model_name": "ProgressStyleModel",
       "_view_count": null,
       "_view_module": "@jupyter-widgets/base",
       "_view_module_version": "1.2.0",
       "_view_name": "StyleView",
       "bar_color": null,
       "description_width": ""
      }
     }
    },
    "version_major": 2,
    "version_minor": 0
   }
  }
 },
 "nbformat": 4,
 "nbformat_minor": 5
}
