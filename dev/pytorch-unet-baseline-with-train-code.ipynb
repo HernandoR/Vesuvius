{
 "cells": [
  {
   "cell_type": "markdown",
   "id": "878a8706",
   "metadata": {
    "papermill": {
     "duration": 0.008212,
     "end_time": "2023-03-19T04:54:58.828996",
     "exception": false,
     "start_time": "2023-03-19T04:54:58.820784",
     "status": "completed"
    },
    "tags": []
   },
   "source": [
    "This is my first time participating in a segmentation task competition.\n",
    "Please point out any problems with my code in the comments, as I want to make my code better.\n",
    "Also, please feel free to ask me any questions you may have.\n",
    "\n",
    "\n",
    "My code is to divide a 65 channel image into several 512*512 blocks and infer block by block.\n",
    "I don't want to train on blocks that have all 0 mask values."
   ]
  },
  {
   "cell_type": "code",
   "execution_count": 4,
   "id": "3e496dff",
   "metadata": {
    "execution": {
     "iopub.execute_input": "2023-03-19T04:54:58.844770Z",
     "iopub.status.busy": "2023-03-19T04:54:58.843650Z",
     "iopub.status.idle": "2023-03-19T04:54:58.857561Z",
     "shell.execute_reply": "2023-03-19T04:54:58.856540Z"
    },
    "papermill": {
     "duration": 0.023921,
     "end_time": "2023-03-19T04:54:58.859730",
     "exception": false,
     "start_time": "2023-03-19T04:54:58.835809",
     "status": "completed"
    },
    "tags": []
   },
   "outputs": [
    {
     "data": {
      "text/plain": [
       "('exp0006', '54a2c6eb5b61')"
      ]
     },
     "execution_count": 4,
     "metadata": {},
     "output_type": "execute_result"
    }
   ],
   "source": [
    "import socket\n",
    "import sys\n",
    "\n",
    "\n",
    "is_train = _dh != [\"/kaggle/working\"]\n",
    "\n",
    "\n",
    "NB = \"exp0006\"\n",
    "HOST = \"54a2c6eb5b61\"\n",
    "\n",
    "\n",
    "NB, HOST"
   ]
  },
  {
   "cell_type": "code",
   "execution_count": null,
   "id": "797a3673",
   "metadata": {
    "papermill": {
     "duration": 0.006611,
     "end_time": "2023-03-19T04:54:58.873056",
     "exception": false,
     "start_time": "2023-03-19T04:54:58.866445",
     "status": "completed"
    },
    "tags": []
   },
   "outputs": [],
   "source": []
  },
  {
   "cell_type": "code",
   "execution_count": 5,
   "id": "a6466a7e",
   "metadata": {
    "execution": {
     "iopub.execute_input": "2023-03-19T04:54:58.887998Z",
     "iopub.status.busy": "2023-03-19T04:54:58.887434Z",
     "iopub.status.idle": "2023-03-19T04:54:59.965386Z",
     "shell.execute_reply": "2023-03-19T04:54:59.963851Z"
    },
    "papermill": {
     "duration": 1.088018,
     "end_time": "2023-03-19T04:54:59.967896",
     "exception": false,
     "start_time": "2023-03-19T04:54:58.879878",
     "status": "completed"
    },
    "tags": []
   },
   "outputs": [
    {
     "name": "stdout",
     "output_type": "stream",
     "text": [
      "Fri Mar 31 15:42:34 2023       \n",
      "+---------------------------------------------------------------------------------------+\n",
      "| NVIDIA-SMI 531.41                 Driver Version: 531.41       CUDA Version: 12.1     |\n",
      "|-----------------------------------------+----------------------+----------------------+\n",
      "| GPU  Name                      TCC/WDDM | Bus-Id        Disp.A | Volatile Uncorr. ECC |\n",
      "| Fan  Temp  Perf            Pwr:Usage/Cap|         Memory-Usage | GPU-Util  Compute M. |\n",
      "|                                         |                      |               MIG M. |\n",
      "|=========================================+======================+======================|\n",
      "|   0  NVIDIA GeForce RTX 3080       WDDM | 00000000:01:00.0  On |                  N/A |\n",
      "| 53%   52C    P0              137W / 370W|   1725MiB / 10240MiB |      1%      Default |\n",
      "|                                         |                      |                  N/A |\n",
      "+-----------------------------------------+----------------------+----------------------+\n",
      "                                                                                         \n",
      "+---------------------------------------------------------------------------------------+\n",
      "| Processes:                                                                            |\n",
      "|  GPU   GI   CI        PID   Type   Process name                            GPU Memory |\n",
      "|        ID   ID                                                             Usage      |\n",
      "|=======================================================================================|\n",
      "|    0   N/A  N/A      3716    C+G   ...siveControlPanel\\SystemSettings.exe    N/A      |\n",
      "|    0   N/A  N/A      6244    C+G   ...Programs\\Microsoft VS Code\\Code.exe    N/A      |\n",
      "|    0   N/A  N/A      8532    C+G   ...crosoft\\Edge\\Application\\msedge.exe    N/A      |\n",
      "|    0   N/A  N/A      9400    C+G   ...tionsPlus\\logioptionsplus_agent.exe    N/A      |\n",
      "|    0   N/A  N/A     12052    C+G   C:\\Windows\\explorer.exe                   N/A      |\n",
      "|    0   N/A  N/A     13068    C+G   ...nt.CBS_cw5n1h2txyewy\\SearchHost.exe    N/A      |\n",
      "|    0   N/A  N/A     13092    C+G   ...2txyewy\\StartMenuExperienceHost.exe    N/A      |\n",
      "|    0   N/A  N/A     14556    C+G   ....0_x64__8wekyb3d8bbwe\\HxOutlook.exe    N/A      |\n",
      "|    0   N/A  N/A     15328    C+G   ...t.LockApp_cw5n1h2txyewy\\LockApp.exe    N/A      |\n",
      "|    0   N/A  N/A     16856    C+G   ...rPicker\\PowerToys.ColorPickerUI.exe    N/A      |\n",
      "|    0   N/A  N/A     16888    C+G   ...FancyZones\\PowerToys.FancyZones.exe    N/A      |\n",
      "|    0   N/A  N/A     20224    C+G   ...5n1h2txyewy\\ShellExperienceHost.exe    N/A      |\n",
      "|    0   N/A  N/A     20472    C+G   ...CBS_cw5n1h2txyewy\\TextInputHost.exe    N/A      |\n",
      "|    0   N/A  N/A     21464    C+G   ...les\\Microsoft OneDrive\\OneDrive.exe    N/A      |"
     ]
    }
   ],
   "source": [
    "!nvidia-smi"
   ]
  },
  {
   "cell_type": "code",
   "execution_count": 6,
   "id": "ce8184ee",
   "metadata": {
    "execution": {
     "iopub.execute_input": "2023-03-19T04:54:59.988203Z",
     "iopub.status.busy": "2023-03-19T04:54:59.987881Z",
     "iopub.status.idle": "2023-03-19T04:55:05.441483Z",
     "shell.execute_reply": "2023-03-19T04:55:05.440343Z"
    },
    "papermill": {
     "duration": 5.464665,
     "end_time": "2023-03-19T04:55:05.444343",
     "exception": false,
     "start_time": "2023-03-19T04:54:59.979678",
     "status": "completed"
    },
    "tags": []
   },
   "outputs": [
    {
     "name": "stdout",
     "output_type": "stream",
     "text": [
      "\n",
      "|    0   N/A  N/A     22156    C+G   ...\\cef\\cef.win7x64\\steamwebhelper.exe    N/A      |\n",
      "|    0   N/A  N/A     22808    C+G   ...71.0_x64__8wekyb3d8bbwe\\GameBar.exe    N/A      |\n",
      "|    0   N/A  N/A     24028    C+G   ...es\\OpenBoxLab\\RaiDrive\\RaiDrive.exe    N/A      |\n",
      "|    0   N/A  N/A     24292    C+G   ...on\\wallpaper_engine\\wallpaper64.exe    N/A      |\n",
      "|    0   N/A  N/A     25140    C+G   ...les (x86)\\Battle.net\\Battle.net.exe    N/A      |\n",
      "|    0   N/A  N/A     25932    C+G   ...0.0_x64__p7pnf6hceqser\\snipaste.exe    N/A      |\n",
      "|    0   N/A  N/A     26924    C+G   ...on\\111.0.1661.54\\msedgewebview2.exe    N/A      |\n",
      "|    0   N/A  N/A     27544    C+G   ...2725_x64__8wekyb3d8bbwe\\msteams.exe    N/A      |\n",
      "|    0   N/A  N/A     28256    C+G   ...on\\111.0.1661.54\\msedgewebview2.exe    N/A      |\n",
      "|    0   N/A  N/A     28720    C+G   ...m Files (x86)\\TickTick\\TickTick.exe    N/A      |\n",
      "|    0   N/A  N/A     29448    C+G   ...on\\111.0.1661.54\\msedgewebview2.exe    N/A      |\n",
      "|    0   N/A  N/A     31756    C+G   ...les\\Microsoft OneDrive\\OneDrive.exe    N/A      |\n",
      "|    0   N/A  N/A     32276    C+G   ...2\\extracted\\runtime\\WeChatAppEx.exe    N/A      |\n",
      "|    0   N/A  N/A     32820    C+G   ...3.0_x64__cv1g1gvanyjgm\\WhatsApp.exe    N/A      |\n",
      "|    0   N/A  N/A     33720    C+G   ...__8wekyb3d8bbwe\\WindowsTerminal.exe    N/A      |\n",
      "+---------------------------------------------------------------------------------------+\n"
     ]
    }
   ],
   "source": [
    "\n",
    "import gc\n",
    "import glob\n",
    "import math\n",
    "import os\n",
    "import pickle\n",
    "import random\n",
    "import shutil\n",
    "import warnings\n",
    "from collections import OrderedDict\n",
    "from pathlib import Path\n",
    "\n",
    "import albumentations as albu\n",
    "import cv2\n",
    "import matplotlib.pyplot as plt\n",
    "\n",
    "# import mlflow\n",
    "import numpy as np\n",
    "import pandas as pd\n",
    "import timm\n",
    "import torch\n",
    "import torch.optim as optim\n",
    "from logzero import logger\n",
    "import logzero\n",
    "\n",
    "from sklearn.metrics import accuracy_score, f1_score, mean_squared_error, roc_auc_score\n",
    "from sklearn.model_selection import KFold, StratifiedGroupKFold, StratifiedKFold\n",
    "from torch import nn\n",
    "from torch.utils.data import DataLoader, Dataset\n",
    "from tqdm import tqdm\n",
    "\n",
    "warnings.simplefilter(\"ignore\")\n",
    "\n",
    "if is_train:\n",
    "    ROOT_DIR = Path(\"../\")\n",
    "    DATA_DIR = ROOT_DIR / \"data\" / \"raw\"\n",
    "    OUTPUT_DIR = ROOT_DIR / \"output\"\n",
    "    CP_DIR = OUTPUT_DIR\n",
    "    LOG_DIR = ROOT_DIR / \"saved\" / \"logs\"\n",
    "else:\n",
    "    ROOT_DIR = Path(\"../\")\n",
    "    DATA_DIR = Path(\"/kaggle/input/vesuvius-challenge-ink-detection\")\n",
    "    OUTPUT_DIR = Path(\"./\")\n",
    "    CP_DIR = Path(\"/kaggle/input/ink-model/\")\n",
    "    LOG_DIR = ROOT_DIR / \"saved\" / \"logs\"\n",
    "\n",
    "for p in [ROOT_DIR, DATA_DIR, OUTPUT_DIR, CP_DIR, LOG_DIR]:\n",
    "    if os.path.exists(p) is False:\n",
    "        os.makedirs(p)\n",
    "\n",
    "logzero.logfile(LOG_DIR / f\"{NB}.log\", maxBytes=1e8, backupCount=3)\n",
    "\n",
    "\n",
    "def to_pickle(filename, obj):\n",
    "    with open(filename, mode=\"wb\") as f:\n",
    "        pickle.dump(obj, f)\n",
    "\n",
    "\n",
    "def unpickle(filename):\n",
    "    with open(filename, mode=\"rb\") as fo:\n",
    "        p = pickle.load(fo)\n",
    "    return p"
   ]
  },
  {
   "cell_type": "code",
   "execution_count": null,
   "id": "3c22444f",
   "metadata": {
    "papermill": {
     "duration": 0.006639,
     "end_time": "2023-03-19T04:55:05.458204",
     "exception": false,
     "start_time": "2023-03-19T04:55:05.451565",
     "status": "completed"
    },
    "tags": []
   },
   "outputs": [],
   "source": []
  },
  {
   "cell_type": "code",
   "execution_count": null,
   "id": "947e2749",
   "metadata": {
    "papermill": {
     "duration": 0.006549,
     "end_time": "2023-03-19T04:55:05.471535",
     "exception": false,
     "start_time": "2023-03-19T04:55:05.464986",
     "status": "completed"
    },
    "tags": []
   },
   "outputs": [],
   "source": []
  },
  {
   "cell_type": "code",
   "execution_count": 39,
   "id": "f68f0fe2",
   "metadata": {
    "execution": {
     "iopub.execute_input": "2023-03-19T04:55:05.487601Z",
     "iopub.status.busy": "2023-03-19T04:55:05.486561Z",
     "iopub.status.idle": "2023-03-19T04:55:05.497847Z",
     "shell.execute_reply": "2023-03-19T04:55:05.496478Z"
    },
    "papermill": {
     "duration": 0.021519,
     "end_time": "2023-03-19T04:55:05.500022",
     "exception": false,
     "start_time": "2023-03-19T04:55:05.478503",
     "status": "completed"
    },
    "tags": []
   },
   "outputs": [
    {
     "name": "stdout",
     "output_type": "stream",
     "text": [
      "cpu count: 16\n"
     ]
    }
   ],
   "source": [
    "import multiprocessing\n",
    "\n",
    "print(\"cpu count:\", multiprocessing.cpu_count())\n",
    "\n",
    "\n",
    "class Config:\n",
    "    N_FOLD = 5\n",
    "    RANDOM_SATE = 42\n",
    "    LR = 1.0e-05\n",
    "    MAX_LR = 1.0e-5\n",
    "    PATIENCE = 15\n",
    "    EPOCH = 8\n",
    "    BATCH_SIZE = 4\n",
    "    IMG_SIZE = 128\n",
    "    NUM_WORKERS = multiprocessing.cpu_count()-4\n",
    "    \n",
    "\n",
    "SCAN_SLICE = 65\n",
    "SAMPLE_GAP = 3\n",
    "SAMPLE_SIZE= len(range(0, SCAN_SLICE, SAMPLE_GAP))\n",
    "\n",
    "\n",
    "\n",
    "def seed_everything(seed=1234):\n",
    "    random.seed(seed)\n",
    "    os.environ[\"PYTHONHASHSEED\"] = str(seed)\n",
    "    np.random.seed(seed)\n",
    "    torch.manual_seed(seed)\n",
    "    torch.cuda.manual_seed(seed)\n",
    "    torch.backends.cudnn.deterministic = True\n",
    "    torch.backends.cudnn.benchmark = False\n",
    "\n",
    "\n",
    "seed_everything(seed=Config.RANDOM_SATE)"
   ]
  },
  {
   "cell_type": "code",
   "execution_count": 40,
   "id": "2e84d8bf",
   "metadata": {
    "execution": {
     "iopub.execute_input": "2023-03-19T04:55:05.515372Z",
     "iopub.status.busy": "2023-03-19T04:55:05.514558Z",
     "iopub.status.idle": "2023-03-19T04:55:05.524282Z",
     "shell.execute_reply": "2023-03-19T04:55:05.523277Z"
    },
    "papermill": {
     "duration": 0.019617,
     "end_time": "2023-03-19T04:55:05.526384",
     "exception": false,
     "start_time": "2023-03-19T04:55:05.506767",
     "status": "completed"
    },
    "tags": []
   },
   "outputs": [
    {
     "data": {
      "text/plain": [
       "['..\\\\data\\\\raw\\\\sample_submission.csv',\n",
       " '..\\\\data\\\\raw\\\\test',\n",
       " '..\\\\data\\\\raw\\\\train']"
      ]
     },
     "execution_count": 40,
     "metadata": {},
     "output_type": "execute_result"
    }
   ],
   "source": [
    "glob.glob(str(DATA_DIR / \"*\"))"
   ]
  },
  {
   "cell_type": "code",
   "execution_count": 41,
   "id": "b95fd9d9",
   "metadata": {
    "execution": {
     "iopub.execute_input": "2023-03-19T04:55:05.541745Z",
     "iopub.status.busy": "2023-03-19T04:55:05.540862Z",
     "iopub.status.idle": "2023-03-19T04:55:05.548531Z",
     "shell.execute_reply": "2023-03-19T04:55:05.547655Z"
    },
    "papermill": {
     "duration": 0.017333,
     "end_time": "2023-03-19T04:55:05.550539",
     "exception": false,
     "start_time": "2023-03-19T04:55:05.533206",
     "status": "completed"
    },
    "tags": []
   },
   "outputs": [],
   "source": [
    "def rle(img, thr=0.5):\n",
    "    flat_img = img.flatten()\n",
    "    flat_img = np.where(flat_img > thr, 1, 0).astype(np.uint8)\n",
    "\n",
    "    starts = np.array((flat_img[:-1] == 0) & (flat_img[1:] == 1))\n",
    "    ends = np.array((flat_img[:-1] == 1) & (flat_img[1:] == 0))\n",
    "    starts_ix = np.where(starts)[0] + 2\n",
    "    ends_ix = np.where(ends)[0] + 2\n",
    "    lengths = ends_ix - starts_ix\n",
    "\n",
    "    return starts_ix, lengths\n",
    "\n",
    "\n",
    "def concat_tile(im_list_2d):\n",
    "    return cv2.vconcat([cv2.hconcat(im_list_h) for im_list_h in im_list_2d])"
   ]
  },
  {
   "cell_type": "code",
   "execution_count": null,
   "id": "7854a326",
   "metadata": {
    "papermill": {
     "duration": 0.006691,
     "end_time": "2023-03-19T04:55:05.564600",
     "exception": false,
     "start_time": "2023-03-19T04:55:05.557909",
     "status": "completed"
    },
    "tags": []
   },
   "outputs": [],
   "source": []
  },
  {
   "cell_type": "markdown",
   "id": "1ac5a0fd",
   "metadata": {
    "papermill": {
     "duration": 0.006762,
     "end_time": "2023-03-19T04:55:05.578631",
     "exception": false,
     "start_time": "2023-03-19T04:55:05.571869",
     "status": "completed"
    },
    "tags": []
   },
   "source": [
    "# Load Data"
   ]
  },
  {
   "cell_type": "code",
   "execution_count": 42,
   "id": "abd11fff",
   "metadata": {
    "execution": {
     "iopub.execute_input": "2023-03-19T04:55:05.593968Z",
     "iopub.status.busy": "2023-03-19T04:55:05.593688Z",
     "iopub.status.idle": "2023-03-19T04:55:05.603909Z",
     "shell.execute_reply": "2023-03-19T04:55:05.603008Z"
    },
    "papermill": {
     "duration": 0.020286,
     "end_time": "2023-03-19T04:55:05.605802",
     "exception": false,
     "start_time": "2023-03-19T04:55:05.585516",
     "status": "completed"
    },
    "tags": []
   },
   "outputs": [
    {
     "name": "stderr",
     "output_type": "stream",
     "text": [
      "100%|██████████| 22/22 [00:02<00:00,  8.42it/s]\n",
      "100%|██████████| 22/22 [00:16<00:00,  1.31it/s]\n",
      "100%|██████████| 22/22 [00:07<00:00,  3.14it/s]\n"
     ]
    }
   ],
   "source": [
    "if is_train:\n",
    "\n",
    "    img1 = []\n",
    "    for i in tqdm(range(0,SCAN_SLICE,SAMPLE_GAP)):\n",
    "        img1.append(cv2.imread(str(DATA_DIR / f\"train/1/surface_volume/{i:02}.tif\"), 0))\n",
    "\n",
    "    img2 = []\n",
    "    for i in tqdm(range(0,SCAN_SLICE,SAMPLE_GAP)):\n",
    "        img2.append(cv2.imread(str(DATA_DIR / f\"train/2/surface_volume/{i:02}.tif\"), 0))\n",
    "\n",
    "    img3 = []\n",
    "    for i in tqdm(range(0,SCAN_SLICE,SAMPLE_GAP)):\n",
    "        img3.append(cv2.imread(str(DATA_DIR / f\"train/3/surface_volume/{i:02}.tif\"), 0))\n",
    "\n",
    "    img1 = np.stack(img1)\n",
    "    img2 = np.stack(img2)\n",
    "    img3 = np.stack(img3)\n",
    "\n",
    "    img1_label = cv2.imread(str(DATA_DIR / f\"train/1/inklabels.png\"), 0)\n",
    "    img2_label = cv2.imread(str(DATA_DIR / f\"train/2/inklabels.png\"), 0)\n",
    "    img3_label = cv2.imread(str(DATA_DIR / f\"train/3/inklabels.png\"), 0)\n",
    "\n",
    "    img1_mask = cv2.imread(str(DATA_DIR / f\"train/1/mask.png\"), 0)\n",
    "    img2_mask = cv2.imread(str(DATA_DIR / f\"train/2/mask.png\"), 0)\n",
    "    img3_mask = cv2.imread(str(DATA_DIR / f\"train/3/mask.png\"), 0)"
   ]
  },
  {
   "cell_type": "code",
   "execution_count": null,
   "id": "8c47974d",
   "metadata": {
    "papermill": {
     "duration": 0.00703,
     "end_time": "2023-03-19T04:55:05.620028",
     "exception": false,
     "start_time": "2023-03-19T04:55:05.612998",
     "status": "completed"
    },
    "tags": []
   },
   "outputs": [],
   "source": []
  },
  {
   "cell_type": "markdown",
   "id": "6df4624f",
   "metadata": {
    "papermill": {
     "duration": 0.00681,
     "end_time": "2023-03-19T04:55:05.633687",
     "exception": false,
     "start_time": "2023-03-19T04:55:05.626877",
     "status": "completed"
    },
    "tags": []
   },
   "source": [
    "# Train"
   ]
  },
  {
   "cell_type": "code",
   "execution_count": 43,
   "id": "33edbb5c",
   "metadata": {
    "execution": {
     "iopub.execute_input": "2023-03-19T04:55:05.648860Z",
     "iopub.status.busy": "2023-03-19T04:55:05.648589Z",
     "iopub.status.idle": "2023-03-19T04:55:05.654681Z",
     "shell.execute_reply": "2023-03-19T04:55:05.653638Z"
    },
    "papermill": {
     "duration": 0.016236,
     "end_time": "2023-03-19T04:55:05.656750",
     "exception": false,
     "start_time": "2023-03-19T04:55:05.640514",
     "status": "completed"
    },
    "tags": []
   },
   "outputs": [],
   "source": [
    "def get_augmentation():\n",
    "    train_transform = [\n",
    "        albu.HorizontalFlip(p=0.5),\n",
    "        albu.VerticalFlip(p=0.5),\n",
    "        albu.Resize(height=Config.IMG_SIZE, width=Config.IMG_SIZE),\n",
    "        albu.Normalize(mean=[0], std=[1]),\n",
    "    ]\n",
    "    return albu.Compose(train_transform)\n",
    "\n",
    "\n",
    "def get_test_augmentation():\n",
    "    train_transform = [\n",
    "        albu.Resize(height=Config.IMG_SIZE, width=Config.IMG_SIZE),\n",
    "        albu.Normalize(mean=[0], std=[1]),\n",
    "    ]\n",
    "    return albu.Compose(train_transform)"
   ]
  },
  {
   "cell_type": "code",
   "execution_count": 44,
   "id": "b72e7e18",
   "metadata": {
    "execution": {
     "iopub.execute_input": "2023-03-19T04:55:05.672023Z",
     "iopub.status.busy": "2023-03-19T04:55:05.671767Z",
     "iopub.status.idle": "2023-03-19T04:55:05.688695Z",
     "shell.execute_reply": "2023-03-19T04:55:05.687710Z"
    },
    "papermill": {
     "duration": 0.026966,
     "end_time": "2023-03-19T04:55:05.690754",
     "exception": false,
     "start_time": "2023-03-19T04:55:05.663788",
     "status": "completed"
    },
    "tags": []
   },
   "outputs": [],
   "source": [
    "from CVDataSet import CVDataSet"
   ]
  },
  {
   "cell_type": "code",
   "execution_count": null,
   "id": "b4dfa7f2",
   "metadata": {
    "papermill": {
     "duration": 0.006722,
     "end_time": "2023-03-19T04:55:05.704358",
     "exception": false,
     "start_time": "2023-03-19T04:55:05.697636",
     "status": "completed"
    },
    "tags": []
   },
   "outputs": [],
   "source": []
  },
  {
   "cell_type": "code",
   "execution_count": 45,
   "id": "d51a73f7",
   "metadata": {
    "execution": {
     "iopub.execute_input": "2023-03-19T04:55:05.719329Z",
     "iopub.status.busy": "2023-03-19T04:55:05.719047Z",
     "iopub.status.idle": "2023-03-19T04:55:05.736215Z",
     "shell.execute_reply": "2023-03-19T04:55:05.735288Z"
    },
    "papermill": {
     "duration": 0.02715,
     "end_time": "2023-03-19T04:55:05.738302",
     "exception": false,
     "start_time": "2023-03-19T04:55:05.711152",
     "status": "completed"
    },
    "tags": []
   },
   "outputs": [],
   "source": [
    "class CVNet(nn.Module):\n",
    "    def __init__(self, num_classes):\n",
    "        super(CVNet, self).__init__()\n",
    "        self.num_classes = num_classes\n",
    "        self.contracting_11 = self.conv_block(in_channels=SAMPLE_SIZE, out_channels=64)\n",
    "        self.contracting_12 = nn.MaxPool2d(kernel_size=2, stride=2)\n",
    "        self.contracting_21 = self.conv_block(in_channels=64, out_channels=128)\n",
    "        self.contracting_22 = nn.MaxPool2d(kernel_size=2, stride=2)\n",
    "        self.contracting_31 = self.conv_block(in_channels=128, out_channels=256)\n",
    "        self.contracting_32 = nn.MaxPool2d(kernel_size=2, stride=2)\n",
    "        self.contracting_41 = self.conv_block(in_channels=256, out_channels=512)\n",
    "        self.contracting_42 = nn.MaxPool2d(kernel_size=2, stride=2)\n",
    "        self.middle = self.conv_block(in_channels=512, out_channels=1024)\n",
    "        self.expansive_11 = nn.ConvTranspose2d(\n",
    "            in_channels=1024,\n",
    "            out_channels=512,\n",
    "            kernel_size=3,\n",
    "            stride=2,\n",
    "            padding=1,\n",
    "            output_padding=1,\n",
    "        )\n",
    "        self.expansive_12 = self.conv_block(in_channels=1024, out_channels=512)\n",
    "        self.expansive_21 = nn.ConvTranspose2d(\n",
    "            in_channels=512,\n",
    "            out_channels=256,\n",
    "            kernel_size=3,\n",
    "            stride=2,\n",
    "            padding=1,\n",
    "            output_padding=1,\n",
    "        )\n",
    "        self.expansive_22 = self.conv_block(in_channels=512, out_channels=256)\n",
    "        self.expansive_31 = nn.ConvTranspose2d(\n",
    "            in_channels=256,\n",
    "            out_channels=128,\n",
    "            kernel_size=3,\n",
    "            stride=2,\n",
    "            padding=1,\n",
    "            output_padding=1,\n",
    "        )\n",
    "        self.expansive_32 = self.conv_block(in_channels=256, out_channels=128)\n",
    "        self.expansive_41 = nn.ConvTranspose2d(\n",
    "            in_channels=128,\n",
    "            out_channels=64,\n",
    "            kernel_size=3,\n",
    "            stride=2,\n",
    "            padding=1,\n",
    "            output_padding=1,\n",
    "        )\n",
    "        self.expansive_42 = self.conv_block(in_channels=128, out_channels=64)\n",
    "        self.output = nn.Conv2d(\n",
    "            in_channels=64, out_channels=num_classes, kernel_size=3, stride=1, padding=1\n",
    "        )\n",
    "\n",
    "    def conv_block(self, in_channels, out_channels):\n",
    "        block = nn.Sequential(\n",
    "            nn.Conv2d(\n",
    "                in_channels=in_channels,\n",
    "                out_channels=out_channels,\n",
    "                kernel_size=3,\n",
    "                stride=1,\n",
    "                padding=1,\n",
    "            ),\n",
    "            nn.ReLU(),\n",
    "            nn.BatchNorm2d(num_features=out_channels),\n",
    "            nn.Conv2d(\n",
    "                in_channels=out_channels,\n",
    "                out_channels=out_channels,\n",
    "                kernel_size=3,\n",
    "                stride=1,\n",
    "                padding=1,\n",
    "            ),\n",
    "            nn.ReLU(),\n",
    "            nn.BatchNorm2d(num_features=out_channels),\n",
    "        )\n",
    "        return block\n",
    "\n",
    "    def forward(self, X):\n",
    "        contracting_11_out = self.contracting_11(X)  # [-1, 64, 256, 256]\n",
    "        contracting_12_out = self.contracting_12(\n",
    "            contracting_11_out\n",
    "        )  # [-1, 64, 128, 128]\n",
    "        contracting_21_out = self.contracting_21(\n",
    "            contracting_12_out\n",
    "        )  # [-1, 128, 128, 128]\n",
    "        contracting_22_out = self.contracting_22(\n",
    "            contracting_21_out\n",
    "        )  # [-1, 128, 64, 64]\n",
    "        contracting_31_out = self.contracting_31(\n",
    "            contracting_22_out\n",
    "        )  # [-1, 256, 64, 64]\n",
    "        contracting_32_out = self.contracting_32(\n",
    "            contracting_31_out\n",
    "        )  # [-1, 256, 32, 32]\n",
    "        contracting_41_out = self.contracting_41(\n",
    "            contracting_32_out\n",
    "        )  # [-1, 512, 32, 32]\n",
    "        contracting_42_out = self.contracting_42(\n",
    "            contracting_41_out\n",
    "        )  # [-1, 512, 16, 16]\n",
    "        middle_out = self.middle(contracting_42_out)  # [-1, 1024, 16, 16]\n",
    "        expansive_11_out = self.expansive_11(middle_out)  # [-1, 512, 32, 32]\n",
    "        expansive_12_out = self.expansive_12(\n",
    "            torch.cat((expansive_11_out, contracting_41_out), dim=1)\n",
    "        )  # [-1, 1024, 32, 32] -> [-1, 512, 32, 32]\n",
    "        expansive_21_out = self.expansive_21(expansive_12_out)  # [-1, 256, 64, 64]\n",
    "        expansive_22_out = self.expansive_22(\n",
    "            torch.cat((expansive_21_out, contracting_31_out), dim=1)\n",
    "        )  # [-1, 512, 64, 64] -> [-1, 256, 64, 64]\n",
    "        expansive_31_out = self.expansive_31(expansive_22_out)  # [-1, 128, 128, 128]\n",
    "        expansive_32_out = self.expansive_32(\n",
    "            torch.cat((expansive_31_out, contracting_21_out), dim=1)\n",
    "        )  # [-1, 256, 128, 128] -> [-1, 128, 128, 128]\n",
    "        expansive_41_out = self.expansive_41(expansive_32_out)  # [-1, 64, 256, 256]\n",
    "        expansive_42_out = self.expansive_42(\n",
    "            torch.cat((expansive_41_out, contracting_11_out), dim=1)\n",
    "        )  # [-1, 128, 256, 256] -> [-1, 64, 256, 256]\n",
    "        output_out = self.output(expansive_42_out)  # [-1, num_classes, 256, 256]\n",
    "        return output_out"
   ]
  },
  {
   "cell_type": "code",
   "execution_count": 46,
   "id": "918d2707",
   "metadata": {
    "execution": {
     "iopub.execute_input": "2023-03-19T04:55:05.754822Z",
     "iopub.status.busy": "2023-03-19T04:55:05.753154Z",
     "iopub.status.idle": "2023-03-19T04:55:05.762294Z",
     "shell.execute_reply": "2023-03-19T04:55:05.761397Z"
    },
    "papermill": {
     "duration": 0.018979,
     "end_time": "2023-03-19T04:55:05.764174",
     "exception": false,
     "start_time": "2023-03-19T04:55:05.745195",
     "status": "completed"
    },
    "tags": []
   },
   "outputs": [],
   "source": [
    "class EarlyStopping:\n",
    "    def __init__(self, patience=7, verbose=False, delta=0, fold=\"\"):\n",
    "        self.patience = patience\n",
    "        self.verbose = verbose\n",
    "        self.counter = 0\n",
    "        self.best_score = None\n",
    "        self.early_stop = False\n",
    "        self.val_loss_min = np.Inf\n",
    "        self.delta = delta\n",
    "\n",
    "    def __call__(self, val_loss, model):\n",
    "\n",
    "        score = -val_loss\n",
    "\n",
    "        if self.best_score is None:\n",
    "            self.best_score = score\n",
    "            self.save_checkpoint(val_loss, model)\n",
    "        elif score < self.best_score + self.delta:\n",
    "            self.counter += 1\n",
    "            logger.info(f\"EarlyStopping counter: {self.counter} out of {self.patience}\")\n",
    "            if self.counter >= self.patience:\n",
    "                self.early_stop = True\n",
    "        else:\n",
    "            self.best_score = score\n",
    "            self.save_checkpoint(val_loss, model)\n",
    "            self.counter = 0\n",
    "\n",
    "    def save_checkpoint(self, val_loss, model):\n",
    "        \"\"\"Saves model when validation loss decrease.\"\"\"\n",
    "        if self.verbose:\n",
    "            logger.info(\n",
    "                f\"Validation loss decreased ({self.val_loss_min:.6f} --> {val_loss:.6f}).  Saving model ...\"\n",
    "            )\n",
    "\n",
    "        # if os.path.exists(CP_DIR / f'checkpoint_{NB}_{fold}.pt'):\n",
    "        #    shutil.move(CP_DIR / f'checkpoint_{NB}_{fold}.pt', CP_DIR / f'checkpoint_{NB}_{fold}-2.pt')\n",
    "        torch.save(model.state_dict(), CP_DIR / f\"{HOST}_{NB}_checkpoint_{fold}.pt\")\n",
    "        self.val_loss_min = val_loss"
   ]
  },
  {
   "cell_type": "code",
   "execution_count": 47,
   "id": "50ad7a24",
   "metadata": {
    "execution": {
     "iopub.execute_input": "2023-03-19T04:55:05.779045Z",
     "iopub.status.busy": "2023-03-19T04:55:05.778787Z",
     "iopub.status.idle": "2023-03-19T04:55:05.839917Z",
     "shell.execute_reply": "2023-03-19T04:55:05.839264Z"
    },
    "papermill": {
     "duration": 0.070809,
     "end_time": "2023-03-19T04:55:05.841942",
     "exception": false,
     "start_time": "2023-03-19T04:55:05.771133",
     "status": "completed"
    },
    "tags": []
   },
   "outputs": [
    {
     "data": {
      "text/plain": [
       "device(type='cuda')"
      ]
     },
     "execution_count": 47,
     "metadata": {},
     "output_type": "execute_result"
    }
   ],
   "source": [
    "device = torch.device(\"cuda\" if torch.cuda.is_available() else \"cpu\")\n",
    "device"
   ]
  },
  {
   "cell_type": "code",
   "execution_count": 48,
   "id": "e358078d",
   "metadata": {
    "execution": {
     "iopub.execute_input": "2023-03-19T04:55:05.858763Z",
     "iopub.status.busy": "2023-03-19T04:55:05.857114Z",
     "iopub.status.idle": "2023-03-19T04:55:05.864400Z",
     "shell.execute_reply": "2023-03-19T04:55:05.863494Z"
    },
    "papermill": {
     "duration": 0.017288,
     "end_time": "2023-03-19T04:55:05.866433",
     "exception": false,
     "start_time": "2023-03-19T04:55:05.849145",
     "status": "completed"
    },
    "tags": []
   },
   "outputs": [],
   "source": [
    "if is_train:\n",
    "    data_set = []\n",
    "    # data_set.append(\n",
    "    #     {\n",
    "    #         \"train_img\": [img1],\n",
    "    #         \"train_label\": [img1_label],\n",
    "    #         \"valid_img\": [img3],\n",
    "    #         \"valid_label\": [img3_label],\n",
    "    #         \"valid_mask\": [img3_mask],\n",
    "    #     }\n",
    "    # )\n",
    "    data_set.append(\n",
    "        {\n",
    "            \"train_img\": [img1, img2],\n",
    "            \"train_label\": [img1_label, img2_label],\n",
    "            \"valid_img\": [img3],\n",
    "            \"valid_label\": [img3_label],\n",
    "            \"valid_mask\": [img3_mask],\n",
    "        }\n",
    "    )\n",
    "\n",
    "    data_set.append(\n",
    "        {\n",
    "            \"train_img\": [img1, img3],\n",
    "            \"train_label\": [img1_label, img3_label],\n",
    "            \"valid_img\": [img2],\n",
    "            \"valid_label\": [img2_label],\n",
    "            \"valid_mask\": [img2_mask],\n",
    "        }\n",
    "    )\n",
    "\n",
    "    data_set.append(\n",
    "        {\n",
    "            \"train_img\": [img2, img3],\n",
    "            \"train_label\": [img2_label, img3_label],\n",
    "            \"valid_img\": [img1],\n",
    "            \"valid_label\": [img1_label],\n",
    "            \"valid_mask\": [img1_mask],\n",
    "        }\n",
    "    )"
   ]
  },
  {
   "cell_type": "code",
   "execution_count": 49,
   "id": "8d56677f",
   "metadata": {
    "execution": {
     "iopub.execute_input": "2023-03-19T04:55:05.881889Z",
     "iopub.status.busy": "2023-03-19T04:55:05.881631Z",
     "iopub.status.idle": "2023-03-19T04:55:05.898757Z",
     "shell.execute_reply": "2023-03-19T04:55:05.897288Z"
    },
    "papermill": {
     "duration": 0.027409,
     "end_time": "2023-03-19T04:55:05.900866",
     "exception": false,
     "start_time": "2023-03-19T04:55:05.873457",
     "status": "completed"
    },
    "tags": []
   },
   "outputs": [
    {
     "name": "stdout",
     "output_type": "stream",
     "text": [
      "====== 0 ======\n"
     ]
    },
    {
     "ename": "OSError",
     "evalue": "[Errno 22] Invalid argument",
     "output_type": "error",
     "traceback": [
      "\u001b[1;31m---------------------------------------------------------------------------\u001b[0m",
      "\u001b[1;31mOSError\u001b[0m                                   Traceback (most recent call last)",
      "File \u001b[1;32m<timed exec>:67\u001b[0m\n",
      "File \u001b[1;32mc:\\Users\\lzhen\\miniconda3\\envs\\Vesuvius\\lib\\site-packages\\torch\\utils\\data\\dataloader.py:442\u001b[0m, in \u001b[0;36mDataLoader.__iter__\u001b[1;34m(self)\u001b[0m\n\u001b[0;32m    440\u001b[0m     \u001b[39mreturn\u001b[39;00m \u001b[39mself\u001b[39m\u001b[39m.\u001b[39m_iterator\n\u001b[0;32m    441\u001b[0m \u001b[39melse\u001b[39;00m:\n\u001b[1;32m--> 442\u001b[0m     \u001b[39mreturn\u001b[39;00m \u001b[39mself\u001b[39;49m\u001b[39m.\u001b[39;49m_get_iterator()\n",
      "File \u001b[1;32mc:\\Users\\lzhen\\miniconda3\\envs\\Vesuvius\\lib\\site-packages\\torch\\utils\\data\\dataloader.py:388\u001b[0m, in \u001b[0;36mDataLoader._get_iterator\u001b[1;34m(self)\u001b[0m\n\u001b[0;32m    386\u001b[0m \u001b[39melse\u001b[39;00m:\n\u001b[0;32m    387\u001b[0m     \u001b[39mself\u001b[39m\u001b[39m.\u001b[39mcheck_worker_number_rationality()\n\u001b[1;32m--> 388\u001b[0m     \u001b[39mreturn\u001b[39;00m _MultiProcessingDataLoaderIter(\u001b[39mself\u001b[39;49m)\n",
      "File \u001b[1;32mc:\\Users\\lzhen\\miniconda3\\envs\\Vesuvius\\lib\\site-packages\\torch\\utils\\data\\dataloader.py:1043\u001b[0m, in \u001b[0;36m_MultiProcessingDataLoaderIter.__init__\u001b[1;34m(self, loader)\u001b[0m\n\u001b[0;32m   1036\u001b[0m w\u001b[39m.\u001b[39mdaemon \u001b[39m=\u001b[39m \u001b[39mTrue\u001b[39;00m\n\u001b[0;32m   1037\u001b[0m \u001b[39m# NB: Process.start() actually take some time as it needs to\u001b[39;00m\n\u001b[0;32m   1038\u001b[0m \u001b[39m#     start a process and pass the arguments over via a pipe.\u001b[39;00m\n\u001b[0;32m   1039\u001b[0m \u001b[39m#     Therefore, we only add a worker to self._workers list after\u001b[39;00m\n\u001b[0;32m   1040\u001b[0m \u001b[39m#     it started, so that we do not call .join() if program dies\u001b[39;00m\n\u001b[0;32m   1041\u001b[0m \u001b[39m#     before it starts, and __del__ tries to join but will get:\u001b[39;00m\n\u001b[0;32m   1042\u001b[0m \u001b[39m#     AssertionError: can only join a started process.\u001b[39;00m\n\u001b[1;32m-> 1043\u001b[0m w\u001b[39m.\u001b[39;49mstart()\n\u001b[0;32m   1044\u001b[0m \u001b[39mself\u001b[39m\u001b[39m.\u001b[39m_index_queues\u001b[39m.\u001b[39mappend(index_queue)\n\u001b[0;32m   1045\u001b[0m \u001b[39mself\u001b[39m\u001b[39m.\u001b[39m_workers\u001b[39m.\u001b[39mappend(w)\n",
      "File \u001b[1;32mc:\\Users\\lzhen\\miniconda3\\envs\\Vesuvius\\lib\\multiprocessing\\process.py:121\u001b[0m, in \u001b[0;36mBaseProcess.start\u001b[1;34m(self)\u001b[0m\n\u001b[0;32m    118\u001b[0m \u001b[39massert\u001b[39;00m \u001b[39mnot\u001b[39;00m _current_process\u001b[39m.\u001b[39m_config\u001b[39m.\u001b[39mget(\u001b[39m'\u001b[39m\u001b[39mdaemon\u001b[39m\u001b[39m'\u001b[39m), \\\n\u001b[0;32m    119\u001b[0m        \u001b[39m'\u001b[39m\u001b[39mdaemonic processes are not allowed to have children\u001b[39m\u001b[39m'\u001b[39m\n\u001b[0;32m    120\u001b[0m _cleanup()\n\u001b[1;32m--> 121\u001b[0m \u001b[39mself\u001b[39m\u001b[39m.\u001b[39m_popen \u001b[39m=\u001b[39m \u001b[39mself\u001b[39;49m\u001b[39m.\u001b[39;49m_Popen(\u001b[39mself\u001b[39;49m)\n\u001b[0;32m    122\u001b[0m \u001b[39mself\u001b[39m\u001b[39m.\u001b[39m_sentinel \u001b[39m=\u001b[39m \u001b[39mself\u001b[39m\u001b[39m.\u001b[39m_popen\u001b[39m.\u001b[39msentinel\n\u001b[0;32m    123\u001b[0m \u001b[39m# Avoid a refcycle if the target function holds an indirect\u001b[39;00m\n\u001b[0;32m    124\u001b[0m \u001b[39m# reference to the process object (see bpo-30775)\u001b[39;00m\n",
      "File \u001b[1;32mc:\\Users\\lzhen\\miniconda3\\envs\\Vesuvius\\lib\\multiprocessing\\context.py:224\u001b[0m, in \u001b[0;36mProcess._Popen\u001b[1;34m(process_obj)\u001b[0m\n\u001b[0;32m    222\u001b[0m \u001b[39m@staticmethod\u001b[39m\n\u001b[0;32m    223\u001b[0m \u001b[39mdef\u001b[39;00m \u001b[39m_Popen\u001b[39m(process_obj):\n\u001b[1;32m--> 224\u001b[0m     \u001b[39mreturn\u001b[39;00m _default_context\u001b[39m.\u001b[39;49mget_context()\u001b[39m.\u001b[39;49mProcess\u001b[39m.\u001b[39;49m_Popen(process_obj)\n",
      "File \u001b[1;32mc:\\Users\\lzhen\\miniconda3\\envs\\Vesuvius\\lib\\multiprocessing\\context.py:327\u001b[0m, in \u001b[0;36mSpawnProcess._Popen\u001b[1;34m(process_obj)\u001b[0m\n\u001b[0;32m    324\u001b[0m \u001b[39m@staticmethod\u001b[39m\n\u001b[0;32m    325\u001b[0m \u001b[39mdef\u001b[39;00m \u001b[39m_Popen\u001b[39m(process_obj):\n\u001b[0;32m    326\u001b[0m     \u001b[39mfrom\u001b[39;00m \u001b[39m.\u001b[39;00m\u001b[39mpopen_spawn_win32\u001b[39;00m \u001b[39mimport\u001b[39;00m Popen\n\u001b[1;32m--> 327\u001b[0m     \u001b[39mreturn\u001b[39;00m Popen(process_obj)\n",
      "File \u001b[1;32mc:\\Users\\lzhen\\miniconda3\\envs\\Vesuvius\\lib\\multiprocessing\\popen_spawn_win32.py:93\u001b[0m, in \u001b[0;36mPopen.__init__\u001b[1;34m(self, process_obj)\u001b[0m\n\u001b[0;32m     91\u001b[0m \u001b[39mtry\u001b[39;00m:\n\u001b[0;32m     92\u001b[0m     reduction\u001b[39m.\u001b[39mdump(prep_data, to_child)\n\u001b[1;32m---> 93\u001b[0m     reduction\u001b[39m.\u001b[39;49mdump(process_obj, to_child)\n\u001b[0;32m     94\u001b[0m \u001b[39mfinally\u001b[39;00m:\n\u001b[0;32m     95\u001b[0m     set_spawning_popen(\u001b[39mNone\u001b[39;00m)\n",
      "File \u001b[1;32mc:\\Users\\lzhen\\miniconda3\\envs\\Vesuvius\\lib\\multiprocessing\\reduction.py:60\u001b[0m, in \u001b[0;36mdump\u001b[1;34m(obj, file, protocol)\u001b[0m\n\u001b[0;32m     58\u001b[0m \u001b[39mdef\u001b[39;00m \u001b[39mdump\u001b[39m(obj, file, protocol\u001b[39m=\u001b[39m\u001b[39mNone\u001b[39;00m):\n\u001b[0;32m     59\u001b[0m \u001b[39m    \u001b[39m\u001b[39m'''Replacement for pickle.dump() using ForkingPickler.'''\u001b[39;00m\n\u001b[1;32m---> 60\u001b[0m     ForkingPickler(file, protocol)\u001b[39m.\u001b[39;49mdump(obj)\n",
      "\u001b[1;31mOSError\u001b[0m: [Errno 22] Invalid argument"
     ]
    }
   ],
   "source": [
    "%%time\n",
    "if is_train:\n",
    "    for fold in range(0, 3):\n",
    "        print(f\"====== {fold} ======\")\n",
    "\n",
    "        net = CVNet(1)\n",
    "        net.to(device)\n",
    "\n",
    "        # criterion = nn.MSELoss()\n",
    "        criterion = nn.BCEWithLogitsLoss()\n",
    "        optimizer = optim.AdamW(net.parameters(), lr=Config.LR, weight_decay=1.0e-02)\n",
    "\n",
    "        # train, valid = train_df.iloc[train_index], train_df.iloc[test_index]\n",
    "        # y_train, y_valid = train_labels.iloc[train_index], train_labels.iloc[test_index]\n",
    "\n",
    "        train_dataset = CVDataSet(\n",
    "            data_set[fold][\"train_img\"],\n",
    "            get_augmentation(),\n",
    "            labels=data_set[fold][\"train_label\"],\n",
    "            data_type=\"train\",\n",
    "            crop_size=Config.IMG_SIZE,\n",
    "        )\n",
    "        valid_dataset = CVDataSet(\n",
    "            data_set[fold][\"valid_img\"],\n",
    "            get_augmentation(),\n",
    "            labels=data_set[fold][\"valid_label\"],\n",
    "            data_type=\"valid\",\n",
    "            crop_size=Config.IMG_SIZE,\n",
    "        )\n",
    "\n",
    "        trainloader = DataLoader(\n",
    "            train_dataset,\n",
    "            batch_size=Config.BATCH_SIZE,\n",
    "            pin_memory=True,\n",
    "            shuffle=True,\n",
    "            drop_last=True,\n",
    "            num_workers=Config.NUM_WORKERS // 2,\n",
    "        )\n",
    "        validloader = DataLoader(\n",
    "            valid_dataset,\n",
    "            batch_size=Config.BATCH_SIZE,\n",
    "            pin_memory=True,\n",
    "            num_workers=Config.NUM_WORKERS // 2,\n",
    "        )\n",
    "\n",
    "        early_stopping = EarlyStopping(\n",
    "            patience=Config.PATIENCE, verbose=True, fold=fold\n",
    "        )\n",
    "        scheduler = torch.optim.lr_scheduler.OneCycleLR(\n",
    "            optimizer,\n",
    "            epochs=Config.EPOCH,\n",
    "            steps_per_epoch=len(trainloader),\n",
    "            max_lr=Config.MAX_LR,\n",
    "            pct_start=0.1,\n",
    "            anneal_strategy=\"cos\",\n",
    "            div_factor=1.0e3,\n",
    "            final_div_factor=1.0e3,\n",
    "        )\n",
    "\n",
    "        val_metrics = []\n",
    "        learning_rates = []\n",
    "\n",
    "        for epoch in range(Config.EPOCH):\n",
    "\n",
    "            running_loss = 0.0\n",
    "            train_rmse_list = []\n",
    "            n_iter = len(trainloader)\n",
    "            with tqdm(enumerate(trainloader), total=n_iter) as pbar:\n",
    "                for i, (img, target) in pbar:\n",
    "\n",
    "                    net.train()\n",
    "                    # zero the parameter gradients\n",
    "                    # optimizer.zero_grad()\n",
    "\n",
    "                    img, target = img.to(device).float(), target.to(device).float()\n",
    "\n",
    "                    outputs = net(img)\n",
    "\n",
    "                    loss = criterion(outputs.squeeze(), target)\n",
    "\n",
    "                    loss.backward()\n",
    "                    optimizer.step()\n",
    "                    net.zero_grad()\n",
    "\n",
    "                    # print statistics\n",
    "                    running_loss += loss.item()\n",
    "\n",
    "                    outputs_np = outputs.to(\"cpu\").detach().numpy().copy()\n",
    "\n",
    "                    pbar.set_postfix(\n",
    "                        OrderedDict(\n",
    "                            epoch=\"{:>10}\".format(epoch),\n",
    "                            loss=\"{:.4f}\".format(loss.item()),\n",
    "                        )\n",
    "                    )\n",
    "                    scheduler.step()\n",
    "\n",
    "            val_preds = []\n",
    "            valid_targets = []\n",
    "            n_iter_val = len(validloader)\n",
    "            for i, (img, target) in tqdm(\n",
    "                enumerate(validloader), total=n_iter_val, smoothing=0\n",
    "            ):\n",
    "                net.eval()\n",
    "\n",
    "                with torch.no_grad():\n",
    "                    img, pawpularities = (\n",
    "                        img.to(device).float(),\n",
    "                        target.to(device).float(),\n",
    "                    )\n",
    "                    outputs = net(img)\n",
    "                    outputs = outputs.sigmoid()\n",
    "                    outputs_np = outputs.to(\"cpu\").detach().numpy().copy()\n",
    "\n",
    "                    val_preds.append(outputs_np)\n",
    "                    valid_targets.append(\n",
    "                        pawpularities.to(\"cpu\").detach().numpy().copy()\n",
    "                    )\n",
    "\n",
    "            ## 端を切る\n",
    "            w_count = math.ceil(\n",
    "                data_set[fold][\"valid_label\"][0].shape[1] / Config.IMG_SIZE\n",
    "            )\n",
    "            h_count = math.ceil(\n",
    "                data_set[fold][\"valid_label\"][0].shape[0] / Config.IMG_SIZE\n",
    "            )\n",
    "\n",
    "            tile_arry = []\n",
    "            stack_pred = np.vstack(val_preds).reshape(\n",
    "                -1, Config.IMG_SIZE, Config.IMG_SIZE\n",
    "            )\n",
    "            for h_i in range(h_count):\n",
    "                # print(len(test_preds[h_i * w_count:(h_i + 1) * w_count]), h_i * w_count, (h_i + 1) * w_count)\n",
    "                tile_arry.append(stack_pred[h_i * w_count : (h_i + 1) * w_count])\n",
    "\n",
    "            pred_tile_img = concat_tile(tile_arry)\n",
    "            pred_tile_img = np.where(\n",
    "                data_set[fold][\"valid_mask\"][0] > 1,\n",
    "                pred_tile_img[\n",
    "                    : data_set[fold][\"valid_label\"][0].shape[0],\n",
    "                    : data_set[fold][\"valid_label\"][0].shape[1],\n",
    "                ],\n",
    "                0,\n",
    "            )\n",
    "            auc = roc_auc_score(\n",
    "                data_set[fold][\"valid_label\"][0].reshape(-1),\n",
    "                pred_tile_img.reshape(-1),\n",
    "            )\n",
    "            auc\n",
    "\n",
    "            logger.info(\"auc:{:.4f}\".format(auc))\n",
    "\n",
    "            lr = optimizer.param_groups[0][\"lr\"]\n",
    "\n",
    "            val_metrics.append(auc)\n",
    "            learning_rates.append(lr)\n",
    "\n",
    "            early_stopping(-auc, net)\n",
    "\n",
    "            if early_stopping.early_stop:\n",
    "                logger.info(\"Early stopping\")\n",
    "                break\n",
    "\n",
    "        fig = plt.figure()\n",
    "        ax1 = fig.add_subplot(111)\n",
    "        ax1.plot(learning_rates)\n",
    "        ax2 = ax1.twinx()\n",
    "        ax2.plot(val_metrics)\n",
    "        plt.show()\n",
    "\n",
    "        del net, validloader, trainloader, train_dataset, valid_dataset, img, target, outputs\n",
    "        torch.cuda.empty_cache()\n",
    "        gc.collect()"
   ]
  },
  {
   "cell_type": "code",
   "execution_count": null,
   "id": "dd676c8a",
   "metadata": {
    "papermill": {
     "duration": 0.006877,
     "end_time": "2023-03-19T04:55:05.914721",
     "exception": false,
     "start_time": "2023-03-19T04:55:05.907844",
     "status": "completed"
    },
    "tags": []
   },
   "outputs": [],
   "source": []
  },
  {
   "cell_type": "markdown",
   "id": "fc1e5633",
   "metadata": {
    "papermill": {
     "duration": 0.006809,
     "end_time": "2023-03-19T04:55:05.928511",
     "exception": false,
     "start_time": "2023-03-19T04:55:05.921702",
     "status": "completed"
    },
    "tags": []
   },
   "source": [
    "# Validation"
   ]
  },
  {
   "cell_type": "code",
   "execution_count": null,
   "id": "6871deae",
   "metadata": {
    "execution": {
     "iopub.execute_input": "2023-03-19T04:55:05.944672Z",
     "iopub.status.busy": "2023-03-19T04:55:05.943941Z",
     "iopub.status.idle": "2023-03-19T04:55:05.955767Z",
     "shell.execute_reply": "2023-03-19T04:55:05.954214Z"
    },
    "papermill": {
     "duration": 0.022963,
     "end_time": "2023-03-19T04:55:05.958562",
     "exception": false,
     "start_time": "2023-03-19T04:55:05.935599",
     "status": "completed"
    },
    "tags": []
   },
   "outputs": [],
   "source": [
    "%%time\n",
    "if is_train:\n",
    "    all_preds = []\n",
    "    all_masks = []\n",
    "    for fold in range(0, 3):\n",
    "        print(f\"====== {fold} ======\")\n",
    "\n",
    "        net = CVNet(1)\n",
    "        net.load_state_dict(torch.load(CP_DIR / f\"{HOST}_{NB}_checkpoint_{fold}.pt\"))\n",
    "        net.to(device)\n",
    "\n",
    "        valid_dataset = CVDataSet(\n",
    "            data_set[fold][\"valid_img\"],\n",
    "            get_augmentation(),\n",
    "            labels=data_set[fold][\"valid_label\"],\n",
    "            data_type=\"valid\",\n",
    "            crop_size=Config.IMG_SIZE,\n",
    "        )\n",
    "\n",
    "        validloader = DataLoader(\n",
    "            valid_dataset,\n",
    "            batch_size=int(Config.BATCH_SIZE / 4),\n",
    "            pin_memory=True,\n",
    "            num_workers=Config.NUM_WORKERS - 2,\n",
    "        )\n",
    "\n",
    "        val_preds = []\n",
    "        valid_targets = []\n",
    "        n_iter_val = len(validloader)\n",
    "        for i, (img, target) in tqdm(enumerate(validloader), total=n_iter_val):\n",
    "            net.eval()\n",
    "\n",
    "            with torch.no_grad():\n",
    "                img, pawpularities = img.to(device).float(), target.to(device).float()\n",
    "                outputs = net(img)\n",
    "                outputs = outputs.sigmoid()\n",
    "                outputs_np = outputs.to(\"cpu\").detach().numpy().copy()\n",
    "\n",
    "                val_preds.append(outputs_np)\n",
    "                valid_targets.append(pawpularities.to(\"cpu\").detach().numpy().copy())\n",
    "\n",
    "        ## 端を切る\n",
    "        w_count = math.ceil(data_set[fold][\"valid_label\"][0].shape[1] / Config.IMG_SIZE)\n",
    "        h_count = math.ceil(data_set[fold][\"valid_label\"][0].shape[0] / Config.IMG_SIZE)\n",
    "\n",
    "        tile_arry = []\n",
    "        stack_pred = np.vstack(val_preds).reshape(-1, Config.IMG_SIZE, Config.IMG_SIZE)\n",
    "        for h_i in range(h_count):\n",
    "            # print(len(test_preds[h_i * w_count:(h_i + 1) * w_count]), h_i * w_count, (h_i + 1) * w_count)\n",
    "            tile_arry.append(stack_pred[h_i * w_count : (h_i + 1) * w_count])\n",
    "\n",
    "        pred_tile_img = concat_tile(tile_arry)\n",
    "        pred_tile_img = np.where(\n",
    "            data_set[fold][\"valid_mask\"][0] > 1,\n",
    "            pred_tile_img[\n",
    "                : data_set[fold][\"valid_label\"][0].shape[0],\n",
    "                : data_set[fold][\"valid_label\"][0].shape[1],\n",
    "            ],\n",
    "            0,\n",
    "        )\n",
    "\n",
    "        auc = roc_auc_score(\n",
    "            data_set[fold][\"valid_label\"][0].reshape(-1),\n",
    "            pred_tile_img.reshape(-1),\n",
    "        )\n",
    "        auc\n",
    "\n",
    "        all_masks.append(data_set[fold][\"valid_label\"][0].reshape(-1))\n",
    "        all_preds.append(pred_tile_img.reshape(-1))\n",
    "\n",
    "        print(auc)\n",
    "\n",
    "        del net, validloader, valid_dataset, img, target, outputs\n",
    "        torch.cuda.empty_cache()\n",
    "        gc.collect()"
   ]
  },
  {
   "cell_type": "code",
   "execution_count": null,
   "id": "9eb2e990",
   "metadata": {
    "execution": {
     "iopub.execute_input": "2023-03-19T04:55:05.974908Z",
     "iopub.status.busy": "2023-03-19T04:55:05.974094Z",
     "iopub.status.idle": "2023-03-19T04:55:05.979666Z",
     "shell.execute_reply": "2023-03-19T04:55:05.978740Z"
    },
    "papermill": {
     "duration": 0.01571,
     "end_time": "2023-03-19T04:55:05.981729",
     "exception": false,
     "start_time": "2023-03-19T04:55:05.966019",
     "status": "completed"
    },
    "tags": []
   },
   "outputs": [],
   "source": [
    "if is_train:\n",
    "    flat_preds = np.hstack(all_preds).reshape(-1).astype(np.float)\n",
    "    flat_masks = (np.hstack(all_masks).reshape(-1) / 255).astype(int)\n",
    "\n",
    "    plt.hist(flat_preds, bins=50)\n",
    "    plt.show()"
   ]
  },
  {
   "cell_type": "code",
   "execution_count": null,
   "id": "8a1e31d8",
   "metadata": {
    "execution": {
     "iopub.execute_input": "2023-03-19T04:55:05.997547Z",
     "iopub.status.busy": "2023-03-19T04:55:05.996774Z",
     "iopub.status.idle": "2023-03-19T04:55:06.002417Z",
     "shell.execute_reply": "2023-03-19T04:55:06.001493Z"
    },
    "papermill": {
     "duration": 0.015705,
     "end_time": "2023-03-19T04:55:06.004524",
     "exception": false,
     "start_time": "2023-03-19T04:55:05.988819",
     "status": "completed"
    },
    "tags": []
   },
   "outputs": [],
   "source": [
    "if is_train:\n",
    "    thr_list = []\n",
    "    for thr in tqdm(np.arange(0.2, 0.6, 0.1)):\n",
    "        _val_pred = np.where(flat_preds > thr, 1, 0).astype(np.int)\n",
    "        score = f1_score(flat_masks, _val_pred)\n",
    "        print(thr, score)\n",
    "        thr_list.append({\"thr\": thr, \"score\": score})"
   ]
  },
  {
   "cell_type": "code",
   "execution_count": null,
   "id": "73483d1c",
   "metadata": {
    "execution": {
     "iopub.execute_input": "2023-03-19T04:55:06.020607Z",
     "iopub.status.busy": "2023-03-19T04:55:06.019618Z",
     "iopub.status.idle": "2023-03-19T04:55:06.034537Z",
     "shell.execute_reply": "2023-03-19T04:55:06.033661Z"
    },
    "papermill": {
     "duration": 0.025087,
     "end_time": "2023-03-19T04:55:06.036667",
     "exception": false,
     "start_time": "2023-03-19T04:55:06.011580",
     "status": "completed"
    },
    "tags": []
   },
   "outputs": [],
   "source": [
    "import numpy as np\n",
    "from PIL import Image\n",
    "\n",
    "\n",
    "def predict(test_data_dir):\n",
    "    test_img = []\n",
    "    for i in tqdm(range(0,SCAN_SLICE,SAMPLE_GAP)):\n",
    "        test_img.append(\n",
    "            cv2.imread(str(test_data_dir / f\"surface_volume/{i:02}.tif\"), 0)\n",
    "        )\n",
    "\n",
    "    test_img = np.stack(test_img)\n",
    "    print(test_img.shape)\n",
    "\n",
    "    # mask\n",
    "    test_mask = cv2.imread(str(test_data_dir / \"mask.png\"), 0)\n",
    "\n",
    "    nets = []\n",
    "\n",
    "    for fold in range(3):\n",
    "        net = CVNet(1)\n",
    "        net.to(device)\n",
    "        net.load_state_dict(torch.load(CP_DIR / f\"{HOST}_{NB}_checkpoint_{fold}.pt\"))\n",
    "        nets.append(net)\n",
    "\n",
    "    test_dataset = CVDataSet(\n",
    "        [test_img], get_test_augmentation(), data_type=\"test\", crop_size=Config.IMG_SIZE\n",
    "    )\n",
    "\n",
    "    testloader = DataLoader(\n",
    "        test_dataset,\n",
    "        batch_size=int(Config.BATCH_SIZE / 8),\n",
    "        pin_memory=True,\n",
    "        num_workers=Config.NUM_WORKERS,\n",
    "    )\n",
    "\n",
    "    val_metrics = []\n",
    "    learning_rates = []\n",
    "\n",
    "    # for epoch in range(Config.EPOCH):\n",
    "    for epoch in range(1):\n",
    "\n",
    "        test_preds = []\n",
    "        n_iter_val = len(testloader)\n",
    "        for i, (img, target) in tqdm(enumerate(testloader), total=n_iter_val):\n",
    "            net.eval()\n",
    "\n",
    "            with torch.no_grad():\n",
    "                img, pawpularities = img.to(device).float(), target.to(device).float()\n",
    "\n",
    "                outputs_all = np.zeros((img.shape[0], img.shape[2], img.shape[3]))\n",
    "\n",
    "                for net in nets:\n",
    "                    outputs = net(img)\n",
    "                    outputs = outputs.sigmoid()\n",
    "                    outputs_np = outputs.squeeze().to(\"cpu\").detach().numpy().copy()\n",
    "                    outputs_all += outputs_np / 3\n",
    "\n",
    "                test_preds.append(outputs_all)\n",
    "\n",
    "    del net, testloader, test_dataset\n",
    "    torch.cuda.empty_cache()\n",
    "    gc.collect()\n",
    "\n",
    "    w_count = math.ceil(test_img[0].shape[1] / Config.IMG_SIZE)\n",
    "    h_count = math.ceil(test_img[0].shape[0] / Config.IMG_SIZE)\n",
    "\n",
    "    plt.imshow(test_img[0])\n",
    "    plt.show()\n",
    "\n",
    "    tile_arry = []\n",
    "    stack_pred = np.vstack(test_preds).reshape(-1, Config.IMG_SIZE, Config.IMG_SIZE)\n",
    "    for h_i in range(h_count):\n",
    "        tile_arry.append(stack_pred[h_i * w_count : (h_i + 1) * w_count])\n",
    "\n",
    "    plt.imshow(test_mask)\n",
    "    plt.show()\n",
    "\n",
    "    pred_tile_img = concat_tile(tile_arry)\n",
    "\n",
    "    plt.imshow(pred_tile_img)\n",
    "    plt.show()\n",
    "\n",
    "    pred_tile_img = np.where(\n",
    "        test_mask > 1,\n",
    "        pred_tile_img[\n",
    "            : test_img[0].shape[0],\n",
    "            : test_img[0].shape[1],\n",
    "        ],\n",
    "        0,\n",
    "    )\n",
    "\n",
    "    return pred_tile_img"
   ]
  },
  {
   "cell_type": "code",
   "execution_count": null,
   "id": "ffc70804",
   "metadata": {
    "papermill": {
     "duration": 0.006965,
     "end_time": "2023-03-19T04:55:06.050620",
     "exception": false,
     "start_time": "2023-03-19T04:55:06.043655",
     "status": "completed"
    },
    "tags": []
   },
   "outputs": [],
   "source": []
  },
  {
   "cell_type": "markdown",
   "id": "00941f15",
   "metadata": {
    "papermill": {
     "duration": 0.00687,
     "end_time": "2023-03-19T04:55:06.064541",
     "exception": false,
     "start_time": "2023-03-19T04:55:06.057671",
     "status": "completed"
    },
    "tags": []
   },
   "source": [
    "# test data inference"
   ]
  },
  {
   "cell_type": "code",
   "execution_count": null,
   "id": "4f6bc379",
   "metadata": {
    "execution": {
     "iopub.execute_input": "2023-03-19T04:55:06.080051Z",
     "iopub.status.busy": "2023-03-19T04:55:06.079767Z",
     "iopub.status.idle": "2023-03-19T05:39:01.583554Z",
     "shell.execute_reply": "2023-03-19T05:39:01.582389Z"
    },
    "papermill": {
     "duration": 2635.51486,
     "end_time": "2023-03-19T05:39:01.586647",
     "exception": false,
     "start_time": "2023-03-19T04:55:06.071787",
     "status": "completed"
    },
    "tags": []
   },
   "outputs": [],
   "source": [
    "test_root_dir = DATA_DIR / \"test/*\"\n",
    "\n",
    "pred_list = []\n",
    "for f in glob.glob(str(test_root_dir)):\n",
    "    print(f)\n",
    "    pred_tile_img = predict(Path(f))\n",
    "\n",
    "    plt.imshow(pred_tile_img)\n",
    "    plt.show()\n",
    "\n",
    "    if is_train:\n",
    "        plt.figure(figsize=(20, 20))\n",
    "    plt.imshow(np.where(pred_tile_img > 0.15, 1, 0))\n",
    "    plt.show()\n",
    "\n",
    "    starts_ix, lengths = rle(pred_tile_img, thr=0.4)\n",
    "    inklabels_rle = \" \".join(map(str, sum(zip(starts_ix, lengths), ())))\n",
    "    inklabels_rle\n",
    "\n",
    "    pred_list.append({\"Id\": str(f).split(\"/\")[-1], \"Predicted\": inklabels_rle})"
   ]
  },
  {
   "cell_type": "code",
   "execution_count": null,
   "id": "191ba49c",
   "metadata": {
    "papermill": {
     "duration": 0.040576,
     "end_time": "2023-03-19T05:39:01.670436",
     "exception": false,
     "start_time": "2023-03-19T05:39:01.629860",
     "status": "completed"
    },
    "tags": []
   },
   "outputs": [],
   "source": []
  },
  {
   "cell_type": "code",
   "execution_count": null,
   "id": "07e3e507",
   "metadata": {
    "execution": {
     "iopub.execute_input": "2023-03-19T05:39:01.753467Z",
     "iopub.status.busy": "2023-03-19T05:39:01.752640Z",
     "iopub.status.idle": "2023-03-19T05:39:01.882198Z",
     "shell.execute_reply": "2023-03-19T05:39:01.881133Z"
    },
    "papermill": {
     "duration": 0.174332,
     "end_time": "2023-03-19T05:39:01.884880",
     "exception": false,
     "start_time": "2023-03-19T05:39:01.710548",
     "status": "completed"
    },
    "tags": []
   },
   "outputs": [],
   "source": [
    "pd.DataFrame(pred_list).to_csv(\"submission.csv\", index=False)"
   ]
  },
  {
   "cell_type": "code",
   "execution_count": null,
   "id": "b27e0500",
   "metadata": {
    "papermill": {
     "duration": 0.03993,
     "end_time": "2023-03-19T05:39:01.965774",
     "exception": false,
     "start_time": "2023-03-19T05:39:01.925844",
     "status": "completed"
    },
    "tags": []
   },
   "outputs": [],
   "source": []
  }
 ],
 "metadata": {
  "kernelspec": {
   "display_name": "Python 3",
   "language": "python",
   "name": "python3"
  },
  "language_info": {
   "codemirror_mode": {
    "name": "ipython",
    "version": 3
   },
   "file_extension": ".py",
   "mimetype": "text/x-python",
   "name": "python",
   "nbconvert_exporter": "python",
   "pygments_lexer": "ipython3",
   "version": "3.9.16"
  },
  "papermill": {
   "default_parameters": {},
   "duration": 2655.25813,
   "end_time": "2023-03-19T05:39:05.069796",
   "environment_variables": {},
   "exception": null,
   "input_path": "__notebook__.ipynb",
   "output_path": "__notebook__.ipynb",
   "parameters": {},
   "start_time": "2023-03-19T04:54:49.811666",
   "version": "2.4.0"
  }
 },
 "nbformat": 4,
 "nbformat_minor": 5
}
