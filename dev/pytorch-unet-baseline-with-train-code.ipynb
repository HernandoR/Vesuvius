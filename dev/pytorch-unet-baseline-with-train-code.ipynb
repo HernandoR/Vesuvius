{
 "cells": [
  {
   "cell_type": "markdown",
   "id": "878a8706",
   "metadata": {
    "papermill": {
     "duration": 0.008212,
     "end_time": "2023-03-19T04:54:58.828996",
     "exception": false,
     "start_time": "2023-03-19T04:54:58.820784",
     "status": "completed"
    },
    "tags": []
   },
   "source": [
    "This is my first time participating in a segmentation task competition.\n",
    "Please point out any problems with my code in the comments, as I want to make my code better.\n",
    "Also, please feel free to ask me any questions you may have.\n",
    "\n",
    "\n",
    "My code is to divide a 65 channel image into several 512*512 blocks and infer block by block.\n",
    "I don't want to train on blocks that have all 0 mask values."
   ]
  },
  {
   "cell_type": "code",
   "execution_count": 32,
   "id": "3e496dff",
   "metadata": {
    "execution": {
     "iopub.execute_input": "2023-03-19T04:54:58.844770Z",
     "iopub.status.busy": "2023-03-19T04:54:58.843650Z",
     "iopub.status.idle": "2023-03-19T04:54:58.857561Z",
     "shell.execute_reply": "2023-03-19T04:54:58.856540Z"
    },
    "papermill": {
     "duration": 0.023921,
     "end_time": "2023-03-19T04:54:58.859730",
     "exception": false,
     "start_time": "2023-03-19T04:54:58.835809",
     "status": "completed"
    },
    "tags": []
   },
   "outputs": [
    {
     "data": {
      "text/plain": [
       "('exp06_20230403_101840', 'Vincit', False)"
      ]
     },
     "execution_count": 32,
     "metadata": {},
     "output_type": "execute_result"
    }
   ],
   "source": [
    "import socket\n",
    "import sys\n",
    "import time\n",
    "\n",
    "\n",
    "is_kaggle = _dh == [\"/kaggle/working\"]\n",
    "is_train = True\n",
    "# NB = \"exp0006\"\n",
    "# HOST = \"54a2c6eb5b61\"\n",
    "\n",
    "NB = \"exp06\"\n",
    "# get host name\n",
    "HOST = socket.gethostname()\n",
    "date_time= time.strftime(\"%Y%m%d_%H%M%S\")\n",
    "NB= NB + \"_\" + date_time\n",
    "NB, HOST , is_kaggle"
   ]
  },
  {
   "cell_type": "code",
   "execution_count": 32,
   "id": "797a3673",
   "metadata": {
    "papermill": {
     "duration": 0.006611,
     "end_time": "2023-03-19T04:54:58.873056",
     "exception": false,
     "start_time": "2023-03-19T04:54:58.866445",
     "status": "completed"
    },
    "tags": []
   },
   "outputs": [],
   "source": []
  },
  {
   "cell_type": "code",
   "execution_count": 33,
   "id": "a6466a7e",
   "metadata": {
    "execution": {
     "iopub.execute_input": "2023-03-19T04:54:58.887998Z",
     "iopub.status.busy": "2023-03-19T04:54:58.887434Z",
     "iopub.status.idle": "2023-03-19T04:54:59.965386Z",
     "shell.execute_reply": "2023-03-19T04:54:59.963851Z"
    },
    "papermill": {
     "duration": 1.088018,
     "end_time": "2023-03-19T04:54:59.967896",
     "exception": false,
     "start_time": "2023-03-19T04:54:58.879878",
     "status": "completed"
    },
    "tags": []
   },
   "outputs": [],
   "source": [
    "# !nvidia-smi"
   ]
  },
  {
   "cell_type": "code",
   "execution_count": 34,
   "id": "ce8184ee",
   "metadata": {
    "execution": {
     "iopub.execute_input": "2023-03-19T04:54:59.988203Z",
     "iopub.status.busy": "2023-03-19T04:54:59.987881Z",
     "iopub.status.idle": "2023-03-19T04:55:05.441483Z",
     "shell.execute_reply": "2023-03-19T04:55:05.440343Z"
    },
    "papermill": {
     "duration": 5.464665,
     "end_time": "2023-03-19T04:55:05.444343",
     "exception": false,
     "start_time": "2023-03-19T04:54:59.979678",
     "status": "completed"
    },
    "tags": []
   },
   "outputs": [],
   "source": [
    "import gc\n",
    "import glob\n",
    "import math\n",
    "import os\n",
    "import pickle\n",
    "import random\n",
    "import shutil\n",
    "import warnings\n",
    "from collections import OrderedDict\n",
    "from pathlib import Path\n",
    "\n",
    "import albumentations as albu\n",
    "import cv2\n",
    "import matplotlib.pyplot as plt\n",
    "\n",
    "# import mlflow\n",
    "import numpy as np\n",
    "import pandas as pd\n",
    "import timm\n",
    "import torch\n",
    "import torch.optim as optim\n",
    "\n",
    "\n",
    "from sklearn.metrics import accuracy_score, f1_score, mean_squared_error, roc_auc_score\n",
    "from sklearn.model_selection import KFold, StratifiedGroupKFold, StratifiedKFold\n",
    "from torch import nn\n",
    "from torch.utils.data import DataLoader, Dataset\n",
    "from tqdm import tqdm\n",
    "\n",
    "warnings.simplefilter(\"ignore\")\n",
    "\n",
    "if not is_kaggle:\n",
    "    ROOT_DIR = Path(\"../\")\n",
    "    DATA_DIR = ROOT_DIR / \"data\" / \"raw\"\n",
    "    OUTPUT_DIR = ROOT_DIR / \"saved\"\n",
    "    CP_DIR = OUTPUT_DIR / \"checkpoints\"\n",
    "    LOG_DIR = OUTPUT_DIR / \"logs\"\n",
    "else:\n",
    "    ROOT_DIR = Path(\"../\")\n",
    "    DATA_DIR = Path(\"/kaggle/input/vesuvius-challenge-ink-detection\")\n",
    "    OUTPUT_DIR = ROOT_DIR / \"working\"\n",
    "    CP_DIR = OUTPUT_DIR / \"checkpoints\"\n",
    "    LOG_DIR = OUTPUT_DIR / \"logs\"\n",
    "\n",
    "for p in [ROOT_DIR, DATA_DIR, OUTPUT_DIR, CP_DIR, LOG_DIR]:\n",
    "    if os.path.exists(p) is False:\n",
    "        os.makedirs(p)\n",
    "if not is_kaggle:\n",
    "    from logzero import logger\n",
    "    import logzero\n",
    "    logzero.logfile(LOG_DIR / f\"{NB}.log\", maxBytes=1e8, backupCount=3)\n",
    "\n",
    "\n",
    "# def to_pickle(filename, obj):\n",
    "#     with open(filename, mode=\"wb\") as f:\n",
    "#         pickle.dump(obj, f)\n",
    "#\n",
    "#\n",
    "# def unpickle(filename):\n",
    "#     with open(filename, mode=\"rb\") as fo:\n",
    "#         _ = pickle.load(fo)\n",
    "#     return _"
   ]
  },
  {
   "cell_type": "code",
   "execution_count": 34,
   "id": "3c22444f",
   "metadata": {
    "papermill": {
     "duration": 0.006639,
     "end_time": "2023-03-19T04:55:05.458204",
     "exception": false,
     "start_time": "2023-03-19T04:55:05.451565",
     "status": "completed"
    },
    "tags": []
   },
   "outputs": [],
   "source": []
  },
  {
   "cell_type": "code",
   "execution_count": 34,
   "id": "947e2749",
   "metadata": {
    "papermill": {
     "duration": 0.006549,
     "end_time": "2023-03-19T04:55:05.471535",
     "exception": false,
     "start_time": "2023-03-19T04:55:05.464986",
     "status": "completed"
    },
    "tags": []
   },
   "outputs": [],
   "source": []
  },
  {
   "cell_type": "code",
   "execution_count": 35,
   "id": "f68f0fe2",
   "metadata": {
    "execution": {
     "iopub.execute_input": "2023-03-19T04:55:05.487601Z",
     "iopub.status.busy": "2023-03-19T04:55:05.486561Z",
     "iopub.status.idle": "2023-03-19T04:55:05.497847Z",
     "shell.execute_reply": "2023-03-19T04:55:05.496478Z"
    },
    "papermill": {
     "duration": 0.021519,
     "end_time": "2023-03-19T04:55:05.500022",
     "exception": false,
     "start_time": "2023-03-19T04:55:05.478503",
     "status": "completed"
    },
    "tags": []
   },
   "outputs": [
    {
     "name": "stdout",
     "output_type": "stream",
     "text": [
      "cpu count: 16\n"
     ]
    }
   ],
   "source": [
    "import multiprocessing\n",
    "\n",
    "print(\"cpu count:\", multiprocessing.cpu_count())\n",
    "\n",
    "\n",
    "class Config:\n",
    "    N_FOLD = 5\n",
    "    RANDOM_SEED = 42\n",
    "    LR = 1.0e-05\n",
    "    MAX_LR = 1.0e-5\n",
    "    PATIENCE = 15\n",
    "    EPOCH = 8\n",
    "    BATCH_SIZE = 4\n",
    "    IMG_SIZE = 128\n",
    "    NUM_WORKERS = 4\n",
    "    \n",
    "\n",
    "SCAN_SLICE = 65\n",
    "SAMPLE_GAP = 3\n",
    "SAMPLE_SIZE= len(range(0, SCAN_SLICE, SAMPLE_GAP))\n",
    "\n",
    "\n",
    "\n",
    "def seed_everything(seed=1234):\n",
    "    random.seed(seed)\n",
    "    os.environ[\"PYTHONHASHSEED\"] = str(seed)\n",
    "    np.random.seed(seed)\n",
    "    torch.manual_seed(seed)\n",
    "    torch.cuda.manual_seed(seed)\n",
    "    torch.backends.cudnn.deterministic = True\n",
    "    torch.backends.cudnn.benchmark = False\n",
    "\n",
    "\n",
    "seed_everything(seed=Config.RANDOM_SEED)"
   ]
  },
  {
   "cell_type": "code",
   "execution_count": 36,
   "id": "2e84d8bf",
   "metadata": {
    "execution": {
     "iopub.execute_input": "2023-03-19T04:55:05.515372Z",
     "iopub.status.busy": "2023-03-19T04:55:05.514558Z",
     "iopub.status.idle": "2023-03-19T04:55:05.524282Z",
     "shell.execute_reply": "2023-03-19T04:55:05.523277Z"
    },
    "papermill": {
     "duration": 0.019617,
     "end_time": "2023-03-19T04:55:05.526384",
     "exception": false,
     "start_time": "2023-03-19T04:55:05.506767",
     "status": "completed"
    },
    "tags": []
   },
   "outputs": [
    {
     "data": {
      "text/plain": [
       "['..\\\\data\\\\raw\\\\sample_submission.csv',\n",
       " '..\\\\data\\\\raw\\\\test',\n",
       " '..\\\\data\\\\raw\\\\train']"
      ]
     },
     "execution_count": 36,
     "metadata": {},
     "output_type": "execute_result"
    }
   ],
   "source": [
    "glob.glob(str(DATA_DIR / \"*\"))"
   ]
  },
  {
   "cell_type": "code",
   "execution_count": 37,
   "id": "b95fd9d9",
   "metadata": {
    "execution": {
     "iopub.execute_input": "2023-03-19T04:55:05.541745Z",
     "iopub.status.busy": "2023-03-19T04:55:05.540862Z",
     "iopub.status.idle": "2023-03-19T04:55:05.548531Z",
     "shell.execute_reply": "2023-03-19T04:55:05.547655Z"
    },
    "papermill": {
     "duration": 0.017333,
     "end_time": "2023-03-19T04:55:05.550539",
     "exception": false,
     "start_time": "2023-03-19T04:55:05.533206",
     "status": "completed"
    },
    "tags": []
   },
   "outputs": [],
   "source": [
    "\n",
    "def rle(img,thr):\n",
    "    flat_img = np.where(img.flatten() > thr, 1, 0).astype(np.uint8)\n",
    "\n",
    "    starts = np.array((flat_img[:-1] == 0) & (flat_img[1:] == 1))\n",
    "    ends = np.array((flat_img[:-1] == 1) & (flat_img[1:] == 0))\n",
    "    starts_ix = np.where(starts)[0] + 2\n",
    "    ends_ix = np.where(ends)[0] + 2\n",
    "    lengths = ends_ix - starts_ix\n",
    "    return starts_ix, lengths\n",
    "\n",
    "def concat_tile(im_list_2d):\n",
    "    return cv2.vconcat([cv2.hconcat(im_list_h) for im_list_h in im_list_2d])"
   ]
  },
  {
   "cell_type": "markdown",
   "id": "6df4624f",
   "metadata": {
    "papermill": {
     "duration": 0.00681,
     "end_time": "2023-03-19T04:55:05.633687",
     "exception": false,
     "start_time": "2023-03-19T04:55:05.626877",
     "status": "completed"
    },
    "tags": []
   },
   "source": [
    "# Train"
   ]
  },
  {
   "cell_type": "code",
   "execution_count": 38,
   "id": "33edbb5c",
   "metadata": {
    "execution": {
     "iopub.execute_input": "2023-03-19T04:55:05.648860Z",
     "iopub.status.busy": "2023-03-19T04:55:05.648589Z",
     "iopub.status.idle": "2023-03-19T04:55:05.654681Z",
     "shell.execute_reply": "2023-03-19T04:55:05.653638Z"
    },
    "papermill": {
     "duration": 0.016236,
     "end_time": "2023-03-19T04:55:05.656750",
     "exception": false,
     "start_time": "2023-03-19T04:55:05.640514",
     "status": "completed"
    },
    "tags": []
   },
   "outputs": [],
   "source": [
    "def get_augmentation():\n",
    "    train_transform = [\n",
    "        albu.HorizontalFlip(p=0.5),\n",
    "        albu.VerticalFlip(p=0.5),\n",
    "        albu.Resize(height=Config.IMG_SIZE, width=Config.IMG_SIZE),\n",
    "        albu.Normalize(mean=[0], std=[1]),\n",
    "    ]\n",
    "    return albu.Compose(train_transform)\n",
    "\n",
    "\n",
    "def get_test_augmentation():\n",
    "    train_transform = [\n",
    "        albu.Resize(height=Config.IMG_SIZE, width=Config.IMG_SIZE),\n",
    "        albu.Normalize(mean=[0], std=[1]),\n",
    "    ]\n",
    "    return albu.Compose(train_transform)"
   ]
  },
  {
   "cell_type": "code",
   "execution_count": 48,
   "id": "b72e7e18",
   "metadata": {
    "execution": {
     "iopub.execute_input": "2023-03-19T04:55:05.672023Z",
     "iopub.status.busy": "2023-03-19T04:55:05.671767Z",
     "iopub.status.idle": "2023-03-19T04:55:05.688695Z",
     "shell.execute_reply": "2023-03-19T04:55:05.687710Z"
    },
    "papermill": {
     "duration": 0.026966,
     "end_time": "2023-03-19T04:55:05.690754",
     "exception": false,
     "start_time": "2023-03-19T04:55:05.663788",
     "status": "completed"
    },
    "tags": []
   },
   "outputs": [],
   "source": [
    "# from CVDataSet import CVDataSet\n",
    "import math\n",
    "\n",
    "import numpy as np\n",
    "from torch.utils.data import Dataset\n",
    "\n",
    "\n",
    "class CVDataSet(Dataset):\n",
    "    def __init__(self, imgs, transforms, labels=None, data_type=None, crop_size=256):\n",
    "        self.crop_size = crop_size\n",
    "        self.imgs = imgs\n",
    "        self.transforms = transforms\n",
    "        self.labels = labels\n",
    "        self.data_type = data_type\n",
    "\n",
    "        self.cell_counts = []\n",
    "        for img in self.imgs:\n",
    "            cell_count = math.ceil(img.shape[1] / self.crop_size) * math.ceil(\n",
    "                img.shape[2] / self.crop_size\n",
    "            )\n",
    "            self.cell_counts.append(cell_count)\n",
    "\n",
    "    def __len__(self):\n",
    "        data_count = 0\n",
    "        if self.data_type == \"train\":\n",
    "\n",
    "            self.cell_id_maps = {}\n",
    "\n",
    "            counter = 0\n",
    "            for img_id, img in enumerate(self.imgs):\n",
    "\n",
    "                cell_count = math.ceil(img.shape[1] / self.crop_size) * math.ceil(\n",
    "                    img.shape[2] / self.crop_size\n",
    "                )\n",
    "                for cell_id in range(cell_count):\n",
    "                    h_num = cell_id // math.ceil(\n",
    "                        self.labels[img_id].shape[1] / self.crop_size\n",
    "                    )\n",
    "                    w_num = cell_id - (\n",
    "                            h_num\n",
    "                            * math.ceil(self.labels[img_id].shape[1] / self.crop_size)\n",
    "                    )\n",
    "\n",
    "                    cropped_img = self.labels[img_id][\n",
    "                                  h_num * self.crop_size: h_num * self.crop_size\n",
    "                                                          + self.crop_size,\n",
    "                                  w_num * self.crop_size: w_num * self.crop_size\n",
    "                                                          + self.crop_size,\n",
    "                                  ]\n",
    "\n",
    "                    if cropped_img.sum() == 0:\n",
    "                        continue\n",
    "\n",
    "                    data_count += 1\n",
    "\n",
    "                    self.cell_id_maps[counter] = (img_id, cell_id)\n",
    "                    counter += 1\n",
    "\n",
    "        else:\n",
    "\n",
    "            for img in self.imgs:\n",
    "                data_count += math.ceil(img.shape[1] / self.crop_size) * math.ceil(\n",
    "                    img.shape[2] / self.crop_size\n",
    "                )\n",
    "        return data_count\n",
    "\n",
    "    def calc_img_num(self, idx):\n",
    "        cum_cell_count = 0\n",
    "        for i, cell_count in enumerate(self.cell_counts):\n",
    "            cum_cell_count += cell_count\n",
    "            if idx + 1 <= cum_cell_count:\n",
    "                return i, idx - (cum_cell_count - cell_count)\n",
    "\n",
    "    def __getitem__(self, idx):\n",
    "\n",
    "        if self.data_type == \"train\":\n",
    "            img_num, cell_id = self.cell_id_maps[idx]\n",
    "        else:\n",
    "            img_num, cell_id = self.calc_img_num(idx)\n",
    "\n",
    "        target_img = self.imgs[img_num]\n",
    "        # if self.data_type != \"test\":\n",
    "        if self.data_type in [\"train\", \"valid\"]:\n",
    "            target_label = self.labels[img_num]\n",
    "\n",
    "        # print(target_label.shape)\n",
    "        target_img = np.moveaxis(target_img, 0, 2)\n",
    "        # target_label = np.moveaxis(target_label, 0, 2)\n",
    "\n",
    "        h_num = cell_id // math.ceil(target_img.shape[1] / self.crop_size)\n",
    "        w_num = cell_id - (h_num * math.ceil(target_img.shape[1] / self.crop_size))\n",
    "\n",
    "        cropped_img = target_img[\n",
    "                      h_num * self.crop_size: h_num * self.crop_size + self.crop_size,\n",
    "                      w_num * self.crop_size: w_num * self.crop_size + self.crop_size,\n",
    "                      ]\n",
    "\n",
    "        if self.data_type in [\"train\", \"valid\"]:\n",
    "            cropped_label = target_label[\n",
    "                            h_num * self.crop_size: h_num * self.crop_size + self.crop_size,\n",
    "                            w_num * self.crop_size: w_num * self.crop_size + self.crop_size,\n",
    "                            ]\n",
    "            augmented = self.transforms(image=cropped_img, mask=cropped_label)\n",
    "            img = augmented[\"image\"]\n",
    "            img = np.moveaxis(img, 2, 0)\n",
    "            mask = augmented[\"mask\"]\n",
    "        else:\n",
    "            augmented = self.transforms(image=cropped_img)\n",
    "            img = augmented[\"image\"]\n",
    "            img = np.moveaxis(img, 2, 0)\n",
    "            mask = -1\n",
    "\n",
    "        return img, mask / 255\n"
   ]
  },
  {
   "cell_type": "code",
   "execution_count": 39,
   "id": "b4dfa7f2",
   "metadata": {
    "papermill": {
     "duration": 0.006722,
     "end_time": "2023-03-19T04:55:05.704358",
     "exception": false,
     "start_time": "2023-03-19T04:55:05.697636",
     "status": "completed"
    },
    "tags": []
   },
   "outputs": [],
   "source": []
  },
  {
   "cell_type": "code",
   "execution_count": 40,
   "id": "d51a73f7",
   "metadata": {
    "execution": {
     "iopub.execute_input": "2023-03-19T04:55:05.719329Z",
     "iopub.status.busy": "2023-03-19T04:55:05.719047Z",
     "iopub.status.idle": "2023-03-19T04:55:05.736215Z",
     "shell.execute_reply": "2023-03-19T04:55:05.735288Z"
    },
    "papermill": {
     "duration": 0.02715,
     "end_time": "2023-03-19T04:55:05.738302",
     "exception": false,
     "start_time": "2023-03-19T04:55:05.711152",
     "status": "completed"
    },
    "tags": []
   },
   "outputs": [],
   "source": [
    "class CVNet(nn.Module):\n",
    "    def __init__(self, num_classes):\n",
    "        super(CVNet, self).__init__()\n",
    "        self.num_classes = num_classes\n",
    "        self.contracting_11 = self.conv_block(in_channels=SAMPLE_SIZE, out_channels=64)\n",
    "        self.contracting_12 = nn.MaxPool2d(kernel_size=2, stride=2)\n",
    "        self.contracting_21 = self.conv_block(in_channels=64, out_channels=128)\n",
    "        self.contracting_22 = nn.MaxPool2d(kernel_size=2, stride=2)\n",
    "        self.contracting_31 = self.conv_block(in_channels=128, out_channels=256)\n",
    "        self.contracting_32 = nn.MaxPool2d(kernel_size=2, stride=2)\n",
    "        self.contracting_41 = self.conv_block(in_channels=256, out_channels=512)\n",
    "        self.contracting_42 = nn.MaxPool2d(kernel_size=2, stride=2)\n",
    "        self.middle = self.conv_block(in_channels=512, out_channels=1024)\n",
    "        self.expansive_11 = nn.ConvTranspose2d(\n",
    "            in_channels=1024,\n",
    "            out_channels=512,\n",
    "            kernel_size=3,\n",
    "            stride=2,\n",
    "            padding=1,\n",
    "            output_padding=1,\n",
    "        )\n",
    "        self.expansive_12 = self.conv_block(in_channels=1024, out_channels=512)\n",
    "        self.expansive_21 = nn.ConvTranspose2d(\n",
    "            in_channels=512,\n",
    "            out_channels=256,\n",
    "            kernel_size=3,\n",
    "            stride=2,\n",
    "            padding=1,\n",
    "            output_padding=1,\n",
    "        )\n",
    "        self.expansive_22 = self.conv_block(in_channels=512, out_channels=256)\n",
    "        self.expansive_31 = nn.ConvTranspose2d(\n",
    "            in_channels=256,\n",
    "            out_channels=128,\n",
    "            kernel_size=3,\n",
    "            stride=2,\n",
    "            padding=1,\n",
    "            output_padding=1,\n",
    "        )\n",
    "        self.expansive_32 = self.conv_block(in_channels=256, out_channels=128)\n",
    "        self.expansive_41 = nn.ConvTranspose2d(\n",
    "            in_channels=128,\n",
    "            out_channels=64,\n",
    "            kernel_size=3,\n",
    "            stride=2,\n",
    "            padding=1,\n",
    "            output_padding=1,\n",
    "        )\n",
    "        self.expansive_42 = self.conv_block(in_channels=128, out_channels=64)\n",
    "        self.output = nn.Conv2d(\n",
    "            in_channels=64, out_channels=num_classes, kernel_size=3, stride=1, padding=1\n",
    "        )\n",
    "\n",
    "    @staticmethod\n",
    "    def conv_block(in_channels, out_channels):\n",
    "        block = nn.Sequential(\n",
    "            nn.Conv2d(\n",
    "                in_channels=in_channels,\n",
    "                out_channels=out_channels,\n",
    "                kernel_size=3,\n",
    "                stride=1,\n",
    "                padding=1,\n",
    "            ),\n",
    "            nn.ReLU(),\n",
    "            nn.BatchNorm2d(num_features=out_channels),\n",
    "            nn.Conv2d(\n",
    "                in_channels=out_channels,\n",
    "                out_channels=out_channels,\n",
    "                kernel_size=3,\n",
    "                stride=1,\n",
    "                padding=1,\n",
    "            ),\n",
    "            nn.ReLU(),\n",
    "            nn.BatchNorm2d(num_features=out_channels),\n",
    "        )\n",
    "        return block\n",
    "\n",
    "    def forward(self, X):\n",
    "        contracting_11_out = self.contracting_11(X)  # [-1, 64, 256, 256]\n",
    "        contracting_12_out = self.contracting_12(\n",
    "            contracting_11_out\n",
    "        )  # [-1, 64, 128, 128]\n",
    "        contracting_21_out = self.contracting_21(\n",
    "            contracting_12_out\n",
    "        )  # [-1, 128, 128, 128]\n",
    "        contracting_22_out = self.contracting_22(\n",
    "            contracting_21_out\n",
    "        )  # [-1, 128, 64, 64]\n",
    "        contracting_31_out = self.contracting_31(\n",
    "            contracting_22_out\n",
    "        )  # [-1, 256, 64, 64]\n",
    "        contracting_32_out = self.contracting_32(\n",
    "            contracting_31_out\n",
    "        )  # [-1, 256, 32, 32]\n",
    "        contracting_41_out = self.contracting_41(\n",
    "            contracting_32_out\n",
    "        )  # [-1, 512, 32, 32]\n",
    "        contracting_42_out = self.contracting_42(\n",
    "            contracting_41_out\n",
    "        )  # [-1, 512, 16, 16]\n",
    "        middle_out = self.middle(contracting_42_out)  # [-1, 1024, 16, 16]\n",
    "        expansive_11_out = self.expansive_11(middle_out)  # [-1, 512, 32, 32]\n",
    "        expansive_12_out = self.expansive_12(\n",
    "            torch.cat((expansive_11_out, contracting_41_out), dim=1)\n",
    "        )  # [-1, 1024, 32, 32] -> [-1, 512, 32, 32]\n",
    "        expansive_21_out = self.expansive_21(expansive_12_out)  # [-1, 256, 64, 64]\n",
    "        expansive_22_out = self.expansive_22(\n",
    "            torch.cat((expansive_21_out, contracting_31_out), dim=1)\n",
    "        )  # [-1, 512, 64, 64] -> [-1, 256, 64, 64]\n",
    "        expansive_31_out = self.expansive_31(expansive_22_out)  # [-1, 128, 128, 128]\n",
    "        expansive_32_out = self.expansive_32(\n",
    "            torch.cat((expansive_31_out, contracting_21_out), dim=1)\n",
    "        )  # [-1, 256, 128, 128] -> [-1, 128, 128, 128]\n",
    "        expansive_41_out = self.expansive_41(expansive_32_out)  # [-1, 64, 256, 256]\n",
    "        expansive_42_out = self.expansive_42(\n",
    "            torch.cat((expansive_41_out, contracting_11_out), dim=1)\n",
    "        )  # [-1, 128, 256, 256] -> [-1, 64, 256, 256]\n",
    "        output_out = self.to(expansive_42_out)  # [-1, num_classes, 256, 256]\n",
    "        return output_out"
   ]
  },
  {
   "cell_type": "code",
   "execution_count": 41,
   "id": "918d2707",
   "metadata": {
    "execution": {
     "iopub.execute_input": "2023-03-19T04:55:05.754822Z",
     "iopub.status.busy": "2023-03-19T04:55:05.753154Z",
     "iopub.status.idle": "2023-03-19T04:55:05.762294Z",
     "shell.execute_reply": "2023-03-19T04:55:05.761397Z"
    },
    "papermill": {
     "duration": 0.018979,
     "end_time": "2023-03-19T04:55:05.764174",
     "exception": false,
     "start_time": "2023-03-19T04:55:05.745195",
     "status": "completed"
    },
    "tags": []
   },
   "outputs": [],
   "source": [
    "class EarlyStopping:\n",
    "    def __init__(self, patience=7, verbose=False, delta=0, fold=\"\"):\n",
    "        self.patience = patience\n",
    "        self.verbose = verbose\n",
    "        self.counter = 0\n",
    "        self.best_score = None\n",
    "        self.early_stop = False\n",
    "        self.val_loss_min = np.Inf\n",
    "        self.delta = delta\n",
    "\n",
    "    def __call__(self, val_loss, model):\n",
    "\n",
    "        score = -val_loss\n",
    "\n",
    "        if self.best_score is None:\n",
    "            self.best_score = score\n",
    "            self.save_checkpoint(val_loss, model)\n",
    "        elif score < self.best_score + self.delta:\n",
    "            self.counter += 1\n",
    "            logger.info(f\"EarlyStopping counter: {self.counter} out of {self.patience}\")\n",
    "            if self.counter >= self.patience:\n",
    "                self.early_stop = True\n",
    "        else:\n",
    "            self.best_score = score\n",
    "            self.save_checkpoint(val_loss, model)\n",
    "            self.counter = 0\n",
    "\n",
    "    def save_checkpoint(self, val_loss, model):\n",
    "        \"\"\"Saves model when validation loss decrease.\"\"\"\n",
    "        if self.verbose:\n",
    "            logger.info(\n",
    "                f\"Validation loss decreased ({self.val_loss_min:.6f} --> {val_loss:.6f}).  Saving model ...\"\n",
    "            )\n",
    "\n",
    "        # if os.path.exists(CP_DIR / f'checkpoint_{NB}_{fold}.pt'):\n",
    "        #    shutil.move(CP_DIR / f'checkpoint_{NB}_{fold}.pt', CP_DIR / f'checkpoint_{NB}_{fold}-2.pt')\n",
    "        torch.save(model.state_dict(), CP_DIR / f\"{HOST}_{NB}_checkpoint_{fold}.pt\")\n",
    "        self.val_loss_min = val_loss"
   ]
  },
  {
   "cell_type": "code",
   "execution_count": 42,
   "id": "50ad7a24",
   "metadata": {
    "execution": {
     "iopub.execute_input": "2023-03-19T04:55:05.779045Z",
     "iopub.status.busy": "2023-03-19T04:55:05.778787Z",
     "iopub.status.idle": "2023-03-19T04:55:05.839917Z",
     "shell.execute_reply": "2023-03-19T04:55:05.839264Z"
    },
    "papermill": {
     "duration": 0.070809,
     "end_time": "2023-03-19T04:55:05.841942",
     "exception": false,
     "start_time": "2023-03-19T04:55:05.771133",
     "status": "completed"
    },
    "tags": []
   },
   "outputs": [
    {
     "data": {
      "text/plain": [
       "device(type='cuda')"
      ]
     },
     "execution_count": 42,
     "metadata": {},
     "output_type": "execute_result"
    }
   ],
   "source": [
    "device = torch.device(\"cuda\" if torch.cuda.is_available() else \"cpu\")\n",
    "device"
   ]
  },
  {
   "cell_type": "code",
   "execution_count": null,
   "metadata": {
    "collapsed": false
   },
   "outputs": [],
   "source": [
    "import torchviz\n"
   ]
  },
  {
   "cell_type": "code",
   "execution_count": 43,
   "metadata": {
    "collapsed": false
   },
   "outputs": [
    {
     "name": "stderr",
     "output_type": "stream",
     "text": [
      "100%|██████████| 22/22 [00:00<?, ?it/s]\n",
      "100%|██████████| 22/22 [00:00<?, ?it/s]\n",
      "100%|██████████| 22/22 [00:00<?, ?it/s]\n"
     ]
    }
   ],
   "source": [
    "if is_train:\n",
    "\n",
    "    img1_fs = []\n",
    "    for i in tqdm(range(0,SCAN_SLICE,SAMPLE_GAP)):\n",
    "        img1_fs.append(str(DATA_DIR / f\"train/1/surface_volume/{i:02}.tif\"))\n",
    "    img2_fs = []\n",
    "    for i in tqdm(range(0,SCAN_SLICE,SAMPLE_GAP)):\n",
    "        img2_fs.append(str(DATA_DIR / f\"train/2/surface_volume/{i:02}.tif\"))\n",
    "\n",
    "    img3_fs = []\n",
    "    for i in tqdm(range(0,SCAN_SLICE,SAMPLE_GAP)):\n",
    "        img3_fs.append(str(DATA_DIR / f\"train/3/surface_volume/{i:02}.tif\"))\n",
    "\n",
    "    img1_fs = np.stack(img1_fs)\n",
    "    img2_fs = np.stack(img2_fs)\n",
    "    img3_fs = np.stack(img3_fs)\n",
    "\n",
    "    img1_label_f = str(DATA_DIR / f\"train/1/inklabels.png\")\n",
    "    img2_label_f = str(DATA_DIR / f\"train/2/inklabels.png\")\n",
    "    img3_label_f = str(DATA_DIR / f\"train/3/inklabels.png\")\n",
    "\n",
    "    img1_mask_f = str(DATA_DIR / f\"train/1/mask.png\")\n",
    "    img2_mask_f = str(DATA_DIR / f\"train/2/mask.png\")\n",
    "    img3_mask_f = str(DATA_DIR / f\"train/3/mask.png\")"
   ]
  },
  {
   "cell_type": "code",
   "execution_count": 44,
   "metadata": {
    "collapsed": false
   },
   "outputs": [
    {
     "name": "stderr",
     "output_type": "stream",
     "text": [
      "100%|██████████| 22/22 [00:02<00:00,  8.08it/s]\n",
      "100%|██████████| 22/22 [00:16<00:00,  1.37it/s]\n",
      "100%|██████████| 22/22 [00:06<00:00,  3.43it/s]\n"
     ]
    }
   ],
   "source": [
    "if is_train:\n",
    "\n",
    "    img1 = []\n",
    "    for i in tqdm(range(0,SCAN_SLICE,SAMPLE_GAP)):\n",
    "        img1.append(cv2.imread(str(DATA_DIR / f\"train/1/surface_volume/{i:02}.tif\"), 0))\n",
    "    img2 = []\n",
    "    for i in tqdm(range(0,SCAN_SLICE,SAMPLE_GAP)):\n",
    "        img2.append(cv2.imread(str(DATA_DIR / f\"train/2/surface_volume/{i:02}.tif\"), 0))\n",
    "\n",
    "    img3 = []\n",
    "    for i in tqdm(range(0,SCAN_SLICE,SAMPLE_GAP)):\n",
    "        img3.append(cv2.imread(str(DATA_DIR / f\"train/3/surface_volume/{i:02}.tif\"), 0))\n",
    "\n",
    "    img1 = np.stack(img1)\n",
    "    img2 = np.stack(img2)\n",
    "    img3 = np.stack(img3)\n",
    "\n",
    "\n",
    "    img1_label = cv2.imread(str(DATA_DIR / f\"train/1/inklabels.png\"), 0)\n",
    "    img2_label = cv2.imread(str(DATA_DIR / f\"train/2/inklabels.png\"), 0)\n",
    "    img3_label = cv2.imread(str(DATA_DIR / f\"train/3/inklabels.png\"), 0)\n",
    "\n",
    "    img1_mask = cv2.imread(str(DATA_DIR / f\"train/1/mask.png\"), 0)\n",
    "    img2_mask = cv2.imread(str(DATA_DIR / f\"train/2/mask.png\"), 0)\n",
    "    img3_mask = cv2.imread(str(DATA_DIR / f\"train/3/mask.png\"), 0)\n"
   ]
  },
  {
   "cell_type": "code",
   "execution_count": 45,
   "id": "e358078d",
   "metadata": {
    "execution": {
     "iopub.execute_input": "2023-03-19T04:55:05.858763Z",
     "iopub.status.busy": "2023-03-19T04:55:05.857114Z",
     "iopub.status.idle": "2023-03-19T04:55:05.864400Z",
     "shell.execute_reply": "2023-03-19T04:55:05.863494Z"
    },
    "papermill": {
     "duration": 0.017288,
     "end_time": "2023-03-19T04:55:05.866433",
     "exception": false,
     "start_time": "2023-03-19T04:55:05.849145",
     "status": "completed"
    },
    "tags": []
   },
   "outputs": [],
   "source": [
    "if is_train:\n",
    "    data_set = []\n",
    "    data_set.append(\n",
    "        {\n",
    "            \"train_img\": [img1_fs, img2_fs],\n",
    "            \"train_label\": [img1_label_f, img2_label_f],\n",
    "            \"valid_img\": [img3_fs],\n",
    "            \"valid_label\": [img3_label_f],\n",
    "            \"valid_mask\": [img3_mask_f],\n",
    "        }\n",
    "    )\n",
    "\n",
    "    data_set.append(\n",
    "        {\n",
    "            \"train_img\": [img1_fs, img3_fs],\n",
    "            \"train_label\": [img1_label_f, img3_label_f],\n",
    "            \"valid_img\": [img2_fs],\n",
    "            \"valid_label\": [img2_label_f],\n",
    "            \"valid_mask\": [img2_mask_f],\n",
    "        }\n",
    "    )\n",
    "\n",
    "    data_set.append(\n",
    "        {\n",
    "            \"train_img\": [img2_fs, img3_fs],\n",
    "            \"train_label\": [img2_label_f, img3_label_f],\n",
    "            \"valid_img\": [img1_fs],\n",
    "            \"valid_label\": [img1_label_f],\n",
    "            \"valid_mask\": [img1_mask_f],\n",
    "        }\n",
    "    )\n"
   ]
  },
  {
   "cell_type": "code",
   "execution_count": 50,
   "metadata": {
    "collapsed": false
   },
   "outputs": [],
   "source": [
    "if is_train:\n",
    "    data_set = []\n",
    "    data_set.append(\n",
    "        {\n",
    "            \"train_img\": [img1, img2],\n",
    "            \"train_label\": [img1_label, img2_label],\n",
    "            \"valid_img\": [img3],\n",
    "            \"valid_label\": [img3_label],\n",
    "            \"valid_mask\": [img3_mask],\n",
    "        }\n",
    "    )\n",
    "\n",
    "    data_set.append(\n",
    "        {\n",
    "            \"train_img\": [img1, img3],\n",
    "            \"train_label\": [img1_label, img3_label],\n",
    "            \"valid_img\": [img2],\n",
    "            \"valid_label\": [img2_label],\n",
    "            \"valid_mask\": [img2_mask],\n",
    "        }\n",
    "    )\n",
    "\n",
    "    data_set.append(\n",
    "        {\n",
    "            \"train_img\": [img2, img3],\n",
    "            \"train_label\": [img2_label, img3_label],\n",
    "            \"valid_img\": [img1],\n",
    "            \"valid_label\": [img1_label],\n",
    "            \"valid_mask\": [img1_mask],\n",
    "        }\n",
    "    )"
   ]
  },
  {
   "cell_type": "code",
   "execution_count": 51,
   "metadata": {
    "collapsed": false
   },
   "outputs": [],
   "source": [
    "# testing\n",
    "\n",
    "t=data_set[0][\"train_img\"]\n",
    "\n",
    "\n",
    "train_dataset = CVDataSet(\n",
    "    t,\n",
    "    get_augmentation(),\n",
    "    labels=data_set[0][\"train_label\"],\n",
    "    data_type=\"train\",\n",
    "    crop_size=Config.IMG_SIZE,\n",
    ")"
   ]
  },
  {
   "cell_type": "code",
   "execution_count": null,
   "metadata": {
    "collapsed": false
   },
   "outputs": [],
   "source": []
  },
  {
   "cell_type": "code",
   "execution_count": null,
   "id": "8d56677f",
   "metadata": {
    "execution": {
     "iopub.execute_input": "2023-03-19T04:55:05.881889Z",
     "iopub.status.busy": "2023-03-19T04:55:05.881631Z",
     "iopub.status.idle": "2023-03-19T04:55:05.898757Z",
     "shell.execute_reply": "2023-03-19T04:55:05.897288Z"
    },
    "papermill": {
     "duration": 0.027409,
     "end_time": "2023-03-19T04:55:05.900866",
     "exception": false,
     "start_time": "2023-03-19T04:55:05.873457",
     "status": "completed"
    },
    "tags": []
   },
   "outputs": [],
   "source": [
    "%%time\n",
    "if is_train:\n",
    "    for fold in range(0, 3):\n",
    "        print(f\"====== {fold} ======\")\n",
    "\n",
    "        net = CVNet(1)\n",
    "        net.to(device)\n",
    "\n",
    "        # criterion = nn.MSELoss()\n",
    "        criterion = nn.BCEWithLogitsLoss()\n",
    "        optimizer = optim.AdamW(net.parameters(), lr=Config.LR, weight_decay=1.0e-02)\n",
    "\n",
    "        # train, valid = train_df.iloc[train_index], train_df.iloc[test_index]\n",
    "        # y_train, y_valid = train_labels.iloc[train_index], train_labels.iloc[test_index]\n",
    "\n",
    "        train_dataset = CVDataSet(\n",
    "            data_set[fold][\"train_img\"],\n",
    "            get_augmentation(),\n",
    "            labels=data_set[fold][\"train_label\"],\n",
    "            data_type=\"train\",\n",
    "            crop_size=Config.IMG_SIZE,\n",
    "        )\n",
    "        valid_dataset = CVDataSet(\n",
    "            data_set[fold][\"valid_img\"],\n",
    "            get_augmentation(),\n",
    "            labels=data_set[fold][\"valid_label\"],\n",
    "            data_type=\"valid\",\n",
    "            crop_size=Config.IMG_SIZE,\n",
    "        )\n",
    "\n",
    "        trainloader = DataLoader(\n",
    "            train_dataset,\n",
    "            batch_size=Config.BATCH_SIZE,\n",
    "            pin_memory=True,\n",
    "            shuffle=True,\n",
    "            drop_last=True,\n",
    "            num_workers=Config.NUM_WORKERS // 2,\n",
    "        )\n",
    "        validloader = DataLoader(\n",
    "            valid_dataset,\n",
    "            batch_size=Config.BATCH_SIZE,\n",
    "            pin_memory=True,\n",
    "            num_workers=Config.NUM_WORKERS // 2,\n",
    "        )\n",
    "\n",
    "        early_stopping = EarlyStopping(\n",
    "            patience=Config.PATIENCE, verbose=True, fold=fold\n",
    "        )\n",
    "        scheduler = torch.optim.lr_scheduler.OneCycleLR(\n",
    "            optimizer,\n",
    "            epochs=Config.EPOCH,\n",
    "            steps_per_epoch=len(trainloader),\n",
    "            max_lr=Config.MAX_LR,\n",
    "            pct_start=0.1,\n",
    "            anneal_strategy=\"cos\",\n",
    "            div_factor=1.0e3,\n",
    "            final_div_factor=1.0e3,\n",
    "        )\n",
    "\n",
    "        val_metrics = []\n",
    "        learning_rates = []\n",
    "\n",
    "        for epoch in range(Config.EPOCH):\n",
    "\n",
    "            running_loss = 0.0\n",
    "            train_rmse_list = []\n",
    "            n_iter = len(trainloader)\n",
    "            with tqdm(enumerate(trainloader), total=n_iter) as pbar:\n",
    "                for i, (img, target) in pbar:\n",
    "\n",
    "                    net.train()\n",
    "                    # zero the parameter gradients\n",
    "                    # optimizer.zero_grad()\n",
    "\n",
    "                    img, target = img.to(device).float(), target.to(device).float()\n",
    "\n",
    "                    outputs = net(img)\n",
    "\n",
    "                    loss = criterion(outputs.squeeze(), target)\n",
    "\n",
    "                    loss.backward()\n",
    "                    optimizer.step()\n",
    "                    net.zero_grad()\n",
    "\n",
    "                    # print statistics\n",
    "                    running_loss += loss.item()\n",
    "\n",
    "                    outputs_np = outputs.to(\"cpu\").detach().numpy().copy()\n",
    "\n",
    "                    pbar.set_postfix(\n",
    "                        OrderedDict(\n",
    "                            epoch=\"{:>10}\".format(epoch),\n",
    "                            loss=\"{:.4f}\".format(loss.item()),\n",
    "                        )\n",
    "                    )\n",
    "                    scheduler.step()\n",
    "\n",
    "            val_preds = []\n",
    "            valid_targets = []\n",
    "            n_iter_val = len(validloader)\n",
    "            for i, (img, target) in tqdm(\n",
    "                enumerate(validloader), total=n_iter_val, smoothing=0\n",
    "            ):\n",
    "                net.eval()\n",
    "\n",
    "                with torch.no_grad():\n",
    "                    img, pawpularities = (\n",
    "                        img.to(device).float(),\n",
    "                        target.to(device).float(),\n",
    "                    )\n",
    "                    outputs = net(img)\n",
    "                    outputs = outputs.sigmoid()\n",
    "                    outputs_np = outputs.to(\"cpu\").detach().numpy().copy()\n",
    "\n",
    "                    val_preds.append(outputs_np)\n",
    "                    valid_targets.append(\n",
    "                        pawpularities.to(\"cpu\").detach().numpy().copy()\n",
    "                    )\n",
    "\n",
    "            ## 端を切る\n",
    "            w_count = math.ceil(\n",
    "                data_set[fold][\"valid_label\"][0].shape[1] / Config.IMG_SIZE\n",
    "            )\n",
    "            h_count = math.ceil(\n",
    "                data_set[fold][\"valid_label\"][0].shape[0] / Config.IMG_SIZE\n",
    "            )\n",
    "\n",
    "            tile_arry = []\n",
    "            stack_pred = np.vstack(val_preds).reshape(\n",
    "                -1, Config.IMG_SIZE, Config.IMG_SIZE\n",
    "            )\n",
    "            for h_i in range(h_count):\n",
    "                # print(len(test_preds[h_i * w_count:(h_i + 1) * w_count]), h_i * w_count, (h_i + 1) * w_count)\n",
    "                tile_arry.append(stack_pred[h_i * w_count : (h_i + 1) * w_count])\n",
    "\n",
    "            pred_tile_img = concat_tile(tile_arry)\n",
    "            pred_tile_img = np.where(\n",
    "                data_set[fold][\"valid_mask\"][0] > 1,\n",
    "                pred_tile_img[\n",
    "                    : data_set[fold][\"valid_label\"][0].shape[0],\n",
    "                    : data_set[fold][\"valid_label\"][0].shape[1],\n",
    "                ],\n",
    "                0,\n",
    "            )\n",
    "            auc = roc_auc_score(\n",
    "                data_set[fold][\"valid_label\"][0].reshape(-1),\n",
    "                pred_tile_img.reshape(-1),\n",
    "            )\n",
    "            auc\n",
    "\n",
    "            logger.info(\"auc:{:.4f}\".format(auc))\n",
    "\n",
    "            lr = optimizer.param_groups[0][\"lr\"]\n",
    "\n",
    "            val_metrics.append(auc)\n",
    "            learning_rates.append(lr)\n",
    "\n",
    "            early_stopping(-auc, net)\n",
    "\n",
    "            if early_stopping.early_stop:\n",
    "                logger.info(\"Early stopping\")\n",
    "                break\n",
    "\n",
    "        fig = plt.figure()\n",
    "        ax1 = fig.add_subplot(111)\n",
    "        ax1.plot(learning_rates)\n",
    "        ax2 = ax1.twinx()\n",
    "        ax2.plot(val_metrics)\n",
    "        plt.show()\n",
    "        plt.legend([\"lr\", \"auc\"])\n",
    "\n",
    "        del net, validloader, trainloader, train_dataset, valid_dataset, img, target, outputs\n",
    "        torch.cuda.empty_cache()\n",
    "        gc.collect()"
   ]
  },
  {
   "cell_type": "code",
   "execution_count": null,
   "id": "dd676c8a",
   "metadata": {
    "papermill": {
     "duration": 0.006877,
     "end_time": "2023-03-19T04:55:05.914721",
     "exception": false,
     "start_time": "2023-03-19T04:55:05.907844",
     "status": "completed"
    },
    "tags": []
   },
   "outputs": [],
   "source": []
  },
  {
   "cell_type": "markdown",
   "id": "fc1e5633",
   "metadata": {
    "papermill": {
     "duration": 0.006809,
     "end_time": "2023-03-19T04:55:05.928511",
     "exception": false,
     "start_time": "2023-03-19T04:55:05.921702",
     "status": "completed"
    },
    "tags": []
   },
   "source": [
    "# Validation"
   ]
  },
  {
   "cell_type": "code",
   "execution_count": null,
   "id": "6871deae",
   "metadata": {
    "execution": {
     "iopub.execute_input": "2023-03-19T04:55:05.944672Z",
     "iopub.status.busy": "2023-03-19T04:55:05.943941Z",
     "iopub.status.idle": "2023-03-19T04:55:05.955767Z",
     "shell.execute_reply": "2023-03-19T04:55:05.954214Z"
    },
    "papermill": {
     "duration": 0.022963,
     "end_time": "2023-03-19T04:55:05.958562",
     "exception": false,
     "start_time": "2023-03-19T04:55:05.935599",
     "status": "completed"
    },
    "tags": []
   },
   "outputs": [],
   "source": [
    "%%time\n",
    "if is_train:\n",
    "    all_preds = []\n",
    "    all_masks = []\n",
    "    for fold in range(0, 3):\n",
    "        print(f\"====== {fold} ======\")\n",
    "\n",
    "        net = CVNet(1)\n",
    "        net.load_state_dict(torch.load(CP_DIR / f\"{HOST}_{NB}_checkpoint_{fold}.pt\"))\n",
    "        net.to(device)\n",
    "\n",
    "        valid_dataset = CVDataSet(\n",
    "            data_set[fold][\"valid_img\"],\n",
    "            get_augmentation(),\n",
    "            labels=data_set[fold][\"valid_label\"],\n",
    "            data_type=\"valid\",\n",
    "            crop_size=Config.IMG_SIZE,\n",
    "        )\n",
    "\n",
    "        validloader = DataLoader(\n",
    "            valid_dataset,\n",
    "            batch_size=int(Config.BATCH_SIZE / 4),\n",
    "            pin_memory=True,\n",
    "            num_workers=Config.NUM_WORKERS - 2,\n",
    "        )\n",
    "\n",
    "        val_preds = []\n",
    "        valid_targets = []\n",
    "        n_iter_val = len(validloader)\n",
    "        for i, (img, target) in tqdm(enumerate(validloader), total=n_iter_val):\n",
    "            net.eval()\n",
    "\n",
    "            with torch.no_grad():\n",
    "                img, pawpularities = img.to(device).float(), target.to(device).float()\n",
    "                outputs = net(img)\n",
    "                # interesting\n",
    "                outputs = outputs.sigmoid()\n",
    "                outputs_np = outputs.to(\"cpu\").detach().numpy().copy()\n",
    "\n",
    "                val_preds.append(outputs_np)\n",
    "                valid_targets.append(pawpularities.to(\"cpu\").detach().numpy().copy())\n",
    "\n",
    "        ## 端を切る\n",
    "        w_count = math.ceil(data_set[fold][\"valid_label\"][0].shape[1] / Config.IMG_SIZE)\n",
    "        h_count = math.ceil(data_set[fold][\"valid_label\"][0].shape[0] / Config.IMG_SIZE)\n",
    "\n",
    "        tile_arry = []\n",
    "        stack_pred = np.vstack(val_preds).reshape(-1, Config.IMG_SIZE, Config.IMG_SIZE)\n",
    "        for h_i in range(h_count):\n",
    "            # print(len(test_preds[h_i * w_count:(h_i + 1) * w_count]), h_i * w_count, (h_i + 1) * w_count)\n",
    "            tile_arry.append(stack_pred[h_i * w_count : (h_i + 1) * w_count])\n",
    "\n",
    "        pred_tile_img = concat_tile(tile_arry)\n",
    "        pred_tile_img = np.where(\n",
    "            data_set[fold][\"valid_mask\"][0] > 1,\n",
    "            pred_tile_img[\n",
    "                : data_set[fold][\"valid_label\"][0].shape[0],\n",
    "                : data_set[fold][\"valid_label\"][0].shape[1],\n",
    "            ],\n",
    "            0,\n",
    "        )\n",
    "\n",
    "        auc = roc_auc_score(\n",
    "            data_set[fold][\"valid_label\"][0].reshape(-1),\n",
    "            pred_tile_img.reshape(-1),\n",
    "        )\n",
    "        auc\n",
    "\n",
    "        all_masks.append(data_set[fold][\"valid_label\"][0].reshape(-1))\n",
    "        all_preds.append(pred_tile_img.reshape(-1))\n",
    "\n",
    "        print(auc)\n",
    "\n",
    "        del net, validloader, valid_dataset, img, target, outputs\n",
    "        torch.cuda.empty_cache()\n",
    "        gc.collect()"
   ]
  },
  {
   "cell_type": "code",
   "execution_count": null,
   "id": "9eb2e990",
   "metadata": {
    "execution": {
     "iopub.execute_input": "2023-03-19T04:55:05.974908Z",
     "iopub.status.busy": "2023-03-19T04:55:05.974094Z",
     "iopub.status.idle": "2023-03-19T04:55:05.979666Z",
     "shell.execute_reply": "2023-03-19T04:55:05.978740Z"
    },
    "papermill": {
     "duration": 0.01571,
     "end_time": "2023-03-19T04:55:05.981729",
     "exception": false,
     "start_time": "2023-03-19T04:55:05.966019",
     "status": "completed"
    },
    "tags": []
   },
   "outputs": [],
   "source": [
    "if is_train:\n",
    "    flat_preds = np.hstack(all_preds).reshape(-1).astype(float)\n",
    "    flat_masks = (np.hstack(all_masks).reshape(-1) / 255).astype(int)\n",
    "\n",
    "    plt.hist(flat_preds, bins=50)\n",
    "    plt.legend([\"pred\"])\n",
    "    plt.show()"
   ]
  },
  {
   "cell_type": "code",
   "execution_count": null,
   "id": "8a1e31d8",
   "metadata": {
    "execution": {
     "iopub.execute_input": "2023-03-19T04:55:05.997547Z",
     "iopub.status.busy": "2023-03-19T04:55:05.996774Z",
     "iopub.status.idle": "2023-03-19T04:55:06.002417Z",
     "shell.execute_reply": "2023-03-19T04:55:06.001493Z"
    },
    "papermill": {
     "duration": 0.015705,
     "end_time": "2023-03-19T04:55:06.004524",
     "exception": false,
     "start_time": "2023-03-19T04:55:05.988819",
     "status": "completed"
    },
    "tags": []
   },
   "outputs": [],
   "source": [
    "if is_train:\n",
    "    thr_list = []\n",
    "    for thr in tqdm(np.arange(0.2, 0.6, 0.1)):\n",
    "        _val_pred = np.where(flat_preds > thr, 1, 0).astype(int)\n",
    "        score = f1_score(flat_masks, _val_pred)\n",
    "        print(thr, score)\n",
    "        thr_list.append({\"thr\": thr, \"score\": score})"
   ]
  },
  {
   "cell_type": "code",
   "execution_count": null,
   "id": "73483d1c",
   "metadata": {
    "execution": {
     "iopub.execute_input": "2023-03-19T04:55:06.020607Z",
     "iopub.status.busy": "2023-03-19T04:55:06.019618Z",
     "iopub.status.idle": "2023-03-19T04:55:06.034537Z",
     "shell.execute_reply": "2023-03-19T04:55:06.033661Z"
    },
    "papermill": {
     "duration": 0.025087,
     "end_time": "2023-03-19T04:55:06.036667",
     "exception": false,
     "start_time": "2023-03-19T04:55:06.011580",
     "status": "completed"
    },
    "tags": []
   },
   "outputs": [],
   "source": [
    "import numpy as np\n",
    "from PIL import Image\n",
    "\n",
    "\n",
    "def predict(test_data_dir):\n",
    "    test_img = []\n",
    "    for i in tqdm(range(0,SCAN_SLICE,SAMPLE_GAP)):\n",
    "        test_img.append(\n",
    "            cv2.imread(str(test_data_dir / f\"surface_volume/{i:02}.tif\"), 0)\n",
    "        )\n",
    "\n",
    "    test_img = np.stack(test_img)\n",
    "    print(test_img.shape)\n",
    "\n",
    "    # mask\n",
    "    test_mask = cv2.imread(str(test_data_dir / \"mask.png\"), 0)\n",
    "\n",
    "    nets = []\n",
    "\n",
    "    for fold in range(3):\n",
    "        net = CVNet(1)\n",
    "        net.to(device)\n",
    "        net.load_state_dict(torch.load(CP_DIR / f\"{HOST}_{NB}_checkpoint_{fold}.pt\"))\n",
    "        nets.append(net)\n",
    "\n",
    "    test_dataset = CVDataSet(\n",
    "        [test_img], get_test_augmentation(), data_type=\"test\", crop_size=Config.IMG_SIZE\n",
    "    )\n",
    "\n",
    "    testloader = DataLoader(\n",
    "        test_dataset,\n",
    "        batch_size=max(1,int(Config.BATCH_SIZE / 8)),\n",
    "        pin_memory=True,\n",
    "        num_workers=Config.NUM_WORKERS,\n",
    "    )\n",
    "\n",
    "    val_metrics = []\n",
    "    learning_rates = []\n",
    "\n",
    "    # for epoch in range(Config.EPOCH):\n",
    "    for epoch in range(1):\n",
    "\n",
    "        test_preds = []\n",
    "        n_iter_val = len(testloader)\n",
    "        for i, (img, target) in tqdm(enumerate(testloader), total=n_iter_val):\n",
    "            net.eval()\n",
    "\n",
    "            with torch.no_grad():\n",
    "                img, pawpularities = img.to(device).float(), target.to(device).float()\n",
    "\n",
    "                outputs_all = np.zeros((img.shape[0], img.shape[2], img.shape[3]))\n",
    "\n",
    "                for net in nets:\n",
    "                    outputs = net(img)\n",
    "                    outputs = outputs.sigmoid()\n",
    "                    outputs_np = outputs.squeeze().to(\"cpu\").detach().numpy().copy()\n",
    "                    outputs_all += outputs_np / 3\n",
    "\n",
    "                test_preds.append(outputs_all)\n",
    "\n",
    "    del net, testloader, test_dataset\n",
    "    torch.cuda.empty_cache()\n",
    "    gc.collect()\n",
    "\n",
    "    w_count = math.ceil(test_img[0].shape[1] / Config.IMG_SIZE)\n",
    "    h_count = math.ceil(test_img[0].shape[0] / Config.IMG_SIZE)\n",
    "\n",
    "    plt.imshow(test_img[0])\n",
    "    plt.show()\n",
    "\n",
    "    tile_arry = []\n",
    "    stack_pred = np.vstack(test_preds).reshape(-1, Config.IMG_SIZE, Config.IMG_SIZE)\n",
    "    for h_i in range(h_count):\n",
    "        tile_arry.append(stack_pred[h_i * w_count : (h_i + 1) * w_count])\n",
    "\n",
    "    plt.imshow(test_mask)\n",
    "    plt.show()\n",
    "\n",
    "    pred_tile_img = concat_tile(tile_arry)\n",
    "\n",
    "    plt.imshow(pred_tile_img)\n",
    "    plt.show()\n",
    "\n",
    "    pred_tile_img = np.where(\n",
    "        test_mask > 1,\n",
    "        pred_tile_img[\n",
    "            : test_img[0].shape[0],\n",
    "            : test_img[0].shape[1],\n",
    "        ],\n",
    "        0,\n",
    "    )\n",
    "\n",
    "    return pred_tile_img"
   ]
  },
  {
   "cell_type": "code",
   "execution_count": null,
   "id": "ffc70804",
   "metadata": {
    "papermill": {
     "duration": 0.006965,
     "end_time": "2023-03-19T04:55:06.050620",
     "exception": false,
     "start_time": "2023-03-19T04:55:06.043655",
     "status": "completed"
    },
    "tags": []
   },
   "outputs": [],
   "source": []
  },
  {
   "cell_type": "markdown",
   "id": "00941f15",
   "metadata": {
    "papermill": {
     "duration": 0.00687,
     "end_time": "2023-03-19T04:55:06.064541",
     "exception": false,
     "start_time": "2023-03-19T04:55:06.057671",
     "status": "completed"
    },
    "tags": []
   },
   "source": [
    "# test data inference"
   ]
  },
  {
   "cell_type": "code",
   "execution_count": null,
   "id": "4f6bc379",
   "metadata": {
    "execution": {
     "iopub.execute_input": "2023-03-19T04:55:06.080051Z",
     "iopub.status.busy": "2023-03-19T04:55:06.079767Z",
     "iopub.status.idle": "2023-03-19T05:39:01.583554Z",
     "shell.execute_reply": "2023-03-19T05:39:01.582389Z"
    },
    "papermill": {
     "duration": 2635.51486,
     "end_time": "2023-03-19T05:39:01.586647",
     "exception": false,
     "start_time": "2023-03-19T04:55:06.071787",
     "status": "completed"
    },
    "tags": []
   },
   "outputs": [],
   "source": [
    "test_root_dir = DATA_DIR / \"test/*\"\n",
    "\n",
    "pred_list = []\n",
    "for f in glob.glob(str(test_root_dir)):\n",
    "    print(f)\n",
    "    pred_tile_img = predict(Path(f))\n",
    "\n",
    "    # plt.imshow(pred_tile_img)\n",
    "    # plt.show()\n",
    "\n",
    "    # if is_train:\n",
    "        # plt.figure(figsize=(20, 20))\n",
    "    # plt.imshow(np.where(pred_tile_img > 0.15, 1, 0))\n",
    "    # plt.show()\n",
    "\n",
    "    starts_ix, lengths = rle(pred_tile_img, thr=0.4)\n",
    "    # inklabels_rle = \" \".join(map(str, sum(zip(starts_ix, lengths), ())))\n",
    "    # inklabels_rle\n",
    "\n",
    "    predicted_arr = np.stack([starts_ix, lengths]).T.flatten()\n",
    "    np.savetxt(str(OUTPUT_DIR / \"submission.csv\"), predicted_arr.reshape(1, -1), delimiter=\" \", fmt=\"%d\")"
   ]
  },
  {
   "cell_type": "code",
   "execution_count": null,
   "id": "191ba49c",
   "metadata": {
    "papermill": {
     "duration": 0.040576,
     "end_time": "2023-03-19T05:39:01.670436",
     "exception": false,
     "start_time": "2023-03-19T05:39:01.629860",
     "status": "completed"
    },
    "tags": []
   },
   "outputs": [],
   "source": []
  },
  {
   "cell_type": "code",
   "execution_count": null,
   "id": "07e3e507",
   "metadata": {
    "execution": {
     "iopub.execute_input": "2023-03-19T05:39:01.753467Z",
     "iopub.status.busy": "2023-03-19T05:39:01.752640Z",
     "iopub.status.idle": "2023-03-19T05:39:01.882198Z",
     "shell.execute_reply": "2023-03-19T05:39:01.881133Z"
    },
    "papermill": {
     "duration": 0.174332,
     "end_time": "2023-03-19T05:39:01.884880",
     "exception": false,
     "start_time": "2023-03-19T05:39:01.710548",
     "status": "completed"
    },
    "tags": []
   },
   "outputs": [],
   "source": [
    "pd.DataFrame(pred_list).to_csv(\"submission.csv\", index=False)"
   ]
  },
  {
   "cell_type": "code",
   "execution_count": null,
   "id": "b27e0500",
   "metadata": {
    "papermill": {
     "duration": 0.03993,
     "end_time": "2023-03-19T05:39:01.965774",
     "exception": false,
     "start_time": "2023-03-19T05:39:01.925844",
     "status": "completed"
    },
    "tags": []
   },
   "outputs": [],
   "source": []
  }
 ],
 "metadata": {
  "kernelspec": {
   "display_name": "Python 3.11.1 64-bit",
   "language": "python",
   "name": "python3"
  },
  "language_info": {
   "codemirror_mode": {
    "name": "ipython",
    "version": 3
   },
   "file_extension": ".py",
   "mimetype": "text/x-python",
   "name": "python",
   "nbconvert_exporter": "python",
   "pygments_lexer": "ipython3",
   "version": "3.11.1"
  },
  "papermill": {
   "default_parameters": {},
   "duration": 2655.25813,
   "end_time": "2023-03-19T05:39:05.069796",
   "environment_variables": {},
   "exception": null,
   "input_path": "__notebook__.ipynb",
   "output_path": "__notebook__.ipynb",
   "parameters": {},
   "start_time": "2023-03-19T04:54:49.811666",
   "version": "2.4.0"
  },
  "vscode": {
   "interpreter": {
    "hash": "1a1af0ee75eeea9e2e1ee996c87e7a2b11a0bebd85af04bb136d915cefc0abce"
   }
  }
 },
 "nbformat": 4,
 "nbformat_minor": 5
}
