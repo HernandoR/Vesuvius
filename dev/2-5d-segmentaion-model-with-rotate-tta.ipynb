{
 "cells": [
  {
   "cell_type": "markdown",
   "metadata": {},
   "source": [
    "## summary\n",
    "\n",
    "* 2.5d segmentation\n",
    "    *  segmentation_models_pytorch \n",
    "    *  Unet\n",
    "* use only 6 slices\n",
    "* slide inference\n",
    "* add rotate TTA"
   ]
  },
  {
   "cell_type": "code",
   "execution_count": null,
   "metadata": {
    "execution": {
     "iopub.execute_input": "2023-05-10T10:11:02.448108Z",
     "iopub.status.busy": "2023-05-10T10:11:02.447587Z",
     "iopub.status.idle": "2023-05-10T10:11:09.920559Z",
     "shell.execute_reply": "2023-05-10T10:11:09.919303Z",
     "shell.execute_reply.started": "2023-05-10T10:11:02.448052Z"
    },
    "trusted": true
   },
   "outputs": [],
   "source": [
    "from torch.utils.data import DataLoader\n",
    "from torch.cuda.amp import autocast, GradScaler\n",
    "import sys\n",
    "import time\n",
    "import torch as tc\n",
    "import random\n",
    "from torch.utils.data import DataLoader, Dataset\n",
    "import torch\n",
    "import albumentations as A\n",
    "from albumentations.pytorch import ToTensorV2\n",
    "import numpy as np\n",
    "\n",
    "from tqdm.auto import tqdm\n",
    "\n",
    "import torch\n",
    "import torch.nn as nn\n",
    "from torch.optim import AdamW\n",
    "\n",
    "from torch.utils.data import DataLoader, Dataset\n",
    "import matplotlib.pyplot as plt\n",
    "import cv2,gc\n",
    "import os,warnings\n",
    "import pandas as pd"
   ]
  },
  {
   "cell_type": "code",
   "execution_count": null,
   "metadata": {
    "execution": {
     "iopub.execute_input": "2023-05-10T10:11:09.923167Z",
     "iopub.status.busy": "2023-05-10T10:11:09.922667Z",
     "iopub.status.idle": "2023-05-10T10:11:13.773824Z",
     "shell.execute_reply": "2023-05-10T10:11:13.772433Z",
     "shell.execute_reply.started": "2023-05-10T10:11:09.923135Z"
    },
    "trusted": true
   },
   "outputs": [],
   "source": [
    "sys.path.append('/kaggle/input/pretrainedmodels/pretrainedmodels-0.7.4')\n",
    "sys.path.append('/kaggle/input/efficientnet-pytorch/EfficientNet-PyTorch-master')\n",
    "sys.path.append('/kaggle/input/timm-pytorch-image-models/pytorch-image-models-master')\n",
    "sys.path.append('/kaggle/input/segmentation-models-pytorch/segmentation_models.pytorch-master')\n",
    "\n",
    "import segmentation_models_pytorch as smp"
   ]
  },
  {
   "cell_type": "markdown",
   "metadata": {},
   "source": [
    "## config"
   ]
  },
  {
   "cell_type": "code",
   "execution_count": null,
   "metadata": {
    "execution": {
     "iopub.execute_input": "2023-05-10T10:11:13.776621Z",
     "iopub.status.busy": "2023-05-10T10:11:13.776205Z",
     "iopub.status.idle": "2023-05-10T10:11:13.795405Z",
     "shell.execute_reply": "2023-05-10T10:11:13.794178Z",
     "shell.execute_reply.started": "2023-05-10T10:11:13.776574Z"
    },
    "trusted": true
   },
   "outputs": [],
   "source": [
    "import os\n",
    "import albumentations as A\n",
    "from albumentations.pytorch import ToTensorV2\n",
    "\n",
    "class CFG:\n",
    "    # ============== comp exp name =============\n",
    "    comp_name = 'vesuvius'\n",
    "\n",
    "    # comp_dir_path = './'\n",
    "    comp_dir_path = '/kaggle/input/'\n",
    "    comp_folder_name = 'vesuvius-challenge-ink-detection'\n",
    "    # comp_dataset_path = f'{comp_dir_path}datasets/{comp_folder_name}/'\n",
    "    comp_dataset_path = f'{comp_dir_path}{comp_folder_name}/'\n",
    "    \n",
    "    exp_name = 'vesuvius_2d_slide_exp002'\n",
    "\n",
    "    # ============== pred target =============\n",
    "    target_size = 1\n",
    "    TTA=True\n",
    "    \n",
    "    # ============== model cfg =============\n",
    "    model_name = 'Unet'\n",
    "    # backbone = 'efficientnet-b0'\n",
    "    backbone = 'se_resnext50_32x4d'\n",
    "\n",
    "    in_chans = 6 # 65\n",
    "    # ============== training cfg =============\n",
    "    size = 224\n",
    "    tile_size = 224\n",
    "    stride = tile_size // 8\n",
    "\n",
    "    batch_size = 64 # 32\n",
    "    use_amp = True\n",
    "\n",
    "    scheduler = 'GradualWarmupSchedulerV2'\n",
    "    # scheduler = 'CosineAnnealingLR'\n",
    "    epochs = 15\n",
    "\n",
    "    warmup_factor = 10\n",
    "    lr = 1e-4 / warmup_factor\n",
    "\n",
    "    # ============== fold =============\n",
    "    valid_id = 2\n",
    "\n",
    "    objective_cv = 'binary'  # 'binary', 'multiclass', 'regression'\n",
    "    metric_direction = 'maximize'  # maximize, 'minimize'\n",
    "    # metrics = 'dice_coef'\n",
    "\n",
    "    # ============== fixed =============\n",
    "    pretrained = True\n",
    "    inf_weight = 'best'  # 'best'\n",
    "\n",
    "    min_lr = 1e-6\n",
    "    weight_decay = 1e-6\n",
    "    max_grad_norm = 1000\n",
    "\n",
    "    print_freq = 50\n",
    "    num_workers = 4\n",
    "\n",
    "    seed = 42\n",
    "\n",
    "    # ============== augmentation =============\n",
    "    train_aug_list = [\n",
    "        # A.RandomResizedCrop(\n",
    "        #     size, size, scale=(0.85, 1.0)),\n",
    "        A.Resize(size, size),\n",
    "        A.HorizontalFlip(p=0.5),\n",
    "        A.VerticalFlip(p=0.5),\n",
    "        A.RandomBrightnessContrast(p=0.75),\n",
    "        A.ShiftScaleRotate(p=0.75),\n",
    "        A.OneOf([\n",
    "                A.GaussNoise(var_limit=[10, 50]),\n",
    "                A.GaussianBlur(),\n",
    "                A.MotionBlur(),\n",
    "                ], p=0.4),\n",
    "        A.GridDistortion(num_steps=5, distort_limit=0.3, p=0.5),\n",
    "        A.CoarseDropout(max_holes=1, max_width=int(size * 0.3), max_height=int(size * 0.3), \n",
    "                        mask_fill_value=0, p=0.5),\n",
    "        # A.Cutout(max_h_size=int(size * 0.6),\n",
    "        #          max_w_size=int(size * 0.6), num_holes=1, p=1.0),\n",
    "        A.Normalize(\n",
    "            mean= [0] * in_chans,\n",
    "            std= [1] * in_chans\n",
    "        ),\n",
    "        ToTensorV2(transpose_mask=True),\n",
    "    ]\n",
    "\n",
    "    valid_aug_list = [\n",
    "        A.Resize(size, size),\n",
    "        A.Normalize(\n",
    "            mean= [0] * in_chans,\n",
    "            std= [1] * in_chans\n",
    "        ),\n",
    "        ToTensorV2(transpose_mask=True),\n",
    "    ]\n"
   ]
  },
  {
   "cell_type": "code",
   "execution_count": null,
   "metadata": {
    "execution": {
     "iopub.execute_input": "2023-05-10T10:11:13.801348Z",
     "iopub.status.busy": "2023-05-10T10:11:13.800285Z",
     "iopub.status.idle": "2023-05-10T10:11:13.807370Z",
     "shell.execute_reply": "2023-05-10T10:11:13.806234Z",
     "shell.execute_reply.started": "2023-05-10T10:11:13.801291Z"
    },
    "trusted": true
   },
   "outputs": [],
   "source": [
    "IS_DEBUG = False\n",
    "mode = 'train' if IS_DEBUG else 'test'\n",
    "TH = 0.25"
   ]
  },
  {
   "cell_type": "code",
   "execution_count": null,
   "metadata": {
    "execution": {
     "iopub.execute_input": "2023-05-10T10:11:13.810075Z",
     "iopub.status.busy": "2023-05-10T10:11:13.809065Z",
     "iopub.status.idle": "2023-05-10T10:11:13.907706Z",
     "shell.execute_reply": "2023-05-10T10:11:13.906533Z",
     "shell.execute_reply.started": "2023-05-10T10:11:13.810040Z"
    },
    "trusted": true
   },
   "outputs": [],
   "source": [
    "device = torch.device('cuda' if torch.cuda.is_available() else 'cpu')"
   ]
  },
  {
   "cell_type": "markdown",
   "metadata": {},
   "source": [
    "## helper"
   ]
  },
  {
   "cell_type": "code",
   "execution_count": null,
   "metadata": {
    "execution": {
     "iopub.execute_input": "2023-05-10T10:11:13.909729Z",
     "iopub.status.busy": "2023-05-10T10:11:13.909207Z",
     "iopub.status.idle": "2023-05-10T10:11:13.921215Z",
     "shell.execute_reply": "2023-05-10T10:11:13.920250Z",
     "shell.execute_reply.started": "2023-05-10T10:11:13.909686Z"
    },
    "trusted": true
   },
   "outputs": [],
   "source": [
    "# ref.: https://www.kaggle.com/stainsby/fast-tested-rle\n",
    "def rle(img):\n",
    "    '''\n",
    "    img: numpy array, 1 - mask, 0 - background\n",
    "    Returns run length as string formated\n",
    "    '''\n",
    "    pixels = img.flatten()\n",
    "    # pixels = (pixels >= thr).astype(int)\n",
    "    \n",
    "    pixels = np.concatenate([[0], pixels, [0]])\n",
    "    runs = np.where(pixels[1:] != pixels[:-1])[0] + 1\n",
    "    runs[1::2] -= runs[::2]\n",
    "    return ' '.join(str(x) for x in runs)"
   ]
  },
  {
   "cell_type": "markdown",
   "metadata": {},
   "source": [
    "## dataset"
   ]
  },
  {
   "cell_type": "code",
   "execution_count": null,
   "metadata": {
    "execution": {
     "iopub.execute_input": "2023-05-10T10:11:13.923970Z",
     "iopub.status.busy": "2023-05-10T10:11:13.922822Z",
     "iopub.status.idle": "2023-05-10T10:11:13.934178Z",
     "shell.execute_reply": "2023-05-10T10:11:13.933315Z",
     "shell.execute_reply.started": "2023-05-10T10:11:13.923928Z"
    },
    "trusted": true
   },
   "outputs": [],
   "source": [
    "def read_image(fragment_id):\n",
    "    images = []\n",
    "\n",
    "    # idxs = range(65)\n",
    "    mid = 65 // 2\n",
    "    start = mid - CFG.in_chans // 2\n",
    "    end = mid + CFG.in_chans // 2\n",
    "    idxs = range(start, end)\n",
    "\n",
    "    for i in tqdm(idxs):\n",
    "        \n",
    "        image = cv2.imread(CFG.comp_dataset_path + f\"{mode}/{fragment_id}/surface_volume/{i:02}.tif\", 0)\n",
    "\n",
    "        pad0 = (CFG.tile_size - image.shape[0] % CFG.tile_size)\n",
    "        pad1 = (CFG.tile_size - image.shape[1] % CFG.tile_size)\n",
    "\n",
    "        image = np.pad(image, [(0, pad0), (0, pad1)], constant_values=0)\n",
    "\n",
    "        images.append(image)\n",
    "    images = np.stack(images, axis=2)\n",
    "    \n",
    "    return images"
   ]
  },
  {
   "cell_type": "code",
   "execution_count": null,
   "metadata": {
    "execution": {
     "iopub.execute_input": "2023-05-10T10:11:13.936827Z",
     "iopub.status.busy": "2023-05-10T10:11:13.936039Z",
     "iopub.status.idle": "2023-05-10T10:11:13.946842Z",
     "shell.execute_reply": "2023-05-10T10:11:13.945794Z",
     "shell.execute_reply.started": "2023-05-10T10:11:13.936787Z"
    },
    "trusted": true
   },
   "outputs": [],
   "source": [
    "def get_transforms(data, cfg):\n",
    "    if data == 'train':\n",
    "        aug = A.Compose(cfg.train_aug_list)\n",
    "    elif data == 'valid':\n",
    "        aug = A.Compose(cfg.valid_aug_list)\n",
    "    else:\n",
    "        raise ValueError(f'data {data} is not supported')\n",
    "    return aug\n",
    "\n",
    "class CustomDataset(Dataset):\n",
    "    def __init__(self, images, cfg, labels=None, transform=None):\n",
    "        self.images = images\n",
    "        self.cfg = cfg\n",
    "        self.labels = labels\n",
    "        self.transform = transform\n",
    "\n",
    "    def __len__(self):\n",
    "        # return len(self.xyxys)\n",
    "        return len(self.images)\n",
    "\n",
    "    def __getitem__(self, idx):\n",
    "        # x1, y1, x2, y2 = self.xyxys[idx]\n",
    "        image = self.images[idx]\n",
    "        data = self.transform(image=image)\n",
    "        image = data['image']\n",
    "        return image\n"
   ]
  },
  {
   "cell_type": "code",
   "execution_count": null,
   "outputs": [],
   "source": [],
   "metadata": {
    "collapsed": false
   }
  },
  {
   "cell_type": "code",
   "execution_count": null,
   "metadata": {
    "execution": {
     "iopub.execute_input": "2023-05-10T10:11:13.950813Z",
     "iopub.status.busy": "2023-05-10T10:11:13.950484Z",
     "iopub.status.idle": "2023-05-10T10:11:13.961034Z",
     "shell.execute_reply": "2023-05-10T10:11:13.960218Z",
     "shell.execute_reply.started": "2023-05-10T10:11:13.950786Z"
    },
    "trusted": true
   },
   "outputs": [],
   "source": [
    "def make_test_dataset(fragment_id):\n",
    "    test_images = read_image(fragment_id)\n",
    "    \n",
    "    x1_list = list(range(0, test_images.shape[1]-CFG.tile_size+1, CFG.stride))\n",
    "    y1_list = list(range(0, test_images.shape[0]-CFG.tile_size+1, CFG.stride))\n",
    "    \n",
    "    test_images_list = []\n",
    "    xyxys = []\n",
    "    for y1 in y1_list:\n",
    "        for x1 in x1_list:\n",
    "            y2 = y1 + CFG.tile_size\n",
    "            x2 = x1 + CFG.tile_size\n",
    "            \n",
    "            test_images_list.append(test_images[y1:y2, x1:x2])\n",
    "            xyxys.append((x1, y1, x2, y2))\n",
    "    xyxys = np.stack(xyxys)\n",
    "            \n",
    "    test_dataset = CustomDataset(test_images_list, CFG, transform=get_transforms(data='valid', cfg=CFG))\n",
    "    \n",
    "    test_loader = DataLoader(test_dataset,\n",
    "                          batch_size=CFG.batch_size,\n",
    "                          shuffle=False,\n",
    "                          num_workers=CFG.num_workers, pin_memory=True, drop_last=False)\n",
    "    \n",
    "    return test_loader, xyxys"
   ]
  },
  {
   "cell_type": "markdown",
   "metadata": {},
   "source": [
    "## model"
   ]
  },
  {
   "cell_type": "code",
   "execution_count": null,
   "metadata": {
    "execution": {
     "iopub.execute_input": "2023-05-10T10:11:13.966806Z",
     "iopub.status.busy": "2023-05-10T10:11:13.966253Z",
     "iopub.status.idle": "2023-05-10T10:11:13.975981Z",
     "shell.execute_reply": "2023-05-10T10:11:13.974882Z",
     "shell.execute_reply.started": "2023-05-10T10:11:13.966768Z"
    },
    "trusted": true
   },
   "outputs": [],
   "source": [
    "class CustomModel(nn.Module):\n",
    "    def __init__(self, cfg, weight=None):\n",
    "        super().__init__()\n",
    "        self.cfg = cfg\n",
    "\n",
    "        self.encoder = smp.Unet(\n",
    "            encoder_name=cfg.backbone, \n",
    "            encoder_weights=weight,\n",
    "            in_channels=cfg.in_chans,\n",
    "            classes=cfg.target_size,\n",
    "            activation=None,\n",
    "        )\n",
    "\n",
    "    def forward(self, image):\n",
    "        output = self.encoder(image)\n",
    "        output = output.squeeze(-1)\n",
    "        return output\n",
    "\n",
    "def build_model(cfg, weight=\"imagenet\"):\n",
    "    print('model_name', cfg.model_name)\n",
    "    print('backbone', cfg.backbone)\n",
    "\n",
    "    model = CustomModel(cfg, weight)\n",
    "    return model\n"
   ]
  },
  {
   "cell_type": "code",
   "execution_count": null,
   "metadata": {
    "execution": {
     "iopub.execute_input": "2023-05-10T10:11:13.979164Z",
     "iopub.status.busy": "2023-05-10T10:11:13.978389Z",
     "iopub.status.idle": "2023-05-10T10:11:13.988637Z",
     "shell.execute_reply": "2023-05-10T10:11:13.987702Z",
     "shell.execute_reply.started": "2023-05-10T10:11:13.979127Z"
    },
    "trusted": true
   },
   "outputs": [],
   "source": [
    "class EnsembleModel(nn.Module):\n",
    "    def __init__(self):\n",
    "        super().__init__()\n",
    "        self.model = nn.ModuleList()\n",
    "        for fold in [1, 2, 3]:\n",
    "            _model = build_model(CFG, weight=None)\n",
    "            #_model.to(device)\n",
    "\n",
    "            model_path = f'/kaggle/input/vesuvius-models-public/{CFG.exp_name}/vesuvius-models/Unet_fold{fold}_best.pth'\n",
    "            state = torch.load(model_path)['model']\n",
    "            _model.load_state_dict(state)\n",
    "            _model.eval()\n",
    "\n",
    "            self.model.append(_model)\n",
    "    \n",
    "    def forward(self,x):\n",
    "        output=[]\n",
    "        for m in self.model:\n",
    "            output.append(m(x))\n",
    "        output=torch.stack(output,dim=0).mean(0)\n",
    "        return output\n",
    "        \n",
    "    "
   ]
  },
  {
   "cell_type": "code",
   "execution_count": null,
   "metadata": {
    "execution": {
     "iopub.execute_input": "2023-05-10T10:11:13.991071Z",
     "iopub.status.busy": "2023-05-10T10:11:13.990269Z",
     "iopub.status.idle": "2023-05-10T10:11:14.003815Z",
     "shell.execute_reply": "2023-05-10T10:11:14.003135Z",
     "shell.execute_reply.started": "2023-05-10T10:11:13.991031Z"
    },
    "trusted": true
   },
   "outputs": [],
   "source": [
    "def TTA(x:tc.Tensor,model:nn.Module):\n",
    "    #x.shape=(batch,c,h,w)\n",
    "    if CFG.TTA:\n",
    "        shape=x.shape\n",
    "        x=[x,*[tc.rot90(x,k=i,dims=(-2,-1)) for i in range(1,4)]]\n",
    "        x=tc.cat(x,dim=0)\n",
    "        x=model(x)\n",
    "        x=torch.sigmoid(x)\n",
    "        x=x.reshape(4,shape[0],*shape[2:])\n",
    "        x=[tc.rot90(x[i],k=-i,dims=(-2,-1)) for i in range(4)]\n",
    "        x=tc.stack(x,dim=0)\n",
    "        return x.mean(0)\n",
    "    else :\n",
    "        x=model(x)\n",
    "        x=torch.sigmoid(x)\n",
    "        return x"
   ]
  },
  {
   "cell_type": "code",
   "execution_count": null,
   "metadata": {
    "execution": {
     "iopub.execute_input": "2023-05-10T10:11:14.006238Z",
     "iopub.status.busy": "2023-05-10T10:11:14.005512Z",
     "iopub.status.idle": "2023-05-10T10:12:05.979266Z",
     "shell.execute_reply": "2023-05-10T10:12:05.977845Z",
     "shell.execute_reply.started": "2023-05-10T10:11:14.006200Z"
    },
    "trusted": true
   },
   "outputs": [],
   "source": [
    "if mode == 'test':\n",
    "    fragment_ids = sorted(os.listdir(CFG.comp_dataset_path + mode))\n",
    "else:\n",
    "    fragment_ids = [3]\n",
    "model = EnsembleModel()\n",
    "model = nn.DataParallel(model, device_ids=[0, 1])\n",
    "model = model.cuda()"
   ]
  },
  {
   "cell_type": "markdown",
   "metadata": {},
   "source": [
    "## main"
   ]
  },
  {
   "cell_type": "code",
   "execution_count": null,
   "metadata": {
    "execution": {
     "iopub.execute_input": "2023-05-10T10:12:05.981383Z",
     "iopub.status.busy": "2023-05-10T10:12:05.980968Z",
     "iopub.status.idle": "2023-05-10T10:58:19.504835Z",
     "shell.execute_reply": "2023-05-10T10:58:19.503592Z",
     "shell.execute_reply.started": "2023-05-10T10:12:05.981328Z"
    },
    "trusted": true
   },
   "outputs": [],
   "source": [
    "results = []\n",
    "for fragment_id in fragment_ids:\n",
    "    \n",
    "    test_loader, xyxys = make_test_dataset(fragment_id)\n",
    "    \n",
    "    binary_mask = cv2.imread(CFG.comp_dataset_path + f\"{mode}/{fragment_id}/mask.png\", 0)\n",
    "    binary_mask = (binary_mask / 255).astype(int)\n",
    "    \n",
    "    ori_h = binary_mask.shape[0]\n",
    "    ori_w = binary_mask.shape[1]\n",
    "    # mask = mask / 255\n",
    "\n",
    "    pad0 = (CFG.tile_size - binary_mask.shape[0] % CFG.tile_size)\n",
    "    pad1 = (CFG.tile_size - binary_mask.shape[1] % CFG.tile_size)\n",
    "\n",
    "    binary_mask = np.pad(binary_mask, [(0, pad0), (0, pad1)], constant_values=0)\n",
    "    \n",
    "    mask_pred = np.zeros(binary_mask.shape)\n",
    "    mask_count = np.zeros(binary_mask.shape)\n",
    "\n",
    "    for step, (images) in tqdm(enumerate(test_loader), total=len(test_loader)):\n",
    "        images = images.cuda()\n",
    "        batch_size = images.size(0)\n",
    "\n",
    "        with torch.no_grad():\n",
    "            y_preds = TTA(images,model).cpu().numpy()\n",
    "\n",
    "        start_idx = step*CFG.batch_size\n",
    "        end_idx = start_idx + batch_size\n",
    "        for i, (x1, y1, x2, y2) in enumerate(xyxys[start_idx:end_idx]):\n",
    "            mask_pred[y1:y2, x1:x2] += y_preds[i].reshape(mask_pred[y1:y2, x1:x2].shape)\n",
    "            mask_count[y1:y2, x1:x2] += np.ones((CFG.tile_size, CFG.tile_size))\n",
    "    \n",
    "    \n",
    "    print(f'mask_count_min: {mask_count.min()}')\n",
    "    mask_pred /= mask_count\n",
    "    \n",
    "    fig, axes = plt.subplots(1, 3, figsize=(15, 8))\n",
    "    axes[0].imshow(mask_count)\n",
    "    axes[1].imshow(mask_pred.copy())\n",
    "    \n",
    "    \n",
    "    \n",
    "    mask_pred = mask_pred[:ori_h, :ori_w]\n",
    "    binary_mask = binary_mask[:ori_h, :ori_w]\n",
    "    \n",
    "    mask_pred = (mask_pred >= TH).astype(int)\n",
    "    mask_pred *= binary_mask\n",
    "    axes[2].imshow(mask_pred)\n",
    "    plt.show()\n",
    "    \n",
    "    inklabels_rle = rle(mask_pred)\n",
    "    \n",
    "    results.append((fragment_id, inklabels_rle))\n",
    "    \n",
    "\n",
    "    del mask_pred, mask_count\n",
    "    del test_loader\n",
    "    \n",
    "    gc.collect()\n",
    "    torch.cuda.empty_cache()"
   ]
  },
  {
   "cell_type": "markdown",
   "metadata": {},
   "source": [
    "## submission"
   ]
  },
  {
   "cell_type": "code",
   "execution_count": null,
   "metadata": {
    "execution": {
     "iopub.execute_input": "2023-05-10T10:58:19.507462Z",
     "iopub.status.busy": "2023-05-10T10:58:19.506810Z",
     "iopub.status.idle": "2023-05-10T10:58:19.547583Z",
     "shell.execute_reply": "2023-05-10T10:58:19.546561Z",
     "shell.execute_reply.started": "2023-05-10T10:58:19.507415Z"
    },
    "trusted": true
   },
   "outputs": [],
   "source": [
    "sub = pd.DataFrame(results, columns=['Id', 'Predicted'])"
   ]
  },
  {
   "cell_type": "code",
   "execution_count": null,
   "metadata": {
    "execution": {
     "iopub.execute_input": "2023-05-10T10:58:19.549734Z",
     "iopub.status.busy": "2023-05-10T10:58:19.549337Z",
     "iopub.status.idle": "2023-05-10T10:58:19.579343Z",
     "shell.execute_reply": "2023-05-10T10:58:19.578364Z",
     "shell.execute_reply.started": "2023-05-10T10:58:19.549695Z"
    },
    "trusted": true
   },
   "outputs": [],
   "source": [
    "sub"
   ]
  },
  {
   "cell_type": "code",
   "execution_count": null,
   "metadata": {
    "execution": {
     "iopub.execute_input": "2023-05-10T10:58:19.581159Z",
     "iopub.status.busy": "2023-05-10T10:58:19.580812Z",
     "iopub.status.idle": "2023-05-10T10:58:19.651577Z",
     "shell.execute_reply": "2023-05-10T10:58:19.650462Z",
     "shell.execute_reply.started": "2023-05-10T10:58:19.581122Z"
    },
    "trusted": true
   },
   "outputs": [],
   "source": [
    "sample_sub = pd.read_csv(CFG.comp_dataset_path + 'sample_submission.csv')\n",
    "sample_sub = pd.merge(sample_sub[['Id']], sub, on='Id', how='left')"
   ]
  },
  {
   "cell_type": "code",
   "execution_count": null,
   "metadata": {
    "execution": {
     "iopub.execute_input": "2023-05-10T10:58:19.655433Z",
     "iopub.status.busy": "2023-05-10T10:58:19.655144Z",
     "iopub.status.idle": "2023-05-10T10:58:19.668585Z",
     "shell.execute_reply": "2023-05-10T10:58:19.667369Z",
     "shell.execute_reply.started": "2023-05-10T10:58:19.655405Z"
    },
    "trusted": true
   },
   "outputs": [],
   "source": [
    "sample_sub"
   ]
  },
  {
   "cell_type": "code",
   "execution_count": null,
   "metadata": {
    "execution": {
     "iopub.execute_input": "2023-05-10T10:58:19.670973Z",
     "iopub.status.busy": "2023-05-10T10:58:19.670339Z",
     "iopub.status.idle": "2023-05-10T10:58:19.699429Z",
     "shell.execute_reply": "2023-05-10T10:58:19.698471Z",
     "shell.execute_reply.started": "2023-05-10T10:58:19.670933Z"
    },
    "trusted": true
   },
   "outputs": [],
   "source": [
    "sample_sub.to_csv(\"submission.csv\", index=False)"
   ]
  }
 ],
 "metadata": {
  "kernelspec": {
   "display_name": "Python 3.7.0 ('Vesuvius')",
   "language": "python",
   "name": "python3"
  },
  "language_info": {
   "codemirror_mode": {
    "name": "ipython",
    "version": 3
   },
   "file_extension": ".py",
   "mimetype": "text/x-python",
   "name": "python",
   "nbconvert_exporter": "python",
   "pygments_lexer": "ipython3",
   "version": "3.7.0"
  },
  "vscode": {
   "interpreter": {
    "hash": "b965b14ec0a2571d4de1c2e32e7a66dc4ab4c0c25110946dc03356a1bb467977"
   }
  }
 },
 "nbformat": 4,
 "nbformat_minor": 4
}
